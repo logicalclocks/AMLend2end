{
 "cells": [
  {
   "cell_type": "code",
   "execution_count": 1,
   "metadata": {},
   "outputs": [
    {
     "name": "stdout",
     "output_type": "stream",
     "text": [
      "Starting Spark application\n"
     ]
    },
    {
     "data": {
      "text/html": [
       "<table>\n",
       "<tr><th>ID</th><th>YARN Application ID</th><th>Kind</th><th>State</th><th>Spark UI</th><th>Driver log</th></tr><tr><td>12</td><td>application_1606493744227_0015</td><td>pyspark</td><td>idle</td><td><a target=\"_blank\" href=\"http://ip-10-0-0-106.eu-north-1.compute.internal:8088/proxy/application_1606493744227_0015/\">Link</a></td><td><a target=\"_blank\" href=\"http://ip-10-0-0-83.eu-north-1.compute.internal:8042/node/containerlogs/container_e04_1606493744227_0015_01_000001/AMLSim__riccardo\">Link</a></td></tr></table>"
      ],
      "text/plain": [
       "<IPython.core.display.HTML object>"
      ]
     },
     "metadata": {},
     "output_type": "display_data"
    },
    {
     "name": "stdout",
     "output_type": "stream",
     "text": [
      "SparkSession available as 'spark'.\n",
      "Connected. Call `.close()` to terminate connection gracefully."
     ]
    }
   ],
   "source": [
    "import hsfs\n",
    "# Create a connection\n",
    "connection = hsfs.connection()\n",
    "# Get the feature store handle for the project's feature store\n",
    "fs = connection.get_feature_store()"
   ]
  },
  {
   "cell_type": "code",
   "execution_count": 2,
   "metadata": {},
   "outputs": [
    {
     "name": "stdout",
     "output_type": "stream",
     "text": [
      "'AMLSim'"
     ]
    }
   ],
   "source": [
    "from hops import hdfs\n",
    "\n",
    "hdfs.project_name()"
   ]
  },
  {
   "cell_type": "code",
   "execution_count": 3,
   "metadata": {},
   "outputs": [
    {
     "name": "stdout",
     "output_type": "stream",
     "text": [
      "2.0.0.1"
     ]
    }
   ],
   "source": [
    "import hops\n",
    "print (hops.__version__)\n"
   ]
  },
  {
   "cell_type": "code",
   "execution_count": null,
   "metadata": {},
   "outputs": [],
   "source": []
  },
  {
   "cell_type": "code",
   "execution_count": 5,
   "metadata": {},
   "outputs": [
    {
     "name": "stdout",
     "output_type": "stream",
     "text": [
      "+-------+--------+----+---------+----------------+---------------+---------+-------------------+-------------------+---------------+--------------+-------+-------+------+---+\n",
      "|acct_id|dsply_nm|type|acct_stat|acct_rptng_crncy|prior_sar_count|branch_id|            open_dt|           close_dt|initial_deposit|tx_behavior_id|bank_id|country|gender|age|\n",
      "+-------+--------+----+---------+----------------+---------------+---------+-------------------+-------------------+---------------+--------------+-------+-------+------+---+\n",
      "|      0|     C_0| SAV|        A|             USD|          false|        1|2017-01-01 00:00:00|4754-11-29 00:00:00|       84442.19|             1|   bank|     US|     W| 37|\n",
      "|      1|     C_1| SAV|        A|             USD|          false|        1|2017-01-01 00:00:00|4754-11-29 00:00:00|       75795.44|             1|   bank|     US|     M| 76|\n",
      "|      2|     C_2| SAV|        A|             USD|          false|        1|2017-01-01 00:00:00|4754-11-29 00:00:00|       42057.16|             1|   bank|     US|     M| 61|\n",
      "|      3|     C_3| SAV|        A|             USD|          false|        1|2017-01-01 00:00:00|4754-11-29 00:00:00|       25891.68|             1|   bank|     US|     W| 95|\n",
      "|      4|     C_4| SAV|        A|             USD|          false|        1|2017-01-01 00:00:00|4754-11-29 00:00:00|       51127.47|             1|   bank|     US|     W| 64|\n",
      "|      5|     C_5| SAV|        A|             USD|          false|        1|2017-01-01 00:00:00|4754-11-29 00:00:00|       40493.41|             1|   bank|     US|     W| 90|\n",
      "|      6|     C_6| SAV|        A|             USD|          false|        1|2017-01-01 00:00:00|4754-11-29 00:00:00|       78379.86|             1|   bank|     US|     M| 63|\n",
      "|      7|     C_7| SAV|        A|             USD|          false|        1|2017-01-01 00:00:00|4754-11-29 00:00:00|       30331.27|             1|   bank|     US|     M| 82|\n",
      "|      8|     C_8| SAV|        A|             USD|          false|        1|2017-01-01 00:00:00|4754-11-29 00:00:00|        47659.7|             1|   bank|     US|     M| 52|\n",
      "|      9|     C_9| SAV|        A|             USD|          false|        1|2017-01-01 00:00:00|4754-11-29 00:00:00|        58338.2|             1|   bank|     US|     W| 43|\n",
      "|     10|    C_10| SAV|        A|             USD|          false|        1|2017-01-01 00:00:00|4754-11-29 00:00:00|       90811.29|             1|   bank|     US|     M| 64|\n",
      "|     11|    C_11| SAV|        A|             USD|          false|        1|2017-01-01 00:00:00|4754-11-29 00:00:00|       50468.69|             1|   bank|     US|     M| 67|\n",
      "|     12|    C_12| SAV|        A|             USD|          false|        1|2017-01-01 00:00:00|4754-11-29 00:00:00|       28183.78|             1|   bank|     US|     M| 64|\n",
      "|     13|    C_13| SAV|        A|             USD|          false|        1|2017-01-01 00:00:00|4754-11-29 00:00:00|       75580.42|             1|   bank|     US|     M| 56|\n",
      "|     14|    C_14| SAV|        A|             USD|          false|        1|2017-01-01 00:00:00|4754-11-29 00:00:00|        61836.9|             1|   bank|     US|     W| 41|\n",
      "|     15|    C_15| SAV|        A|             USD|          false|        1|2017-01-01 00:00:00|4754-11-29 00:00:00|       25050.63|             1|   bank|     US|     W| 51|\n",
      "|     16|    C_16| SAV|        A|             USD|          false|        1|2017-01-01 00:00:00|4754-11-29 00:00:00|       90974.63|             1|   bank|     US|     M| 67|\n",
      "|     17|    C_17| SAV|        A|             USD|          false|        1|2017-01-01 00:00:00|4754-11-29 00:00:00|       98278.55|             1|   bank|     US|     M| 48|\n",
      "|     18|    C_18| SAV|        A|             USD|          false|        1|2017-01-01 00:00:00|4754-11-29 00:00:00|       81021.72|             1|   bank|     US|     W| 96|\n",
      "|     19|    C_19| SAV|        A|             USD|          false|        1|2017-01-01 00:00:00|4754-11-29 00:00:00|        90216.6|             1|   bank|     US|     M| 25|\n",
      "|     20|    C_20| SAV|        A|             USD|          false|        1|2017-01-01 00:00:00|4754-11-29 00:00:00|       31014.76|             1|   bank|     US|     M| 95|\n",
      "|     21|    C_21| SAV|        A|             USD|          false|        1|2017-01-01 00:00:00|4754-11-29 00:00:00|       72983.17|             1|   bank|     US|     M| 62|\n",
      "|     22|    C_22| SAV|        A|             USD|          false|        1|2017-01-01 00:00:00|4754-11-29 00:00:00|       89883.83|             1|   bank|     US|     W| 45|\n",
      "|     23|    C_23| SAV|        A|             USD|          false|        1|2017-01-01 00:00:00|4754-11-29 00:00:00|       68398.39|             1|   bank|     US|     W| 63|\n",
      "|     24|    C_24| SAV|        A|             USD|          false|        1|2017-01-01 00:00:00|4754-11-29 00:00:00|       47214.27|             1|   bank|     US|     W| 62|\n",
      "|     25|    C_25| SAV|        A|             USD|          false|        1|2017-01-01 00:00:00|4754-11-29 00:00:00|       10070.12|             1|   bank|     US|     W| 10|\n",
      "|     26|    C_26| SAV|        A|             USD|          false|        1|2017-01-01 00:00:00|4754-11-29 00:00:00|       43417.18|             1|   bank|     US|     W| 27|\n",
      "|     27|    C_27| SAV|        A|             USD|          false|        1|2017-01-01 00:00:00|4754-11-29 00:00:00|        61088.7|             1|   bank|     US|     M| 96|\n",
      "|     28|    C_28| SAV|        A|             USD|          false|        1|2017-01-01 00:00:00|4754-11-29 00:00:00|       91301.11|             1|   bank|     US|     W| 96|\n",
      "|     29|    C_29| SAV|        A|             USD|          false|        1|2017-01-01 00:00:00|4754-11-29 00:00:00|       96660.64|             1|   bank|     US|     M| 81|\n",
      "|     30|    C_30| SAV|        A|             USD|          false|        1|2017-01-01 00:00:00|4754-11-29 00:00:00|       47700.98|             1|   bank|     US|     W| 70|\n",
      "|     31|    C_31| SAV|        A|             USD|          false|        1|2017-01-01 00:00:00|4754-11-29 00:00:00|       86530.99|             1|   bank|     US|     W| 52|\n",
      "|     32|    C_32| SAV|        A|             USD|          false|        1|2017-01-01 00:00:00|4754-11-29 00:00:00|       26049.23|             1|   bank|     US|     W| 42|\n",
      "|     33|    C_33| SAV|        A|             USD|          false|        1|2017-01-01 00:00:00|4754-11-29 00:00:00|       80502.78|             1|   bank|     US|     W| 79|\n",
      "|     34|    C_34| SAV|        A|             USD|          false|        1|2017-01-01 00:00:00|4754-11-29 00:00:00|       54869.93|             1|   bank|     US|     W| 90|\n",
      "|     35|    C_35| SAV|        A|             USD|          false|        1|2017-01-01 00:00:00|4754-11-29 00:00:00|        1404.17|             1|   bank|     US|     M| 21|\n",
      "|     36|    C_36| SAV|        A|             USD|           true|        1|2017-01-01 00:00:00|4754-11-29 00:00:00|       71970.47|             1|   bank|     US|     W| 32|\n",
      "|     37|    C_37| SAV|        A|             USD|          false|        1|2017-01-01 00:00:00|4754-11-29 00:00:00|       39882.35|             1|   bank|     US|     M| 72|\n",
      "|     38|    C_38| SAV|        A|             USD|          false|        1|2017-01-01 00:00:00|4754-11-29 00:00:00|        82484.5|             1|   bank|     US|     W| 67|\n",
      "|     39|    C_39| SAV|        A|             USD|          false|        1|2017-01-01 00:00:00|4754-11-29 00:00:00|       66815.32|             1|   bank|     US|     M| 85|\n",
      "|     40|    C_40| SAV|        A|             USD|          false|        1|2017-01-01 00:00:00|4754-11-29 00:00:00|         114.28|             1|   bank|     US|     M| 20|\n",
      "|     41|    C_41| SAV|        A|             USD|          false|        1|2017-01-01 00:00:00|4754-11-29 00:00:00|       49357.79|             1|   bank|     US|     M| 38|\n",
      "|     42|    C_42| SAV|        A|             USD|          false|        1|2017-01-01 00:00:00|4754-11-29 00:00:00|       86760.28|             1|   bank|     US|     M| 34|\n",
      "|     43|    C_43| SAV|        A|             USD|          false|        1|2017-01-01 00:00:00|4754-11-29 00:00:00|       24391.09|             1|   bank|     US|     M| 96|\n",
      "|     44|    C_44| SAV|        A|             USD|          false|        1|2017-01-01 00:00:00|4754-11-29 00:00:00|       32520.44|             1|   bank|     US|     W| 72|\n",
      "|     45|    C_45| SAV|        A|             USD|          false|        1|2017-01-01 00:00:00|4754-11-29 00:00:00|       87047.12|             1|   bank|     US|     M| 72|\n",
      "|     46|    C_46| SAV|        A|             USD|           true|        1|2017-01-01 00:00:00|4754-11-29 00:00:00|       19106.71|             1|   bank|     US|     W| 14|\n",
      "|     47|    C_47| SAV|        A|             USD|          false|        1|2017-01-01 00:00:00|4754-11-29 00:00:00|       56751.07|             1|   bank|     US|     M| 34|\n",
      "|     48|    C_48| SAV|        A|             USD|          false|        1|2017-01-01 00:00:00|4754-11-29 00:00:00|       23861.59|             1|   bank|     US|     M| 48|\n",
      "|     49|    C_49| SAV|        A|             USD|          false|        1|2017-01-01 00:00:00|4754-11-29 00:00:00|       96754.03|             1|   bank|     US|     W| 52|\n",
      "|     50|    C_50| SAV|        A|             USD|          false|        1|2017-01-01 00:00:00|4754-11-29 00:00:00|       80317.95|             1|   bank|     US|     W| 30|\n",
      "|     51|    C_51| SAV|        A|             USD|          false|        1|2017-01-01 00:00:00|4754-11-29 00:00:00|       44796.96|             1|   bank|     US|     M| 71|\n",
      "|     52|    C_52| SAV|        A|             USD|          false|        1|2017-01-01 00:00:00|4754-11-29 00:00:00|        8044.58|             1|   bank|     US|     W| 15|\n",
      "|     53|    C_53| SAV|        A|             USD|          false|        1|2017-01-01 00:00:00|4754-11-29 00:00:00|       32005.46|             1|   bank|     US|     W| 89|\n",
      "|     54|    C_54| SAV|        A|             USD|          false|        1|2017-01-01 00:00:00|4754-11-29 00:00:00|       50794.06|             1|   bank|     US|     M| 31|\n",
      "|     55|    C_55| SAV|        A|             USD|          false|        1|2017-01-01 00:00:00|4754-11-29 00:00:00|       93283.38|             1|   bank|     US|     W| 94|\n",
      "|     56|    C_56| SAV|        A|             USD|          false|        1|2017-01-01 00:00:00|4754-11-29 00:00:00|       10905.78|             1|   bank|     US|     W| 11|\n",
      "|     57|    C_57| SAV|        A|             USD|          false|        1|2017-01-01 00:00:00|4754-11-29 00:00:00|       55126.72|             1|   bank|     US|     M| 34|\n",
      "|     58|    C_58| SAV|        A|             USD|          false|        1|2017-01-01 00:00:00|4754-11-29 00:00:00|       70656.14|             1|   bank|     US|     M| 94|\n",
      "|     59|    C_59| SAV|        A|             USD|          false|        1|2017-01-01 00:00:00|4754-11-29 00:00:00|       54744.09|             1|   bank|     US|     W| 55|\n",
      "|     60|    C_60| SAV|        A|             USD|          false|        1|2017-01-01 00:00:00|4754-11-29 00:00:00|       81446.69|             1|   bank|     US|     M| 63|\n",
      "|     61|    C_61| SAV|        A|             USD|           true|        1|2017-01-01 00:00:00|4754-11-29 00:00:00|       54028.36|             1|   bank|     US|     W| 32|\n",
      "|     62|    C_62| SAV|        A|             USD|          false|        1|2017-01-01 00:00:00|4754-11-29 00:00:00|       96383.85|             1|   bank|     US|     M| 30|\n",
      "|     63|    C_63| SAV|        A|             USD|          false|        1|2017-01-01 00:00:00|4754-11-29 00:00:00|       60318.56|             1|   bank|     US|     M| 79|\n",
      "|     64|    C_64| SAV|        A|             USD|          false|        1|2017-01-01 00:00:00|4754-11-29 00:00:00|       58761.71|             1|   bank|     US|     M| 40|\n",
      "|     65|    C_65| SAV|        A|             USD|          false|        1|2017-01-01 00:00:00|4754-11-29 00:00:00|        44498.9|             1|   bank|     US|     M| 51|\n",
      "|     66|    C_66| SAV|        A|             USD|          false|        1|2017-01-01 00:00:00|4754-11-29 00:00:00|       59628.69|             1|   bank|     US|     M| 29|\n",
      "|     67|    C_67| SAV|        A|             USD|          false|        1|2017-01-01 00:00:00|4754-11-29 00:00:00|       38490.11|             1|   bank|     US|     M| 33|\n",
      "|     68|    C_68| SAV|        A|             USD|          false|        1|2017-01-01 00:00:00|4754-11-29 00:00:00|        57565.1|             1|   bank|     US|     W| 70|\n",
      "|     69|    C_69| SAV|        A|             USD|          false|        1|2017-01-01 00:00:00|4754-11-29 00:00:00|       29032.95|             1|   bank|     US|     M| 70|\n",
      "|     70|    C_70| SAV|        A|             USD|          false|        1|2017-01-01 00:00:00|4754-11-29 00:00:00|       18939.13|             1|   bank|     US|     W| 20|\n",
      "|     71|    C_71| SAV|        A|             USD|          false|        1|2017-01-01 00:00:00|4754-11-29 00:00:00|       18672.95|             1|   bank|     US|     M| 10|\n",
      "|     72|    C_72| SAV|        A|             USD|          false|        1|2017-01-01 00:00:00|4754-11-29 00:00:00|       61277.32|             1|   bank|     US|     M| 52|\n",
      "|     73|    C_73| SAV|        A|             USD|          false|        1|2017-01-01 00:00:00|4754-11-29 00:00:00|       65665.94|             1|   bank|     US|     W| 53|\n",
      "|     74|    C_74| SAV|        A|             USD|          false|        1|2017-01-01 00:00:00|4754-11-29 00:00:00|        47653.1|             1|   bank|     US|     M| 62|\n",
      "|     75|    C_75| SAV|        A|             USD|          false|        1|2017-01-01 00:00:00|4754-11-29 00:00:00|        8982.44|             1|   bank|     US|     M| 15|\n",
      "|     76|    C_76| SAV|        A|             USD|          false|        1|2017-01-01 00:00:00|4754-11-29 00:00:00|       75760.39|             1|   bank|     US|     W| 83|\n",
      "|     77|    C_77| SAV|        A|             USD|          false|        1|2017-01-01 00:00:00|4754-11-29 00:00:00|       87677.04|             1|   bank|     US|     M| 36|\n",
      "|     78|    C_78| SAV|        A|             USD|          false|        1|2017-01-01 00:00:00|4754-11-29 00:00:00|        92338.1|             1|   bank|     US|     W| 48|\n",
      "|     79|    C_79| SAV|        A|             USD|          false|        1|2017-01-01 00:00:00|4754-11-29 00:00:00|       84246.02|             1|   bank|     US|     M| 26|\n",
      "|     80|    C_80| SAV|        A|             USD|          false|        1|2017-01-01 00:00:00|4754-11-29 00:00:00|       89817.31|             1|   bank|     US|     W| 34|\n",
      "|     81|    C_81| SAV|        A|             USD|          false|        1|2017-01-01 00:00:00|4754-11-29 00:00:00|       92308.24|             1|   bank|     US|     M| 45|\n",
      "|     82|    C_82| SAV|        A|             USD|          false|        1|2017-01-01 00:00:00|4754-11-29 00:00:00|       54059.99|             1|   bank|     US|     M| 30|\n",
      "|     83|    C_83| SAV|        A|             USD|          false|        1|2017-01-01 00:00:00|4754-11-29 00:00:00|       39129.61|             1|   bank|     US|     M| 83|\n",
      "|     84|    C_84| SAV|        A|             USD|          false|        1|2017-01-01 00:00:00|4754-11-29 00:00:00|       70528.34|             1|   bank|     US|     M| 79|\n",
      "|     85|    C_85| SAV|        A|             USD|          false|        1|2017-01-01 00:00:00|4754-11-29 00:00:00|       27563.41|             1|   bank|     US|     W| 30|\n",
      "|     86|    C_86| SAV|        A|             USD|          false|        1|2017-01-01 00:00:00|4754-11-29 00:00:00|       81162.87|             1|   bank|     US|     W| 52|\n",
      "|     87|    C_87| SAV|        A|             USD|          false|        1|2017-01-01 00:00:00|4754-11-29 00:00:00|        84948.6|             1|   bank|     US|     W| 54|\n",
      "|     88|    C_88| SAV|        A|             USD|          false|        1|2017-01-01 00:00:00|4754-11-29 00:00:00|        89503.9|             1|   bank|     US|     M| 70|\n",
      "|     89|    C_89| SAV|        A|             USD|          false|        1|2017-01-01 00:00:00|4754-11-29 00:00:00|       58980.12|             1|   bank|     US|     M| 91|\n",
      "|     90|    C_90| SAV|        A|             USD|          false|        1|2017-01-01 00:00:00|4754-11-29 00:00:00|       94976.49|             1|   bank|     US|     W| 60|\n",
      "|     91|    C_91| SAV|        A|             USD|          false|        1|2017-01-01 00:00:00|4754-11-29 00:00:00|        57969.5|             1|   bank|     US|     M| 32|\n",
      "|     92|    C_92| SAV|        A|             USD|          false|        1|2017-01-01 00:00:00|4754-11-29 00:00:00|       45056.31|             1|   bank|     US|     W| 97|\n",
      "|     93|    C_93| SAV|        A|             USD|          false|        1|2017-01-01 00:00:00|4754-11-29 00:00:00|       66024.54|             1|   bank|     US|     M| 27|\n",
      "|     94|    C_94| SAV|        A|             USD|          false|        1|2017-01-01 00:00:00|4754-11-29 00:00:00|       99625.78|             1|   bank|     US|     W| 64|\n",
      "|     95|    C_95| SAV|        A|             USD|          false|        1|2017-01-01 00:00:00|4754-11-29 00:00:00|       91694.12|             1|   bank|     US|     W| 99|\n",
      "|     96|    C_96| SAV|        A|             USD|          false|        1|2017-01-01 00:00:00|4754-11-29 00:00:00|       79332.51|             1|   bank|     US|     W| 73|\n",
      "|     97|    C_97| SAV|        A|             USD|          false|        1|2017-01-01 00:00:00|4754-11-29 00:00:00|         8237.3|             1|   bank|     US|     W| 10|\n",
      "|     98|    C_98| SAV|        A|             USD|          false|        1|2017-01-01 00:00:00|4754-11-29 00:00:00|       61278.31|             1|   bank|     US|     W| 31|\n",
      "|     99|    C_99| SAV|        A|             USD|          false|        1|2017-01-01 00:00:00|4754-11-29 00:00:00|       48644.42|             1|   bank|     US|     M| 60|\n",
      "+-------+--------+----+---------+----------------+---------------+---------+-------------------+-------------------+---------------+--------------+-------+-------+------+---+\n",
      "only showing top 100 rows"
     ]
    }
   ],
   "source": [
    "from pyspark.sql import functions as F\n",
    "\n",
    "AML_accounts_csv = spark.read\\\n",
    "             .option(\"inferSchema\", \"true\")\\\n",
    "             .option(\"header\", \"true\")\\\n",
    "             .format(\"csv\")\\\n",
    "             .load(\"hdfs:///Projects/{}/AMLSim_10k/accounts.csv\".format(hdfs.project_name()))\n",
    "\n",
    "AML_accounts_csv = AML_accounts_csv.drop('first_name')\\\n",
    "                        .drop('last_name')\\\n",
    "                        .drop('street_addr')\\\n",
    "                        .drop('city')\\\n",
    "                        .drop('state')\\\n",
    "                        .drop('zip')\\\n",
    "                        .drop('gender')\\\n",
    "                        .drop('birth_date')\\\n",
    "                        .drop('ssn')\\\n",
    "                        .drop('lon')\\\n",
    "                        .drop('lat')\n",
    "\n",
    "import quinn\n",
    "\n",
    "#add random gender\n",
    "gender_list = list(map(lambda c: F.lit(c), ['M', 'W']))\n",
    "AML_accounts_csv = AML_accounts_csv.withColumn('gender', quinn.array_choice(F.array(gender_list)))\n",
    "\n",
    "\n",
    "#add age based on initial_deposit\n",
    "ages_young = list(map(lambda c: F.lit(c), range(10,25)))\n",
    "ages_adult = list(map(lambda c: F.lit(c), range(25,100)))\n",
    "AML_accounts_csv = AML_accounts_csv.withColumn('age', F.when(F.col('initial_deposit') <= 20000, quinn.array_choice(F.array(ages_young)))\n",
    "                           .otherwise(quinn.array_choice(F.array(ages_adult))))\n"
   ]
  },
  {
   "cell_type": "code",
   "execution_count": 7,
   "metadata": {},
   "outputs": [],
   "source": [
    "AML_accounts_fg_meta = fs.create_feature_group(name=\"aml_10k_accounts_fg\",\n",
    "                                        version=1,\n",
    "                                        primary_key=['ncodpers'],\n",
    "                                        description=\"Account generated using AMLSim\",\n",
    "                                        time_travel_format=None,                                        \n",
    "                                        statistics_config={\"enabled\": True, \"histograms\": True, \"correlations\": True})    \n",
    "# The following command does not work with parameter: features=['acct_id','dsply_nm','type','acct_stat','acct_rptng_crncy','prior_sar_count','branch_id','open_dt','close_dt','initial_deposit','tx_behavior_id','bank_id','country','age']\n",
    "# The object required is a list of Features"
   ]
  },
  {
   "cell_type": "code",
   "execution_count": 8,
   "metadata": {},
   "outputs": [],
   "source": [
    "AML_accounts_fg = AML_accounts_fg_meta.save(AML_accounts_csv)"
   ]
  },
  {
   "cell_type": "code",
   "execution_count": 9,
   "metadata": {},
   "outputs": [],
   "source": [
    "AML_transactions_csv = spark.read\\\n",
    "             .option(\"inferSchema\", \"true\")\\\n",
    "             .option(\"header\", \"true\")\\\n",
    "             .format(\"csv\")\\\n",
    "             .load(\"hdfs:///Projects/{}/AMLSim_10k/transactions.csv\".format(hdfs.project_name()))\n",
    "\n",
    "AML_transcations_fg_meta = fs.create_feature_group(name=\"aml_10k_transactions_fg\",\n",
    "                                        version=1,\n",
    "                                        primary_key=['ncodpers'],\n",
    "                                        description=\"Transactions generated using AMLSim\",\n",
    "                                        time_travel_format=None,                                        \n",
    "                                        statistics_config={\"enabled\": True, \"histograms\": True, \"correlations\": True})    \n",
    "# The following command does not work with parameter: features=['acct_id','dsply_nm','type','acct_stat','acct_rptng_crncy','prior_sar_count','branch_id','open_dt','close_dt','initial_deposit','tx_behavior_id','bank_id','country','age']\n",
    "# The object required is a list of Features\n"
   ]
  },
  {
   "cell_type": "code",
   "execution_count": 10,
   "metadata": {},
   "outputs": [],
   "source": [
    "AML_transactions_fg = AML_transcations_fg_meta.save(AML_transactions_csv)"
   ]
  }
 ],
 "metadata": {
  "kernelspec": {
   "display_name": "PySpark",
   "language": "python",
   "name": "pysparkkernel"
  },
  "language_info": {
   "codemirror_mode": {
    "name": "python",
    "version": 3
   },
   "mimetype": "text/x-python",
   "name": "pyspark",
   "pygments_lexer": "python3"
  }
 },
 "nbformat": 4,
 "nbformat_minor": 4
}