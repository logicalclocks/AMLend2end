{
 "cells": [
  {
   "cell_type": "code",
   "execution_count": 1,
   "metadata": {},
   "outputs": [
    {
     "name": "stdout",
     "output_type": "stream",
     "text": [
      "Starting Spark application\n"
     ]
    },
    {
     "data": {
      "text/html": [
       "<table>\n",
       "<tr><th>ID</th><th>YARN Application ID</th><th>Kind</th><th>State</th><th>Spark UI</th><th>Driver log</th></tr><tr><td>1</td><td>application_1606928535611_0002</td><td>pyspark</td><td>idle</td><td><a target=\"_blank\" href=\"http://resourcemanager.service.consul:8088/proxy/application_1606928535611_0002/\">Link</a></td><td><a target=\"_blank\" href=\"http://ip-10-0-0-88.us-west-2.compute.internal:8042/node/containerlogs/container_e02_1606928535611_0002_01_000001/amlsim__meb10179\">Link</a></td></tr></table>"
      ],
      "text/plain": [
       "<IPython.core.display.HTML object>"
      ]
     },
     "metadata": {},
     "output_type": "display_data"
    },
    {
     "name": "stdout",
     "output_type": "stream",
     "text": [
      "SparkSession available as 'spark'.\n",
      "Connected. Call `.close()` to terminate connection gracefully."
     ]
    }
   ],
   "source": [
    "import quinn\n",
    "\n",
    "import hsfs\n",
    "# Create a connection\n",
    "connection = hsfs.connection()\n",
    "# Get the feature store handle for the project's feature store\n",
    "fs = connection.get_feature_store()"
   ]
  },
  {
   "cell_type": "code",
   "execution_count": 2,
   "metadata": {},
   "outputs": [
    {
     "name": "stdout",
     "output_type": "stream",
     "text": [
      "'amlsim'"
     ]
    }
   ],
   "source": [
    "from hops import hdfs\n",
    "\n",
    "hdfs.project_name()"
   ]
  },
  {
   "cell_type": "code",
   "execution_count": 3,
   "metadata": {},
   "outputs": [
    {
     "name": "stdout",
     "output_type": "stream",
     "text": [
      "2.0.0.1"
     ]
    }
   ],
   "source": [
    "import hops\n",
    "print (hops.__version__)\n"
   ]
  },
  {
   "cell_type": "code",
   "execution_count": null,
   "metadata": {},
   "outputs": [],
   "source": []
  },
  {
   "cell_type": "code",
   "execution_count": 4,
   "metadata": {},
   "outputs": [
    {
     "name": "stderr",
     "output_type": "stream",
     "text": [
      "An error was encountered:\n",
      "No module named 'quinn'\n",
      "Traceback (most recent call last):\n",
      "ModuleNotFoundError: No module named 'quinn'\n",
      "\n"
     ]
    }
   ],
   "source": [
    "from pyspark.sql import functions as F\n",
    "\n",
    "AML_accounts_csv = spark.read\\\n",
    "             .option(\"inferSchema\", \"true\")\\\n",
    "             .option(\"header\", \"true\")\\\n",
    "             .format(\"csv\")\\\n",
    "             .load(\"hdfs:///Projects/{}/Resources/accounts.csv\".format(hdfs.project_name()))\n",
    "\n",
    "AML_accounts_csv = AML_accounts_csv.drop('first_name')\\\n",
    "                        .drop('last_name')\\\n",
    "                        .drop('street_addr')\\\n",
    "                        .drop('city')\\\n",
    "                        .drop('state')\\\n",
    "                        .drop('zip')\\\n",
    "                        .drop('gender')\\\n",
    "                        .drop('birth_date')\\\n",
    "                        .drop('ssn')\\\n",
    "                        .drop('lon')\\\n",
    "                        .drop('lat')\n",
    "\n",
    "\n",
    "#add random gender\n",
    "gender_list = list(map(lambda c: F.lit(c), ['M', 'W']))\n",
    "AML_accounts_csv = AML_accounts_csv.withColumn('gender', quinn.array_choice(F.array(gender_list)))\n",
    "\n",
    "\n",
    "#add age based on initial_deposit\n",
    "ages_young = list(map(lambda c: F.lit(c), range(10,25)))\n",
    "ages_adult = list(map(lambda c: F.lit(c), range(25,100)))\n",
    "AML_accounts_csv = AML_accounts_csv.withColumn('age', F.when(F.col('initial_deposit') <= 20000, quinn.array_choice(F.array(ages_young)))\n",
    "                           .otherwise(quinn.array_choice(F.array(ages_adult))))\n"
   ]
  },
  {
   "cell_type": "code",
   "execution_count": 5,
   "metadata": {},
   "outputs": [],
   "source": [
    "AML_accounts_fg_meta = fs.create_feature_group(name=\"aml_10k_accounts_fg\",\n",
    "                                        version=1,\n",
    "                                        primary_key=['ncodpers'],\n",
    "                                        description=\"Account generated using AMLSim\",\n",
    "                                        time_travel_format=None,                                        \n",
    "                                        statistics_config={\"enabled\": True, \"histograms\": True, \"correlations\": True})    \n",
    "# The following command does not work with parameter: features=['acct_id','dsply_nm','type','acct_stat','acct_rptng_crncy','prior_sar_count','branch_id','open_dt','close_dt','initial_deposit','tx_behavior_id','bank_id','country','age']\n",
    "# The object required is a list of Features"
   ]
  },
  {
   "cell_type": "code",
   "execution_count": 6,
   "metadata": {},
   "outputs": [],
   "source": [
    "AML_accounts_fg = AML_accounts_fg_meta.save(AML_accounts_csv)"
   ]
  },
  {
   "cell_type": "code",
   "execution_count": 7,
   "metadata": {},
   "outputs": [],
   "source": [
    "AML_transactions_csv = spark.read\\\n",
    "             .option(\"inferSchema\", \"true\")\\\n",
    "             .option(\"header\", \"true\")\\\n",
    "             .format(\"csv\")\\\n",
    "             .load(\"hdfs:///Projects/{}/Resources/transactions.csv\".format(hdfs.project_name()))\n",
    "\n",
    "AML_transcations_fg_meta = fs.create_feature_group(name=\"aml_10k_transactions_fg\",\n",
    "                                        version=1,\n",
    "                                        primary_key=['ncodpers'],\n",
    "                                        description=\"Transactions generated using AMLSim\",\n",
    "                                        time_travel_format=None,                                        \n",
    "                                        statistics_config={\"enabled\": True, \"histograms\": True, \"correlations\": True})    \n",
    "# The following command does not work with parameter: features=['acct_id','dsply_nm','type','acct_stat','acct_rptng_crncy','prior_sar_count','branch_id','open_dt','close_dt','initial_deposit','tx_behavior_id','bank_id','country','age']\n",
    "# The object required is a list of Features\n"
   ]
  },
  {
   "cell_type": "code",
   "execution_count": 10,
   "metadata": {},
   "outputs": [],
   "source": [
    "AML_transactions_fg = AML_transcations_fg_meta.save(AML_transactions_csv)"
   ]
  }
 ],
 "metadata": {
  "kernelspec": {
   "display_name": "PySpark",
   "language": "python",
   "name": "pysparkkernel"
  },
  "language_info": {
   "codemirror_mode": {
    "name": "python",
    "version": 3
   },
   "mimetype": "text/x-python",
   "name": "pyspark",
   "pygments_lexer": "python3"
  }
 },
 "nbformat": 4,
 "nbformat_minor": 4
}
