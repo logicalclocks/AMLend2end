{
 "cells": [
  {
   "cell_type": "code",
   "execution_count": 1,
   "metadata": {},
   "outputs": [
    {
     "name": "stdout",
     "output_type": "stream",
     "text": [
      "Starting Spark application\n"
     ]
    },
    {
     "data": {
      "text/html": [
       "<table>\n",
       "<tr><th>ID</th><th>YARN Application ID</th><th>Kind</th><th>State</th><th>Spark UI</th><th>Driver log</th></tr><tr><td>9</td><td>application_1606928535611_0010</td><td>pyspark</td><td>idle</td><td><a target=\"_blank\" href=\"http://resourcemanager.service.consul:8088/proxy/application_1606928535611_0010/\">Link</a></td><td><a target=\"_blank\" href=\"http://ip-10-0-0-88.us-west-2.compute.internal:8042/node/containerlogs/container_e02_1606928535611_0010_01_000001/amlsim__meb10179\">Link</a></td></tr></table>"
      ],
      "text/plain": [
       "<IPython.core.display.HTML object>"
      ]
     },
     "metadata": {},
     "output_type": "display_data"
    },
    {
     "name": "stdout",
     "output_type": "stream",
     "text": [
      "SparkSession available as 'spark'.\n",
      "<pyspark.sql.session.SparkSession object at 0x7f0824563c10>"
     ]
    }
   ],
   "source": [
    "spark"
   ]
  },
  {
   "cell_type": "code",
   "execution_count": 2,
   "metadata": {},
   "outputs": [],
   "source": [
    "import hsfs\n",
    "from graphframes import *"
   ]
  },
  {
   "cell_type": "code",
   "execution_count": 3,
   "metadata": {},
   "outputs": [
    {
     "name": "stdout",
     "output_type": "stream",
     "text": [
      "Connected. Call `.close()` to terminate connection gracefully."
     ]
    }
   ],
   "source": [
    "# Create a connection\n",
    "connection = hsfs.connection()\n",
    "# Get the feature store handle for the project's feature store\n",
    "fs = connection.get_feature_store()"
   ]
  },
  {
   "cell_type": "code",
   "execution_count": 4,
   "metadata": {},
   "outputs": [],
   "source": [
    "node_fg = fs.get_feature_group(\"node_features\", 1)\n",
    "edge_fg = fs.get_feature_group(\"edge_features\", 1)"
   ]
  },
  {
   "cell_type": "code",
   "execution_count": 5,
   "metadata": {},
   "outputs": [],
   "source": [
    "edge_df = edge_fg.select([\"source\",\"target\",\"is_sar\"]).read().toDF(\"src\", \"dst\", \"is_sar\")"
   ]
  },
  {
   "cell_type": "code",
   "execution_count": 6,
   "metadata": {},
   "outputs": [],
   "source": [
    "node_df = node_fg.select([\"acct_id\",\"prior_sar\"]).read().toDF(\"id\", \"prior_sar\")"
   ]
  },
  {
   "cell_type": "code",
   "execution_count": 25,
   "metadata": {},
   "outputs": [
    {
     "name": "stdout",
     "output_type": "stream",
     "text": [
      "+----+----+------+\n",
      "| src| dst|is_sar|\n",
      "+----+----+------+\n",
      "|2298|5688|     1|\n",
      "|8627|9601|     1|\n",
      "|2756|8359|     1|\n",
      "|7605|7702|     1|\n",
      "|5891|7377|     1|\n",
      "|6787|1661|     1|\n",
      "|8485|7950|     1|\n",
      "|5324|2177|     1|\n",
      "|4919|4616|     1|\n",
      "|4170|1589|     1|\n",
      "|6483|1590|     1|\n",
      "| 123|2275|     1|\n",
      "|6173|9851|     1|\n",
      "|9300|2182|     1|\n",
      "|2344|5470|     1|\n",
      "|9149|4651|     1|\n",
      "| 312|4046|     1|\n",
      "|5819|2300|     1|\n",
      "|3792|1964|     1|\n",
      "|7235|3191|     1|\n",
      "+----+----+------+\n",
      "only showing top 20 rows"
     ]
    }
   ],
   "source": [
    "edge_df.where(edge_df.is_sar == 1).show()"
   ]
  },
  {
   "cell_type": "code",
   "execution_count": 7,
   "metadata": {},
   "outputs": [],
   "source": [
    " # Now lets construct the graph\n",
    "g = GraphFrame(node_df,edge_df)"
   ]
  },
  {
   "cell_type": "code",
   "execution_count": 20,
   "metadata": {},
   "outputs": [],
   "source": [
    "sc.setCheckpointDir(\"hdfs:///Projects/amlsim/Logs/sc\")\n",
    "cc = g.connectedComponents()"
   ]
  },
  {
   "cell_type": "code",
   "execution_count": 21,
   "metadata": {},
   "outputs": [
    {
     "name": "stdout",
     "output_type": "stream",
     "text": [
      "+---+---------+---------+\n",
      "| id|prior_sar|component|\n",
      "+---+---------+---------+\n",
      "|  0|        0|        0|\n",
      "|  1|        0|        1|\n",
      "|  2|        0|        2|\n",
      "|  3|        0|        2|\n",
      "|  4|        0|        2|\n",
      "|  5|        0|        2|\n",
      "|  6|        0|        2|\n",
      "|  7|        0|        2|\n",
      "|  8|        0|        2|\n",
      "|  9|        0|        2|\n",
      "| 10|        0|        2|\n",
      "| 11|        0|        2|\n",
      "| 12|        0|        2|\n",
      "| 13|        0|        2|\n",
      "| 14|        0|        2|\n",
      "| 15|        0|        2|\n",
      "| 16|        0|        2|\n",
      "| 17|        0|        2|\n",
      "| 18|        0|        2|\n",
      "| 19|        0|        2|\n",
      "+---+---------+---------+\n",
      "only showing top 20 rows"
     ]
    }
   ],
   "source": [
    "cc.show()"
   ]
  },
  {
   "cell_type": "code",
   "execution_count": 26,
   "metadata": {},
   "outputs": [
    {
     "name": "stdout",
     "output_type": "stream",
     "text": [
      "+----+---------+---------+\n",
      "|  id|prior_sar|component|\n",
      "+----+---------+---------+\n",
      "|5688|        1|        2|\n",
      "+----+---------+---------+"
     ]
    }
   ],
   "source": [
    "cc.where(cc.id == 5688).show()"
   ]
  },
  {
   "cell_type": "code",
   "execution_count": 28,
   "metadata": {},
   "outputs": [
    {
     "name": "stdout",
     "output_type": "stream",
     "text": [
      "9998"
     ]
    }
   ],
   "source": [
    "cc.where(cc.component == 2).count()"
   ]
  },
  {
   "cell_type": "code",
   "execution_count": 29,
   "metadata": {},
   "outputs": [],
   "source": [
    "scc = g.stronglyConnectedComponents(20)"
   ]
  },
  {
   "cell_type": "code",
   "execution_count": 30,
   "metadata": {},
   "outputs": [
    {
     "name": "stdout",
     "output_type": "stream",
     "text": [
      "+----+---------+---------+\n",
      "|  id|prior_sar|component|\n",
      "+----+---------+---------+\n",
      "|5688|        1|     2298|\n",
      "+----+---------+---------+"
     ]
    }
   ],
   "source": [
    "scc.where(scc.id == 5688).show()"
   ]
  },
  {
   "cell_type": "code",
   "execution_count": 32,
   "metadata": {},
   "outputs": [
    {
     "name": "stdout",
     "output_type": "stream",
     "text": [
      "+----+---------+---------+\n",
      "|  id|prior_sar|component|\n",
      "+----+---------+---------+\n",
      "|5688|        1|     2298|\n",
      "|2298|        1|     2298|\n",
      "+----+---------+---------+"
     ]
    }
   ],
   "source": [
    "scc.where(scc.component == 2298).show()"
   ]
  }
 ],
 "metadata": {
  "kernelspec": {
   "display_name": "PySpark",
   "language": "python",
   "name": "pysparkkernel"
  },
  "language_info": {
   "codemirror_mode": {
    "name": "python",
    "version": 3
   },
   "mimetype": "text/x-python",
   "name": "pyspark",
   "pygments_lexer": "python3"
  }
 },
 "nbformat": 4,
 "nbformat_minor": 4
}
