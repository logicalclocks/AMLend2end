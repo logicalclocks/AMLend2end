{
 "cells": [
  {
   "cell_type": "markdown",
   "metadata": {},
   "source": [
    "# In this notebook we will perform hyperparameter tuning and training of adversarial anomaly detection model. \n",
    "#### For more details about this model refer to https://arxiv.org/pdf/1905.11034.pdf."
   ]
  },
  {
   "cell_type": "code",
   "execution_count": 1,
   "metadata": {},
   "outputs": [
    {
     "name": "stdout",
     "output_type": "stream",
     "text": [
      "Starting Spark application\n"
     ]
    },
    {
     "data": {
      "text/html": [
       "<table>\n",
       "<tr><th>ID</th><th>YARN Application ID</th><th>Kind</th><th>State</th><th>Spark UI</th><th>Driver log</th></tr><tr><td>45</td><td>application_1607211657348_0047</td><td>pyspark</td><td>idle</td><td><a target=\"_blank\" href=\"http://resourcemanager.service.consul:8088/proxy/application_1607211657348_0047/\">Link</a></td><td><a target=\"_blank\" href=\"http://hopsworks0.logicalclocks.com:8042/node/containerlogs/container_e01_1607211657348_0047_01_000001/amlsim2__meb10000\">Link</a></td></tr></table>"
      ],
      "text/plain": [
       "<IPython.core.display.HTML object>"
      ]
     },
     "metadata": {},
     "output_type": "display_data"
    },
    {
     "name": "stdout",
     "output_type": "stream",
     "text": [
      "SparkSession available as 'spark'.\n",
      "<pyspark.sql.session.SparkSession object at 0x7f5b7732af10>"
     ]
    }
   ],
   "source": [
    "spark"
   ]
  },
  {
   "cell_type": "markdown",
   "metadata": {},
   "source": [
    "## Connect to hsfs and retrieve datasets for training and evaluation "
   ]
  },
  {
   "cell_type": "code",
   "execution_count": 2,
   "metadata": {},
   "outputs": [
    {
     "name": "stdout",
     "output_type": "stream",
     "text": [
      "Connected. Call `.close()` to terminate connection gracefully."
     ]
    }
   ],
   "source": [
    "import hsfs\n",
    "# Create a connection\n",
    "connection = hsfs.connection()\n",
    "# Get the feature store handle for the project's feature store\n",
    "fs = connection.get_feature_store()\n",
    "\n",
    "ben_td = fs.get_training_dataset(\"gan_non_sar_training_df\", 1)\n",
    "eval_td = fs.get_training_dataset(\"gan_eval_df\", 1)"
   ]
  },
  {
   "cell_type": "markdown",
   "metadata": {},
   "source": [
    "### Define hopsworks experiments wrapper function and put all the training logic there. "
   ]
  },
  {
   "cell_type": "code",
   "execution_count": 7,
   "metadata": {},
   "outputs": [],
   "source": [
    "def experiment_wrapper():\n",
    "\n",
    "    import tensorflow as tf\n",
    "    from model.gan_enc_ano import GanAnomalyDetector,  GanAnomalyMonitor \n",
    "    from hops import tensorboard\n",
    "\n",
    "    # Set the number of epochs for trainining.\n",
    "    EPOCHS = 2\n",
    "\n",
    "    train_input = ben_td.tf_data(target_name='target', is_training=True)\n",
    "    train_input_processed = train_input.tf_record_dataset(process=True, batch_size=16, num_epochs=EPOCHS)\n",
    "    eval_input = ben_td.tf_data(target_name='target', is_training=True)\n",
    "    eval_input_processed = eval_input.tf_record_dataset(process=True, batch_size=1, num_epochs=EPOCHS)    \n",
    "\n",
    "    # Instantiate the GanAnomalyDetector model.\n",
    "    gan_anomaly_detector = GanAnomalyDetector(\n",
    "\n",
    "                input_dim=16,\n",
    "                latent_dim=4,\n",
    "\n",
    "                discriminator_start_n_units=16,\n",
    "                discriminator_n_layers=2,\n",
    "                discriminator_activation_fn=\"sigmoid\",\n",
    "                discriminator_double_neurons=False,\n",
    "                discriminator_bottleneck_neurons=True,\n",
    "                discriminator_batch_norm=False,\n",
    "                discriminator_batch_dropout=False,\n",
    "                discriminator_dropout_rate=0.0,\n",
    "                discriminator_learning_rate=0.0002,\n",
    "                discriminator_extra_steps = 3,\n",
    "\n",
    "                generator_start_n_units=8,\n",
    "                generator_n_layers=2,\n",
    "                generator_activation_fn=\"tanh\",\n",
    "                generator_double_neurons=True,\n",
    "                generator_bottleneck_neurons=False,\n",
    "                generator_batch_norm=False,\n",
    "                generator_batch_dropout=False,\n",
    "                generator_dropout_rate=0.0,\n",
    "                generator_learning_rate=0.0002,\n",
    "\n",
    "                encoder_start_n_units=4,\n",
    "                encoder_n_layers=2,\n",
    "                encoder_activation_fn=\"tanh\",\n",
    "                encoder_batch_norm=False,\n",
    "                encoder_batch_dropout=False,\n",
    "                encoder_dropout_rate=0.0,\n",
    "                encoder_learning_rate=0.0002,\n",
    "\n",
    "    )\n",
    "    \n",
    "    # Compile the WGAN model.\n",
    "    gan_anomaly_detector.compile()\n",
    "\n",
    "    callbacks = [\n",
    "        #GanAnomalyMonitor(batch_size=1, latent_dim=4, input_dim=16, alpha=0.7, real_data=eval_input_processed),\n",
    "        tf.keras.callbacks.TensorBoard(log_dir=tensorboard.logdir()),\n",
    "        tf.keras.callbacks.ModelCheckpoint(filepath=tensorboard.logdir()),\n",
    "    ]\n",
    "    # Start training the model.\n",
    "    history = gan_anomaly_detector.fit(train_input_processed, callbacks=[callbacks])\n",
    "    \n",
    "    return history.history[\"g_loss\"]\n"
   ]
  },
  {
   "cell_type": "markdown",
   "metadata": {},
   "source": [
    "## Use above experiments wrapper function to conduct hops training experiments."
   ]
  },
  {
   "cell_type": "code",
   "execution_count": 8,
   "metadata": {},
   "outputs": [
    {
     "name": "stdout",
     "output_type": "stream",
     "text": [
      "Finished Experiment \n",
      "\n",
      "('hdfs://rpc.namenode.service.consul:8020/Projects/amlsim2/Experiments/application_1607211657348_0047_3', {'metric': [-0.3336649537086487], 'log': 'Experiments/application_1607211657348_0047_3/output.log'})"
     ]
    }
   ],
   "source": [
    "from hops import experiment\n",
    "# experiment.collective_all_reduce(main)\n",
    "experiment.launch(experiment_wrapper)"
   ]
  },
  {
   "cell_type": "code",
   "execution_count": null,
   "metadata": {},
   "outputs": [],
   "source": []
  }
 ],
 "metadata": {
  "kernelspec": {
   "display_name": "PySpark",
   "language": "python",
   "name": "pysparkkernel"
  },
  "language_info": {
   "codemirror_mode": {
    "name": "python",
    "version": 3
   },
   "mimetype": "text/x-python",
   "name": "pyspark",
   "pygments_lexer": "python3"
  }
 },
 "nbformat": 4,
 "nbformat_minor": 4
}
