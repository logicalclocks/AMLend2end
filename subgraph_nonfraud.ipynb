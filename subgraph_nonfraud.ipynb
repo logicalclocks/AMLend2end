{
 "cells": [
  {
   "cell_type": "code",
   "execution_count": 88,
   "metadata": {},
   "outputs": [
    {
     "name": "stdout",
     "output_type": "stream",
     "text": [
      "<pyspark.sql.session.SparkSession object at 0x7f3f73173f90>"
     ]
    }
   ],
   "source": [
    "spark"
   ]
  },
  {
   "cell_type": "code",
   "execution_count": 89,
   "metadata": {},
   "outputs": [],
   "source": [
    "import hashlib\n",
    "from datetime import datetime\n",
    "from graphframes import *\n",
    "from pyspark.sql import functions as func\n",
    "from pyspark.sql.types import FloatType\n",
    "import hsfs\n",
    "from hops import hdfs\n",
    "import os\n",
    "from pyspark.sql import SQLContext"
   ]
  },
  {
   "cell_type": "code",
   "execution_count": 90,
   "metadata": {},
   "outputs": [],
   "source": [
    "def hashnode(x):\n",
    "    return hashlib.sha1(x.encode(\"UTF-8\")).hexdigest()[:8]\n",
    "\n",
    "hashnode_udf = func.udf(hashnode)"
   ]
  },
  {
   "cell_type": "code",
   "execution_count": 91,
   "metadata": {},
   "outputs": [
    {
     "name": "stdout",
     "output_type": "stream",
     "text": [
      "Connected. Call `.close()` to terminate connection gracefully."
     ]
    }
   ],
   "source": [
    "# Create a connection\n",
    "connection = hsfs.connection()\n",
    "# Get the feature store handle for the project's feature store\n",
    "fs = connection.get_feature_store()"
   ]
  },
  {
   "cell_type": "code",
   "execution_count": 92,
   "metadata": {},
   "outputs": [],
   "source": [
    "edge_fg = fs.get_feature_group('transactions_fg', 1)\n",
    "node_fg = fs.get_feature_group('account_features', 1)"
   ]
  },
  {
   "cell_type": "code",
   "execution_count": 93,
   "metadata": {},
   "outputs": [
    {
     "name": "stdout",
     "output_type": "stream",
     "text": [
      "+--------------+---------+-------+---------------+\n",
      "|tx_behavior_id|prior_sar|acct_id|initial_deposit|\n",
      "+--------------+---------+-------+---------------+\n",
      "|             1|        0|      0|       84442.19|\n",
      "|             1|        0|      1|       75795.44|\n",
      "|             1|        0|      2|       42057.16|\n",
      "|             1|        0|      3|       25891.68|\n",
      "|             1|        0|      4|       51127.47|\n",
      "+--------------+---------+-------+---------------+\n",
      "only showing top 5 rows"
     ]
    }
   ],
   "source": [
    "node_fg.show(5)"
   ]
  },
  {
   "cell_type": "code",
   "execution_count": 94,
   "metadata": {},
   "outputs": [
    {
     "name": "stdout",
     "output_type": "stream",
     "text": [
      "+-------+--------------+------+--------+------+--------+------+-------+\n",
      "|tran_id|tran_timestamp|is_sar|base_amt|target|alert_id|source|tx_type|\n",
      "+-------+--------------+------+--------+------+--------+------+-------+\n",
      "|      1|   1.4832288E9|     0| 9405.71|  3259|      -1|  1767|      4|\n",
      "|      2|   1.4832288E9|     0| 6884.54|  5141|      -1|  7363|      4|\n",
      "|      3|   1.4832288E9|     0|  7968.4|  9532|      -1|  7585|      4|\n",
      "|      4|   1.4832288E9|     0| 9042.67|  8792|      -1|  1750|      4|\n",
      "|      5|   1.4832288E9|     0| 4692.79|  4670|      -1|  9060|      4|\n",
      "+-------+--------------+------+--------+------+--------+------+-------+\n",
      "only showing top 5 rows"
     ]
    }
   ],
   "source": [
    "edge_fg.show(5)"
   ]
  },
  {
   "cell_type": "code",
   "execution_count": 95,
   "metadata": {},
   "outputs": [],
   "source": [
    "only_sar_edge_df = edge_fg.read().filter(func.col('alert_id') != -1)\n",
    "only_normal_edge_df =  edge_fg.read().filter(func.col('alert_id') == -1)"
   ]
  },
  {
   "cell_type": "code",
   "execution_count": 96,
   "metadata": {},
   "outputs": [
    {
     "name": "stdout",
     "output_type": "stream",
     "text": [
      "+-------+--------------+------+--------+------+--------+------+-------+\n",
      "|tran_id|tran_timestamp|is_sar|base_amt|target|alert_id|source|tx_type|\n",
      "+-------+--------------+------+--------+------+--------+------+-------+\n",
      "|      1|   1.4832288E9|     0| 9405.71|  3259|      -1|  1767|      4|\n",
      "|      2|   1.4832288E9|     0| 6884.54|  5141|      -1|  7363|      4|\n",
      "|      3|   1.4832288E9|     0|  7968.4|  9532|      -1|  7585|      4|\n",
      "|      4|   1.4832288E9|     0| 9042.67|  8792|      -1|  1750|      4|\n",
      "|      5|   1.4832288E9|     0| 4692.79|  4670|      -1|  9060|      4|\n",
      "+-------+--------------+------+--------+------+--------+------+-------+\n",
      "only showing top 5 rows"
     ]
    }
   ],
   "source": [
    "only_normal_edge_df.show(5)"
   ]
  },
  {
   "cell_type": "code",
   "execution_count": 97,
   "metadata": {},
   "outputs": [
    {
     "name": "stdout",
     "output_type": "stream",
     "text": [
      "+-------+--------------+------+--------+------+--------+------+-------+\n",
      "|tran_id|tran_timestamp|is_sar|base_amt|target|alert_id|source|tx_type|\n",
      "+-------+--------------+------+--------+------+--------+------+-------+\n",
      "|     98|   1.4832288E9|     1|  108.62|  5688|      16|  2298|      4|\n",
      "|    108|   1.4832288E9|     1|  183.25|  9601|      26|  8627|      4|\n",
      "|    135|   1.4832288E9|     1|  142.71|  8359|      15|  2756|      4|\n",
      "|    137|   1.4832288E9|     1|  132.47|  7702|       9|  7605|      4|\n",
      "|    218|   1.4832288E9|     1|  119.51|  7377|      17|  5891|      4|\n",
      "|    335|   1.4832288E9|     1|  136.02|  1661|      12|  6787|      4|\n",
      "|    439|   1.4832288E9|     1|  194.53|  7950|       0|  8485|      4|\n",
      "|    477|   1.4832288E9|     1|  184.32|  2177|       3|  5324|      4|\n",
      "|    514|   1.4832288E9|     1|  130.63|  4616|      19|  4919|      4|\n",
      "|    564|   1.4832288E9|     1|  183.27|  1589|       5|  4170|      4|\n",
      "|    580|   1.4832288E9|     1|  135.69|  1590|      18|  6483|      4|\n",
      "|    654|   1.4832288E9|     1|  160.35|  2275|      20|   123|      4|\n",
      "|    711|   1.4832288E9|     1|  144.32|  9851|      23|  6173|      4|\n",
      "|    742|   1.4832288E9|     1|  177.32|  2182|       4|  9300|      4|\n",
      "|    779|   1.4832288E9|     1|  189.75|  5470|       1|  2344|      4|\n",
      "|    780|   1.4832288E9|     1|  112.62|  4651|      22|  9149|      4|\n",
      "|    933|   1.4832288E9|     1|  108.91|  4046|      27|   312|      4|\n",
      "|    947|   1.4832288E9|     1|  173.42|  2300|       8|  5819|      4|\n",
      "|   1070|   1.4832288E9|     1|  135.89|  1964|       6|  3792|      4|\n",
      "|   1256|   1.4832288E9|     1|  142.27|  3191|      25|  7235|      4|\n",
      "+-------+--------------+------+--------+------+--------+------+-------+\n",
      "only showing top 20 rows"
     ]
    }
   ],
   "source": [
    "only_sar_edge_df.show()"
   ]
  },
  {
   "cell_type": "code",
   "execution_count": 98,
   "metadata": {},
   "outputs": [
    {
     "name": "stdout",
     "output_type": "stream",
     "text": [
      "732"
     ]
    }
   ],
   "source": [
    "only_sar_edge_df.count()"
   ]
  },
  {
   "cell_type": "code",
   "execution_count": 99,
   "metadata": {},
   "outputs": [
    {
     "name": "stdout",
     "output_type": "stream",
     "text": [
      "1028964"
     ]
    }
   ],
   "source": [
    "only_normal_edge_df.count()"
   ]
  },
  {
   "cell_type": "code",
   "execution_count": 100,
   "metadata": {},
   "outputs": [
    {
     "name": "stdout",
     "output_type": "stream",
     "text": [
      "+-------+------------+-----------+\n",
      "|tran_id|window_start| window_end|\n",
      "+-------+------------+-----------+\n",
      "|  44437| 1.4859072E9|1.4859072E9|\n",
      "| 100274| 1.4892768E9|1.4892768E9|\n",
      "| 612597|  1.520208E9| 1.520208E9|\n",
      "|  12471|   1.48392E9|  1.48392E9|\n",
      "|  33855|  1.485216E9| 1.485216E9|\n",
      "+-------+------------+-----------+\n",
      "only showing top 5 rows"
     ]
    }
   ],
   "source": [
    "only_sar_edge_df_grouped = only_sar_edge_df.groupBy('tran_id').agg(func.min(\"tran_timestamp\"),func.max(\"tran_timestamp\")).toDF(\"tran_id\", \"window_start\", \"window_end\")\n",
    "only_sar_edge_df_grouped.show(5)"
   ]
  },
  {
   "cell_type": "code",
   "execution_count": 101,
   "metadata": {},
   "outputs": [],
   "source": [
    "only_sar_edges_df_windows = only_sar_edge_df.join(only_sar_edge_df_grouped,[\"tran_id\"])"
   ]
  },
  {
   "cell_type": "code",
   "execution_count": 102,
   "metadata": {},
   "outputs": [
    {
     "name": "stdout",
     "output_type": "stream",
     "text": [
      "+-------+--------------+------+--------+------+--------+------+-------+------------+-----------+\n",
      "|tran_id|tran_timestamp|is_sar|base_amt|target|alert_id|source|tx_type|window_start| window_end|\n",
      "+-------+--------------+------+--------+------+--------+------+-------+------------+-----------+\n",
      "|     98|   1.4832288E9|     1|  108.62|  5688|      16|  2298|      4| 1.4832288E9|1.4832288E9|\n",
      "|    108|   1.4832288E9|     1|  183.25|  9601|      26|  8627|      4| 1.4832288E9|1.4832288E9|\n",
      "|    135|   1.4832288E9|     1|  142.71|  8359|      15|  2756|      4| 1.4832288E9|1.4832288E9|\n",
      "|    137|   1.4832288E9|     1|  132.47|  7702|       9|  7605|      4| 1.4832288E9|1.4832288E9|\n",
      "|    218|   1.4832288E9|     1|  119.51|  7377|      17|  5891|      4| 1.4832288E9|1.4832288E9|\n",
      "|    335|   1.4832288E9|     1|  136.02|  1661|      12|  6787|      4| 1.4832288E9|1.4832288E9|\n",
      "|    439|   1.4832288E9|     1|  194.53|  7950|       0|  8485|      4| 1.4832288E9|1.4832288E9|\n",
      "|    477|   1.4832288E9|     1|  184.32|  2177|       3|  5324|      4| 1.4832288E9|1.4832288E9|\n",
      "|    514|   1.4832288E9|     1|  130.63|  4616|      19|  4919|      4| 1.4832288E9|1.4832288E9|\n",
      "|    564|   1.4832288E9|     1|  183.27|  1589|       5|  4170|      4| 1.4832288E9|1.4832288E9|\n",
      "|    580|   1.4832288E9|     1|  135.69|  1590|      18|  6483|      4| 1.4832288E9|1.4832288E9|\n",
      "|    654|   1.4832288E9|     1|  160.35|  2275|      20|   123|      4| 1.4832288E9|1.4832288E9|\n",
      "|    711|   1.4832288E9|     1|  144.32|  9851|      23|  6173|      4| 1.4832288E9|1.4832288E9|\n",
      "|    742|   1.4832288E9|     1|  177.32|  2182|       4|  9300|      4| 1.4832288E9|1.4832288E9|\n",
      "|    779|   1.4832288E9|     1|  189.75|  5470|       1|  2344|      4| 1.4832288E9|1.4832288E9|\n",
      "|    780|   1.4832288E9|     1|  112.62|  4651|      22|  9149|      4| 1.4832288E9|1.4832288E9|\n",
      "|    933|   1.4832288E9|     1|  108.91|  4046|      27|   312|      4| 1.4832288E9|1.4832288E9|\n",
      "|    947|   1.4832288E9|     1|  173.42|  2300|       8|  5819|      4| 1.4832288E9|1.4832288E9|\n",
      "|   1070|   1.4832288E9|     1|  135.89|  1964|       6|  3792|      4| 1.4832288E9|1.4832288E9|\n",
      "|   1256|   1.4832288E9|     1|  142.27|  3191|      25|  7235|      4| 1.4832288E9|1.4832288E9|\n",
      "+-------+--------------+------+--------+------+--------+------+-------+------------+-----------+\n",
      "only showing top 20 rows"
     ]
    }
   ],
   "source": [
    "only_sar_edges_df_windows.show()"
   ]
  },
  {
   "cell_type": "code",
   "execution_count": 103,
   "metadata": {},
   "outputs": [
    {
     "name": "stdout",
     "output_type": "stream",
     "text": [
      "732"
     ]
    }
   ],
   "source": [
    "only_sar_edges_df_windows.count()"
   ]
  },
  {
   "cell_type": "code",
   "execution_count": 104,
   "metadata": {},
   "outputs": [],
   "source": [
    "only_normal_edges_df_windows = only_sar_edge_df_grouped.select(\"window_start\", \"window_end\").join(\n",
    "    only_normal_edge_df,\n",
    "    [(only_normal_edge_df.tran_timestamp>=only_sar_edge_df_grouped.window_start)&(only_normal_edge_df.tran_timestamp<=only_sar_edge_df_grouped.window_end)],\n",
    "    how=\"left\"\n",
    ")"
   ]
  },
  {
   "cell_type": "code",
   "execution_count": 105,
   "metadata": {},
   "outputs": [
    {
     "name": "stdout",
     "output_type": "stream",
     "text": [
      "+------------+-----------+-------+--------------+------+--------+------+--------+------+-------+\n",
      "|window_start| window_end|tran_id|tran_timestamp|is_sar|base_amt|target|alert_id|source|tx_type|\n",
      "+------------+-----------+-------+--------------+------+--------+------+--------+------+-------+\n",
      "| 1.4859072E9|1.4859072E9|  44409|   1.4859072E9|     0| 5887.65|  6489|      -1|  6074|      4|\n",
      "| 1.4859072E9|1.4859072E9|  44410|   1.4859072E9|     0| 1753.42|  2474|      -1|  5360|      4|\n",
      "| 1.4859072E9|1.4859072E9|  44411|   1.4859072E9|     0|  433.12|   678|      -1|  7416|      4|\n",
      "| 1.4859072E9|1.4859072E9|  44412|   1.4859072E9|     0| 1322.19|  8767|      -1|  8663|      4|\n",
      "| 1.4859072E9|1.4859072E9|  44413|   1.4859072E9|     0| 6036.48|  5370|      -1|  8258|      4|\n",
      "| 1.4859072E9|1.4859072E9|  44414|   1.4859072E9|     0| 9083.92|  2420|      -1|  9893|      4|\n",
      "| 1.4859072E9|1.4859072E9|  44415|   1.4859072E9|     0| 5309.47|  2418|      -1|  7987|      4|\n",
      "| 1.4859072E9|1.4859072E9|  44416|   1.4859072E9|     0| 9262.92|  6643|      -1|  8274|      4|\n",
      "| 1.4859072E9|1.4859072E9|  44417|   1.4859072E9|     0| 8628.83|  3394|      -1|   997|      4|\n",
      "| 1.4859072E9|1.4859072E9|  44418|   1.4859072E9|     0|  6287.7|  4842|      -1|  4699|      4|\n",
      "| 1.4859072E9|1.4859072E9|  44419|   1.4859072E9|     0| 1133.11|  2577|      -1|  9716|      4|\n",
      "| 1.4859072E9|1.4859072E9|  44420|   1.4859072E9|     0|  1278.0|  2006|      -1|  9979|      4|\n",
      "| 1.4859072E9|1.4859072E9|  44421|   1.4859072E9|     0| 2673.55|  9911|      -1|  7832|      4|\n",
      "| 1.4859072E9|1.4859072E9|  44422|   1.4859072E9|     0|  2064.3|  4822|      -1|  6089|      4|\n",
      "| 1.4859072E9|1.4859072E9|  44423|   1.4859072E9|     0| 4089.53|  2955|      -1|  6497|      4|\n",
      "| 1.4859072E9|1.4859072E9|  44424|   1.4859072E9|     0| 4167.63|  8401|      -1|  6831|      4|\n",
      "| 1.4859072E9|1.4859072E9|  44425|   1.4859072E9|     0| 9860.47|  2414|      -1|  9425|      4|\n",
      "| 1.4859072E9|1.4859072E9|  44426|   1.4859072E9|     0| 6775.49|  5045|      -1|  4159|      4|\n",
      "| 1.4859072E9|1.4859072E9|  44427|   1.4859072E9|     0|   76.33|  4653|      -1|  9755|      4|\n",
      "| 1.4859072E9|1.4859072E9|  44428|   1.4859072E9|     0| 7224.92|  8553|      -1|  1584|      4|\n",
      "+------------+-----------+-------+--------------+------+--------+------+--------+------+-------+\n",
      "only showing top 20 rows"
     ]
    }
   ],
   "source": [
    "only_normal_edges_df_windows.show()"
   ]
  },
  {
   "cell_type": "code",
   "execution_count": 106,
   "metadata": {},
   "outputs": [
    {
     "name": "stdout",
     "output_type": "stream",
     "text": [
      "1048084"
     ]
    }
   ],
   "source": [
    "only_normal_edges_df_windows.count()"
   ]
  },
  {
   "cell_type": "code",
   "execution_count": 107,
   "metadata": {},
   "outputs": [
    {
     "name": "stdout",
     "output_type": "stream",
     "text": [
      "+------------+-----------+-------+--------------+------+--------+------+--------+------+-------+--------+--------+\n",
      "|window_start| window_end|tran_id|tran_timestamp|is_sar|base_amt|destId|alert_id|origId|tx_type|  target|  source|\n",
      "+------------+-----------+-------+--------------+------+--------+------+--------+------+-------+--------+--------+\n",
      "| 1.4859072E9|1.4859072E9|  44409|   1.4859072E9|     0| 5887.65|  6489|      -1|  6074|      4|51f60611|b8797deb|\n",
      "| 1.4859072E9|1.4859072E9|  44410|   1.4859072E9|     0| 1753.42|  2474|      -1|  5360|      4|ffea183c|2087ccb6|\n",
      "| 1.4859072E9|1.4859072E9|  44411|   1.4859072E9|     0|  433.12|   678|      -1|  7416|      4|f9bcd32a|d16e7308|\n",
      "| 1.4859072E9|1.4859072E9|  44412|   1.4859072E9|     0| 1322.19|  8767|      -1|  8663|      4|4e307995|6ac79954|\n",
      "| 1.4859072E9|1.4859072E9|  44413|   1.4859072E9|     0| 6036.48|  5370|      -1|  8258|      4|57e45309|eab8a93e|\n",
      "| 1.4859072E9|1.4859072E9|  44414|   1.4859072E9|     0| 9083.92|  2420|      -1|  9893|      4|b78bece4|85f00943|\n",
      "| 1.4859072E9|1.4859072E9|  44415|   1.4859072E9|     0| 5309.47|  2418|      -1|  7987|      4|e4de9f4b|07c2085c|\n",
      "| 1.4859072E9|1.4859072E9|  44416|   1.4859072E9|     0| 9262.92|  6643|      -1|  8274|      4|67690cc8|3f00018c|\n",
      "| 1.4859072E9|1.4859072E9|  44417|   1.4859072E9|     0| 8628.83|  3394|      -1|   997|      4|1a1e5e17|e437ee9b|\n",
      "| 1.4859072E9|1.4859072E9|  44418|   1.4859072E9|     0|  6287.7|  4842|      -1|  4699|      4|05a3a204|2bd99dc4|\n",
      "| 1.4859072E9|1.4859072E9|  44419|   1.4859072E9|     0| 1133.11|  2577|      -1|  9716|      4|52a8e08e|f190ee04|\n",
      "| 1.4859072E9|1.4859072E9|  44420|   1.4859072E9|     0|  1278.0|  2006|      -1|  9979|      4|5dea7240|c33fee9d|\n",
      "| 1.4859072E9|1.4859072E9|  44421|   1.4859072E9|     0| 2673.55|  9911|      -1|  7832|      4|e5f678da|c313d6e0|\n",
      "| 1.4859072E9|1.4859072E9|  44422|   1.4859072E9|     0|  2064.3|  4822|      -1|  6089|      4|13c08674|eec2a1bd|\n",
      "| 1.4859072E9|1.4859072E9|  44423|   1.4859072E9|     0| 4089.53|  2955|      -1|  6497|      4|37b809fe|7b4951c2|\n",
      "| 1.4859072E9|1.4859072E9|  44424|   1.4859072E9|     0| 4167.63|  8401|      -1|  6831|      4|ded18d7b|8969d1e4|\n",
      "| 1.4859072E9|1.4859072E9|  44425|   1.4859072E9|     0| 9860.47|  2414|      -1|  9425|      4|6c8556dd|85fbe80e|\n",
      "| 1.4859072E9|1.4859072E9|  44426|   1.4859072E9|     0| 6775.49|  5045|      -1|  4159|      4|3bf47de2|c4cbf0e0|\n",
      "| 1.4859072E9|1.4859072E9|  44427|   1.4859072E9|     0|   76.33|  4653|      -1|  9755|      4|c6b7716a|72039c32|\n",
      "| 1.4859072E9|1.4859072E9|  44428|   1.4859072E9|     0| 7224.92|  8553|      -1|  1584|      4|de7a0e8f|665ceea1|\n",
      "+------------+-----------+-------+--------------+------+--------+------+--------+------+-------+--------+--------+\n",
      "only showing top 20 rows"
     ]
    }
   ],
   "source": [
    "only_normal_edges_df_windows = only_normal_edges_df_windows.withColumnRenamed(\"source\", \"origId\")\\\n",
    "                                                           .withColumnRenamed(\"target\", \"destId\")  \n",
    "only_normal_edges_df_windows = only_normal_edges_df_windows.withColumn('target',hashnode_udf(func.concat(func.col('destId'),func.lit('_'),func.col('window_start'),func.lit('_'),func.col('window_end'))))\\\n",
    "                                                           .withColumn('source',hashnode_udf(func.concat(func.col('origId'),func.lit('_'),func.col('window_start'),func.lit('_'),func.col('window_end'))))            \n",
    "only_normal_edges_df_windows.show()"
   ]
  },
  {
   "cell_type": "code",
   "execution_count": 108,
   "metadata": {},
   "outputs": [
    {
     "name": "stdout",
     "output_type": "stream",
     "text": [
      "906318"
     ]
    }
   ],
   "source": [
    "normal_sources = only_normal_edges_df_windows.select(\"source\")\n",
    "normal_targets = only_normal_edges_df_windows.select(\"target\")\n",
    "normal_nodes = normal_sources.union(normal_targets).dropDuplicates()\n",
    "normal_nodes.count()"
   ]
  },
  {
   "cell_type": "code",
   "execution_count": 109,
   "metadata": {},
   "outputs": [
    {
     "name": "stdout",
     "output_type": "stream",
     "text": [
      "1048084"
     ]
    }
   ],
   "source": [
    "normal_edges = only_normal_edges_df_windows.select(\"source\", \"target\")\n",
    "normal_edges.count()"
   ]
  },
  {
   "cell_type": "code",
   "execution_count": null,
   "metadata": {},
   "outputs": [],
   "source": []
  },
  {
   "cell_type": "code",
   "execution_count": null,
   "metadata": {},
   "outputs": [],
   "source": []
  },
  {
   "cell_type": "code",
   "execution_count": null,
   "metadata": {},
   "outputs": [],
   "source": []
  },
  {
   "cell_type": "code",
   "execution_count": 110,
   "metadata": {},
   "outputs": [
    {
     "name": "stdout",
     "output_type": "stream",
     "text": [
      "+-------+--------------+------+--------+------+--------+------+-------+------------+-----------+--------+--------+\n",
      "|tran_id|tran_timestamp|is_sar|base_amt|destId|alert_id|origId|tx_type|window_start| window_end|  target|  source|\n",
      "+-------+--------------+------+--------+------+--------+------+-------+------------+-----------+--------+--------+\n",
      "|     98|   1.4832288E9|     1|  108.62|  5688|      16|  2298|      4| 1.4832288E9|1.4832288E9|abadb2bd|2d6bcbfc|\n",
      "|    108|   1.4832288E9|     1|  183.25|  9601|      26|  8627|      4| 1.4832288E9|1.4832288E9|5a2ef132|2ffeba7c|\n",
      "|    135|   1.4832288E9|     1|  142.71|  8359|      15|  2756|      4| 1.4832288E9|1.4832288E9|20aba974|b6564133|\n",
      "|    137|   1.4832288E9|     1|  132.47|  7702|       9|  7605|      4| 1.4832288E9|1.4832288E9|f5a54e21|6c465ac2|\n",
      "|    218|   1.4832288E9|     1|  119.51|  7377|      17|  5891|      4| 1.4832288E9|1.4832288E9|53ae86b7|c59fa192|\n",
      "|    335|   1.4832288E9|     1|  136.02|  1661|      12|  6787|      4| 1.4832288E9|1.4832288E9|63d20cac|bab951fe|\n",
      "|    439|   1.4832288E9|     1|  194.53|  7950|       0|  8485|      4| 1.4832288E9|1.4832288E9|f4a13efe|08fd77bf|\n",
      "|    477|   1.4832288E9|     1|  184.32|  2177|       3|  5324|      4| 1.4832288E9|1.4832288E9|c3b4300d|0e6ac762|\n",
      "|    514|   1.4832288E9|     1|  130.63|  4616|      19|  4919|      4| 1.4832288E9|1.4832288E9|58010469|96a799d9|\n",
      "|    564|   1.4832288E9|     1|  183.27|  1589|       5|  4170|      4| 1.4832288E9|1.4832288E9|1346f36e|e13521b2|\n",
      "|    580|   1.4832288E9|     1|  135.69|  1590|      18|  6483|      4| 1.4832288E9|1.4832288E9|71b182fe|43e43c84|\n",
      "|    654|   1.4832288E9|     1|  160.35|  2275|      20|   123|      4| 1.4832288E9|1.4832288E9|4fbca029|9c28a7c8|\n",
      "|    711|   1.4832288E9|     1|  144.32|  9851|      23|  6173|      4| 1.4832288E9|1.4832288E9|fed6db58|de78399d|\n",
      "|    742|   1.4832288E9|     1|  177.32|  2182|       4|  9300|      4| 1.4832288E9|1.4832288E9|f3ad6dac|b8461bac|\n",
      "|    779|   1.4832288E9|     1|  189.75|  5470|       1|  2344|      4| 1.4832288E9|1.4832288E9|cddc18f4|e174f410|\n",
      "|    780|   1.4832288E9|     1|  112.62|  4651|      22|  9149|      4| 1.4832288E9|1.4832288E9|48e22b8f|d7e72a5d|\n",
      "|    933|   1.4832288E9|     1|  108.91|  4046|      27|   312|      4| 1.4832288E9|1.4832288E9|2cd51654|98c2aec7|\n",
      "|    947|   1.4832288E9|     1|  173.42|  2300|       8|  5819|      4| 1.4832288E9|1.4832288E9|9fc74b2f|da8c936a|\n",
      "|   1070|   1.4832288E9|     1|  135.89|  1964|       6|  3792|      4| 1.4832288E9|1.4832288E9|92b25762|853d4aaf|\n",
      "|   1256|   1.4832288E9|     1|  142.27|  3191|      25|  7235|      4| 1.4832288E9|1.4832288E9|4a46c592|cacdd528|\n",
      "+-------+--------------+------+--------+------+--------+------+-------+------------+-----------+--------+--------+\n",
      "only showing top 20 rows"
     ]
    }
   ],
   "source": [
    "only_sar_edges_df_windows = only_sar_edges_df_windows.withColumnRenamed(\"source\", \"origId\")\\\n",
    "                                                           .withColumnRenamed(\"target\", \"destId\")  \n",
    "only_sar_edges_df_windows = only_sar_edges_df_windows.withColumn('target',hashnode_udf(func.concat(func.col('destId'),func.lit('_'),func.col('window_start'),func.lit('_'),func.col('window_end'))))\\\n",
    "                                                           .withColumn('source',hashnode_udf(func.concat(func.col('origId'),func.lit('_'),func.col('window_start'),func.lit('_'),func.col('window_end'))))            \n",
    "only_sar_edges_df_windows.show()"
   ]
  },
  {
   "cell_type": "code",
   "execution_count": 111,
   "metadata": {},
   "outputs": [
    {
     "name": "stdout",
     "output_type": "stream",
     "text": [
      "1425"
     ]
    }
   ],
   "source": [
    "sar_sources = only_sar_edges_df_windows.select(\"source\")\n",
    "sar_targets = only_sar_edges_df_windows.select(\"target\")\n",
    "sar_nodes = sar_sources.union(sar_targets).dropDuplicates()\n",
    "sar_nodes.count()"
   ]
  },
  {
   "cell_type": "code",
   "execution_count": 112,
   "metadata": {},
   "outputs": [
    {
     "name": "stdout",
     "output_type": "stream",
     "text": [
      "732"
     ]
    }
   ],
   "source": [
    "sar_edges = only_sar_edges_df_windows.select(\"source\", \"target\")\n",
    "sar_edges.count()"
   ]
  },
  {
   "cell_type": "code",
   "execution_count": null,
   "metadata": {},
   "outputs": [],
   "source": []
  },
  {
   "cell_type": "code",
   "execution_count": 113,
   "metadata": {},
   "outputs": [
    {
     "name": "stderr",
     "output_type": "stream",
     "text": [
      "An error was encountered:\n",
      "An error occurred while calling o918.loadClass.\n",
      ": java.lang.ClassNotFoundException: org.graphframes.GraphFramePythonAPI\n",
      "\tat java.net.URLClassLoader.findClass(URLClassLoader.java:382)\n",
      "\tat java.lang.ClassLoader.loadClass(ClassLoader.java:418)\n",
      "\tat java.lang.ClassLoader.loadClass(ClassLoader.java:351)\n",
      "\tat sun.reflect.NativeMethodAccessorImpl.invoke0(Native Method)\n",
      "\tat sun.reflect.NativeMethodAccessorImpl.invoke(NativeMethodAccessorImpl.java:62)\n",
      "\tat sun.reflect.DelegatingMethodAccessorImpl.invoke(DelegatingMethodAccessorImpl.java:43)\n",
      "\tat java.lang.reflect.Method.invoke(Method.java:498)\n",
      "\tat py4j.reflection.MethodInvoker.invoke(MethodInvoker.java:244)\n",
      "\tat py4j.reflection.ReflectionEngine.invoke(ReflectionEngine.java:357)\n",
      "\tat py4j.Gateway.invoke(Gateway.java:282)\n",
      "\tat py4j.commands.AbstractCommand.invokeMethod(AbstractCommand.java:132)\n",
      "\tat py4j.commands.CallCommand.execute(CallCommand.java:79)\n",
      "\tat py4j.GatewayConnection.run(GatewayConnection.java:238)\n",
      "\tat java.lang.Thread.run(Thread.java:748)\n",
      "\n",
      "Traceback (most recent call last):\n",
      "  File \"/srv/hops/anaconda/envs/theenv/lib/python3.7/site-packages/graphframes/graphframe.py\", line 68, in __init__\n",
      "    self._jvm_gf_api = _java_api(self._sc)\n",
      "  File \"/srv/hops/anaconda/envs/theenv/lib/python3.7/site-packages/graphframes/graphframe.py\", line 41, in _java_api\n",
      "    return jsc._jvm.Thread.currentThread().getContextClassLoader().loadClass(javaClassName) \\\n",
      "  File \"/srv/hops/spark/python/lib/py4j-0.10.7-src.zip/py4j/java_gateway.py\", line 1257, in __call__\n",
      "    answer, self.gateway_client, self.target_id, self.name)\n",
      "  File \"/srv/hops/spark/python/lib/pyspark.zip/pyspark/sql/utils.py\", line 63, in deco\n",
      "    return f(*a, **kw)\n",
      "  File \"/srv/hops/spark/python/lib/py4j-0.10.7-src.zip/py4j/protocol.py\", line 328, in get_return_value\n",
      "    format(target_id, \".\", name), value)\n",
      "py4j.protocol.Py4JJavaError: An error occurred while calling o918.loadClass.\n",
      ": java.lang.ClassNotFoundException: org.graphframes.GraphFramePythonAPI\n",
      "\tat java.net.URLClassLoader.findClass(URLClassLoader.java:382)\n",
      "\tat java.lang.ClassLoader.loadClass(ClassLoader.java:418)\n",
      "\tat java.lang.ClassLoader.loadClass(ClassLoader.java:351)\n",
      "\tat sun.reflect.NativeMethodAccessorImpl.invoke0(Native Method)\n",
      "\tat sun.reflect.NativeMethodAccessorImpl.invoke(NativeMethodAccessorImpl.java:62)\n",
      "\tat sun.reflect.DelegatingMethodAccessorImpl.invoke(DelegatingMethodAccessorImpl.java:43)\n",
      "\tat java.lang.reflect.Method.invoke(Method.java:498)\n",
      "\tat py4j.reflection.MethodInvoker.invoke(MethodInvoker.java:244)\n",
      "\tat py4j.reflection.ReflectionEngine.invoke(ReflectionEngine.java:357)\n",
      "\tat py4j.Gateway.invoke(Gateway.java:282)\n",
      "\tat py4j.commands.AbstractCommand.invokeMethod(AbstractCommand.java:132)\n",
      "\tat py4j.commands.CallCommand.execute(CallCommand.java:79)\n",
      "\tat py4j.GatewayConnection.run(GatewayConnection.java:238)\n",
      "\tat java.lang.Thread.run(Thread.java:748)\n",
      "\n",
      "\n"
     ]
    }
   ],
   "source": [
    "# Now lets construct the graph\n",
    "g_normal = GraphFrame(normal_nodes,normal_edges)\n",
    "sc.setCheckpointDir(\"hdfs:///Projects/{}/Logs/sc\".format(hdfs.project_name()))\n",
    "cc_normal = g_normal.connectedComponents()"
   ]
  },
  {
   "cell_type": "code",
   "execution_count": null,
   "metadata": {},
   "outputs": [],
   "source": []
  },
  {
   "cell_type": "code",
   "execution_count": 114,
   "metadata": {},
   "outputs": [
    {
     "name": "stderr",
     "output_type": "stream",
     "text": [
      "An error was encountered:\n",
      "An error occurred while calling o936.loadClass.\n",
      ": java.lang.ClassNotFoundException: org.graphframes.GraphFramePythonAPI\n",
      "\tat java.net.URLClassLoader.findClass(URLClassLoader.java:382)\n",
      "\tat java.lang.ClassLoader.loadClass(ClassLoader.java:418)\n",
      "\tat java.lang.ClassLoader.loadClass(ClassLoader.java:351)\n",
      "\tat sun.reflect.NativeMethodAccessorImpl.invoke0(Native Method)\n",
      "\tat sun.reflect.NativeMethodAccessorImpl.invoke(NativeMethodAccessorImpl.java:62)\n",
      "\tat sun.reflect.DelegatingMethodAccessorImpl.invoke(DelegatingMethodAccessorImpl.java:43)\n",
      "\tat java.lang.reflect.Method.invoke(Method.java:498)\n",
      "\tat py4j.reflection.MethodInvoker.invoke(MethodInvoker.java:244)\n",
      "\tat py4j.reflection.ReflectionEngine.invoke(ReflectionEngine.java:357)\n",
      "\tat py4j.Gateway.invoke(Gateway.java:282)\n",
      "\tat py4j.commands.AbstractCommand.invokeMethod(AbstractCommand.java:132)\n",
      "\tat py4j.commands.CallCommand.execute(CallCommand.java:79)\n",
      "\tat py4j.GatewayConnection.run(GatewayConnection.java:238)\n",
      "\tat java.lang.Thread.run(Thread.java:748)\n",
      "\n",
      "Traceback (most recent call last):\n",
      "  File \"/srv/hops/anaconda/envs/theenv/lib/python3.7/site-packages/graphframes/graphframe.py\", line 68, in __init__\n",
      "    self._jvm_gf_api = _java_api(self._sc)\n",
      "  File \"/srv/hops/anaconda/envs/theenv/lib/python3.7/site-packages/graphframes/graphframe.py\", line 41, in _java_api\n",
      "    return jsc._jvm.Thread.currentThread().getContextClassLoader().loadClass(javaClassName) \\\n",
      "  File \"/srv/hops/spark/python/lib/py4j-0.10.7-src.zip/py4j/java_gateway.py\", line 1257, in __call__\n",
      "    answer, self.gateway_client, self.target_id, self.name)\n",
      "  File \"/srv/hops/spark/python/lib/pyspark.zip/pyspark/sql/utils.py\", line 63, in deco\n",
      "    return f(*a, **kw)\n",
      "  File \"/srv/hops/spark/python/lib/py4j-0.10.7-src.zip/py4j/protocol.py\", line 328, in get_return_value\n",
      "    format(target_id, \".\", name), value)\n",
      "py4j.protocol.Py4JJavaError: An error occurred while calling o936.loadClass.\n",
      ": java.lang.ClassNotFoundException: org.graphframes.GraphFramePythonAPI\n",
      "\tat java.net.URLClassLoader.findClass(URLClassLoader.java:382)\n",
      "\tat java.lang.ClassLoader.loadClass(ClassLoader.java:418)\n",
      "\tat java.lang.ClassLoader.loadClass(ClassLoader.java:351)\n",
      "\tat sun.reflect.NativeMethodAccessorImpl.invoke0(Native Method)\n",
      "\tat sun.reflect.NativeMethodAccessorImpl.invoke(NativeMethodAccessorImpl.java:62)\n",
      "\tat sun.reflect.DelegatingMethodAccessorImpl.invoke(DelegatingMethodAccessorImpl.java:43)\n",
      "\tat java.lang.reflect.Method.invoke(Method.java:498)\n",
      "\tat py4j.reflection.MethodInvoker.invoke(MethodInvoker.java:244)\n",
      "\tat py4j.reflection.ReflectionEngine.invoke(ReflectionEngine.java:357)\n",
      "\tat py4j.Gateway.invoke(Gateway.java:282)\n",
      "\tat py4j.commands.AbstractCommand.invokeMethod(AbstractCommand.java:132)\n",
      "\tat py4j.commands.CallCommand.execute(CallCommand.java:79)\n",
      "\tat py4j.GatewayConnection.run(GatewayConnection.java:238)\n",
      "\tat java.lang.Thread.run(Thread.java:748)\n",
      "\n",
      "\n"
     ]
    }
   ],
   "source": [
    "# Now lets construct the graph\n",
    "g_sar = GraphFrame(sar_nodes,sar_edges)\n",
    "sc.setCheckpointDir(\"hdfs:///Projects/{}/Logs/sc\".format(hdfs.project_name()))\n",
    "cc_normal = g_sar.connectedComponents()"
   ]
  },
  {
   "cell_type": "code",
   "execution_count": null,
   "metadata": {},
   "outputs": [],
   "source": []
  },
  {
   "cell_type": "code",
   "execution_count": null,
   "metadata": {},
   "outputs": [],
   "source": []
  }
 ],
 "metadata": {
  "kernelspec": {
   "display_name": "PySpark",
   "language": "python",
   "name": "pysparkkernel"
  },
  "language_info": {
   "codemirror_mode": {
    "name": "python",
    "version": 3
   },
   "mimetype": "text/x-python",
   "name": "pyspark",
   "pygments_lexer": "python3"
  }
 },
 "nbformat": 4,
 "nbformat_minor": 4
}
