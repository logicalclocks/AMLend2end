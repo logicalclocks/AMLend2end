{
 "cells": [
  {
   "cell_type": "code",
   "execution_count": 1,
   "metadata": {},
   "outputs": [
    {
     "name": "stdout",
     "output_type": "stream",
     "text": [
      "Starting Spark application\n"
     ]
    },
    {
     "data": {
      "text/html": [
       "<table>\n",
       "<tr><th>ID</th><th>YARN Application ID</th><th>Kind</th><th>State</th><th>Spark UI</th><th>Driver log</th></tr><tr><td>47</td><td>application_1606908943181_0049</td><td>pyspark</td><td>idle</td><td><a target=\"_blank\" href=\"http://resourcemanager.service.consul:8088/proxy/application_1606908943181_0049/\">Link</a></td><td><a target=\"_blank\" href=\"http://riccardoaml-worker-2.internal.cloudapp.net:8042/node/containerlogs/container_e02_1606908943181_0049_01_000001/AML__meb10179\">Link</a></td></tr></table>"
      ],
      "text/plain": [
       "<IPython.core.display.HTML object>"
      ]
     },
     "metadata": {},
     "output_type": "display_data"
    },
    {
     "name": "stdout",
     "output_type": "stream",
     "text": [
      "SparkSession available as 'spark'.\n",
      "<pyspark.sql.session.SparkSession object at 0x7f4b5cf45dd0>"
     ]
    }
   ],
   "source": [
    "spark"
   ]
  },
  {
   "cell_type": "code",
   "execution_count": 2,
   "metadata": {},
   "outputs": [],
   "source": [
    "import hashlib\n",
    "from datetime import datetime\n",
    "from graphframes import *\n",
    "from pyspark.sql import functions as func\n",
    "from pyspark.sql.types import FloatType\n",
    "import hsfs\n",
    "\n",
    "import os\n",
    "from pyspark.sql import SQLContext"
   ]
  },
  {
   "cell_type": "code",
   "execution_count": 3,
   "metadata": {},
   "outputs": [
    {
     "name": "stdout",
     "output_type": "stream",
     "text": [
      "Connected. Call `.close()` to terminate connection gracefully."
     ]
    }
   ],
   "source": [
    "# Create a connection\n",
    "connection = hsfs.connection()\n",
    "# Get the feature store handle for the project's feature store\n",
    "fs = connection.get_feature_store()"
   ]
  },
  {
   "cell_type": "code",
   "execution_count": 4,
   "metadata": {},
   "outputs": [
    {
     "name": "stdout",
     "output_type": "stream",
     "text": [
      "+---+---------------+--------------+---------+------+---+\n",
      "| id|initial_deposit|tx_behavior_id|prior_sar|gender|age|\n",
      "+---+---------------+--------------+---------+------+---+\n",
      "|  0|       84442.19|             1|        0|     0| 65|\n",
      "|  1|       75795.44|             1|        0|     0| 31|\n",
      "|  2|       42057.16|             1|        0|     0| 92|\n",
      "|  3|       25891.68|             1|        0|     0| 43|\n",
      "|  4|       51127.47|             1|        0|     1| 67|\n",
      "+---+---------------+--------------+---------+------+---+\n",
      "only showing top 5 rows\n",
      "\n",
      "+----+----+------+--------+--------------+-------+\n",
      "| src| dst|is_sar|alert_id|tran_timestamp|tran_id|\n",
      "+----+----+------+--------+--------------+-------+\n",
      "|1767|3259|     0|      -1|   1.4832288E9|      1|\n",
      "|7363|5141|     0|      -1|   1.4832288E9|      2|\n",
      "|7585|9532|     0|      -1|   1.4832288E9|      3|\n",
      "|1750|8792|     0|      -1|   1.4832288E9|      4|\n",
      "|9060|4670|     0|      -1|   1.4832288E9|      5|\n",
      "+----+----+------+--------+--------------+-------+\n",
      "only showing top 5 rows\n",
      "\n",
      "VersionWarning: No version provided for getting feature group `node_features`, defaulting to `1`.\n",
      "VersionWarning: No version provided for getting feature group `edge_features`, defaulting to `1`."
     ]
    }
   ],
   "source": [
    "node_df = fs.get_feature_group('node_features')\n",
    "\n",
    "edge_df = fs.get_feature_group('edge_features')\n",
    "\n",
    "node_df = node_df.select([\"acct_id\", \"initial_deposit\", \"tx_behavior_id\", \"prior_sar\", \"gender\", \"age\"]).read().toDF(\"id\", \"initial_deposit\", \"tx_behavior_id\", \"prior_sar\", \"gender\", \"age\")\n",
    "node_df.show(5)\n",
    "\n",
    "edge_df = edge_df.select([\"source\",\"target\",\"is_sar\", 'alert_id', 'tran_timestamp','tran_id']).read().toDF(\"src\", \"dst\", \"is_sar\", 'alert_id', 'tran_timestamp','tran_id')\n",
    "edge_df.show(5)"
   ]
  },
  {
   "cell_type": "code",
   "execution_count": 5,
   "metadata": {},
   "outputs": [
    {
     "name": "stdout",
     "output_type": "stream",
     "text": [
      "+----+----+------+--------+--------------+\n",
      "| src| dst|is_sar|alert_id|tran_timestamp|\n",
      "+----+----+------+--------+--------------+\n",
      "|2298|5688|     1|      16|   1.4832288E9|\n",
      "|8627|9601|     1|      26|   1.4832288E9|\n",
      "|2756|8359|     1|      15|   1.4832288E9|\n",
      "|7605|7702|     1|       9|   1.4832288E9|\n",
      "|5891|7377|     1|      17|   1.4832288E9|\n",
      "+----+----+------+--------+--------------+\n",
      "only showing top 5 rows\n",
      "\n",
      "+----+----+------+--------+--------------+\n",
      "| src| dst|is_sar|alert_id|tran_timestamp|\n",
      "+----+----+------+--------+--------------+\n",
      "|1767|3259|     0|      -1|   1.4832288E9|\n",
      "|7363|5141|     0|      -1|   1.4832288E9|\n",
      "|7585|9532|     0|      -1|   1.4832288E9|\n",
      "|1750|8792|     0|      -1|   1.4832288E9|\n",
      "|9060|4670|     0|      -1|   1.4832288E9|\n",
      "+----+----+------+--------+--------------+\n",
      "only showing top 5 rows"
     ]
    }
   ],
   "source": [
    "only_alert_edge_df = edge_df.filter(func.col('alert_id') != -1)\n",
    "\n",
    "only_normal_edge_df =  edge_df.join(only_alert_edge_df, on=['tran_id'], how='left_anti')\n",
    "\n",
    "only_alert_edge_df = only_alert_edge_df.select([\"src\",\"dst\",\"is_sar\",\"alert_id\",\"tran_timestamp\"])\n",
    "only_normal_edge_df = only_normal_edge_df.select([\"src\",\"dst\",\"is_sar\",\"alert_id\",\"tran_timestamp\"])\n",
    "only_alert_edge_df.show(5)\n",
    "only_normal_edge_df.show(5)"
   ]
  },
  {
   "cell_type": "code",
   "execution_count": 6,
   "metadata": {},
   "outputs": [
    {
     "name": "stdout",
     "output_type": "stream",
     "text": [
      "+--------+-------------------+-------------------+\n",
      "|alert_id|min(tran_timestamp)|max(tran_timestamp)|\n",
      "+--------+-------------------+-------------------+\n",
      "|       0|        1.4832288E9|        1.4929056E9|\n",
      "|       1|        1.4832288E9|         1.521072E9|\n",
      "|       2|        1.4832288E9|        1.5092352E9|\n",
      "|       3|        1.4832288E9|        1.5136416E9|\n",
      "|       4|        1.4832288E9|        1.5157152E9|\n",
      "+--------+-------------------+-------------------+\n",
      "only showing top 5 rows"
     ]
    }
   ],
   "source": [
    "only_alert_edge_df = only_alert_edge_df.sort('alert_id')\n",
    "\n",
    "only_alert_edge_df_grouped = only_alert_edge_df.groupBy('alert_id').agg(func.min(\"tran_timestamp\"),func.max(\"tran_timestamp\"))\n",
    "\n",
    "only_alert_edge_df_grouped.show(5)\n"
   ]
  },
  {
   "cell_type": "code",
   "execution_count": 7,
   "metadata": {},
   "outputs": [
    {
     "name": "stdout",
     "output_type": "stream",
     "text": [
      "<hsfs.feature_group.FeatureGroup object at 0x7f4b6840cb50>\n",
      "<hsfs.feature_group.FeatureGroup object at 0x7f4b68423090>\n",
      "<hsfs.feature_group.FeatureGroup object at 0x7f4b6884de90>\n",
      "<hsfs.feature_group.FeatureGroup object at 0x7f4b6840c850>\n",
      "<hsfs.feature_group.FeatureGroup object at 0x7f4b683bf150>\n",
      "<hsfs.feature_group.FeatureGroup object at 0x7f4b6840b050>\n",
      "<hsfs.feature_group.FeatureGroup object at 0x7f4b683b8650>\n",
      "<hsfs.feature_group.FeatureGroup object at 0x7f4b68423b50>\n",
      "<hsfs.feature_group.FeatureGroup object at 0x7f4b683eefd0>\n",
      "<hsfs.feature_group.FeatureGroup object at 0x7f4b68870a90>\n",
      "<hsfs.feature_group.FeatureGroup object at 0x7f4b683eac10>\n",
      "<hsfs.feature_group.FeatureGroup object at 0x7f4b688704d0>\n",
      "<hsfs.feature_group.FeatureGroup object at 0x7f4b683eefd0>\n",
      "<hsfs.feature_group.FeatureGroup object at 0x7f4b688702d0>\n",
      "<hsfs.feature_group.FeatureGroup object at 0x7f4b683b6750>\n",
      "<hsfs.feature_group.FeatureGroup object at 0x7f4b683b6550>\n",
      "<hsfs.feature_group.FeatureGroup object at 0x7f4b683b8710>\n",
      "<hsfs.feature_group.FeatureGroup object at 0x7f4b683b03d0>\n",
      "<hsfs.feature_group.FeatureGroup object at 0x7f4b683ead50>\n",
      "<hsfs.feature_group.FeatureGroup object at 0x7f4b683f6c50>\n",
      "<hsfs.feature_group.FeatureGroup object at 0x7f4b6837f2d0>\n",
      "<hsfs.feature_group.FeatureGroup object at 0x7f4b683b6690>\n",
      "<hsfs.feature_group.FeatureGroup object at 0x7f4b683b82d0>\n",
      "<hsfs.feature_group.FeatureGroup object at 0x7f4b68427f10>\n",
      "<hsfs.feature_group.FeatureGroup object at 0x7f4b68427650>\n",
      "<hsfs.feature_group.FeatureGroup object at 0x7f4b683add50>\n",
      "<hsfs.feature_group.FeatureGroup object at 0x7f4b688702d0>"
     ]
    }
   ],
   "source": [
    "# iterates over the different alerts and collect the normal transactions in the time interval\n",
    "for row in only_alert_edge_df_grouped.rdd.collect():\n",
    "    min_ts = row['min(tran_timestamp)']\n",
    "    max_ts = row['max(tran_timestamp)']\n",
    "    alert_id = row['alert_id']\n",
    "    \n",
    "    tmp_df = only_normal_edge_df.filter((func.col('tran_timestamp') >= min_ts) & (func.col('tran_timestamp') <= max_ts))              \n",
    "    g = GraphFrame(node_df, tmp_df)\n",
    "    sc.setCheckpointDir(\"hdfs:///Projects/AML/Logs/sc\")\n",
    "    cc = g.connectedComponents()\n",
    "    #cc.save.parquet(\"hdfs:///Projects/AML/Logs/parquet\")\n",
    "    cc_fg_meta = fs.create_feature_group(name=\"connected_components_alert_id_\"+str(alert_id),\n",
    "                                       version=1,\n",
    "                                       primary_key=[\"id\"],\n",
    "                                       description=\"connected components of normal transactions within the \"+str(alert_id) + \" time interval.\",\n",
    "                                       time_travel_format=None,                                        \n",
    "                                       statistics_config=False)\n",
    "    cc_fg_meta.save(cc)"
   ]
  },
  {
   "cell_type": "code",
   "execution_count": 8,
   "metadata": {},
   "outputs": [
    {
     "name": "stderr",
     "output_type": "stream",
     "text": [
      "An error was encountered:\n",
      "'Unable to infer schema for Parquet. It must be specified manually.;'\n",
      "Traceback (most recent call last):\n",
      "  File \"/srv/hops/spark/python/lib/pyspark.zip/pyspark/sql/readwriter.py\", line 316, in parquet\n",
      "    return self._df(self._jreader.parquet(_to_seq(self._spark._sc, paths)))\n",
      "  File \"/srv/hops/spark/python/lib/py4j-0.10.7-src.zip/py4j/java_gateway.py\", line 1257, in __call__\n",
      "    answer, self.gateway_client, self.target_id, self.name)\n",
      "  File \"/srv/hops/spark/python/lib/pyspark.zip/pyspark/sql/utils.py\", line 69, in deco\n",
      "    raise AnalysisException(s.split(': ', 1)[1], stackTrace)\n",
      "pyspark.sql.utils.AnalysisException: 'Unable to infer schema for Parquet. It must be specified manually.;'\n",
      "\n"
     ]
    }
   ],
   "source": [
    "result =  spark.read.parquet(\"hdfs:///Projects/AML/Logs/sc/6e297fee-a4d4-4e0d-96a9-b2bf1dd0ba03\")\n",
    "display(result)"
   ]
  },
  {
   "cell_type": "code",
   "execution_count": null,
   "metadata": {},
   "outputs": [],
   "source": []
  }
 ],
 "metadata": {
  "kernelspec": {
   "display_name": "Python",
   "language": "python",
   "name": "python3"
  },
  "language_info": {
   "codemirror_mode": {
    "name": "ipython",
    "version": 3
   },
   "file_extension": ".py",
   "mimetype": "text/x-python",
   "name": "python",
   "nbconvert_exporter": "python",
   "pygments_lexer": "ipython3",
   "version": "3.7.9"
  }
 },
 "nbformat": 4,
 "nbformat_minor": 4
}
