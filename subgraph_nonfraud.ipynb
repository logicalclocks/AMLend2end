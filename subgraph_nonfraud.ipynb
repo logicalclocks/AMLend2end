{
 "cells": [
  {
   "cell_type": "code",
   "execution_count": 1,
   "metadata": {},
   "outputs": [
    {
     "name": "stdout",
     "output_type": "stream",
     "text": [
      "Starting Spark application\n"
     ]
    },
    {
     "data": {
      "text/html": [
       "<table>\n",
       "<tr><th>ID</th><th>YARN Application ID</th><th>Kind</th><th>State</th><th>Spark UI</th><th>Driver log</th></tr><tr><td>59</td><td>application_1607949680860_0061</td><td>pyspark</td><td>idle</td><td><a target=\"_blank\" href=\"http://resourcemanager.service.consul:8088/proxy/application_1607949680860_0061/\">Link</a></td><td><a target=\"_blank\" href=\"http://hopsworksdavit-worker-1.internal.cloudapp.net:8042/node/containerlogs/container_e02_1607949680860_0061_01_000001/amlsim__meb10179\">Link</a></td></tr></table>"
      ],
      "text/plain": [
       "<IPython.core.display.HTML object>"
      ]
     },
     "metadata": {},
     "output_type": "display_data"
    },
    {
     "name": "stdout",
     "output_type": "stream",
     "text": [
      "SparkSession available as 'spark'.\n",
      "<pyspark.sql.session.SparkSession object at 0x7ff596472fd0>"
     ]
    }
   ],
   "source": [
    "spark"
   ]
  },
  {
   "cell_type": "code",
   "execution_count": 2,
   "metadata": {},
   "outputs": [],
   "source": [
    "import hashlib\n",
    "from datetime import datetime\n",
    "from graphframes import *\n",
    "from pyspark.sql import functions as func\n",
    "from pyspark.sql.types import FloatType\n",
    "import hsfs\n",
    "\n",
    "import os\n",
    "from pyspark.sql import SQLContext"
   ]
  },
  {
   "cell_type": "code",
   "execution_count": 3,
   "metadata": {},
   "outputs": [
    {
     "name": "stdout",
     "output_type": "stream",
     "text": [
      "Connected. Call `.close()` to terminate connection gracefully."
     ]
    }
   ],
   "source": [
    "# Create a connection\n",
    "connection = hsfs.connection()\n",
    "# Get the feature store handle for the project's feature store\n",
    "fs = connection.get_feature_store()"
   ]
  },
  {
   "cell_type": "code",
   "execution_count": 13,
   "metadata": {},
   "outputs": [],
   "source": [
    "edge_fg = fs.get_feature_group('transactions_fg', 1)\n",
    "node_fg = fs.get_feature_group('account_features', 1)"
   ]
  },
  {
   "cell_type": "code",
   "execution_count": 14,
   "metadata": {},
   "outputs": [
    {
     "name": "stdout",
     "output_type": "stream",
     "text": [
      "+-------+---------------+--------------+---------+\n",
      "|acct_id|initial_deposit|tx_behavior_id|prior_sar|\n",
      "+-------+---------------+--------------+---------+\n",
      "|      0|       84442.19|             1|        0|\n",
      "|      1|       75795.44|             1|        0|\n",
      "|      2|       42057.16|             1|        0|\n",
      "|      3|       25891.68|             1|        0|\n",
      "|      4|       51127.47|             1|        0|\n",
      "+-------+---------------+--------------+---------+\n",
      "only showing top 5 rows"
     ]
    }
   ],
   "source": [
    "node_fg.show(5)"
   ]
  },
  {
   "cell_type": "code",
   "execution_count": 15,
   "metadata": {},
   "outputs": [
    {
     "name": "stdout",
     "output_type": "stream",
     "text": [
      "+------+-------+--------------+--------+------+--------+------+-------+\n",
      "|is_sar|tran_id|tran_timestamp|base_amt|target|alert_id|source|tx_type|\n",
      "+------+-------+--------------+--------+------+--------+------+-------+\n",
      "|     0|      1|   1.4832288E9| 9405.71|  3259|      -1|  1767|      4|\n",
      "|     0|      2|   1.4832288E9| 6884.54|  5141|      -1|  7363|      4|\n",
      "|     0|      3|   1.4832288E9|  7968.4|  9532|      -1|  7585|      4|\n",
      "|     0|      4|   1.4832288E9| 9042.67|  8792|      -1|  1750|      4|\n",
      "|     0|      5|   1.4832288E9| 4692.79|  4670|      -1|  9060|      4|\n",
      "+------+-------+--------------+--------+------+--------+------+-------+\n",
      "only showing top 5 rows"
     ]
    }
   ],
   "source": [
    "edge_fg.show(5)"
   ]
  },
  {
   "cell_type": "code",
   "execution_count": 17,
   "metadata": {},
   "outputs": [],
   "source": [
    "only_sar_edge_df = edge_fg.read().filter(func.col('alert_id') != -1)\n",
    "only_normal_edge_df =  edge_fg.read().filter(func.col('alert_id') == -1)"
   ]
  },
  {
   "cell_type": "code",
   "execution_count": 22,
   "metadata": {},
   "outputs": [
    {
     "name": "stdout",
     "output_type": "stream",
     "text": [
      "+------+-------+--------------+--------+------+--------+------+-------+\n",
      "|is_sar|tran_id|tran_timestamp|base_amt|target|alert_id|source|tx_type|\n",
      "+------+-------+--------------+--------+------+--------+------+-------+\n",
      "|     0|      1|   1.4832288E9| 9405.71|  3259|      -1|  1767|      4|\n",
      "|     0|      2|   1.4832288E9| 6884.54|  5141|      -1|  7363|      4|\n",
      "|     0|      3|   1.4832288E9|  7968.4|  9532|      -1|  7585|      4|\n",
      "|     0|      4|   1.4832288E9| 9042.67|  8792|      -1|  1750|      4|\n",
      "|     0|      5|   1.4832288E9| 4692.79|  4670|      -1|  9060|      4|\n",
      "+------+-------+--------------+--------+------+--------+------+-------+\n",
      "only showing top 5 rows"
     ]
    }
   ],
   "source": [
    "only_normal_edge_df.show(5)"
   ]
  },
  {
   "cell_type": "code",
   "execution_count": 23,
   "metadata": {},
   "outputs": [
    {
     "name": "stdout",
     "output_type": "stream",
     "text": [
      "+------+-------+--------------+--------+------+--------+------+-------+\n",
      "|is_sar|tran_id|tran_timestamp|base_amt|target|alert_id|source|tx_type|\n",
      "+------+-------+--------------+--------+------+--------+------+-------+\n",
      "|     1|    439|   1.4832288E9|  194.53|  7950|       0|  8485|      4|\n",
      "|     1| 100277|   1.4892768E9|  194.53|  7950|       0|  2322|      4|\n",
      "|     1|  20677|   1.4844384E9|  194.53|  7950|       0|  3838|      4|\n",
      "|     1| 120778|   1.4904864E9|  194.53|  7950|       0|  3948|      4|\n",
      "|     1| 141265|    1.491696E9|  194.53|  7950|       0|  6419|      4|\n",
      "|     1|  60292|   1.4868576E9|  194.53|  7950|       0|  8913|      4|\n",
      "|     1| 161186|   1.4929056E9|  194.53|  7950|       0|  7133|      4|\n",
      "|     1|  40370|    1.485648E9|  194.53|  7950|       0|  2145|      4|\n",
      "|     1|  80897|   1.4880672E9|  194.53|  7950|       0|  6075|      4|\n",
      "|     1| 105719|    1.489536E9|  189.75|  5470|       1|   511|      4|\n",
      "|     1| 210181|   1.4958432E9|  189.75|  5470|       1|  7236|      4|\n",
      "|     1| 314459|   1.5021504E9|  189.75|  5470|       1|  7538|      4|\n",
      "|     1|    779|   1.4832288E9|  189.75|  5470|       1|  2344|      4|\n",
      "|     1| 418366|   1.5084576E9|  189.75|  5470|       1|  4591|      4|\n",
      "|     1| 522235|   1.5147648E9|  189.75|  5470|       1|  5856|      4|\n",
      "|     1| 626929|    1.521072E9|  189.75|  5470|       1|  6832|      4|\n",
      "|     1|  62281|    1.486944E9|  109.12|  9782|       2|  1586|      4|\n",
      "|     1|   1493|   1.4832288E9|  109.12|  9782|       2|  4380|      4|\n",
      "|     1| 124095|   1.4906592E9|  109.12|  9782|       2|   651|      4|\n",
      "|     1| 185914|   1.4943744E9|  109.12|  9782|       2|  7373|      4|\n",
      "+------+-------+--------------+--------+------+--------+------+-------+\n",
      "only showing top 20 rows"
     ]
    }
   ],
   "source": [
    "only_sar_edge_df.show()"
   ]
  },
  {
   "cell_type": "code",
   "execution_count": 18,
   "metadata": {},
   "outputs": [
    {
     "name": "stdout",
     "output_type": "stream",
     "text": [
      "732"
     ]
    }
   ],
   "source": [
    "only_sar_edge_df.count()"
   ]
  },
  {
   "cell_type": "code",
   "execution_count": 19,
   "metadata": {},
   "outputs": [
    {
     "name": "stdout",
     "output_type": "stream",
     "text": [
      "1028964"
     ]
    }
   ],
   "source": [
    "only_normal_edge_df.count()"
   ]
  },
  {
   "cell_type": "code",
   "execution_count": 25,
   "metadata": {},
   "outputs": [
    {
     "name": "stdout",
     "output_type": "stream",
     "text": [
      "+--------+-------+------------+-----------+\n",
      "|alert_id|tran_id|window_start| window_end|\n",
      "+--------+-------+------------+-----------+\n",
      "|       0|    439| 1.4832288E9|1.4832288E9|\n",
      "|       0|  20677| 1.4844384E9|1.4844384E9|\n",
      "|       0|  40370|  1.485648E9| 1.485648E9|\n",
      "|       0|  60292| 1.4868576E9|1.4868576E9|\n",
      "|       0|  80897| 1.4880672E9|1.4880672E9|\n",
      "+--------+-------+------------+-----------+\n",
      "only showing top 5 rows"
     ]
    }
   ],
   "source": [
    "only_sar_edge_df = only_sar_edge_df.sort('alert_id')\n",
    "only_sar_edge_df_grouped = only_sar_edge_df.groupBy('alert_id','tran_id').agg(func.min(\"tran_timestamp\"),func.max(\"tran_timestamp\")).toDF(\"alert_id\",\"tran_id\", \"window_start\", \"window_end\")\n",
    "only_sar_edge_df_grouped.show(5)"
   ]
  },
  {
   "cell_type": "code",
   "execution_count": 27,
   "metadata": {},
   "outputs": [],
   "source": [
    "only_normal_edge_df_grouped = only_sar_edge_df_grouped.select(\"window_start\", \"window_end\").join(\n",
    "    only_normal_edge_df,\n",
    "    [(only_normal_edge_df.tran_timestamp>=only_sar_edge_df_grouped.window_start)&(only_normal_edge_df.tran_timestamp<=only_sar_edge_df_grouped.window_end)],\n",
    "    how=\"left\"\n",
    ")"
   ]
  },
  {
   "cell_type": "code",
   "execution_count": 28,
   "metadata": {},
   "outputs": [
    {
     "name": "stdout",
     "output_type": "stream",
     "text": [
      "+------------+-----------+------+-------+--------------+--------+------+--------+------+-------+\n",
      "|window_start| window_end|is_sar|tran_id|tran_timestamp|base_amt|target|alert_id|source|tx_type|\n",
      "+------------+-----------+------+-------+--------------+--------+------+--------+------+-------+\n",
      "| 1.4832288E9|1.4832288E9|     0|      1|   1.4832288E9| 9405.71|  3259|      -1|  1767|      4|\n",
      "| 1.4832288E9|1.4832288E9|     0|      2|   1.4832288E9| 6884.54|  5141|      -1|  7363|      4|\n",
      "| 1.4832288E9|1.4832288E9|     0|      3|   1.4832288E9|  7968.4|  9532|      -1|  7585|      4|\n",
      "| 1.4832288E9|1.4832288E9|     0|      4|   1.4832288E9| 9042.67|  8792|      -1|  1750|      4|\n",
      "| 1.4832288E9|1.4832288E9|     0|      5|   1.4832288E9| 4692.79|  4670|      -1|  9060|      4|\n",
      "| 1.4832288E9|1.4832288E9|     0|      6|   1.4832288E9| 4089.65|  3861|      -1|  8752|      4|\n",
      "| 1.4832288E9|1.4832288E9|     0|      7|   1.4832288E9| 3055.04|  3805|      -1|  9645|      4|\n",
      "| 1.4832288E9|1.4832288E9|     0|      8|   1.4832288E9| 6473.45|  9280|      -1|  7150|      4|\n",
      "| 1.4832288E9|1.4832288E9|     0|      9|   1.4832288E9| 2583.42|  6369|      -1|  1685|      4|\n",
      "| 1.4832288E9|1.4832288E9|     0|     10|   1.4832288E9| 6753.04|  8255|      -1|  7846|      4|\n",
      "| 1.4832288E9|1.4832288E9|     0|     11|   1.4832288E9| 1743.57|  5957|      -1|   878|      4|\n",
      "| 1.4832288E9|1.4832288E9|     0|     12|   1.4832288E9| 8591.59|  4091|      -1|   797|      4|\n",
      "| 1.4832288E9|1.4832288E9|     0|     13|   1.4832288E9| 7006.77|  5274|      -1|  8472|      4|\n",
      "| 1.4832288E9|1.4832288E9|     0|     14|   1.4832288E9| 5095.46|  3296|      -1|  5584|      4|\n",
      "| 1.4832288E9|1.4832288E9|     0|     15|   1.4832288E9|  2537.2|  7618|      -1|   616|      4|\n",
      "| 1.4832288E9|1.4832288E9|     0|     16|   1.4832288E9| 3120.27|  7617|      -1|  7312|      4|\n",
      "| 1.4832288E9|1.4832288E9|     0|     17|   1.4832288E9| 5308.95|  9987|      -1|  9886|      4|\n",
      "| 1.4832288E9|1.4832288E9|     0|     18|   1.4832288E9| 6788.85|  3603|      -1|  1132|      4|\n",
      "| 1.4832288E9|1.4832288E9|     0|     19|   1.4832288E9| 5708.25|  3844|      -1|   266|      4|\n",
      "| 1.4832288E9|1.4832288E9|     0|     20|   1.4832288E9| 5020.95|  2811|      -1|  2184|      4|\n",
      "+------------+-----------+------+-------+--------------+--------+------+--------+------+-------+\n",
      "only showing top 20 rows"
     ]
    }
   ],
   "source": [
    "only_normal_edge_df_grouped.show()"
   ]
  },
  {
   "cell_type": "code",
   "execution_count": 29,
   "metadata": {},
   "outputs": [
    {
     "name": "stdout",
     "output_type": "stream",
     "text": [
      "1048084"
     ]
    }
   ],
   "source": [
    "only_normal_edge_df_grouped.count()"
   ]
  },
  {
   "cell_type": "code",
   "execution_count": 7,
   "metadata": {},
   "outputs": [
    {
     "name": "stdout",
     "output_type": "stream",
     "text": [
      "<hsfs.feature_group.FeatureGroup object at 0x7f4b6840cb50>\n",
      "<hsfs.feature_group.FeatureGroup object at 0x7f4b68423090>\n",
      "<hsfs.feature_group.FeatureGroup object at 0x7f4b6884de90>\n",
      "<hsfs.feature_group.FeatureGroup object at 0x7f4b6840c850>\n",
      "<hsfs.feature_group.FeatureGroup object at 0x7f4b683bf150>\n",
      "<hsfs.feature_group.FeatureGroup object at 0x7f4b6840b050>\n",
      "<hsfs.feature_group.FeatureGroup object at 0x7f4b683b8650>\n",
      "<hsfs.feature_group.FeatureGroup object at 0x7f4b68423b50>\n",
      "<hsfs.feature_group.FeatureGroup object at 0x7f4b683eefd0>\n",
      "<hsfs.feature_group.FeatureGroup object at 0x7f4b68870a90>\n",
      "<hsfs.feature_group.FeatureGroup object at 0x7f4b683eac10>\n",
      "<hsfs.feature_group.FeatureGroup object at 0x7f4b688704d0>\n",
      "<hsfs.feature_group.FeatureGroup object at 0x7f4b683eefd0>\n",
      "<hsfs.feature_group.FeatureGroup object at 0x7f4b688702d0>\n",
      "<hsfs.feature_group.FeatureGroup object at 0x7f4b683b6750>\n",
      "<hsfs.feature_group.FeatureGroup object at 0x7f4b683b6550>\n",
      "<hsfs.feature_group.FeatureGroup object at 0x7f4b683b8710>\n",
      "<hsfs.feature_group.FeatureGroup object at 0x7f4b683b03d0>\n",
      "<hsfs.feature_group.FeatureGroup object at 0x7f4b683ead50>\n",
      "<hsfs.feature_group.FeatureGroup object at 0x7f4b683f6c50>\n",
      "<hsfs.feature_group.FeatureGroup object at 0x7f4b6837f2d0>\n",
      "<hsfs.feature_group.FeatureGroup object at 0x7f4b683b6690>\n",
      "<hsfs.feature_group.FeatureGroup object at 0x7f4b683b82d0>\n",
      "<hsfs.feature_group.FeatureGroup object at 0x7f4b68427f10>\n",
      "<hsfs.feature_group.FeatureGroup object at 0x7f4b68427650>\n",
      "<hsfs.feature_group.FeatureGroup object at 0x7f4b683add50>\n",
      "<hsfs.feature_group.FeatureGroup object at 0x7f4b688702d0>"
     ]
    }
   ],
   "source": [
    "# iterates over the different alerts and collect the normal transactions in the time interval\n",
    "for row in only_alert_edge_df_grouped.rdd.collect():\n",
    "    min_ts = row['min(tran_timestamp)']\n",
    "    max_ts = row['max(tran_timestamp)']\n",
    "    alert_id = row['alert_id']\n",
    "    \n",
    "    tmp_df = only_normal_edge_df.filter((func.col('tran_timestamp') >= min_ts) & (func.col('tran_timestamp') <= max_ts))              \n",
    "    g = GraphFrame(node_df, tmp_df)\n",
    "    sc.setCheckpointDir(\"hdfs:///Projects/AML/Logs/sc\")\n",
    "    cc = g.connectedComponents()\n",
    "    #cc.save.parquet(\"hdfs:///Projects/AML/Logs/parquet\")\n",
    "    cc_fg_meta = fs.create_feature_group(name=\"connected_components_alert_id_\"+str(alert_id),\n",
    "                                       version=1,\n",
    "                                       primary_key=[\"id\"],\n",
    "                                       description=\"connected components of normal transactions within the \"+str(alert_id) + \" time interval.\",\n",
    "                                       time_travel_format=None,                                        \n",
    "                                       statistics_config=False)\n",
    "    cc_fg_meta.save(cc)"
   ]
  },
  {
   "cell_type": "code",
   "execution_count": 8,
   "metadata": {},
   "outputs": [
    {
     "name": "stderr",
     "output_type": "stream",
     "text": [
      "An error was encountered:\n",
      "'Unable to infer schema for Parquet. It must be specified manually.;'\n",
      "Traceback (most recent call last):\n",
      "  File \"/srv/hops/spark/python/lib/pyspark.zip/pyspark/sql/readwriter.py\", line 316, in parquet\n",
      "    return self._df(self._jreader.parquet(_to_seq(self._spark._sc, paths)))\n",
      "  File \"/srv/hops/spark/python/lib/py4j-0.10.7-src.zip/py4j/java_gateway.py\", line 1257, in __call__\n",
      "    answer, self.gateway_client, self.target_id, self.name)\n",
      "  File \"/srv/hops/spark/python/lib/pyspark.zip/pyspark/sql/utils.py\", line 69, in deco\n",
      "    raise AnalysisException(s.split(': ', 1)[1], stackTrace)\n",
      "pyspark.sql.utils.AnalysisException: 'Unable to infer schema for Parquet. It must be specified manually.;'\n",
      "\n"
     ]
    }
   ],
   "source": [
    "result =  spark.read.parquet(\"hdfs:///Projects/AML/Logs/sc/6e297fee-a4d4-4e0d-96a9-b2bf1dd0ba03\")\n",
    "display(result)"
   ]
  },
  {
   "cell_type": "code",
   "execution_count": null,
   "metadata": {},
   "outputs": [],
   "source": []
  }
 ],
 "metadata": {
  "kernelspec": {
   "display_name": "PySpark",
   "language": "python",
   "name": "pysparkkernel"
  },
  "language_info": {
   "codemirror_mode": {
    "name": "python",
    "version": 3
   },
   "mimetype": "text/x-python",
   "name": "pyspark",
   "pygments_lexer": "python3"
  }
 },
 "nbformat": 4,
 "nbformat_minor": 4
}
