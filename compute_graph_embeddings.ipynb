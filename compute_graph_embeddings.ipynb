{
 "cells": [
  {
   "cell_type": "code",
   "execution_count": 1,
   "metadata": {},
   "outputs": [
    {
     "name": "stdout",
     "output_type": "stream",
     "text": [
      "Starting Spark application\n"
     ]
    },
    {
     "data": {
      "text/html": [
       "<table>\n",
       "<tr><th>ID</th><th>YARN Application ID</th><th>Kind</th><th>State</th><th>Spark UI</th><th>Driver log</th></tr><tr><td>37</td><td>application_1606998977104_0004</td><td>pyspark</td><td>idle</td><td><a target=\"_blank\" href=\"http://resourcemanager.service.consul:8088/proxy/application_1606998977104_0004/\">Link</a></td><td><a target=\"_blank\" href=\"http://ip-10-0-0-88.us-west-2.compute.internal:8042/node/containerlogs/container_e04_1606998977104_0004_01_000001/amlsim__meb10179\">Link</a></td></tr></table>"
      ],
      "text/plain": [
       "<IPython.core.display.HTML object>"
      ]
     },
     "metadata": {},
     "output_type": "display_data"
    },
    {
     "name": "stdout",
     "output_type": "stream",
     "text": [
      "SparkSession available as 'spark'.\n",
      "<pyspark.sql.session.SparkSession object at 0x7f0a34d1d850>"
     ]
    }
   ],
   "source": [
    "spark"
   ]
  },
  {
   "cell_type": "code",
   "execution_count": 2,
   "metadata": {},
   "outputs": [],
   "source": [
    "import hsfs"
   ]
  },
  {
   "cell_type": "code",
   "execution_count": 3,
   "metadata": {},
   "outputs": [
    {
     "name": "stdout",
     "output_type": "stream",
     "text": [
      "Connected. Call `.close()` to terminate connection gracefully."
     ]
    }
   ],
   "source": [
    "# Create a connection\n",
    "connection = hsfs.connection()\n",
    "# Get the feature store handle for the project's feature store\n",
    "fs = connection.get_feature_store()"
   ]
  },
  {
   "cell_type": "code",
   "execution_count": 4,
   "metadata": {},
   "outputs": [],
   "source": [
    "node_fg = fs.get_feature_group(\"node_features\", 1)\n",
    "edge_fg = fs.get_feature_group(\"edge_features\", 1)"
   ]
  },
  {
   "cell_type": "code",
   "execution_count": 5,
   "metadata": {},
   "outputs": [],
   "source": [
    "source = edge_fg.select([\"source\",\"is_sar\"]).read().withColumnRenamed(\"source\",\"id\")\n",
    "target = edge_fg.select([\"target\",\"is_sar\"]).read().withColumnRenamed(\"target\",\"id\")\n",
    "nodes = source.union(target)\n",
    "ano_nodes = nodes.where(nodes.is_sar == 1)\n",
    "ben = nodes.where(nodes.is_sar == 0)\n",
    "ben_nodes = ben.join(ano_nodes, [\"id\"], \"leftanti\")\n",
    "labels = ano_nodes.union(ben_nodes).dropDuplicates(subset=[\"id\"])\n",
    "labels.coalesce(1)\\\n",
    "      .write\\\n",
    "      .option(\"header\",\"true\")\\\n",
    "      .option(\"sep\",\",\")\\\n",
    "      .mode(\"overwrite\")\\\n",
    "      .csv(\"hdfs:///Projects/amlsim/Resources/node_labels_for_plotting.csv\")"
   ]
  },
  {
   "cell_type": "code",
   "execution_count": 6,
   "metadata": {},
   "outputs": [],
   "source": [
    "# Get fg as pandas\n",
    "node_pdf = node_fg.read().toPandas()\n",
    "edge_pdf = edge_fg.read().toPandas()"
   ]
  },
  {
   "cell_type": "code",
   "execution_count": 7,
   "metadata": {},
   "outputs": [],
   "source": [
    "def embeddings_computer(walk_number, walk_length, emb_size):\n",
    "    \n",
    "    import os\n",
    "    import sys\n",
    "    import uuid\n",
    "    import random    \n",
    "    \n",
    "    import pandas as pd\n",
    "    import numpy as np\n",
    "\n",
    "    import pydoop.hdfs as pydoop\n",
    "\n",
    "    import matplotlib.pyplot as plt\n",
    "\n",
    "    from hops import hdfs\n",
    "    from hops import pandas_helper as pandas\n",
    "    from hops import model as hops_model\n",
    "    from hops import tensorboard\n",
    "    \n",
    "    from sklearn.preprocessing import StandardScaler\n",
    "    from sklearn import preprocessing, feature_extraction, model_selection\n",
    "    from sklearn.linear_model import LogisticRegressionCV, LogisticRegression\n",
    "    from sklearn.metrics import accuracy_score\n",
    "    from sklearn.model_selection import train_test_split\n",
    "    from sklearn.manifold import TSNE\n",
    "\n",
    "    import stellargraph as sg\n",
    "    from stellargraph import StellarGraph\n",
    "    from stellargraph import StellarDiGraph\n",
    "    from stellargraph.data import BiasedRandomWalk\n",
    "    from stellargraph.data import UnsupervisedSampler\n",
    "    from stellargraph.data import BiasedRandomWalk\n",
    "    from stellargraph.mapper import Node2VecLinkGenerator, Node2VecNodeGenerator\n",
    "    from stellargraph.layer import Node2Vec, link_classification\n",
    "\n",
    "    import tensorflow as tf\n",
    "    from tensorflow import keras  \n",
    "    \n",
    "    \n",
    "    def _tsne_plot(node_embeddings, labels_file, walk_number, walk_length, emb_size):\n",
    "        transform = TSNE  # PCA\n",
    "        trans = transform(n_components=2, random_state=123)        \n",
    "        #trans = transform(n_components=2, verbose=1, perplexity=40, n_iter=1500)\n",
    "        \n",
    "        node_embeddings_2d = trans.fit_transform(node_embeddings)\n",
    "\n",
    "        labels = pd.read_csv(pydoop.path.abspath(hdfs.get_plain_path([path for path in hdfs.ls(labels_file) if path.endswith(\"csv\")][0])))\n",
    "\n",
    "        # draw the embedding points, coloring them by the target label (paper subject)\n",
    "        alpha = 0.7\n",
    "        label_map = pd.Series(labels.is_sar.values,index=labels.id).to_dict()\n",
    "\n",
    "        node_colours = []\n",
    "        for target in node_embeddings.index.values:\n",
    "            if target in label_map:\n",
    "                node_colours.append(label_map[target])\n",
    "            else:\n",
    "                node_colours.append(0)\n",
    "\n",
    "        plt.figure(figsize=(7, 7))\n",
    "        plt.axes().set(aspect=\"equal\")\n",
    "        plt.scatter(\n",
    "            node_embeddings_2d[:, 0],\n",
    "            node_embeddings_2d[:, 1],\n",
    "            c=node_colours,\n",
    "            cmap=\"jet\",\n",
    "            alpha=alpha,\n",
    "        )\n",
    "        plt.title(\"{} visualization of node embeddings\".format(transform.__name__))\n",
    "        tsne_file = 'embeddings_features_%d_%d_%d.tsne.pdf' % (walk_number, walk_length, emb_size)\n",
    "        plt.savefig(tsne_file)\n",
    "        plt.close()\n",
    "\n",
    "        hdfs.copy_to_hdfs(tsne_file, \"Resources\", overwrite=True, project=\"amlsim\")\n",
    "    \n",
    "    ###########\n",
    "    batch_size = 32\n",
    "    epochs = 10\n",
    "    num_samples = [20, 20]\n",
    "    layer_sizes = [100, 100]\n",
    "    learning_rate = 1e-2\n",
    "\n",
    "    node_data = pd.DataFrame(node_pdf[['tx_behavior_id','prior_sar','initial_deposit','gender','age']], index=node_pdf['acct_id'])\n",
    "    ###########\n",
    "        \n",
    "    print('Defining StellarDiGraph')\n",
    "    G =StellarDiGraph(node_data,\n",
    "                      edges=edge_pdf, \n",
    "                      edge_type_column=\"tx_type\")\n",
    "\n",
    "\n",
    "    nodes = list(G.nodes())\n",
    "\n",
    "    #walker = BiasedRandomWalk(\n",
    "    #    G,\n",
    "    #    n=walk_number,\n",
    "    #    length=walk_length,\n",
    "    #    p=0.5,  # defines probability, 1/p, of returning to source node\n",
    "    #    q=2.0,  # defines probability, 1/q, for moving to a node away from the source node\n",
    "    #)\n",
    "    #unsupervised_samples = UnsupervisedSampler(G, nodes=list(G.nodes()), walker=walker)\n",
    "    #generator = Node2VecLinkGenerator(G, batch_size)\n",
    "    #node2vec = Node2Vec(emb_size, generator=generator)\n",
    "    \n",
    "    #x_inp, x_out = node2vec.in_out_tensors()\n",
    "    #prediction = link_classification(\n",
    "    #    output_dim=1, output_act=\"sigmoid\", edge_embedding_method=\"dot\"\n",
    "    #)(x_out)\n",
    "    \n",
    "    #walk_number, walk_length, emb_size\n",
    "    # parameter specification\n",
    "\n",
    "    unsupervisedSamples = UnsupervisedSampler(\n",
    "        Gs, nodes=G.nodes(), length=length, number_of_walks=walk_number\n",
    "    )\n",
    "    generator = GraphSAGELinkGenerator(Gs, batch_size, num_samples)\n",
    "    train_gen = generator.flow(unsupervisedSamples)\n",
    "    graphsage = GraphSAGE(\n",
    "        layer_sizes=layer_sizes, generator=generator, bias=True, dropout=0.0, normalize=\"l2\"\n",
    "    )\n",
    "    x_inp, x_out = graphsage.in_out_tensors()\n",
    "\n",
    "    prediction = link_classification(\n",
    "        output_dim=1, output_act=\"sigmoid\", edge_embedding_method=\"ip\"\n",
    "    )(x_out)\n",
    "\n",
    "\n",
    "    print('Defining the model')\n",
    "    model = keras.Model(inputs=x_inp, outputs=prediction)\n",
    "\n",
    "    model.compile(\n",
    "        optimizer=keras.optimizers.Adam(lr=1e-3),\n",
    "        loss=keras.losses.binary_crossentropy,\n",
    "        metrics=[keras.metrics.binary_accuracy],\n",
    "    )\n",
    "    \n",
    "    \n",
    "    # Create a callback that saves the model's weights every 5 epochs\n",
    "    cp_callback = keras.callbacks.ModelCheckpoint(\n",
    "        filepath=tensorboard.logdir(), \n",
    "        verbose=1, \n",
    "        save_weights_only=True,\n",
    "        save_freq=5*batch_size)\n",
    "    \n",
    "    # Save the weights using the `checkpoint_path` format\n",
    "    model.save_weights(tensorboard.logdir())\n",
    "    \n",
    "    print('Training the model')\n",
    "    history = model.fit(\n",
    "        generator.flow(unsupervised_samples),\n",
    "        epochs=epochs,\n",
    "        verbose=0,\n",
    "        use_multiprocessing=False,\n",
    "        workers=4,\n",
    "        shuffle=True,\n",
    "        callbacks=[cp_callback],\n",
    "    )\n",
    "    \n",
    "\n",
    "    # Extracting node embeddings\n",
    "    #x_inp_src = x_inp[0]\n",
    "    #x_out_src = x_out[0]\n",
    "    #embedding_model = keras.Model(inputs=x_inp_src, outputs=x_out_src)\n",
    "    embedding_model = keras.Model(inputs=x_inp[::2], outputs=x_out[0])\n",
    "    #embedding_model.load_weights(tensorboard.logdir())\n",
    "    \n",
    "    #node_gen = Node2VecNodeGenerator(G, batch_size).flow(nodes)\n",
    "    node_gen = GraphSAGENodeGenerator(Gs, batch_size, num_samples).flow(nodes)    \n",
    "    node_embeddings = embedding_model.predict(node_gen, workers=4, verbose=1)\n",
    "    \n",
    "    embeddings_features = pd.DataFrame(node_embeddings, index=nodes)\n",
    "    embb_file = 'embeddings_features_%d_%d_%d.csv' % (walk_number, walk_length, emb_size)\n",
    "    ## bellow code works if run with experiments\n",
    "    embeddings_features.to_csv(embb_file, index=True)\n",
    "    hdfs.copy_to_hdfs(embb_file, \"Resources\", overwrite=True)\n",
    "    labels_file = \"hdfs:///Projects/amlsim/Resources/node_labels_for_plotting.csv\"\n",
    "    _tsne_plot(embeddings_features, labels_file, walk_number, walk_length, emb_size)\n",
    "    \n",
    "    binary_accuracy = history.history['binary_accuracy'][-1]\n",
    "    metrics={'accuracy': binary_accuracy} \n",
    "    \n",
    "    # save to the model registry\n",
    "    export_path = os.getcwd() + '/model-' + str(uuid.uuid4())\n",
    "    print('Exporting trained model to: {}'.format(export_path))\n",
    "    tf.saved_model.save(model, export_path)\n",
    "    print('Done exporting!')\n",
    "        \n",
    "    hops_model.export(export_path, 'graph_embeddings', metrics=metrics)\n",
    "    \n",
    "    return metrics    "
   ]
  },
  {
   "cell_type": "code",
   "execution_count": null,
   "metadata": {},
   "outputs": [],
   "source": []
  },
  {
   "cell_type": "code",
   "execution_count": null,
   "metadata": {},
   "outputs": [],
   "source": [
    "from hops import hdfs\n",
    "import json\n",
    "#best_hyperparams_path = \"Resources/embeddings_best_hp.json\"\n",
    "#best_hyperparams = json.loads(hdfs.load(best_hyperparams_path))\n",
    "#args_dict = {}\n",
    "#for key in best_hyperparams.keys():\n",
    "#    args_dict[key] = [best_hyperparams[key]]\n",
    "    \n",
    "from hops import experiment\n",
    "from hops import hdfs\n",
    "\n",
    "args_dict = {'walk_number':[60,80],'walk_length':[3,4],'emb_size':[64,128]}\n",
    "\n",
    "\n",
    "experiment.launch(embeddings_computer, args_dict, name='graph_embeddings_compute', metric_key='accuracy', local_logdir=True)"
   ]
  },
  {
   "cell_type": "code",
   "execution_count": null,
   "metadata": {},
   "outputs": [],
   "source": []
  }
 ],
 "metadata": {
  "kernelspec": {
   "display_name": "PySpark",
   "language": "python",
   "name": "pysparkkernel"
  },
  "language_info": {
   "codemirror_mode": {
    "name": "python",
    "version": 3
   },
   "mimetype": "text/x-python",
   "name": "pyspark",
   "pygments_lexer": "python3"
  }
 },
 "nbformat": 4,
 "nbformat_minor": 4
}
