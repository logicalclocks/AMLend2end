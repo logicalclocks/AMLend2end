{
 "cells": [
  {
   "cell_type": "markdown",
   "metadata": {},
   "source": [
    "## PaySim Dataset\n",
    "\n",
    "##### <b>step</b> - integer - maps a unit of time in the real world. In this case 1 step is 1 hour of time. Total steps 744 (30 days simulation).\n",
    "\n",
    "##### <b>type</b> - string/categorical - type of transaction: CASH_IN, CASH_OUT, DEBIT, PAYMENT and TRANSFER.\n",
    "\n",
    "##### <b>amount</b> - float - amount of the transaction in local currency.\n",
    "\n",
    "##### <b>nameOrig</b> - string - customer who initiated the transaction\n",
    "\n",
    "##### <b>oldbalanceOrg</b> - float initial balance before the transaction\n",
    "\n",
    "##### <b>newbalanceOrig</b> - float - new balance after the transaction\n",
    "\n",
    "##### <b>nameDest</b> - string - customer who is the recipient of the transaction\n",
    "\n",
    "##### <b>oldbalanceDest</b> - float - initial balance of recipient before the transaction.\n",
    "\n",
    "##### <b>newbalanceDest</b> - float - new balance of recipient after the transaction.\n",
    "\n",
    "##### <b>fraud</b> - boolean/binary - determines if transaction is fraudulent"
   ]
  },
  {
   "cell_type": "code",
   "execution_count": 1,
   "metadata": {},
   "outputs": [
    {
     "name": "stdout",
     "output_type": "stream",
     "text": [
      "Starting Spark application\n"
     ]
    },
    {
     "data": {
      "text/html": [
       "<table>\n",
       "<tr><th>ID</th><th>YARN Application ID</th><th>Kind</th><th>State</th><th>Spark UI</th><th>Driver log</th></tr><tr><td>4</td><td>application_1606928535611_0005</td><td>pyspark</td><td>idle</td><td><a target=\"_blank\" href=\"http://resourcemanager.service.consul:8088/proxy/application_1606928535611_0005/\">Link</a></td><td><a target=\"_blank\" href=\"http://ip-10-0-0-88.us-west-2.compute.internal:8042/node/containerlogs/container_e02_1606928535611_0005_01_000001/amlsim__meb10179\">Link</a></td></tr></table>"
      ],
      "text/plain": [
       "<IPython.core.display.HTML object>"
      ]
     },
     "metadata": {},
     "output_type": "display_data"
    },
    {
     "name": "stdout",
     "output_type": "stream",
     "text": [
      "SparkSession available as 'spark'.\n",
      "<pyspark.sql.session.SparkSession object at 0x7fb5c5cdead0>"
     ]
    }
   ],
   "source": [
    "spark"
   ]
  },
  {
   "cell_type": "code",
   "execution_count": 2,
   "metadata": {},
   "outputs": [],
   "source": [
    "import hashlib\n",
    "from datetime import datetime\n",
    "from graphframes import *\n",
    "from pyspark.sql import functions as func\n",
    "from pyspark.sql.types import FloatType\n",
    "import hsfs"
   ]
  },
  {
   "cell_type": "code",
   "execution_count": 3,
   "metadata": {},
   "outputs": [],
   "source": [
    "def hashnode(x):\n",
    "    return hashlib.sha1(x.encode(\"UTF-8\")).hexdigest()[:8]\n",
    "\n",
    "def extract_node_type(x):\n",
    "    if (x.startswith(\"C\")):\n",
    "        node_type = 0\n",
    "    elif (x.startswith(\"B\")):\n",
    "        node_type = 1\n",
    "    elif (x.startswith(\"M\")):\n",
    "        node_type = 2\n",
    "    else:\n",
    "        node_type = 99\n",
    "    return node_type\n",
    "\n",
    "def extract_fraudster(x):\n",
    "    if (x.startswith(\"CF\")):\n",
    "        fraudster = 1\n",
    "    else:\n",
    "        fraudster = 0\n",
    "    return fraudster\n",
    "\n",
    "def action_2_code(x):\n",
    "    if (x == \"CASH_IN\"):\n",
    "        node_type = 0\n",
    "    elif (x == \"CASH_OUT\"):\n",
    "        node_type = 1\n",
    "    elif (x == \"DEBIT\"):\n",
    "        node_type = 2\n",
    "    elif (x == \"PAYMENT\"):\n",
    "        node_type = 3\n",
    "    elif (x == \"TRANSFER\"):\n",
    "        node_type = 4\n",
    "    elif (x == \"DEPOSIT\"):\n",
    "        node_type = 4        \n",
    "    else:\n",
    "        node_type = 99\n",
    "    return node_type\n",
    "\n",
    "def gender_2_code(x):\n",
    "    if x == 'W':\n",
    "        gender =  0\n",
    "    elif x == 'M':\n",
    "        gender = 1\n",
    "    else: \n",
    "        gender = 99\n",
    "    return gender\n",
    "\n",
    "def timestamp_2_time(x):\n",
    "    dt_obj = datetime.strptime(str(x), '%Y-%m-%d %H:%M:%S')\n",
    "    return dt_obj.timestamp()\n",
    "\n",
    "hashnode_udf = func.udf(hashnode)\n",
    "extract_fraudster_udf = func.udf(extract_fraudster)\n",
    "node_type_udf = func.udf(extract_node_type)\n",
    "action_2_code_udf = func.udf(action_2_code)\n",
    "gender_2_code_udf = func.udf(gender_2_code)\n",
    "timestamp_2_time_udf = func.udf(timestamp_2_time)"
   ]
  },
  {
   "cell_type": "code",
   "execution_count": 4,
   "metadata": {},
   "outputs": [
    {
     "name": "stdout",
     "output_type": "stream",
     "text": [
      "Connected. Call `.close()` to terminate connection gracefully."
     ]
    }
   ],
   "source": [
    "# Create a connection\n",
    "connection = hsfs.connection()\n",
    "# Get the feature store handle for the project's feature store\n",
    "fs = connection.get_feature_store()"
   ]
  },
  {
   "cell_type": "code",
   "execution_count": 5,
   "metadata": {},
   "outputs": [],
   "source": [
    "transactions_fg = fs.get_feature_group(\"aml_10k_transactions_fg\", 1)"
   ]
  },
  {
   "cell_type": "code",
   "execution_count": 6,
   "metadata": {},
   "outputs": [
    {
     "name": "stdout",
     "output_type": "stream",
     "text": [
      "+------+-------+---------+--------+---------+--------+-------------------+--------+\n",
      "|is_sar|tran_id|orig_acct| tx_type|bene_acct|base_amt|     tran_timestamp|alert_id|\n",
      "+------+-------+---------+--------+---------+--------+-------------------+--------+\n",
      "| false|      1|     1767|TRANSFER|     3259| 9405.71|2017-01-01 00:00:00|      -1|\n",
      "| false|      2|     7363|TRANSFER|     5141| 6884.54|2017-01-01 00:00:00|      -1|\n",
      "| false|      3|     7585|TRANSFER|     9532|  7968.4|2017-01-01 00:00:00|      -1|\n",
      "| false|      4|     1750|TRANSFER|     8792| 9042.67|2017-01-01 00:00:00|      -1|\n",
      "| false|      5|     9060|TRANSFER|     4670| 4692.79|2017-01-01 00:00:00|      -1|\n",
      "+------+-------+---------+--------+---------+--------+-------------------+--------+\n",
      "only showing top 5 rows"
     ]
    }
   ],
   "source": [
    "transactions_fg.show(5)"
   ]
  },
  {
   "cell_type": "code",
   "execution_count": null,
   "metadata": {},
   "outputs": [],
   "source": []
  },
  {
   "cell_type": "code",
   "execution_count": 7,
   "metadata": {},
   "outputs": [
    {
     "name": "stdout",
     "output_type": "stream",
     "text": [
      "+------+------+--------------+------+--------+-------+-------+--------+\n",
      "|source|target|tran_timestamp|is_sar|alert_id|tran_id|tx_type|base_amt|\n",
      "+------+------+--------------+------+--------+-------+-------+--------+\n",
      "|  1767|  3259|   1.4832288E9|     0|      -1|      1|      4| 9405.71|\n",
      "|  7363|  5141|   1.4832288E9|     0|      -1|      2|      4| 6884.54|\n",
      "|  7585|  9532|   1.4832288E9|     0|      -1|      3|      4|  7968.4|\n",
      "|  1750|  8792|   1.4832288E9|     0|      -1|      4|      4| 9042.67|\n",
      "|  9060|  4670|   1.4832288E9|     0|      -1|      5|      4| 4692.79|\n",
      "|  8752|  3861|   1.4832288E9|     0|      -1|      6|      4| 4089.65|\n",
      "|  9645|  3805|   1.4832288E9|     0|      -1|      7|      4| 3055.04|\n",
      "|  7150|  9280|   1.4832288E9|     0|      -1|      8|      4| 6473.45|\n",
      "|  1685|  6369|   1.4832288E9|     0|      -1|      9|      4| 2583.42|\n",
      "|  7846|  8255|   1.4832288E9|     0|      -1|     10|      4| 6753.04|\n",
      "|   878|  5957|   1.4832288E9|     0|      -1|     11|      4| 1743.57|\n",
      "|   797|  4091|   1.4832288E9|     0|      -1|     12|      4| 8591.59|\n",
      "|  8472|  5274|   1.4832288E9|     0|      -1|     13|      4| 7006.77|\n",
      "|  5584|  3296|   1.4832288E9|     0|      -1|     14|      4| 5095.46|\n",
      "|   616|  7618|   1.4832288E9|     0|      -1|     15|      4|  2537.2|\n",
      "|  7312|  7617|   1.4832288E9|     0|      -1|     16|      4| 3120.27|\n",
      "|  9886|  9987|   1.4832288E9|     0|      -1|     17|      4| 5308.95|\n",
      "|  1132|  3603|   1.4832288E9|     0|      -1|     18|      4| 6788.85|\n",
      "|   266|  3844|   1.4832288E9|     0|      -1|     19|      4| 5708.25|\n",
      "|  2184|  2811|   1.4832288E9|     0|      -1|     20|      4| 5020.95|\n",
      "+------+------+--------------+------+--------+-------+-------+--------+\n",
      "only showing top 20 rows\n",
      "\n",
      "root\n",
      " |-- source: integer (nullable = true)\n",
      " |-- target: integer (nullable = true)\n",
      " |-- tran_timestamp: float (nullable = true)\n",
      " |-- is_sar: integer (nullable = false)\n",
      " |-- alert_id: integer (nullable = true)\n",
      " |-- tran_id: integer (nullable = true)\n",
      " |-- tx_type: string (nullable = true)\n",
      " |-- base_amt: double (nullable = true)"
     ]
    }
   ],
   "source": [
    "transactions_df = transactions_fg.read()\n",
    "transactions_df = transactions_df.withColumn('is_sar',func.when(func.col('is_sar') == 'true', 1).otherwise(0))\\\n",
    "                                 .withColumn('tx_type', action_2_code_udf(func.col('tx_type')))\\\n",
    "                                 .withColumn('tran_timestamp', timestamp_2_time_udf(func.col('tran_timestamp')).cast(FloatType()))\\\n",
    "                                 .withColumnRenamed(\"orig_acct\",\"source\")\\\n",
    "                                 .withColumnRenamed(\"bene_acct\",\"target\")\\\n",
    "                                 .select(\"source\",\"target\",\"tran_timestamp\",\"is_sar\",\"alert_id\",\"tran_id\",\"tx_type\",\"base_amt\")\n",
    "transactions_df.show()\n",
    "transactions_df.printSchema()"
   ]
  },
  {
   "cell_type": "code",
   "execution_count": 8,
   "metadata": {},
   "outputs": [
    {
     "name": "stdout",
     "output_type": "stream",
     "text": [
      "+--------+---------+-------------------+--------------+------+---------+-------------------+-------+---+-------+---------------+-------+----+----------------+---------------+\n",
      "|dsply_nm|acct_stat|            open_dt|tx_behavior_id|gender|branch_id|           close_dt|country|age|acct_id|initial_deposit|bank_id|type|acct_rptng_crncy|prior_sar_count|\n",
      "+--------+---------+-------------------+--------------+------+---------+-------------------+-------+---+-------+---------------+-------+----+----------------+---------------+\n",
      "|     C_0|        A|2017-01-01 00:00:00|             1|     W|        1|4754-11-29 00:00:00|     US| 60|      0|       84442.19|   bank| SAV|             USD|          false|\n",
      "|     C_1|        A|2017-01-01 00:00:00|             1|     M|        1|4754-11-29 00:00:00|     US| 91|      1|       75795.44|   bank| SAV|             USD|          false|\n",
      "|     C_2|        A|2017-01-01 00:00:00|             1|     M|        1|4754-11-29 00:00:00|     US| 86|      2|       42057.16|   bank| SAV|             USD|          false|\n",
      "|     C_3|        A|2017-01-01 00:00:00|             1|     W|        1|4754-11-29 00:00:00|     US| 72|      3|       25891.68|   bank| SAV|             USD|          false|\n",
      "|     C_4|        A|2017-01-01 00:00:00|             1|     W|        1|4754-11-29 00:00:00|     US| 81|      4|       51127.47|   bank| SAV|             USD|          false|\n",
      "+--------+---------+-------------------+--------------+------+---------+-------------------+-------+---+-------+---------------+-------+----+----------------+---------------+\n",
      "only showing top 5 rows"
     ]
    }
   ],
   "source": [
    "accounts_fg = fs.get_feature_group(\"aml_10k_accounts_fg\", 1)\n",
    "accounts_fg.show(5)"
   ]
  },
  {
   "cell_type": "code",
   "execution_count": 9,
   "metadata": {},
   "outputs": [
    {
     "name": "stdout",
     "output_type": "stream",
     "text": [
      "+--------------+------+---+-------+---------------+---------+\n",
      "|tx_behavior_id|gender|age|acct_id|initial_deposit|prior_sar|\n",
      "+--------------+------+---+-------+---------------+---------+\n",
      "|             1|     0| 60|      0|       84442.19|        0|\n",
      "|             1|     1| 91|      1|       75795.44|        0|\n",
      "|             1|     1| 86|      2|       42057.16|        0|\n",
      "|             1|     0| 72|      3|       25891.68|        0|\n",
      "|             1|     0| 81|      4|       51127.47|        0|\n",
      "+--------------+------+---+-------+---------------+---------+\n",
      "only showing top 5 rows\n",
      "\n",
      "root\n",
      " |-- tx_behavior_id: integer (nullable = true)\n",
      " |-- gender: string (nullable = true)\n",
      " |-- age: integer (nullable = true)\n",
      " |-- acct_id: integer (nullable = true)\n",
      " |-- initial_deposit: double (nullable = true)\n",
      " |-- prior_sar: integer (nullable = false)"
     ]
    }
   ],
   "source": [
    "accounts_df = accounts_fg.read()\n",
    "accounts_df = accounts_df.withColumn('prior_sar',func.when(func.col('prior_sar_count') == 'true', 1).otherwise(0))\\\n",
    "                         .withColumn('gender', gender_2_code_udf(func.col('gender')))\\\n",
    "                         .drop(\"prior_sar_count\",\"acct_rptng_crncy\",\"type\",\"acct_stat\",\"open_dt\",\"bank_id\",\"country\",\"close_dt\",\"dsply_nm\",\"branch_id\")\n",
    "        \n",
    "\n",
    "accounts_df.show(5)\n",
    "accounts_df.printSchema()"
   ]
  },
  {
   "cell_type": "code",
   "execution_count": null,
   "metadata": {},
   "outputs": [],
   "source": []
  },
  {
   "cell_type": "code",
   "execution_count": 10,
   "metadata": {},
   "outputs": [
    {
     "name": "stdout",
     "output_type": "stream",
     "text": [
      "<hsfs.feature_group.FeatureGroup object at 0x7fb5d10bb290>"
     ]
    }
   ],
   "source": [
    "edge_fg_meta = fs.create_feature_group(name=\"edge_features\",\n",
    "                                       version=1,\n",
    "                                       primary_key=[\"tran_id\"],\n",
    "                                       description=\"edge features\",\n",
    "                                       time_travel_format=None,                                        \n",
    "                                       statistics_config=False)\n",
    "edge_fg_meta.save(transactions_df)"
   ]
  },
  {
   "cell_type": "code",
   "execution_count": 11,
   "metadata": {},
   "outputs": [
    {
     "name": "stdout",
     "output_type": "stream",
     "text": [
      "<hsfs.feature_group.FeatureGroup object at 0x7fb5d1092610>"
     ]
    }
   ],
   "source": [
    "node_fg_meta = fs.create_feature_group(name=\"node_features\",\n",
    "                                              version=1,\n",
    "                                              primary_key=[\"acct_id\"],\n",
    "                                              description=\"node features\",\n",
    "                                              time_travel_format=None,                                        \n",
    "                                              statistics_config=False)\n",
    "node_fg_meta.save(accounts_df)"
   ]
  },
  {
   "cell_type": "code",
   "execution_count": 12,
   "metadata": {},
   "outputs": [
    {
     "name": "stdout",
     "output_type": "stream",
     "text": [
      "<hsfs.training_dataset.TrainingDataset object at 0x7fb5d10a5510>"
     ]
    }
   ],
   "source": [
    "edge_td_meta = fs.create_training_dataset(name=\"edge_td\",\n",
    "                                       version=1,\n",
    "                                       data_format=\"csv\",   \n",
    "                                       description=\"edge td\")\n",
    "edge_td_meta.save(transactions_df)"
   ]
  },
  {
   "cell_type": "code",
   "execution_count": 13,
   "metadata": {},
   "outputs": [
    {
     "name": "stdout",
     "output_type": "stream",
     "text": [
      "<hsfs.training_dataset.TrainingDataset object at 0x7fb5d1092410>"
     ]
    }
   ],
   "source": [
    "node_td_meta = fs.create_training_dataset(name=\"node_td\",\n",
    "                                       version=1,\n",
    "                                       data_format=\"csv\",   \n",
    "                                       description=\"edge td\")\n",
    "node_td_meta.save(accounts_df)"
   ]
  },
  {
   "cell_type": "code",
   "execution_count": null,
   "metadata": {},
   "outputs": [],
   "source": []
  }
 ],
 "metadata": {
  "kernelspec": {
   "display_name": "PySpark",
   "language": "python",
   "name": "pysparkkernel"
  },
  "language_info": {
   "codemirror_mode": {
    "name": "python",
    "version": 3
   },
   "mimetype": "text/x-python",
   "name": "pyspark",
   "pygments_lexer": "python3"
  }
 },
 "nbformat": 4,
 "nbformat_minor": 4
}
