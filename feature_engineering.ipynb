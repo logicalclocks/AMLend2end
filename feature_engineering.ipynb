{
 "cells": [
  {
   "cell_type": "markdown",
   "metadata": {},
   "source": [
    "## PaySim Dataset\n",
    "\n",
    "##### <b>step</b> - integer - maps a unit of time in the real world. In this case 1 step is 1 hour of time. Total steps 744 (30 days simulation).\n",
    "\n",
    "##### <b>type</b> - string/categorical - type of transaction: CASH_IN, CASH_OUT, DEBIT, PAYMENT and TRANSFER.\n",
    "\n",
    "##### <b>amount</b> - float - amount of the transaction in local currency.\n",
    "\n",
    "##### <b>nameOrig</b> - string - customer who initiated the transaction\n",
    "\n",
    "##### <b>oldbalanceOrg</b> - float initial balance before the transaction\n",
    "\n",
    "##### <b>newbalanceOrig</b> - float - new balance after the transaction\n",
    "\n",
    "##### <b>nameDest</b> - string - customer who is the recipient of the transaction\n",
    "\n",
    "##### <b>oldbalanceDest</b> - float - initial balance of recipient before the transaction.\n",
    "\n",
    "##### <b>newbalanceDest</b> - float - new balance of recipient after the transaction.\n",
    "\n",
    "##### <b>fraud</b> - boolean/binary - determines if transaction is fraudulent"
   ]
  },
  {
   "cell_type": "code",
   "execution_count": 1,
   "metadata": {},
   "outputs": [
    {
     "name": "stdout",
     "output_type": "stream",
     "text": [
      "Starting Spark application\n"
     ]
    },
    {
     "data": {
      "text/html": [
       "<table>\n",
       "<tr><th>ID</th><th>YARN Application ID</th><th>Kind</th><th>State</th><th>Spark UI</th><th>Driver log</th></tr><tr><td>3</td><td>application_1606928535611_0004</td><td>pyspark</td><td>idle</td><td><a target=\"_blank\" href=\"http://resourcemanager.service.consul:8088/proxy/application_1606928535611_0004/\">Link</a></td><td><a target=\"_blank\" href=\"http://ip-10-0-0-88.us-west-2.compute.internal:8042/node/containerlogs/container_e02_1606928535611_0004_01_000001/amlsim__meb10179\">Link</a></td></tr></table>"
      ],
      "text/plain": [
       "<IPython.core.display.HTML object>"
      ]
     },
     "metadata": {},
     "output_type": "display_data"
    },
    {
     "name": "stdout",
     "output_type": "stream",
     "text": [
      "SparkSession available as 'spark'.\n",
      "<pyspark.sql.session.SparkSession object at 0x7fbf20966f50>"
     ]
    }
   ],
   "source": [
    "spark"
   ]
  },
  {
   "cell_type": "code",
   "execution_count": 2,
   "metadata": {},
   "outputs": [
    {
     "name": "stderr",
     "output_type": "stream",
     "text": [
      "An error was encountered:\n",
      "No module named 'graphframes'\n",
      "Traceback (most recent call last):\n",
      "ModuleNotFoundError: No module named 'graphframes'\n",
      "\n"
     ]
    }
   ],
   "source": [
    "import hashlib\n",
    "from datetime import datetime\n",
    "from graphframes import *\n",
    "from pyspark.sql import functions as func\n",
    "from pyspark.sql.types import FloatType\n",
    "import hsfs"
   ]
  },
  {
   "cell_type": "code",
   "execution_count": 3,
   "metadata": {},
   "outputs": [
    {
     "name": "stderr",
     "output_type": "stream",
     "text": [
      "An error was encountered:\n",
      "name 'func' is not defined\n",
      "Traceback (most recent call last):\n",
      "NameError: name 'func' is not defined\n",
      "\n"
     ]
    }
   ],
   "source": [
    "def hashnode(x):\n",
    "    return hashlib.sha1(x.encode(\"UTF-8\")).hexdigest()[:8]\n",
    "\n",
    "def extract_node_type(x):\n",
    "    if (x.startswith(\"C\")):\n",
    "        node_type = 0\n",
    "    elif (x.startswith(\"B\")):\n",
    "        node_type = 1\n",
    "    elif (x.startswith(\"M\")):\n",
    "        node_type = 2\n",
    "    else:\n",
    "        node_type = 99\n",
    "    return node_type\n",
    "\n",
    "def extract_fraudster(x):\n",
    "    if (x.startswith(\"CF\")):\n",
    "        fraudster = 1\n",
    "    else:\n",
    "        fraudster = 0\n",
    "    return fraudster\n",
    "\n",
    "def action_2_code(x):\n",
    "    if (x == \"CASH_IN\"):\n",
    "        node_type = 0\n",
    "    elif (x == \"CASH_OUT\"):\n",
    "        node_type = 1\n",
    "    elif (x == \"DEBIT\"):\n",
    "        node_type = 2\n",
    "    elif (x == \"PAYMENT\"):\n",
    "        node_type = 3\n",
    "    elif (x == \"TRANSFER\"):\n",
    "        node_type = 4\n",
    "    elif (x == \"DEPOSIT\"):\n",
    "        node_type = 4        \n",
    "    else:\n",
    "        node_type = 99\n",
    "    return node_type\n",
    "\n",
    "def gender_2_code(x):\n",
    "    if x == 'W':\n",
    "        gender =  0\n",
    "    elif x == 'M':\n",
    "        gender = 1\n",
    "    else: \n",
    "        gender = 99\n",
    "    return gender\n",
    "\n",
    "def timestamp_2_time(x):\n",
    "    dt_obj = datetime.strptime(str(x), '%Y-%m-%d %H:%M:%S')\n",
    "    return dt_obj.timestamp()\n",
    "\n",
    "hashnode_udf = func.udf(hashnode)\n",
    "extract_fraudster_udf = func.udf(extract_fraudster)\n",
    "node_type_udf = func.udf(extract_node_type)\n",
    "action_2_code_udf = func.udf(action_2_code)\n",
    "gender_2_code_udf = func.udf(gender_2_code)\n",
    "timestamp_2_time_udf = func.udf(timestamp_2_time)"
   ]
  },
  {
   "cell_type": "code",
   "execution_count": 4,
   "metadata": {},
   "outputs": [
    {
     "name": "stderr",
     "output_type": "stream",
     "text": [
      "An error was encountered:\n",
      "name 'hsfs' is not defined\n",
      "Traceback (most recent call last):\n",
      "NameError: name 'hsfs' is not defined\n",
      "\n"
     ]
    }
   ],
   "source": [
    "# Create a connection\n",
    "connection = hsfs.connection()\n",
    "# Get the feature store handle for the project's feature store\n",
    "fs = connection.get_feature_store()"
   ]
  },
  {
   "cell_type": "code",
   "execution_count": 5,
   "metadata": {},
   "outputs": [
    {
     "name": "stderr",
     "output_type": "stream",
     "text": [
      "An error was encountered:\n",
      "name 'fs' is not defined\n",
      "Traceback (most recent call last):\n",
      "NameError: name 'fs' is not defined\n",
      "\n"
     ]
    }
   ],
   "source": [
    "transactions_fg = fs.get_feature_group(\"aml_10k_transactions_fg\", 1)"
   ]
  },
  {
   "cell_type": "code",
   "execution_count": 6,
   "metadata": {},
   "outputs": [
    {
     "name": "stderr",
     "output_type": "stream",
     "text": [
      "An error was encountered:\n",
      "name 'transactions_fg' is not defined\n",
      "Traceback (most recent call last):\n",
      "NameError: name 'transactions_fg' is not defined\n",
      "\n"
     ]
    }
   ],
   "source": [
    "transactions_fg.show(5)"
   ]
  },
  {
   "cell_type": "code",
   "execution_count": null,
   "metadata": {},
   "outputs": [],
   "source": []
  },
  {
   "cell_type": "code",
   "execution_count": 7,
   "metadata": {},
   "outputs": [
    {
     "name": "stderr",
     "output_type": "stream",
     "text": [
      "An error was encountered:\n",
      "name 'transactions_fg' is not defined\n",
      "Traceback (most recent call last):\n",
      "NameError: name 'transactions_fg' is not defined\n",
      "\n"
     ]
    }
   ],
   "source": [
    "transactions_df = transactions_fg.read()\n",
    "transactions_df = transactions_df.withColumn('is_sar',func.when(func.col('is_sar') == 'true', 1).otherwise(0))\\\n",
    "                                 .withColumn('tx_type', action_2_code_udf(func.col('tx_type')))\\\n",
    "                                 .withColumn('tran_timestamp', timestamp_2_time_udf(func.col('tran_timestamp')).cast(FloatType()))\\\n",
    "                                 .withColumnRenamed(\"orig_acct\",\"source\")\\\n",
    "                                 .withColumnRenamed(\"bene_acct\",\"target\")\\\n",
    "                                 .select(\"source\",\"target\",\"tran_timestamp\",\"is_sar\",\"alert_id\",\"tran_id\",\"tx_type\",\"base_amt\")\n",
    "transactions_df.show()\n",
    "transactions_df.printSchema()"
   ]
  },
  {
   "cell_type": "code",
   "execution_count": 8,
   "metadata": {},
   "outputs": [
    {
     "name": "stderr",
     "output_type": "stream",
     "text": [
      "An error was encountered:\n",
      "name 'fs' is not defined\n",
      "Traceback (most recent call last):\n",
      "NameError: name 'fs' is not defined\n",
      "\n"
     ]
    }
   ],
   "source": [
    "accounts_fg = fs.get_feature_group(\"aml_10k_accounts_fg\", 1)\n",
    "accounts_fg.show(5)"
   ]
  },
  {
   "cell_type": "code",
   "execution_count": 9,
   "metadata": {},
   "outputs": [
    {
     "name": "stderr",
     "output_type": "stream",
     "text": [
      "An error was encountered:\n",
      "name 'accounts_fg' is not defined\n",
      "Traceback (most recent call last):\n",
      "NameError: name 'accounts_fg' is not defined\n",
      "\n"
     ]
    }
   ],
   "source": [
    "accounts_df = accounts_fg.read()\n",
    "accounts_df = accounts_df.withColumn('prior_sar',func.when(func.col('prior_sar_count') == 'true', 1).otherwise(0))\\\n",
    "                         .withColumn('gender', gender_2_code_udf(func.col('gender')))\\\n",
    "                         .drop(\"prior_sar_count\",\"acct_rptng_crncy\",\"type\",\"acct_stat\",\"open_dt\",\"bank_id\",\"country\",\"close_dt\",\"dsply_nm\",\"branch_id\")\n",
    "        \n",
    "\n",
    "accounts_df.show(5)\n",
    "accounts_df.printSchema()"
   ]
  },
  {
   "cell_type": "code",
   "execution_count": null,
   "metadata": {},
   "outputs": [],
   "source": []
  },
  {
   "cell_type": "code",
   "execution_count": 10,
   "metadata": {},
   "outputs": [
    {
     "name": "stderr",
     "output_type": "stream",
     "text": [
      "An error was encountered:\n",
      "name 'fs' is not defined\n",
      "Traceback (most recent call last):\n",
      "NameError: name 'fs' is not defined\n",
      "\n"
     ]
    }
   ],
   "source": [
    "edge_fg_meta = fs.create_feature_group(name=\"edge_features\",\n",
    "                                       version=1,\n",
    "                                       primary_key=[\"tran_id\"],\n",
    "                                       description=\"edge features\",\n",
    "                                       time_travel_format=None,                                        \n",
    "                                       statistics_config=False)\n",
    "edge_fg_meta.save(transactions_df)"
   ]
  },
  {
   "cell_type": "code",
   "execution_count": 11,
   "metadata": {},
   "outputs": [
    {
     "name": "stderr",
     "output_type": "stream",
     "text": [
      "An error was encountered:\n",
      "name 'fs' is not defined\n",
      "Traceback (most recent call last):\n",
      "NameError: name 'fs' is not defined\n",
      "\n"
     ]
    }
   ],
   "source": [
    "node_fg_meta = fs.create_feature_group(name=\"node_features\",\n",
    "                                              version=1,\n",
    "                                              primary_key=[\"acct_id\"],\n",
    "                                              description=\"node features\",\n",
    "                                              time_travel_format=None,                                        \n",
    "                                              statistics_config=False)\n",
    "node_fg_meta.save(accounts_df)"
   ]
  },
  {
   "cell_type": "code",
   "execution_count": 12,
   "metadata": {},
   "outputs": [
    {
     "name": "stderr",
     "output_type": "stream",
     "text": [
      "An error was encountered:\n",
      "name 'fs' is not defined\n",
      "Traceback (most recent call last):\n",
      "NameError: name 'fs' is not defined\n",
      "\n"
     ]
    }
   ],
   "source": [
    "edge_td_meta = fs.create_training_dataset(name=\"edge_td\",\n",
    "                                       version=1,\n",
    "                                       data_format=\"csv\",   \n",
    "                                       description=\"edge td\")\n",
    "edge_td_meta.save(transactions_df)"
   ]
  },
  {
   "cell_type": "code",
   "execution_count": 13,
   "metadata": {},
   "outputs": [
    {
     "name": "stderr",
     "output_type": "stream",
     "text": [
      "An error was encountered:\n",
      "name 'fs' is not defined\n",
      "Traceback (most recent call last):\n",
      "NameError: name 'fs' is not defined\n",
      "\n"
     ]
    }
   ],
   "source": [
    "node_td_meta = fs.create_training_dataset(name=\"node_td\",\n",
    "                                       version=1,\n",
    "                                       data_format=\"csv\",   \n",
    "                                       description=\"edge td\")\n",
    "node_td_meta.save(accounts_df)"
   ]
  },
  {
   "cell_type": "code",
   "execution_count": null,
   "metadata": {},
   "outputs": [],
   "source": []
  }
 ],
 "metadata": {
  "kernelspec": {
   "display_name": "PySpark",
   "language": "python",
   "name": "pysparkkernel"
  },
  "language_info": {
   "codemirror_mode": {
    "name": "python",
    "version": 3
   },
   "mimetype": "text/x-python",
   "name": "pyspark",
   "pygments_lexer": "python3"
  }
 },
 "nbformat": 4,
 "nbformat_minor": 4
}
