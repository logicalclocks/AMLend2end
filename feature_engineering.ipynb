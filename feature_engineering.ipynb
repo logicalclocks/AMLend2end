{
 "cells": [
  {
   "cell_type": "markdown",
   "metadata": {},
   "source": [
    "## PaySim Dataset\n",
    "\n",
    "##### <b>step</b> - integer - maps a unit of time in the real world. In this case 1 step is 1 hour of time. Total steps 744 (30 days simulation).\n",
    "\n",
    "##### <b>type</b> - string/categorical - type of transaction: CASH_IN, CASH_OUT, DEBIT, PAYMENT and TRANSFER.\n",
    "\n",
    "##### <b>amount</b> - float - amount of the transaction in local currency.\n",
    "\n",
    "##### <b>nameOrig</b> - string - customer who initiated the transaction\n",
    "\n",
    "##### <b>oldbalanceOrg</b> - float initial balance before the transaction\n",
    "\n",
    "##### <b>newbalanceOrig</b> - float - new balance after the transaction\n",
    "\n",
    "##### <b>nameDest</b> - string - customer who is the recipient of the transaction\n",
    "\n",
    "##### <b>oldbalanceDest</b> - float - initial balance of recipient before the transaction.\n",
    "\n",
    "##### <b>newbalanceDest</b> - float - new balance of recipient after the transaction.\n",
    "\n",
    "##### <b>fraud</b> - boolean/binary - determines if transaction is fraudulent"
   ]
  },
  {
   "cell_type": "code",
   "execution_count": 1,
   "metadata": {},
   "outputs": [
    {
     "name": "stdout",
     "output_type": "stream",
     "text": [
      "Starting Spark application\n"
     ]
    },
    {
     "data": {
      "text/html": [
       "<table>\n",
       "<tr><th>ID</th><th>YARN Application ID</th><th>Kind</th><th>State</th><th>Spark UI</th><th>Driver log</th></tr><tr><td>24</td><td>application_1606840862501_0004</td><td>pyspark</td><td>idle</td><td><a target=\"_blank\" href=\"http://ip-10-0-0-106.eu-north-1.compute.internal:8088/proxy/application_1606840862501_0004/\">Link</a></td><td><a target=\"_blank\" href=\"http://ip-10-0-0-83.eu-north-1.compute.internal:8042/node/containerlogs/container_e06_1606840862501_0004_01_000001/AMLSim__davit000\">Link</a></td></tr></table>"
      ],
      "text/plain": [
       "<IPython.core.display.HTML object>"
      ]
     },
     "metadata": {},
     "output_type": "display_data"
    },
    {
     "name": "stdout",
     "output_type": "stream",
     "text": [
      "SparkSession available as 'spark'.\n",
      "<pyspark.sql.session.SparkSession object at 0x7f748579ddd0>"
     ]
    }
   ],
   "source": [
    "spark"
   ]
  },
  {
   "cell_type": "code",
   "execution_count": 2,
   "metadata": {},
   "outputs": [],
   "source": [
    "import hashlib\n",
    "from datetime import datetime\n",
    "from graphframes import *\n",
    "from pyspark.sql import functions as func\n",
    "from pyspark.sql.types import FloatType\n",
    "import hsfs"
   ]
  },
  {
   "cell_type": "code",
   "execution_count": 3,
   "metadata": {},
   "outputs": [],
   "source": [
    "def hashnode(x):\n",
    "    return hashlib.sha1(x.encode(\"UTF-8\")).hexdigest()[:8]\n",
    "\n",
    "def extract_node_type(x):\n",
    "    if (x.startswith(\"C\")):\n",
    "        node_type = 0\n",
    "    elif (x.startswith(\"B\")):\n",
    "        node_type = 1\n",
    "    elif (x.startswith(\"M\")):\n",
    "        node_type = 2\n",
    "    else:\n",
    "        node_type = 99\n",
    "    return node_type\n",
    "\n",
    "def extract_fraudster(x):\n",
    "    if (x.startswith(\"CF\")):\n",
    "        fraudster = 1\n",
    "    else:\n",
    "        fraudster = 0\n",
    "    return fraudster\n",
    "\n",
    "def action_2_code(x):\n",
    "    if (x == \"CASH_IN\"):\n",
    "        node_type = 0\n",
    "    elif (x == \"CASH_OUT\"):\n",
    "        node_type = 1\n",
    "    elif (x == \"DEBIT\"):\n",
    "        node_type = 2\n",
    "    elif (x == \"PAYMENT\"):\n",
    "        node_type = 3\n",
    "    elif (x == \"TRANSFER\"):\n",
    "        node_type = 4\n",
    "    elif (x == \"DEPOSIT\"):\n",
    "        node_type = 4        \n",
    "    else:\n",
    "        node_type = 99\n",
    "    return node_type\n",
    "\n",
    "def gender_2_code(x):\n",
    "    if x == 'W':\n",
    "        gender =  0\n",
    "    elif x == 'M':\n",
    "        gender = 1\n",
    "    else: \n",
    "        gender = 99\n",
    "    return gender\n",
    "\n",
    "def timestamp_2_time(x):\n",
    "    dt_obj = datetime.strptime(str(x), '%Y-%m-%d %H:%M:%S')\n",
    "    return dt_obj.timestamp()\n",
    "\n",
    "hashnode_udf = func.udf(hashnode)\n",
    "extract_fraudster_udf = func.udf(extract_fraudster)\n",
    "node_type_udf = func.udf(extract_node_type)\n",
    "action_2_code_udf = func.udf(action_2_code)\n",
    "gender_2_code_udf = func.udf(gender_2_code)\n",
    "timestamp_2_time_udf = func.udf(timestamp_2_time)"
   ]
  },
  {
   "cell_type": "code",
   "execution_count": 4,
   "metadata": {},
   "outputs": [
    {
     "name": "stdout",
     "output_type": "stream",
     "text": [
      "Connected. Call `.close()` to terminate connection gracefully."
     ]
    }
   ],
   "source": [
    "# Create a connection\n",
    "connection = hsfs.connection()\n",
    "# Get the feature store handle for the project's feature store\n",
    "fs = connection.get_feature_store()"
   ]
  },
  {
   "cell_type": "code",
   "execution_count": 5,
   "metadata": {},
   "outputs": [],
   "source": [
    "transactions_fg = fs.get_feature_group(\"aml_10k_transactions_fg\", 1)"
   ]
  },
  {
   "cell_type": "code",
   "execution_count": 6,
   "metadata": {},
   "outputs": [
    {
     "name": "stdout",
     "output_type": "stream",
     "text": [
      "+-------------------+------+--------+-------+---------+--------+---------+--------+\n",
      "|     tran_timestamp|is_sar|alert_id|tran_id|bene_acct| tx_type|orig_acct|base_amt|\n",
      "+-------------------+------+--------+-------+---------+--------+---------+--------+\n",
      "|2017-01-01 00:00:00| false|      -1|      1|     3259|TRANSFER|     1767| 9405.71|\n",
      "|2017-01-01 00:00:00| false|      -1|      2|     5141|TRANSFER|     7363| 6884.54|\n",
      "|2017-01-01 00:00:00| false|      -1|      3|     9532|TRANSFER|     7585|  7968.4|\n",
      "|2017-01-01 00:00:00| false|      -1|      4|     8792|TRANSFER|     1750| 9042.67|\n",
      "|2017-01-01 00:00:00| false|      -1|      5|     4670|TRANSFER|     9060| 4692.79|\n",
      "+-------------------+------+--------+-------+---------+--------+---------+--------+\n",
      "only showing top 5 rows"
     ]
    }
   ],
   "source": [
    "transactions_fg.show(5)"
   ]
  },
  {
   "cell_type": "code",
   "execution_count": null,
   "metadata": {},
   "outputs": [],
   "source": []
  },
  {
   "cell_type": "code",
   "execution_count": 7,
   "metadata": {},
   "outputs": [
    {
     "name": "stdout",
     "output_type": "stream",
     "text": [
      "+------+------+--------------+------+--------+-------+-------+--------+\n",
      "|source|target|tran_timestamp|is_sar|alert_id|tran_id|tx_type|base_amt|\n",
      "+------+------+--------------+------+--------+-------+-------+--------+\n",
      "|  1767|  3259|   1.4832288E9|     0|      -1|      1|      4| 9405.71|\n",
      "|  7363|  5141|   1.4832288E9|     0|      -1|      2|      4| 6884.54|\n",
      "|  7585|  9532|   1.4832288E9|     0|      -1|      3|      4|  7968.4|\n",
      "|  1750|  8792|   1.4832288E9|     0|      -1|      4|      4| 9042.67|\n",
      "|  9060|  4670|   1.4832288E9|     0|      -1|      5|      4| 4692.79|\n",
      "|  8752|  3861|   1.4832288E9|     0|      -1|      6|      4| 4089.65|\n",
      "|  9645|  3805|   1.4832288E9|     0|      -1|      7|      4| 3055.04|\n",
      "|  7150|  9280|   1.4832288E9|     0|      -1|      8|      4| 6473.45|\n",
      "|  1685|  6369|   1.4832288E9|     0|      -1|      9|      4| 2583.42|\n",
      "|  7846|  8255|   1.4832288E9|     0|      -1|     10|      4| 6753.04|\n",
      "|   878|  5957|   1.4832288E9|     0|      -1|     11|      4| 1743.57|\n",
      "|   797|  4091|   1.4832288E9|     0|      -1|     12|      4| 8591.59|\n",
      "|  8472|  5274|   1.4832288E9|     0|      -1|     13|      4| 7006.77|\n",
      "|  5584|  3296|   1.4832288E9|     0|      -1|     14|      4| 5095.46|\n",
      "|   616|  7618|   1.4832288E9|     0|      -1|     15|      4|  2537.2|\n",
      "|  7312|  7617|   1.4832288E9|     0|      -1|     16|      4| 3120.27|\n",
      "|  9886|  9987|   1.4832288E9|     0|      -1|     17|      4| 5308.95|\n",
      "|  1132|  3603|   1.4832288E9|     0|      -1|     18|      4| 6788.85|\n",
      "|   266|  3844|   1.4832288E9|     0|      -1|     19|      4| 5708.25|\n",
      "|  2184|  2811|   1.4832288E9|     0|      -1|     20|      4| 5020.95|\n",
      "+------+------+--------------+------+--------+-------+-------+--------+\n",
      "only showing top 20 rows\n",
      "\n",
      "root\n",
      " |-- source: integer (nullable = true)\n",
      " |-- target: integer (nullable = true)\n",
      " |-- tran_timestamp: float (nullable = true)\n",
      " |-- is_sar: integer (nullable = false)\n",
      " |-- alert_id: integer (nullable = true)\n",
      " |-- tran_id: integer (nullable = true)\n",
      " |-- tx_type: string (nullable = true)\n",
      " |-- base_amt: double (nullable = true)"
     ]
    }
   ],
   "source": [
    "transactions_df = transactions_fg.read()\n",
    "transactions_df = transactions_df.withColumn('is_sar',func.when(func.col('is_sar') == 'true', 1).otherwise(0))\\\n",
    "                                 .withColumn('tx_type', action_2_code_udf(func.col('tx_type')))\\\n",
    "                                 .withColumn('tran_timestamp', timestamp_2_time_udf(func.col('tran_timestamp')).cast(FloatType()))\\\n",
    "                                 .withColumnRenamed(\"orig_acct\",\"source\")\\\n",
    "                                 .withColumnRenamed(\"bene_acct\",\"target\")\\\n",
    "                                 .select(\"source\",\"target\",\"tran_timestamp\",\"is_sar\",\"alert_id\",\"tran_id\",\"tx_type\",\"base_amt\")\n",
    "transactions_df.show()\n",
    "transactions_df.printSchema()"
   ]
  },
  {
   "cell_type": "code",
   "execution_count": 8,
   "metadata": {},
   "outputs": [
    {
     "name": "stdout",
     "output_type": "stream",
     "text": [
      "+---------------+---------------+-------------------+--------+----------------+---------+------+-------+----+---------+-------------------+--------------+-------+-------+---+\n",
      "|prior_sar_count|initial_deposit|           close_dt|dsply_nm|acct_rptng_crncy|branch_id|gender|acct_id|type|acct_stat|            open_dt|tx_behavior_id|bank_id|country|age|\n",
      "+---------------+---------------+-------------------+--------+----------------+---------+------+-------+----+---------+-------------------+--------------+-------+-------+---+\n",
      "|          false|       84442.19|4754-11-29 00:00:00|     C_0|             USD|        1|     W|      0| SAV|        A|2017-01-01 00:00:00|             1|   bank|     US| 37|\n",
      "|          false|       75795.44|4754-11-29 00:00:00|     C_1|             USD|        1|     M|      1| SAV|        A|2017-01-01 00:00:00|             1|   bank|     US| 76|\n",
      "|          false|       42057.16|4754-11-29 00:00:00|     C_2|             USD|        1|     M|      2| SAV|        A|2017-01-01 00:00:00|             1|   bank|     US| 61|\n",
      "|          false|       25891.68|4754-11-29 00:00:00|     C_3|             USD|        1|     W|      3| SAV|        A|2017-01-01 00:00:00|             1|   bank|     US| 95|\n",
      "|          false|       51127.47|4754-11-29 00:00:00|     C_4|             USD|        1|     W|      4| SAV|        A|2017-01-01 00:00:00|             1|   bank|     US| 64|\n",
      "+---------------+---------------+-------------------+--------+----------------+---------+------+-------+----+---------+-------------------+--------------+-------+-------+---+\n",
      "only showing top 5 rows"
     ]
    }
   ],
   "source": [
    "accounts_fg = fs.get_feature_group(\"aml_10k_accounts_fg\", 1)\n",
    "accounts_fg.show(5)"
   ]
  },
  {
   "cell_type": "code",
   "execution_count": 9,
   "metadata": {},
   "outputs": [
    {
     "name": "stdout",
     "output_type": "stream",
     "text": [
      "+---------------+------+-------+--------------+---+---------+\n",
      "|initial_deposit|gender|acct_id|tx_behavior_id|age|prior_sar|\n",
      "+---------------+------+-------+--------------+---+---------+\n",
      "|       84442.19|     0|      0|             1| 37|        0|\n",
      "|       75795.44|     1|      1|             1| 76|        0|\n",
      "|       42057.16|     1|      2|             1| 61|        0|\n",
      "|       25891.68|     0|      3|             1| 95|        0|\n",
      "|       51127.47|     0|      4|             1| 64|        0|\n",
      "+---------------+------+-------+--------------+---+---------+\n",
      "only showing top 5 rows\n",
      "\n",
      "root\n",
      " |-- initial_deposit: double (nullable = true)\n",
      " |-- gender: string (nullable = true)\n",
      " |-- acct_id: integer (nullable = true)\n",
      " |-- tx_behavior_id: integer (nullable = true)\n",
      " |-- age: integer (nullable = true)\n",
      " |-- prior_sar: integer (nullable = false)"
     ]
    }
   ],
   "source": [
    "accounts_df = accounts_fg.read()\n",
    "accounts_df = accounts_df.withColumn('prior_sar',func.when(func.col('prior_sar_count') == 'true', 1).otherwise(0))\\\n",
    "                         .withColumn('gender', gender_2_code_udf(func.col('gender')))\\\n",
    "                         .drop(\"prior_sar_count\",\"acct_rptng_crncy\",\"type\",\"acct_stat\",\"open_dt\",\"bank_id\",\"country\",\"close_dt\",\"dsply_nm\",\"branch_id\")\n",
    "        \n",
    "\n",
    "accounts_df.show(5)\n",
    "accounts_df.printSchema()"
   ]
  },
  {
   "cell_type": "code",
   "execution_count": null,
   "metadata": {},
   "outputs": [],
   "source": []
  },
  {
   "cell_type": "code",
   "execution_count": 10,
   "metadata": {},
   "outputs": [
    {
     "name": "stdout",
     "output_type": "stream",
     "text": [
      "<hsfs.feature_group.FeatureGroup object at 0x7f7490b74290>"
     ]
    }
   ],
   "source": [
    "edge_fg_meta = fs.create_feature_group(name=\"edge_features\",\n",
    "                                       version=1,\n",
    "                                       primary_key=[\"tran_id\"],\n",
    "                                       description=\"edge features\",\n",
    "                                       time_travel_format=None,                                        \n",
    "                                       statistics_config=False)\n",
    "edge_fg_meta.save(transactions_df)"
   ]
  },
  {
   "cell_type": "code",
   "execution_count": 11,
   "metadata": {},
   "outputs": [
    {
     "name": "stdout",
     "output_type": "stream",
     "text": [
      "<hsfs.feature_group.FeatureGroup object at 0x7f7490b4b610>"
     ]
    }
   ],
   "source": [
    "node_fg_meta = fs.create_feature_group(name=\"node_features\",\n",
    "                                              version=1,\n",
    "                                              primary_key=[\"acct_id\"],\n",
    "                                              description=\"node features\",\n",
    "                                              time_travel_format=None,                                        \n",
    "                                              statistics_config=False)\n",
    "node_fg_meta.save(accounts_df)"
   ]
  },
  {
   "cell_type": "code",
   "execution_count": 14,
   "metadata": {},
   "outputs": [
    {
     "name": "stdout",
     "output_type": "stream",
     "text": [
      "<hsfs.training_dataset.TrainingDataset object at 0x7f7490b60550>"
     ]
    }
   ],
   "source": [
    "edge_td_meta = fs.create_training_dataset(name=\"edge_td\",\n",
    "                                       version=1,\n",
    "                                       data_format=\"csv\",   \n",
    "                                       description=\"edge td\")\n",
    "edge_td_meta.save(transactions_df)"
   ]
  },
  {
   "cell_type": "code",
   "execution_count": 16,
   "metadata": {},
   "outputs": [
    {
     "name": "stdout",
     "output_type": "stream",
     "text": [
      "<hsfs.training_dataset.TrainingDataset object at 0x7f7490b41290>"
     ]
    }
   ],
   "source": [
    "node_td_meta = fs.create_training_dataset(name=\"node_td\",\n",
    "                                       version=1,\n",
    "                                       data_format=\"csv\",   \n",
    "                                       description=\"edge td\")\n",
    "node_td_meta.save(accounts_df)"
   ]
  },
  {
   "cell_type": "code",
   "execution_count": null,
   "metadata": {},
   "outputs": [],
   "source": []
  }
 ],
 "metadata": {
  "kernelspec": {
   "display_name": "PySpark",
   "language": "python",
   "name": "pysparkkernel"
  },
  "language_info": {
   "codemirror_mode": {
    "name": "python",
    "version": 3
   },
   "mimetype": "text/x-python",
   "name": "pyspark",
   "pygments_lexer": "python3"
  }
 },
 "nbformat": 4,
 "nbformat_minor": 4
}