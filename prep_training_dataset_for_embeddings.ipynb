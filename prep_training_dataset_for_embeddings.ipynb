{
 "cells": [
  {
   "cell_type": "code",
   "execution_count": 1,
   "metadata": {},
   "outputs": [
    {
     "name": "stdout",
     "output_type": "stream",
     "text": [
      "Starting Spark application\n"
     ]
    },
    {
     "data": {
      "text/html": [
       "<table>\n",
       "<tr><th>ID</th><th>YARN Application ID</th><th>Kind</th><th>State</th><th>Spark UI</th><th>Driver log</th></tr><tr><td>26</td><td>application_1607949680860_0028</td><td>pyspark</td><td>idle</td><td><a target=\"_blank\" href=\"http://resourcemanager.service.consul:8088/proxy/application_1607949680860_0028/\">Link</a></td><td><a target=\"_blank\" href=\"http://hopsworksdavit-worker-1.internal.cloudapp.net:8042/node/containerlogs/container_e02_1607949680860_0028_01_000001/amlsim__meb10179\">Link</a></td></tr></table>"
      ],
      "text/plain": [
       "<IPython.core.display.HTML object>"
      ]
     },
     "metadata": {},
     "output_type": "display_data"
    },
    {
     "name": "stdout",
     "output_type": "stream",
     "text": [
      "SparkSession available as 'spark'.\n",
      "<pyspark.sql.session.SparkSession object at 0x7f793ecc6fd0>"
     ]
    }
   ],
   "source": [
    "spark"
   ]
  },
  {
   "cell_type": "code",
   "execution_count": 2,
   "metadata": {},
   "outputs": [],
   "source": [
    "import hashlib\n",
    "from datetime import datetime\n",
    "from pyspark.sql import functions as func\n",
    "from pyspark.sql.types import FloatType\n",
    "import hsfs"
   ]
  },
  {
   "cell_type": "code",
   "execution_count": 3,
   "metadata": {},
   "outputs": [
    {
     "name": "stdout",
     "output_type": "stream",
     "text": [
      "Connected. Call `.close()` to terminate connection gracefully."
     ]
    }
   ],
   "source": [
    "# Create a connection\n",
    "connection = hsfs.connection()\n",
    "# Get the feature store handle for the project's feature store\n",
    "fs = connection.get_feature_store()"
   ]
  },
  {
   "cell_type": "markdown",
   "metadata": {},
   "source": [
    "## Placeholder"
   ]
  },
  {
   "cell_type": "code",
   "execution_count": 4,
   "metadata": {},
   "outputs": [],
   "source": [
    "transactions_fg = fs.get_feature_group(\"transactions_fg\", 1)"
   ]
  },
  {
   "cell_type": "code",
   "execution_count": 5,
   "metadata": {},
   "outputs": [
    {
     "name": "stdout",
     "output_type": "stream",
     "text": [
      "+------+-------+------+--------+------+--------------+-------+--------+\n",
      "|is_sar|tx_type|source|alert_id|target|tran_timestamp|tran_id|base_amt|\n",
      "+------+-------+------+--------+------+--------------+-------+--------+\n",
      "|     0|      4|  1767|      -1|  3259|   1.4832288E9|      1| 9405.71|\n",
      "|     0|      4|  7363|      -1|  5141|   1.4832288E9|      2| 6884.54|\n",
      "|     0|      4|  7585|      -1|  9532|   1.4832288E9|      3|  7968.4|\n",
      "|     0|      4|  1750|      -1|  8792|   1.4832288E9|      4| 9042.67|\n",
      "|     0|      4|  9060|      -1|  4670|   1.4832288E9|      5| 4692.79|\n",
      "|     0|      4|  8752|      -1|  3861|   1.4832288E9|      6| 4089.65|\n",
      "|     0|      4|  9645|      -1|  3805|   1.4832288E9|      7| 3055.04|\n",
      "|     0|      4|  7150|      -1|  9280|   1.4832288E9|      8| 6473.45|\n",
      "|     0|      4|  1685|      -1|  6369|   1.4832288E9|      9| 2583.42|\n",
      "|     0|      4|  7846|      -1|  8255|   1.4832288E9|     10| 6753.04|\n",
      "|     0|      4|   878|      -1|  5957|   1.4832288E9|     11| 1743.57|\n",
      "|     0|      4|   797|      -1|  4091|   1.4832288E9|     12| 8591.59|\n",
      "|     0|      4|  8472|      -1|  5274|   1.4832288E9|     13| 7006.77|\n",
      "|     0|      4|  5584|      -1|  3296|   1.4832288E9|     14| 5095.46|\n",
      "|     0|      4|   616|      -1|  7618|   1.4832288E9|     15|  2537.2|\n",
      "|     0|      4|  7312|      -1|  7617|   1.4832288E9|     16| 3120.27|\n",
      "|     0|      4|  9886|      -1|  9987|   1.4832288E9|     17| 5308.95|\n",
      "|     0|      4|  1132|      -1|  3603|   1.4832288E9|     18| 6788.85|\n",
      "|     0|      4|   266|      -1|  3844|   1.4832288E9|     19| 5708.25|\n",
      "|     0|      4|  2184|      -1|  2811|   1.4832288E9|     20| 5020.95|\n",
      "+------+-------+------+--------+------+--------------+-------+--------+\n",
      "only showing top 20 rows"
     ]
    }
   ],
   "source": [
    "transactions_df = transactions_fg.read()\n",
    "transactions_df.show()"
   ]
  },
  {
   "cell_type": "markdown",
   "metadata": {},
   "source": [
    "## Placeholder"
   ]
  },
  {
   "cell_type": "code",
   "execution_count": 6,
   "metadata": {},
   "outputs": [
    {
     "name": "stdout",
     "output_type": "stream",
     "text": [
      "<hsfs.training_dataset.TrainingDataset object at 0x7f794c631890>"
     ]
    }
   ],
   "source": [
    "edges_td_meta = fs.create_training_dataset(name=\"edges_td\",\n",
    "                                       version=1,\n",
    "                                       data_format=\"csv\",\n",
    "                                       label = [\"is_sar\"],   \n",
    "                                       description=\"edges training dataset\")\n",
    "edges_td_meta.save(transactions_df)"
   ]
  },
  {
   "cell_type": "markdown",
   "metadata": {},
   "source": [
    "### Placeholder"
   ]
  },
  {
   "cell_type": "code",
   "execution_count": 7,
   "metadata": {},
   "outputs": [],
   "source": [
    "account_fg = fs.get_feature_group(\"account_features\", 1)"
   ]
  },
  {
   "cell_type": "code",
   "execution_count": 8,
   "metadata": {},
   "outputs": [
    {
     "name": "stdout",
     "output_type": "stream",
     "text": [
      "+---------------+--------------+---------+-------+\n",
      "|initial_deposit|tx_behavior_id|prior_sar|acct_id|\n",
      "+---------------+--------------+---------+-------+\n",
      "|       84442.19|             1|        0|      0|\n",
      "|       75795.44|             1|        0|      1|\n",
      "|       42057.16|             1|        0|      2|\n",
      "|       25891.68|             1|        0|      3|\n",
      "|       51127.47|             1|        0|      4|\n",
      "|       40493.41|             1|        0|      5|\n",
      "|       78379.86|             1|        0|      6|\n",
      "|       30331.27|             1|        0|      7|\n",
      "|        47659.7|             1|        0|      8|\n",
      "|        58338.2|             1|        0|      9|\n",
      "|       90811.29|             1|        0|     10|\n",
      "|       50468.69|             1|        0|     11|\n",
      "|       28183.78|             1|        0|     12|\n",
      "|       75580.42|             1|        0|     13|\n",
      "|        61836.9|             1|        0|     14|\n",
      "|       25050.63|             1|        0|     15|\n",
      "|       90974.63|             1|        0|     16|\n",
      "|       98278.55|             1|        0|     17|\n",
      "|       81021.72|             1|        0|     18|\n",
      "|        90216.6|             1|        0|     19|\n",
      "+---------------+--------------+---------+-------+\n",
      "only showing top 20 rows"
     ]
    }
   ],
   "source": [
    "accounts_df = account_fg.read()\n",
    "accounts_df.show()"
   ]
  },
  {
   "cell_type": "markdown",
   "metadata": {},
   "source": [
    "### Placeholder"
   ]
  },
  {
   "cell_type": "code",
   "execution_count": 9,
   "metadata": {},
   "outputs": [
    {
     "name": "stdout",
     "output_type": "stream",
     "text": [
      "+----+------+\n",
      "|  id|is_sar|\n",
      "+----+------+\n",
      "|3997|     1|\n",
      "|5300|     1|\n",
      "| 463|     1|\n",
      "|8086|     1|\n",
      "|7833|     1|\n",
      "|1088|     0|\n",
      "|6654|     0|\n",
      "|9465|     0|\n",
      "|7880|     0|\n",
      "|6336|     0|\n",
      "|1580|     0|\n",
      "|1829|     0|\n",
      "|7993|     0|\n",
      "|7240|     0|\n",
      "|7253|     0|\n",
      "|8389|     0|\n",
      "|4935|     0|\n",
      "|6658|     0|\n",
      "|6466|     0|\n",
      "|8592|     0|\n",
      "+----+------+\n",
      "only showing top 20 rows"
     ]
    }
   ],
   "source": [
    "source = transactions_fg.select([\"source\",\"is_sar\"]).read().withColumnRenamed(\"source\",\"id\")\n",
    "target = transactions_fg.select([\"target\",\"is_sar\"]).read().withColumnRenamed(\"target\",\"id\")\n",
    "nodes = source.union(target)\n",
    "sar_nodes = nodes.where(nodes.is_sar == 1)\n",
    "non_sar = nodes.where(nodes.is_sar == 0)\n",
    "non_sar_nodes = non_sar.join(sar_nodes, [\"id\"], \"leftanti\")\n",
    "labels = sar_nodes.union(non_sar_nodes).dropDuplicates(subset=[\"id\"])\n",
    "labels.show()"
   ]
  },
  {
   "cell_type": "code",
   "execution_count": 10,
   "metadata": {},
   "outputs": [
    {
     "name": "stdout",
     "output_type": "stream",
     "text": [
      "+---------------+--------------+---------+---+\n",
      "|initial_deposit|tx_behavior_id|prior_sar| id|\n",
      "+---------------+--------------+---------+---+\n",
      "|       84442.19|             1|        0|  0|\n",
      "|       75795.44|             1|        0|  1|\n",
      "|       42057.16|             1|        0|  2|\n",
      "|       25891.68|             1|        0|  3|\n",
      "|       51127.47|             1|        0|  4|\n",
      "|       40493.41|             1|        0|  5|\n",
      "|       78379.86|             1|        0|  6|\n",
      "|       30331.27|             1|        0|  7|\n",
      "|        47659.7|             1|        0|  8|\n",
      "|        58338.2|             1|        0|  9|\n",
      "|       90811.29|             1|        0| 10|\n",
      "|       50468.69|             1|        0| 11|\n",
      "|       28183.78|             1|        0| 12|\n",
      "|       75580.42|             1|        0| 13|\n",
      "|        61836.9|             1|        0| 14|\n",
      "|       25050.63|             1|        0| 15|\n",
      "|       90974.63|             1|        0| 16|\n",
      "|       98278.55|             1|        0| 17|\n",
      "|       81021.72|             1|        0| 18|\n",
      "|        90216.6|             1|        0| 19|\n",
      "+---------------+--------------+---------+---+\n",
      "only showing top 20 rows"
     ]
    }
   ],
   "source": [
    "accounts_df = accounts_df.withColumnRenamed(\"acct_id\",\"id\")\n",
    "accounts_df.show()"
   ]
  },
  {
   "cell_type": "code",
   "execution_count": 11,
   "metadata": {},
   "outputs": [
    {
     "name": "stdout",
     "output_type": "stream",
     "text": [
      "10000"
     ]
    }
   ],
   "source": [
    "accounts_df.count()"
   ]
  },
  {
   "cell_type": "code",
   "execution_count": 12,
   "metadata": {},
   "outputs": [
    {
     "name": "stdout",
     "output_type": "stream",
     "text": [
      "9998"
     ]
    }
   ],
   "source": [
    "nodes_df = accounts_df.join(labels, [\"id\"])\n",
    "nodes_df.count()"
   ]
  },
  {
   "cell_type": "code",
   "execution_count": 13,
   "metadata": {},
   "outputs": [
    {
     "name": "stdout",
     "output_type": "stream",
     "text": [
      "<hsfs.training_dataset.TrainingDataset object at 0x7f794c18e390>"
     ]
    }
   ],
   "source": [
    "node_td = fs.create_training_dataset(name=\"node_td\",\n",
    "                                       version=1,\n",
    "                                       data_format=\"csv\",   \n",
    "                                       description=\"node training dataset\")\n",
    "node_td.save(nodes_df)"
   ]
  },
  {
   "cell_type": "code",
   "execution_count": null,
   "metadata": {},
   "outputs": [],
   "source": []
  }
 ],
 "metadata": {
  "kernelspec": {
   "display_name": "PySpark",
   "language": "python",
   "name": "pysparkkernel"
  },
  "language_info": {
   "codemirror_mode": {
    "name": "python",
    "version": 3
   },
   "mimetype": "text/x-python",
   "name": "pyspark",
   "pygments_lexer": "python3"
  }
 },
 "nbformat": 4,
 "nbformat_minor": 4
}
