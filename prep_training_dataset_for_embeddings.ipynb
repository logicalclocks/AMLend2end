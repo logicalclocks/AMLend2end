{
 "cells": [
  {
   "cell_type": "code",
   "execution_count": 1,
   "metadata": {},
   "outputs": [
    {
     "name": "stdout",
     "output_type": "stream",
     "text": [
      "Starting Spark application\n"
     ]
    },
    {
     "data": {
      "text/html": [
       "<table>\n",
       "<tr><th>ID</th><th>YARN Application ID</th><th>Kind</th><th>State</th><th>Spark UI</th><th>Driver log</th></tr><tr><td>4</td><td>application_1607714417077_0005</td><td>pyspark</td><td>idle</td><td><a target=\"_blank\" href=\"http://resourcemanager.service.consul:8088/proxy/application_1607714417077_0005/\">Link</a></td><td><a target=\"_blank\" href=\"http://ip-10-0-0-253.us-west-2.compute.internal:8042/node/containerlogs/container_e02_1607714417077_0005_01_000001/amlsim__meb10179\">Link</a></td></tr></table>"
      ],
      "text/plain": [
       "<IPython.core.display.HTML object>"
      ]
     },
     "metadata": {},
     "output_type": "display_data"
    },
    {
     "name": "stdout",
     "output_type": "stream",
     "text": [
      "SparkSession available as 'spark'.\n",
      "<pyspark.sql.session.SparkSession object at 0x7fe91e032b50>"
     ]
    }
   ],
   "source": [
    "spark"
   ]
  },
  {
   "cell_type": "code",
   "execution_count": 2,
   "metadata": {},
   "outputs": [],
   "source": [
    "import hashlib\n",
    "from datetime import datetime\n",
    "from pyspark.sql import functions as func\n",
    "from pyspark.sql.types import FloatType\n",
    "import hsfs"
   ]
  },
  {
   "cell_type": "code",
   "execution_count": 3,
   "metadata": {},
   "outputs": [
    {
     "name": "stdout",
     "output_type": "stream",
     "text": [
      "Connected. Call `.close()` to terminate connection gracefully."
     ]
    }
   ],
   "source": [
    "# Create a connection\n",
    "connection = hsfs.connection()\n",
    "# Get the feature store handle for the project's feature store\n",
    "fs = connection.get_feature_store()"
   ]
  },
  {
   "cell_type": "markdown",
   "metadata": {},
   "source": [
    "## Placeholder"
   ]
  },
  {
   "cell_type": "code",
   "execution_count": 4,
   "metadata": {},
   "outputs": [],
   "source": [
    "transactions_fg = fs.get_feature_group(\"transactions_fg\", 1)"
   ]
  },
  {
   "cell_type": "code",
   "execution_count": 5,
   "metadata": {},
   "outputs": [
    {
     "name": "stdout",
     "output_type": "stream",
     "text": [
      "+------+------+------+-------+-------+--------------+--------+--------+\n",
      "|target|is_sar|source|tran_id|tx_type|tran_timestamp|alert_id|base_amt|\n",
      "+------+------+------+-------+-------+--------------+--------+--------+\n",
      "|  3259|     0|  1767|      1|      4|   1.4832288E9|      -1| 9405.71|\n",
      "|  5141|     0|  7363|      2|      4|   1.4832288E9|      -1| 6884.54|\n",
      "|  9532|     0|  7585|      3|      4|   1.4832288E9|      -1|  7968.4|\n",
      "|  8792|     0|  1750|      4|      4|   1.4832288E9|      -1| 9042.67|\n",
      "|  4670|     0|  9060|      5|      4|   1.4832288E9|      -1| 4692.79|\n",
      "|  3861|     0|  8752|      6|      4|   1.4832288E9|      -1| 4089.65|\n",
      "|  3805|     0|  9645|      7|      4|   1.4832288E9|      -1| 3055.04|\n",
      "|  9280|     0|  7150|      8|      4|   1.4832288E9|      -1| 6473.45|\n",
      "|  6369|     0|  1685|      9|      4|   1.4832288E9|      -1| 2583.42|\n",
      "|  8255|     0|  7846|     10|      4|   1.4832288E9|      -1| 6753.04|\n",
      "|  5957|     0|   878|     11|      4|   1.4832288E9|      -1| 1743.57|\n",
      "|  4091|     0|   797|     12|      4|   1.4832288E9|      -1| 8591.59|\n",
      "|  5274|     0|  8472|     13|      4|   1.4832288E9|      -1| 7006.77|\n",
      "|  3296|     0|  5584|     14|      4|   1.4832288E9|      -1| 5095.46|\n",
      "|  7618|     0|   616|     15|      4|   1.4832288E9|      -1|  2537.2|\n",
      "|  7617|     0|  7312|     16|      4|   1.4832288E9|      -1| 3120.27|\n",
      "|  9987|     0|  9886|     17|      4|   1.4832288E9|      -1| 5308.95|\n",
      "|  3603|     0|  1132|     18|      4|   1.4832288E9|      -1| 6788.85|\n",
      "|  3844|     0|   266|     19|      4|   1.4832288E9|      -1| 5708.25|\n",
      "|  2811|     0|  2184|     20|      4|   1.4832288E9|      -1| 5020.95|\n",
      "+------+------+------+-------+-------+--------------+--------+--------+\n",
      "only showing top 20 rows"
     ]
    }
   ],
   "source": [
    "transactions_df = transactions_fg.read()\n",
    "transactions_df.show()"
   ]
  },
  {
   "cell_type": "code",
   "execution_count": null,
   "metadata": {},
   "outputs": [],
   "source": []
  },
  {
   "cell_type": "markdown",
   "metadata": {},
   "source": [
    "## Placeholder"
   ]
  },
  {
   "cell_type": "code",
   "execution_count": 6,
   "metadata": {},
   "outputs": [
    {
     "name": "stdout",
     "output_type": "stream",
     "text": [
      "<hsfs.training_dataset.TrainingDataset object at 0x7fe929871410>"
     ]
    }
   ],
   "source": [
    "edges_td_meta = fs.create_training_dataset(name=\"edges_td\",\n",
    "                                       version=1,\n",
    "                                       data_format=\"csv\",\n",
    "                                       label = [\"is_sar\"],   \n",
    "                                       description=\"edges training dataset\")\n",
    "edges_td_meta.save(transactions_df)"
   ]
  },
  {
   "cell_type": "markdown",
   "metadata": {},
   "source": [
    "### Placeholder"
   ]
  },
  {
   "cell_type": "code",
   "execution_count": 7,
   "metadata": {},
   "outputs": [],
   "source": [
    "account_fg = fs.get_feature_group(\"account_features\", 1)"
   ]
  },
  {
   "cell_type": "code",
   "execution_count": 8,
   "metadata": {},
   "outputs": [
    {
     "name": "stdout",
     "output_type": "stream",
     "text": [
      "+---------+--------------+-------+---------------+\n",
      "|prior_sar|tx_behavior_id|acct_id|initial_deposit|\n",
      "+---------+--------------+-------+---------------+\n",
      "|        0|             1|      0|       84442.19|\n",
      "|        0|             1|      1|       75795.44|\n",
      "|        0|             1|      2|       42057.16|\n",
      "|        0|             1|      3|       25891.68|\n",
      "|        0|             1|      4|       51127.47|\n",
      "|        0|             1|      5|       40493.41|\n",
      "|        0|             1|      6|       78379.86|\n",
      "|        0|             1|      7|       30331.27|\n",
      "|        0|             1|      8|        47659.7|\n",
      "|        0|             1|      9|        58338.2|\n",
      "|        0|             1|     10|       90811.29|\n",
      "|        0|             1|     11|       50468.69|\n",
      "|        0|             1|     12|       28183.78|\n",
      "|        0|             1|     13|       75580.42|\n",
      "|        0|             1|     14|        61836.9|\n",
      "|        0|             1|     15|       25050.63|\n",
      "|        0|             1|     16|       90974.63|\n",
      "|        0|             1|     17|       98278.55|\n",
      "|        0|             1|     18|       81021.72|\n",
      "|        0|             1|     19|        90216.6|\n",
      "+---------+--------------+-------+---------------+\n",
      "only showing top 20 rows"
     ]
    }
   ],
   "source": [
    "accounts_df = account_fg.read()\n",
    "accounts_df.show()"
   ]
  },
  {
   "cell_type": "markdown",
   "metadata": {},
   "source": [
    "### Placeholder"
   ]
  },
  {
   "cell_type": "code",
   "execution_count": 9,
   "metadata": {},
   "outputs": [
    {
     "name": "stdout",
     "output_type": "stream",
     "text": [
      "+----+------+\n",
      "|  id|is_sar|\n",
      "+----+------+\n",
      "|3997|     1|\n",
      "|5300|     1|\n",
      "| 463|     1|\n",
      "|8086|     1|\n",
      "|7833|     1|\n",
      "|1088|     0|\n",
      "|6654|     0|\n",
      "|9465|     0|\n",
      "|7880|     0|\n",
      "|6336|     0|\n",
      "|1580|     0|\n",
      "|1829|     0|\n",
      "|7993|     0|\n",
      "|7240|     0|\n",
      "|7253|     0|\n",
      "|8389|     0|\n",
      "|4935|     0|\n",
      "|6658|     0|\n",
      "|6466|     0|\n",
      "|8592|     0|\n",
      "+----+------+\n",
      "only showing top 20 rows"
     ]
    }
   ],
   "source": [
    "source = transactions_fg.select([\"source\",\"is_sar\"]).read().withColumnRenamed(\"source\",\"id\")\n",
    "target = transactions_fg.select([\"target\",\"is_sar\"]).read().withColumnRenamed(\"target\",\"id\")\n",
    "nodes = source.union(target)\n",
    "sar_nodes = nodes.where(nodes.is_sar == 1)\n",
    "non_sar = nodes.where(nodes.is_sar == 0)\n",
    "non_sar_nodes = non_sar.join(sar_nodes, [\"id\"], \"leftanti\")\n",
    "labels = sar_nodes.union(non_sar_nodes).dropDuplicates(subset=[\"id\"])\n",
    "labels.show()"
   ]
  },
  {
   "cell_type": "code",
   "execution_count": 10,
   "metadata": {},
   "outputs": [
    {
     "name": "stdout",
     "output_type": "stream",
     "text": [
      "+---------+--------------+---+---------------+\n",
      "|prior_sar|tx_behavior_id| id|initial_deposit|\n",
      "+---------+--------------+---+---------------+\n",
      "|        0|             1|  0|       84442.19|\n",
      "|        0|             1|  1|       75795.44|\n",
      "|        0|             1|  2|       42057.16|\n",
      "|        0|             1|  3|       25891.68|\n",
      "|        0|             1|  4|       51127.47|\n",
      "|        0|             1|  5|       40493.41|\n",
      "|        0|             1|  6|       78379.86|\n",
      "|        0|             1|  7|       30331.27|\n",
      "|        0|             1|  8|        47659.7|\n",
      "|        0|             1|  9|        58338.2|\n",
      "|        0|             1| 10|       90811.29|\n",
      "|        0|             1| 11|       50468.69|\n",
      "|        0|             1| 12|       28183.78|\n",
      "|        0|             1| 13|       75580.42|\n",
      "|        0|             1| 14|        61836.9|\n",
      "|        0|             1| 15|       25050.63|\n",
      "|        0|             1| 16|       90974.63|\n",
      "|        0|             1| 17|       98278.55|\n",
      "|        0|             1| 18|       81021.72|\n",
      "|        0|             1| 19|        90216.6|\n",
      "+---------+--------------+---+---------------+\n",
      "only showing top 20 rows"
     ]
    }
   ],
   "source": [
    "accounts_df = accounts_df.withColumnRenamed(\"acct_id\",\"id\")\n",
    "accounts_df.show()"
   ]
  },
  {
   "cell_type": "code",
   "execution_count": 11,
   "metadata": {},
   "outputs": [
    {
     "name": "stdout",
     "output_type": "stream",
     "text": [
      "10000"
     ]
    }
   ],
   "source": [
    "accounts_df.count()"
   ]
  },
  {
   "cell_type": "code",
   "execution_count": 12,
   "metadata": {},
   "outputs": [
    {
     "name": "stdout",
     "output_type": "stream",
     "text": [
      "9998"
     ]
    }
   ],
   "source": [
    "nodes_df = accounts_df.join(labels, [\"id\"])\n",
    "nodes_df.count()"
   ]
  },
  {
   "cell_type": "code",
   "execution_count": 13,
   "metadata": {},
   "outputs": [
    {
     "name": "stdout",
     "output_type": "stream",
     "text": [
      "<hsfs.training_dataset.TrainingDataset object at 0x7fe9293f2cd0>"
     ]
    }
   ],
   "source": [
    "node_td = fs.create_training_dataset(name=\"node_td\",\n",
    "                                       version=1,\n",
    "                                       data_format=\"csv\",   \n",
    "                                       description=\"node training dataset\")\n",
    "node_td.save(nodes_df)"
   ]
  }
 ],
 "metadata": {
  "kernelspec": {
   "display_name": "PySpark",
   "language": "python",
   "name": "pysparkkernel"
  },
  "language_info": {
   "codemirror_mode": {
    "name": "python",
    "version": 3
   },
   "mimetype": "text/x-python",
   "name": "pyspark",
   "pygments_lexer": "python3"
  }
 },
 "nbformat": 4,
 "nbformat_minor": 4
}
