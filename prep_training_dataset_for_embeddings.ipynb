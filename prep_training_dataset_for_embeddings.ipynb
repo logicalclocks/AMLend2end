{
 "cells": [
  {
   "cell_type": "code",
   "execution_count": 1,
   "metadata": {},
   "outputs": [
    {
     "name": "stdout",
     "output_type": "stream",
     "text": [
      "Starting Spark application\n"
     ]
    },
    {
     "data": {
      "text/html": [
       "<table>\n",
       "<tr><th>ID</th><th>YARN Application ID</th><th>Kind</th><th>State</th><th>Spark UI</th><th>Driver log</th></tr><tr><td>1</td><td>application_1607799579196_0002</td><td>pyspark</td><td>idle</td><td><a target=\"_blank\" href=\"http://ip-10-0-0-96.us-west-2.compute.internal:8088/proxy/application_1607799579196_0002/\">Link</a></td><td><a target=\"_blank\" href=\"http://ip-10-0-0-72.us-west-2.compute.internal:8042/node/containerlogs/container_e02_1607799579196_0002_01_000001/amlsim__meb10179\">Link</a></td></tr></table>"
      ],
      "text/plain": [
       "<IPython.core.display.HTML object>"
      ]
     },
     "metadata": {},
     "output_type": "display_data"
    },
    {
     "name": "stdout",
     "output_type": "stream",
     "text": [
      "SparkSession available as 'spark'.\n",
      "<pyspark.sql.session.SparkSession object at 0x7f67254898d0>"
     ]
    }
   ],
   "source": [
    "spark"
   ]
  },
  {
   "cell_type": "code",
   "execution_count": 2,
   "metadata": {},
   "outputs": [],
   "source": [
    "import hashlib\n",
    "from datetime import datetime\n",
    "from pyspark.sql import functions as func\n",
    "from pyspark.sql.types import FloatType\n",
    "import hsfs"
   ]
  },
  {
   "cell_type": "code",
   "execution_count": 3,
   "metadata": {},
   "outputs": [
    {
     "name": "stdout",
     "output_type": "stream",
     "text": [
      "Connected. Call `.close()` to terminate connection gracefully."
     ]
    }
   ],
   "source": [
    "# Create a connection\n",
    "connection = hsfs.connection()\n",
    "# Get the feature store handle for the project's feature store\n",
    "fs = connection.get_feature_store()"
   ]
  },
  {
   "cell_type": "markdown",
   "metadata": {},
   "source": [
    "## Placeholder"
   ]
  },
  {
   "cell_type": "code",
   "execution_count": 4,
   "metadata": {},
   "outputs": [],
   "source": [
    "transactions_fg = fs.get_feature_group(\"transactions_fg\", 1)"
   ]
  },
  {
   "cell_type": "code",
   "execution_count": 5,
   "metadata": {},
   "outputs": [
    {
     "name": "stdout",
     "output_type": "stream",
     "text": [
      "+--------------+------+------+-------+------+--------+-------+--------+\n",
      "|tran_timestamp|source|is_sar|tran_id|target|alert_id|tx_type|base_amt|\n",
      "+--------------+------+------+-------+------+--------+-------+--------+\n",
      "|   1.4832288E9|  1767|     0|      1|  3259|      -1|      4| 9405.71|\n",
      "|   1.4832288E9|  7363|     0|      2|  5141|      -1|      4| 6884.54|\n",
      "|   1.4832288E9|  7585|     0|      3|  9532|      -1|      4|  7968.4|\n",
      "|   1.4832288E9|  1750|     0|      4|  8792|      -1|      4| 9042.67|\n",
      "|   1.4832288E9|  9060|     0|      5|  4670|      -1|      4| 4692.79|\n",
      "|   1.4832288E9|  8752|     0|      6|  3861|      -1|      4| 4089.65|\n",
      "|   1.4832288E9|  9645|     0|      7|  3805|      -1|      4| 3055.04|\n",
      "|   1.4832288E9|  7150|     0|      8|  9280|      -1|      4| 6473.45|\n",
      "|   1.4832288E9|  1685|     0|      9|  6369|      -1|      4| 2583.42|\n",
      "|   1.4832288E9|  7846|     0|     10|  8255|      -1|      4| 6753.04|\n",
      "|   1.4832288E9|   878|     0|     11|  5957|      -1|      4| 1743.57|\n",
      "|   1.4832288E9|   797|     0|     12|  4091|      -1|      4| 8591.59|\n",
      "|   1.4832288E9|  8472|     0|     13|  5274|      -1|      4| 7006.77|\n",
      "|   1.4832288E9|  5584|     0|     14|  3296|      -1|      4| 5095.46|\n",
      "|   1.4832288E9|   616|     0|     15|  7618|      -1|      4|  2537.2|\n",
      "|   1.4832288E9|  7312|     0|     16|  7617|      -1|      4| 3120.27|\n",
      "|   1.4832288E9|  9886|     0|     17|  9987|      -1|      4| 5308.95|\n",
      "|   1.4832288E9|  1132|     0|     18|  3603|      -1|      4| 6788.85|\n",
      "|   1.4832288E9|   266|     0|     19|  3844|      -1|      4| 5708.25|\n",
      "|   1.4832288E9|  2184|     0|     20|  2811|      -1|      4| 5020.95|\n",
      "+--------------+------+------+-------+------+--------+-------+--------+\n",
      "only showing top 20 rows"
     ]
    }
   ],
   "source": [
    "transactions_df = transactions_fg.read()\n",
    "transactions_df.show()"
   ]
  },
  {
   "cell_type": "code",
   "execution_count": null,
   "metadata": {},
   "outputs": [],
   "source": []
  },
  {
   "cell_type": "markdown",
   "metadata": {},
   "source": [
    "## Placeholder"
   ]
  },
  {
   "cell_type": "code",
   "execution_count": 6,
   "metadata": {},
   "outputs": [
    {
     "name": "stdout",
     "output_type": "stream",
     "text": [
      "<hsfs.training_dataset.TrainingDataset object at 0x7f6730dd9610>"
     ]
    }
   ],
   "source": [
    "edges_td_meta = fs.create_training_dataset(name=\"edges_td\",\n",
    "                                       version=1,\n",
    "                                       data_format=\"csv\",\n",
    "                                       label = [\"is_sar\"],   \n",
    "                                       description=\"edges training dataset\")\n",
    "edges_td_meta.save(transactions_df)"
   ]
  },
  {
   "cell_type": "markdown",
   "metadata": {},
   "source": [
    "### Placeholder"
   ]
  },
  {
   "cell_type": "code",
   "execution_count": 7,
   "metadata": {},
   "outputs": [],
   "source": [
    "account_fg = fs.get_feature_group(\"account_features\", 1)"
   ]
  },
  {
   "cell_type": "code",
   "execution_count": 8,
   "metadata": {},
   "outputs": [
    {
     "name": "stdout",
     "output_type": "stream",
     "text": [
      "+---------------+---------+--------------+-------+\n",
      "|initial_deposit|prior_sar|tx_behavior_id|acct_id|\n",
      "+---------------+---------+--------------+-------+\n",
      "|       84442.19|        0|             1|      0|\n",
      "|       75795.44|        0|             1|      1|\n",
      "|       42057.16|        0|             1|      2|\n",
      "|       25891.68|        0|             1|      3|\n",
      "|       51127.47|        0|             1|      4|\n",
      "|       40493.41|        0|             1|      5|\n",
      "|       78379.86|        0|             1|      6|\n",
      "|       30331.27|        0|             1|      7|\n",
      "|        47659.7|        0|             1|      8|\n",
      "|        58338.2|        0|             1|      9|\n",
      "|       90811.29|        0|             1|     10|\n",
      "|       50468.69|        0|             1|     11|\n",
      "|       28183.78|        0|             1|     12|\n",
      "|       75580.42|        0|             1|     13|\n",
      "|        61836.9|        0|             1|     14|\n",
      "|       25050.63|        0|             1|     15|\n",
      "|       90974.63|        0|             1|     16|\n",
      "|       98278.55|        0|             1|     17|\n",
      "|       81021.72|        0|             1|     18|\n",
      "|        90216.6|        0|             1|     19|\n",
      "+---------------+---------+--------------+-------+\n",
      "only showing top 20 rows"
     ]
    }
   ],
   "source": [
    "accounts_df = account_fg.read()\n",
    "accounts_df.show()"
   ]
  },
  {
   "cell_type": "markdown",
   "metadata": {},
   "source": [
    "### Placeholder"
   ]
  },
  {
   "cell_type": "code",
   "execution_count": 9,
   "metadata": {},
   "outputs": [
    {
     "name": "stdout",
     "output_type": "stream",
     "text": [
      "+----+------+\n",
      "|  id|is_sar|\n",
      "+----+------+\n",
      "|3997|     1|\n",
      "|5300|     1|\n",
      "| 463|     1|\n",
      "|8086|     1|\n",
      "|7833|     1|\n",
      "|1088|     0|\n",
      "|6654|     0|\n",
      "|9465|     0|\n",
      "|7880|     0|\n",
      "|6336|     0|\n",
      "|1580|     0|\n",
      "|1829|     0|\n",
      "|7993|     0|\n",
      "|7240|     0|\n",
      "|7253|     0|\n",
      "|8389|     0|\n",
      "|4935|     0|\n",
      "|6658|     0|\n",
      "|6466|     0|\n",
      "|8592|     0|\n",
      "+----+------+\n",
      "only showing top 20 rows"
     ]
    }
   ],
   "source": [
    "source = transactions_fg.select([\"source\",\"is_sar\"]).read().withColumnRenamed(\"source\",\"id\")\n",
    "target = transactions_fg.select([\"target\",\"is_sar\"]).read().withColumnRenamed(\"target\",\"id\")\n",
    "nodes = source.union(target)\n",
    "sar_nodes = nodes.where(nodes.is_sar == 1)\n",
    "non_sar = nodes.where(nodes.is_sar == 0)\n",
    "non_sar_nodes = non_sar.join(sar_nodes, [\"id\"], \"leftanti\")\n",
    "labels = sar_nodes.union(non_sar_nodes).dropDuplicates(subset=[\"id\"])\n",
    "labels.show()"
   ]
  },
  {
   "cell_type": "code",
   "execution_count": 10,
   "metadata": {},
   "outputs": [
    {
     "name": "stdout",
     "output_type": "stream",
     "text": [
      "+---------------+---------+--------------+---+\n",
      "|initial_deposit|prior_sar|tx_behavior_id| id|\n",
      "+---------------+---------+--------------+---+\n",
      "|       84442.19|        0|             1|  0|\n",
      "|       75795.44|        0|             1|  1|\n",
      "|       42057.16|        0|             1|  2|\n",
      "|       25891.68|        0|             1|  3|\n",
      "|       51127.47|        0|             1|  4|\n",
      "|       40493.41|        0|             1|  5|\n",
      "|       78379.86|        0|             1|  6|\n",
      "|       30331.27|        0|             1|  7|\n",
      "|        47659.7|        0|             1|  8|\n",
      "|        58338.2|        0|             1|  9|\n",
      "|       90811.29|        0|             1| 10|\n",
      "|       50468.69|        0|             1| 11|\n",
      "|       28183.78|        0|             1| 12|\n",
      "|       75580.42|        0|             1| 13|\n",
      "|        61836.9|        0|             1| 14|\n",
      "|       25050.63|        0|             1| 15|\n",
      "|       90974.63|        0|             1| 16|\n",
      "|       98278.55|        0|             1| 17|\n",
      "|       81021.72|        0|             1| 18|\n",
      "|        90216.6|        0|             1| 19|\n",
      "+---------------+---------+--------------+---+\n",
      "only showing top 20 rows"
     ]
    }
   ],
   "source": [
    "accounts_df = accounts_df.withColumnRenamed(\"acct_id\",\"id\")\n",
    "accounts_df.show()"
   ]
  },
  {
   "cell_type": "code",
   "execution_count": 11,
   "metadata": {},
   "outputs": [
    {
     "name": "stdout",
     "output_type": "stream",
     "text": [
      "10000"
     ]
    }
   ],
   "source": [
    "accounts_df.count()"
   ]
  },
  {
   "cell_type": "code",
   "execution_count": 12,
   "metadata": {},
   "outputs": [
    {
     "name": "stdout",
     "output_type": "stream",
     "text": [
      "9998"
     ]
    }
   ],
   "source": [
    "nodes_df = accounts_df.join(labels, [\"id\"])\n",
    "nodes_df.count()"
   ]
  },
  {
   "cell_type": "code",
   "execution_count": 13,
   "metadata": {},
   "outputs": [
    {
     "name": "stdout",
     "output_type": "stream",
     "text": [
      "<hsfs.training_dataset.TrainingDataset object at 0x7f67309910d0>"
     ]
    }
   ],
   "source": [
    "node_td = fs.create_training_dataset(name=\"node_td\",\n",
    "                                       version=1,\n",
    "                                       data_format=\"csv\",   \n",
    "                                       description=\"node training dataset\")\n",
    "node_td.save(nodes_df)"
   ]
  },
  {
   "cell_type": "code",
   "execution_count": null,
   "metadata": {},
   "outputs": [],
   "source": []
  }
 ],
 "metadata": {
  "kernelspec": {
   "display_name": "PySpark",
   "language": "python",
   "name": "pysparkkernel"
  },
  "language_info": {
   "codemirror_mode": {
    "name": "python",
    "version": 3
   },
   "mimetype": "text/x-python",
   "name": "pyspark",
   "pygments_lexer": "python3"
  }
 },
 "nbformat": 4,
 "nbformat_minor": 4
}
