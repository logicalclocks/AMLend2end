{
 "cells": [
  {
   "cell_type": "code",
   "execution_count": 1,
   "metadata": {},
   "outputs": [
    {
     "name": "stdout",
     "output_type": "stream",
     "text": [
      "Starting Spark application\n"
     ]
    },
    {
     "data": {
      "text/html": [
       "<table>\n",
       "<tr><th>ID</th><th>YARN Application ID</th><th>Kind</th><th>State</th><th>Spark UI</th><th>Driver log</th></tr><tr><td>34</td><td>application_1606998977104_0001</td><td>pyspark</td><td>idle</td><td><a target=\"_blank\" href=\"http://resourcemanager.service.consul:8088/proxy/application_1606998977104_0001/\">Link</a></td><td><a target=\"_blank\" href=\"http://ip-10-0-0-88.us-west-2.compute.internal:8042/node/containerlogs/container_e04_1606998977104_0001_01_000001/amlsim__meb10179\">Link</a></td></tr></table>"
      ],
      "text/plain": [
       "<IPython.core.display.HTML object>"
      ]
     },
     "metadata": {},
     "output_type": "display_data"
    },
    {
     "name": "stdout",
     "output_type": "stream",
     "text": [
      "SparkSession available as 'spark'.\n",
      "<pyspark.sql.session.SparkSession object at 0x7fe836193e90>"
     ]
    }
   ],
   "source": [
    "spark"
   ]
  },
  {
   "cell_type": "code",
   "execution_count": 2,
   "metadata": {},
   "outputs": [
    {
     "name": "stdout",
     "output_type": "stream",
     "text": [
      "Connected. Call `.close()` to terminate connection gracefully."
     ]
    }
   ],
   "source": [
    "import hsfs\n",
    "# Create a connection\n",
    "connection = hsfs.connection()\n",
    "# Get the feature store handle for the project's feature store\n",
    "fs = connection.get_feature_store()"
   ]
  },
  {
   "cell_type": "code",
   "execution_count": 3,
   "metadata": {},
   "outputs": [],
   "source": [
    "edge_fg = fs.get_feature_group(\"edge_features\", 1)"
   ]
  },
  {
   "cell_type": "code",
   "execution_count": 4,
   "metadata": {},
   "outputs": [],
   "source": [
    "source = edge_fg.select([\"source\",\"is_sar\"]).read().withColumnRenamed(\"source\",\"id\")\n",
    "target = edge_fg.select([\"target\",\"is_sar\"]).read().withColumnRenamed(\"target\",\"id\")\n",
    "nodes = source.union(target)"
   ]
  },
  {
   "cell_type": "code",
   "execution_count": 5,
   "metadata": {},
   "outputs": [],
   "source": [
    "ano_nodes = nodes.where(nodes.is_sar == 1)\n",
    "ben = nodes.where(nodes.is_sar == 0)\n",
    "ben_nodes = ben.join(ano_nodes, [\"id\"], \"leftanti\")\n",
    "labels = ano_nodes.union(ben_nodes).dropDuplicates(subset=[\"id\"])"
   ]
  },
  {
   "cell_type": "code",
   "execution_count": 6,
   "metadata": {},
   "outputs": [
    {
     "name": "stdout",
     "output_type": "stream",
     "text": [
      "9998"
     ]
    }
   ],
   "source": [
    "labels.count()"
   ]
  },
  {
   "cell_type": "code",
   "execution_count": 7,
   "metadata": {},
   "outputs": [],
   "source": [
    "df = spark.read.csv(\"hdfs:///Projects/amlsim/Resources/embeddings_features_80_5_128.csv\",inferSchema=True,header=True)"
   ]
  },
  {
   "cell_type": "code",
   "execution_count": 8,
   "metadata": {},
   "outputs": [],
   "source": [
    "feature_names = df.columns\n",
    "feature_names = [\"_\" + s + \"c\"  for s in feature_names]"
   ]
  },
  {
   "cell_type": "code",
   "execution_count": 9,
   "metadata": {},
   "outputs": [],
   "source": [
    "df = df.toDF(*feature_names)"
   ]
  },
  {
   "cell_type": "code",
   "execution_count": 10,
   "metadata": {},
   "outputs": [
    {
     "name": "stdout",
     "output_type": "stream",
     "text": [
      "['__c0c', '_0c', '_1c', '_2c', '_3c', '_4c', '_5c', '_6c', '_7c', '_8c', '_9c', '_10c', '_11c', '_12c', '_13c', '_14c', '_15c', '_16c', '_17c', '_18c', '_19c', '_20c', '_21c', '_22c', '_23c', '_24c', '_25c', '_26c', '_27c', '_28c', '_29c', '_30c', '_31c', '_32c', '_33c', '_34c', '_35c', '_36c', '_37c', '_38c', '_39c', '_40c', '_41c', '_42c', '_43c', '_44c', '_45c', '_46c', '_47c', '_48c', '_49c', '_50c', '_51c', '_52c', '_53c', '_54c', '_55c', '_56c', '_57c', '_58c', '_59c', '_60c', '_61c', '_62c', '_63c', '_64c', '_65c', '_66c', '_67c', '_68c', '_69c', '_70c', '_71c', '_72c', '_73c', '_74c', '_75c', '_76c', '_77c', '_78c', '_79c', '_80c', '_81c', '_82c', '_83c', '_84c', '_85c', '_86c', '_87c', '_88c', '_89c', '_90c', '_91c', '_92c', '_93c', '_94c', '_95c', '_96c', '_97c', '_98c', '_99c', '_100c', '_101c', '_102c', '_103c', '_104c', '_105c', '_106c', '_107c', '_108c', '_109c', '_110c', '_111c', '_112c', '_113c', '_114c', '_115c', '_116c', '_117c', '_118c', '_119c', '_120c', '_121c', '_122c', '_123c', '_124c', '_125c', '_126c', '_127c']"
     ]
    }
   ],
   "source": [
    "feature_names = df.columns\n",
    "print(feature_names)"
   ]
  },
  {
   "cell_type": "code",
   "execution_count": 11,
   "metadata": {},
   "outputs": [],
   "source": [
    "feature_names[0]= 'id'"
   ]
  },
  {
   "cell_type": "code",
   "execution_count": 12,
   "metadata": {},
   "outputs": [],
   "source": [
    "node_embeddings = df.toDF(*feature_names)"
   ]
  },
  {
   "cell_type": "code",
   "execution_count": 25,
   "metadata": {},
   "outputs": [
    {
     "name": "stdout",
     "output_type": "stream",
     "text": [
      "'/Projects/amlsim/Resources/node_labels_for_plotting.csv/part-00000-adb9656d-a865-4da2-a42f-23ac3f2eca52-c000.csv'"
     ]
    }
   ],
   "source": [
    "from hops import hdfs\n",
    "import pandas \n",
    "node_path = \"hdfs:///Projects/amlsim/Resources/node_embeddings_for_plotting.csv\"\n",
    "node_embeddings = hdfs.get_plain_path([path for path in hdfs.ls(node_path) if path.endswith(\"csv\")][0])\n",
    "\n",
    "labels_path = \"hdfs:///Projects/amlsim/Resources/node_labels_for_plotting.csv\"\n",
    "labels = hdfs.get_plain_path([path for path in hdfs.ls(labels_path) if path.endswith(\"csv\")][0])\n",
    "labels"
   ]
  },
  {
   "cell_type": "code",
   "execution_count": 16,
   "metadata": {},
   "outputs": [],
   "source": [
    "node_embeddings.coalesce(1)\\\n",
    "      .write\\\n",
    "      .option(\"header\",\"true\")\\\n",
    "      .option(\"sep\",\",\")\\\n",
    "      .mode(\"overwrite\")\\\n",
    "      .csv(\"hdfs:///Projects/amlsim/Resources/node_embeddings_for_plotting.csv\")\n",
    "    \n",
    "labels.coalesce(1)\\\n",
    "      .write\\\n",
    "      .option(\"header\",\"true\")\\\n",
    "      .option(\"sep\",\",\")\\\n",
    "      .mode(\"overwrite\")\\\n",
    "      .csv(\"hdfs:///Projects/amlsim/Resources/node_labels_for_plotting.csv\")"
   ]
  },
  {
   "cell_type": "code",
   "execution_count": 27,
   "metadata": {},
   "outputs": [
    {
     "data": {
      "image/png": "[encoded data removed]",
      "text/plain": [
       "<Figure size 504x504 with 1 Axes>"
      ]
     },
     "metadata": {
      "needs_background": "light"
     },
     "output_type": "display_data"
    }
   ],
   "source": [
    "%%local\n",
    "%matplotlib inline \n",
    "import pandas \n",
    "import matplotlib.pyplot as plt\n",
    "import pandas as pd\n",
    "from hops import hdfs\n",
    "import pydoop.hdfs as pydoop\n",
    "\n",
    "from sklearn.manifold import TSNE\n",
    "transform = TSNE  # PCA\n",
    "\n",
    "node_path = \"hdfs:///Projects/amlsim/Resources/node_embeddings_for_plotting.csv\"\n",
    "node_embeddings = pandas.read_csv(pydoop.path.abspath(hdfs.get_plain_path([path for path in hdfs.ls(node_path) if path.endswith(\"csv\")][0])))\n",
    "\n",
    "labels_path = \"hdfs:///Projects/amlsim/Resources/node_labels_for_plotting.csv\"\n",
    "labels = pandas.read_csv(pydoop.path.abspath(hdfs.get_plain_path([path for path in hdfs.ls(labels_path) if path.endswith(\"csv\")][0])))\n",
    "\n",
    "\n",
    "trans = transform(n_components=2)\n",
    "node_embeddings_2d = trans.fit_transform(node_embeddings)\n",
    "\n",
    "# draw the embedding points, coloring them by the target label (paper subject)\n",
    "alpha = 0.7\n",
    "label_map = pd.Series(labels.is_sar.values,index=labels.id).to_dict()\n",
    "\n",
    "node_colours = []\n",
    "for target in node_embeddings.id.values:\n",
    "    if target in label_map:\n",
    "        node_colours.append(label_map[target])\n",
    "    else:\n",
    "        node_colours.append(0)\n",
    "        \n",
    "plt.figure(figsize=(7, 7))\n",
    "plt.axes().set(aspect=\"equal\")\n",
    "plt.scatter(\n",
    "    node_embeddings_2d[:, 0],\n",
    "    node_embeddings_2d[:, 1],\n",
    "    c=node_colours,\n",
    "    cmap=\"jet\",\n",
    "    alpha=alpha,\n",
    ")\n",
    "plt.title(\"{} visualization of node embeddings\".format(transform.__name__))\n",
    "plt.show()"
   ]
  },
  {
   "cell_type": "code",
   "execution_count": 19,
   "metadata": {},
   "outputs": [
    {
     "name": "stdout",
     "output_type": "stream",
     "text": [
      "Started copying local path tsne.pdf to hdfs path hdfs://rpc.namenode.service.consul:8020/Projects/amlsim/Resources/tsne.pdf\n",
      "\n",
      "Finished copying"
     ]
    }
   ],
   "source": [
    "import matplotlib.pyplot as plt\n",
    "import pandas as pd\n",
    "\n",
    "node_embeddings = node_embeddings.toPandas()\n",
    "labels = labels.toPandas()\n",
    "from sklearn.manifold import TSNE\n",
    "transform = TSNE  # PCA\n",
    "trans = transform(n_components=2)\n",
    "node_embeddings_2d = trans.fit_transform(node_embeddings)\n",
    "\n",
    "# draw the embedding points, coloring them by the target label (paper subject)\n",
    "alpha = 0.7\n",
    "label_map = pd.Series(labels.is_sar.values,index=labels.id).to_dict()\n",
    "\n",
    "node_colours = []\n",
    "for target in node_embeddings.id.values:\n",
    "    if target in label_map:\n",
    "        node_colours.append(label_map[target])\n",
    "    else:\n",
    "        node_colours.append(0)\n",
    "        \n",
    "plt.figure(figsize=(7, 7))\n",
    "plt.axes().set(aspect=\"equal\")\n",
    "plt.scatter(\n",
    "    node_embeddings_2d[:, 0],\n",
    "    node_embeddings_2d[:, 1],\n",
    "    c=node_colours,\n",
    "    cmap=\"jet\",\n",
    "    alpha=alpha,\n",
    ")\n",
    "#plt.title(\"{} visualization of node embeddings\".format(transform.__name__))\n",
    "plt.savefig(\"tsne.pdf\")\n",
    "plt.close()\n",
    "\n",
    "from hops import hdfs\n",
    "hdfs.copy_to_hdfs('tsne.pdf', \"Resources\", overwrite=True, project=\"amlsim\")"
   ]
  },
  {
   "cell_type": "code",
   "execution_count": null,
   "metadata": {},
   "outputs": [],
   "source": []
  },
  {
   "cell_type": "code",
   "execution_count": null,
   "metadata": {},
   "outputs": [],
   "source": []
  },
  {
   "cell_type": "code",
   "execution_count": null,
   "metadata": {},
   "outputs": [],
   "source": []
  },
  {
   "cell_type": "code",
   "execution_count": null,
   "metadata": {},
   "outputs": [],
   "source": []
  },
  {
   "cell_type": "code",
   "execution_count": 9,
   "metadata": {},
   "outputs": [
    {
     "name": "stdout",
     "output_type": "stream",
     "text": [
      "Registering feature metadata...\n",
      "Registering feature metadata... [COMPLETE]\n",
      "Writing feature data to offline feature group (Hive)...\n",
      "Running sql: use paysim_featurestore against offline feature store\n",
      "Writing feature data to offline feature group (Hive)... [COMPLETE]\n",
      "Feature group created successfully"
     ]
    }
   ],
   "source": [
    "from hops import featurestore\n",
    "\n",
    "featurestore.create_featuregroup(\n",
    "    df,\n",
    "    \"embeddings_features\",\n",
    "    description=\"embeddings features\",\n",
    "    descriptive_statistics=False,\n",
    "    feature_correlation=False,\n",
    "    feature_histograms=False,\n",
    "    cluster_analysis=False,\n",
    "    featurestore=featurestore.project_featurestore(),\n",
    "    featuregroup_version= featurestore.get_latest_featuregroup_version(\"embeddings_features\") + 1       \n",
    ")\n"
   ]
  },
  {
   "cell_type": "code",
   "execution_count": null,
   "metadata": {},
   "outputs": [],
   "source": []
  },
  {
   "cell_type": "code",
   "execution_count": 11,
   "metadata": {},
   "outputs": [
    {
     "name": "stdout",
     "output_type": "stream",
     "text": [
      "Running sql: use paysim_featurestore against offline feature store\n",
      "SQL string for the query created successfully\n",
      "Running sql: SELECT * FROM node_features_2 against offline feature store\n",
      "+-----+--------+----+\n",
      "|label|      id|type|\n",
      "+-----+--------+----+\n",
      "|    0|be48fd21|   0|\n",
      "|    0|74a25898|   0|\n",
      "|    1|a7dbdccf|   0|\n",
      "|    1|a0dd1711|   0|\n",
      "|    1|21e606f8|   0|\n",
      "|    1|0d85d2da|   0|\n",
      "|    0|a4ca0025|   2|\n",
      "|    0|e49d5b08|   2|\n",
      "|    0|b3cb9431|   0|\n",
      "|    1|e9f40a65|   0|\n",
      "|    1|915129a1|   0|\n",
      "|    1|54e41f37|   0|\n",
      "|    1|238bcb74|   0|\n",
      "|    1|75af7fb0|   0|\n",
      "|    0|1094e145|   0|\n",
      "|    0|439a40f9|   0|\n",
      "|    0|dbce3268|   0|\n",
      "|    1|96e4b8ea|   0|\n",
      "|    0|3df2fa55|   2|\n",
      "|    0|225130db|   2|\n",
      "+-----+--------+----+\n",
      "only showing top 20 rows"
     ]
    }
   ],
   "source": [
    "from hops import featurestore\n",
    "nodes = featurestore.get_featuregroup(\"node_features\", featuregroup_version= featurestore.get_latest_featuregroup_version(\"node_features\"))\n",
    "\n",
    "\n",
    "nodes.show()"
   ]
  },
  {
   "cell_type": "code",
   "execution_count": 12,
   "metadata": {},
   "outputs": [
    {
     "name": "stdout",
     "output_type": "stream",
     "text": [
      "root\n",
      " |-- label: string (nullable = true)\n",
      " |-- id: string (nullable = true)\n",
      " |-- type: string (nullable = true)"
     ]
    }
   ],
   "source": [
    "nodes.printSchema()"
   ]
  },
  {
   "cell_type": "code",
   "execution_count": null,
   "metadata": {},
   "outputs": [],
   "source": []
  },
  {
   "cell_type": "code",
   "execution_count": 13,
   "metadata": {},
   "outputs": [
    {
     "name": "stdout",
     "output_type": "stream",
     "text": [
      "460"
     ]
    }
   ],
   "source": [
    "embeddings_td = df.join(nodes.drop('type'),on='id')\n",
    "embeddings_td.count()"
   ]
  },
  {
   "cell_type": "code",
   "execution_count": 14,
   "metadata": {},
   "outputs": [],
   "source": [
    "from pyspark.sql import functions as func\n",
    "from pyspark.sql.types import IntegerType\n",
    "embeddings_td = embeddings_td.withColumn(\"label\" , func.col(\"label\").cast(IntegerType()))"
   ]
  },
  {
   "cell_type": "code",
   "execution_count": 15,
   "metadata": {},
   "outputs": [
    {
     "name": "stdout",
     "output_type": "stream",
     "text": [
      "root\n",
      " |-- id: string (nullable = true)\n",
      " |-- _0c: double (nullable = true)\n",
      " |-- _1c: double (nullable = true)\n",
      " |-- _2c: double (nullable = true)\n",
      " |-- _3c: double (nullable = true)\n",
      " |-- _4c: double (nullable = true)\n",
      " |-- _5c: double (nullable = true)\n",
      " |-- _6c: double (nullable = true)\n",
      " |-- _7c: double (nullable = true)\n",
      " |-- _8c: double (nullable = true)\n",
      " |-- _9c: double (nullable = true)\n",
      " |-- _10c: double (nullable = true)\n",
      " |-- _11c: double (nullable = true)\n",
      " |-- _12c: double (nullable = true)\n",
      " |-- _13c: double (nullable = true)\n",
      " |-- _14c: double (nullable = true)\n",
      " |-- _15c: double (nullable = true)\n",
      " |-- _16c: double (nullable = true)\n",
      " |-- _17c: double (nullable = true)\n",
      " |-- _18c: double (nullable = true)\n",
      " |-- _19c: double (nullable = true)\n",
      " |-- _20c: double (nullable = true)\n",
      " |-- _21c: double (nullable = true)\n",
      " |-- _22c: double (nullable = true)\n",
      " |-- _23c: double (nullable = true)\n",
      " |-- _24c: double (nullable = true)\n",
      " |-- _25c: double (nullable = true)\n",
      " |-- _26c: double (nullable = true)\n",
      " |-- _27c: double (nullable = true)\n",
      " |-- _28c: double (nullable = true)\n",
      " |-- _29c: double (nullable = true)\n",
      " |-- _30c: double (nullable = true)\n",
      " |-- _31c: double (nullable = true)\n",
      " |-- _32c: double (nullable = true)\n",
      " |-- _33c: double (nullable = true)\n",
      " |-- _34c: double (nullable = true)\n",
      " |-- _35c: double (nullable = true)\n",
      " |-- _36c: double (nullable = true)\n",
      " |-- _37c: double (nullable = true)\n",
      " |-- _38c: double (nullable = true)\n",
      " |-- _39c: double (nullable = true)\n",
      " |-- _40c: double (nullable = true)\n",
      " |-- _41c: double (nullable = true)\n",
      " |-- _42c: double (nullable = true)\n",
      " |-- _43c: double (nullable = true)\n",
      " |-- _44c: double (nullable = true)\n",
      " |-- _45c: double (nullable = true)\n",
      " |-- _46c: double (nullable = true)\n",
      " |-- _47c: double (nullable = true)\n",
      " |-- _48c: double (nullable = true)\n",
      " |-- _49c: double (nullable = true)\n",
      " |-- _50c: double (nullable = true)\n",
      " |-- _51c: double (nullable = true)\n",
      " |-- _52c: double (nullable = true)\n",
      " |-- _53c: double (nullable = true)\n",
      " |-- _54c: double (nullable = true)\n",
      " |-- _55c: double (nullable = true)\n",
      " |-- _56c: double (nullable = true)\n",
      " |-- _57c: double (nullable = true)\n",
      " |-- _58c: double (nullable = true)\n",
      " |-- _59c: double (nullable = true)\n",
      " |-- _60c: double (nullable = true)\n",
      " |-- _61c: double (nullable = true)\n",
      " |-- _62c: double (nullable = true)\n",
      " |-- _63c: double (nullable = true)\n",
      " |-- _64c: double (nullable = true)\n",
      " |-- _65c: double (nullable = true)\n",
      " |-- _66c: double (nullable = true)\n",
      " |-- _67c: double (nullable = true)\n",
      " |-- _68c: double (nullable = true)\n",
      " |-- _69c: double (nullable = true)\n",
      " |-- _70c: double (nullable = true)\n",
      " |-- _71c: double (nullable = true)\n",
      " |-- _72c: double (nullable = true)\n",
      " |-- _73c: double (nullable = true)\n",
      " |-- _74c: double (nullable = true)\n",
      " |-- _75c: double (nullable = true)\n",
      " |-- _76c: double (nullable = true)\n",
      " |-- _77c: double (nullable = true)\n",
      " |-- _78c: double (nullable = true)\n",
      " |-- _79c: double (nullable = true)\n",
      " |-- _80c: double (nullable = true)\n",
      " |-- _81c: double (nullable = true)\n",
      " |-- _82c: double (nullable = true)\n",
      " |-- _83c: double (nullable = true)\n",
      " |-- _84c: double (nullable = true)\n",
      " |-- _85c: double (nullable = true)\n",
      " |-- _86c: double (nullable = true)\n",
      " |-- _87c: double (nullable = true)\n",
      " |-- _88c: double (nullable = true)\n",
      " |-- _89c: double (nullable = true)\n",
      " |-- _90c: double (nullable = true)\n",
      " |-- _91c: double (nullable = true)\n",
      " |-- _92c: double (nullable = true)\n",
      " |-- _93c: double (nullable = true)\n",
      " |-- _94c: double (nullable = true)\n",
      " |-- _95c: double (nullable = true)\n",
      " |-- _96c: double (nullable = true)\n",
      " |-- _97c: double (nullable = true)\n",
      " |-- _98c: double (nullable = true)\n",
      " |-- _99c: double (nullable = true)\n",
      " |-- _100c: double (nullable = true)\n",
      " |-- _101c: double (nullable = true)\n",
      " |-- _102c: double (nullable = true)\n",
      " |-- _103c: double (nullable = true)\n",
      " |-- _104c: double (nullable = true)\n",
      " |-- _105c: double (nullable = true)\n",
      " |-- _106c: double (nullable = true)\n",
      " |-- _107c: double (nullable = true)\n",
      " |-- _108c: double (nullable = true)\n",
      " |-- _109c: double (nullable = true)\n",
      " |-- _110c: double (nullable = true)\n",
      " |-- _111c: double (nullable = true)\n",
      " |-- _112c: double (nullable = true)\n",
      " |-- _113c: double (nullable = true)\n",
      " |-- _114c: double (nullable = true)\n",
      " |-- _115c: double (nullable = true)\n",
      " |-- _116c: double (nullable = true)\n",
      " |-- _117c: double (nullable = true)\n",
      " |-- _118c: double (nullable = true)\n",
      " |-- _119c: double (nullable = true)\n",
      " |-- _120c: double (nullable = true)\n",
      " |-- _121c: double (nullable = true)\n",
      " |-- _122c: double (nullable = true)\n",
      " |-- _123c: double (nullable = true)\n",
      " |-- _124c: double (nullable = true)\n",
      " |-- _125c: double (nullable = true)\n",
      " |-- _126c: double (nullable = true)\n",
      " |-- _127c: double (nullable = true)\n",
      " |-- label: integer (nullable = true)"
     ]
    }
   ],
   "source": [
    "embeddings_td.printSchema()"
   ]
  },
  {
   "cell_type": "code",
   "execution_count": 17,
   "metadata": {},
   "outputs": [
    {
     "name": "stdout",
     "output_type": "stream",
     "text": [
      "Could not infer tfrecords schema for the dataframe, module 'tensorflow' has no attribute 'VarLenFeature'\n",
      "write feature frame, write_mode: overwrite\n",
      "Training Dataset created successfully"
     ]
    }
   ],
   "source": [
    "featurestore.create_training_dataset(\n",
    "    embeddings_td, \"embeddings_training_dataset\",\n",
    "    descriptive_statistics=False,\n",
    "    feature_correlation=False,\n",
    "    feature_histograms=False,\n",
    "    cluster_analysis=False,\n",
    "    featurestore=featurestore.project_featurestore(),\n",
    "    training_dataset_version=featurestore.get_latest_training_dataset_version(\"embeddings_training_dataset\") + 1\n",
    ")\n"
   ]
  },
  {
   "cell_type": "code",
   "execution_count": null,
   "metadata": {},
   "outputs": [],
   "source": []
  }
 ],
 "metadata": {
  "kernelspec": {
   "display_name": "PySpark",
   "language": "python",
   "name": "pysparkkernel"
  },
  "language_info": {
   "codemirror_mode": {
    "name": "python",
    "version": 3
   },
   "mimetype": "text/x-python",
   "name": "pyspark",
   "pygments_lexer": "python3"
  }
 },
 "nbformat": 4,
 "nbformat_minor": 4
}
