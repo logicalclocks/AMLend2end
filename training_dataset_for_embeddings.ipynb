{
 "cells": [
  {
   "cell_type": "code",
   "execution_count": 1,
   "metadata": {},
   "outputs": [
    {
     "name": "stdout",
     "output_type": "stream",
     "text": [
      "Starting Spark application\n"
     ]
    },
    {
     "data": {
      "text/html": [
       "<table>\n",
       "<tr><th>ID</th><th>YARN Application ID</th><th>Kind</th><th>State</th><th>Spark UI</th><th>Driver log</th></tr><tr><td>26</td><td>application_1607211657348_0028</td><td>pyspark</td><td>idle</td><td><a target=\"_blank\" href=\"http://resourcemanager.service.consul:8088/proxy/application_1607211657348_0028/\">Link</a></td><td><a target=\"_blank\" href=\"http://hopsworks0.logicalclocks.com:8042/node/containerlogs/container_e01_1607211657348_0028_01_000001/amlsim2__meb10000\">Link</a></td></tr></table>"
      ],
      "text/plain": [
       "<IPython.core.display.HTML object>"
      ]
     },
     "metadata": {},
     "output_type": "display_data"
    },
    {
     "name": "stdout",
     "output_type": "stream",
     "text": [
      "SparkSession available as 'spark'.\n",
      "<pyspark.sql.session.SparkSession object at 0x7fa937ffeed0>"
     ]
    }
   ],
   "source": [
    "spark"
   ]
  },
  {
   "cell_type": "code",
   "execution_count": 2,
   "metadata": {},
   "outputs": [],
   "source": [
    "import hashlib\n",
    "from datetime import datetime\n",
    "from pyspark.sql import functions as func\n",
    "from pyspark.sql.types import FloatType\n",
    "import hsfs"
   ]
  },
  {
   "cell_type": "code",
   "execution_count": 3,
   "metadata": {},
   "outputs": [
    {
     "name": "stdout",
     "output_type": "stream",
     "text": [
      "Connected. Call `.close()` to terminate connection gracefully."
     ]
    }
   ],
   "source": [
    "# Create a connection\n",
    "connection = hsfs.connection()\n",
    "# Get the feature store handle for the project's feature store\n",
    "fs = connection.get_feature_store()"
   ]
  },
  {
   "cell_type": "markdown",
   "metadata": {},
   "source": [
    "## place holder"
   ]
  },
  {
   "cell_type": "code",
   "execution_count": 4,
   "metadata": {},
   "outputs": [],
   "source": [
    "transactions_fg = fs.get_feature_group(\"transactions_fg\", 1)"
   ]
  },
  {
   "cell_type": "code",
   "execution_count": 7,
   "metadata": {},
   "outputs": [
    {
     "name": "stdout",
     "output_type": "stream",
     "text": [
      "+--------+-------+------+-------+--------+------+--------------+------+\n",
      "|alert_id|tran_id|target|tx_type|base_amt|is_sar|tran_timestamp|source|\n",
      "+--------+-------+------+-------+--------+------+--------------+------+\n",
      "|      -1|      1|  3259|      4| 9405.71|     0|   1.4832288E9|  1767|\n",
      "|      -1|      2|  5141|      4| 6884.54|     0|   1.4832288E9|  7363|\n",
      "|      -1|      3|  9532|      4|  7968.4|     0|   1.4832288E9|  7585|\n",
      "|      -1|      4|  8792|      4| 9042.67|     0|   1.4832288E9|  1750|\n",
      "|      -1|      5|  4670|      4| 4692.79|     0|   1.4832288E9|  9060|\n",
      "|      -1|      6|  3861|      4| 4089.65|     0|   1.4832288E9|  8752|\n",
      "|      -1|      7|  3805|      4| 3055.04|     0|   1.4832288E9|  9645|\n",
      "|      -1|      8|  9280|      4| 6473.45|     0|   1.4832288E9|  7150|\n",
      "|      -1|      9|  6369|      4| 2583.42|     0|   1.4832288E9|  1685|\n",
      "|      -1|     10|  8255|      4| 6753.04|     0|   1.4832288E9|  7846|\n",
      "|      -1|     11|  5957|      4| 1743.57|     0|   1.4832288E9|   878|\n",
      "|      -1|     12|  4091|      4| 8591.59|     0|   1.4832288E9|   797|\n",
      "|      -1|     13|  5274|      4| 7006.77|     0|   1.4832288E9|  8472|\n",
      "|      -1|     14|  3296|      4| 5095.46|     0|   1.4832288E9|  5584|\n",
      "|      -1|     15|  7618|      4|  2537.2|     0|   1.4832288E9|   616|\n",
      "|      -1|     16|  7617|      4| 3120.27|     0|   1.4832288E9|  7312|\n",
      "|      -1|     17|  9987|      4| 5308.95|     0|   1.4832288E9|  9886|\n",
      "|      -1|     18|  3603|      4| 6788.85|     0|   1.4832288E9|  1132|\n",
      "|      -1|     19|  3844|      4| 5708.25|     0|   1.4832288E9|   266|\n",
      "|      -1|     20|  2811|      4| 5020.95|     0|   1.4832288E9|  2184|\n",
      "+--------+-------+------+-------+--------+------+--------------+------+\n",
      "only showing top 20 rows"
     ]
    }
   ],
   "source": [
    "transactions_df = transactions_fg.read()\n",
    "transactions_df.show()"
   ]
  },
  {
   "cell_type": "code",
   "execution_count": null,
   "metadata": {},
   "outputs": [],
   "source": []
  },
  {
   "cell_type": "markdown",
   "metadata": {},
   "source": [
    "## place holder"
   ]
  },
  {
   "cell_type": "code",
   "execution_count": 13,
   "metadata": {},
   "outputs": [
    {
     "name": "stdout",
     "output_type": "stream",
     "text": [
      "<hsfs.training_dataset.TrainingDataset object at 0x7fa945fd7110>"
     ]
    }
   ],
   "source": [
    "edges_td_meta = fs.create_training_dataset(name=\"edges_td\",\n",
    "                                       version=1,\n",
    "                                       data_format=\"csv\",\n",
    "                                       label = [\"is_sar\"],   \n",
    "                                       description=\"edges training dataset\")\n",
    "edges_td_meta.save(transactions_df)"
   ]
  },
  {
   "cell_type": "markdown",
   "metadata": {},
   "source": [
    "### place holder"
   ]
  },
  {
   "cell_type": "code",
   "execution_count": 14,
   "metadata": {},
   "outputs": [],
   "source": [
    "account_fg = fs.get_feature_group(\"account_features\", 1)"
   ]
  },
  {
   "cell_type": "code",
   "execution_count": 15,
   "metadata": {},
   "outputs": [
    {
     "name": "stdout",
     "output_type": "stream",
     "text": [
      "+-------+---------------+--------------+---------+\n",
      "|acct_id|initial_deposit|tx_behavior_id|prior_sar|\n",
      "+-------+---------------+--------------+---------+\n",
      "|      0|       84442.19|             1|        0|\n",
      "|      1|       75795.44|             1|        0|\n",
      "|      2|       42057.16|             1|        0|\n",
      "|      3|       25891.68|             1|        0|\n",
      "|      4|       51127.47|             1|        0|\n",
      "|      5|       40493.41|             1|        0|\n",
      "|      6|       78379.86|             1|        0|\n",
      "|      7|       30331.27|             1|        0|\n",
      "|      8|        47659.7|             1|        0|\n",
      "|      9|        58338.2|             1|        0|\n",
      "|     10|       90811.29|             1|        0|\n",
      "|     11|       50468.69|             1|        0|\n",
      "|     12|       28183.78|             1|        0|\n",
      "|     13|       75580.42|             1|        0|\n",
      "|     14|        61836.9|             1|        0|\n",
      "|     15|       25050.63|             1|        0|\n",
      "|     16|       90974.63|             1|        0|\n",
      "|     17|       98278.55|             1|        0|\n",
      "|     18|       81021.72|             1|        0|\n",
      "|     19|        90216.6|             1|        0|\n",
      "+-------+---------------+--------------+---------+\n",
      "only showing top 20 rows"
     ]
    }
   ],
   "source": [
    "accounts_df = account_fg.read()\n",
    "accounts_df.show()"
   ]
  },
  {
   "cell_type": "markdown",
   "metadata": {},
   "source": [
    "### place holder"
   ]
  },
  {
   "cell_type": "code",
   "execution_count": 18,
   "metadata": {},
   "outputs": [
    {
     "name": "stdout",
     "output_type": "stream",
     "text": [
      "+----+------+\n",
      "|  id|is_sar|\n",
      "+----+------+\n",
      "|3997|     1|\n",
      "|5300|     1|\n",
      "| 463|     1|\n",
      "|8086|     1|\n",
      "|7833|     1|\n",
      "|1088|     0|\n",
      "|6654|     0|\n",
      "|9465|     0|\n",
      "|7880|     0|\n",
      "|6336|     0|\n",
      "|1580|     0|\n",
      "|1829|     0|\n",
      "|7993|     0|\n",
      "|7240|     0|\n",
      "|7253|     0|\n",
      "|8389|     0|\n",
      "|4935|     0|\n",
      "|6658|     0|\n",
      "|6466|     0|\n",
      "|8592|     0|\n",
      "+----+------+\n",
      "only showing top 20 rows"
     ]
    }
   ],
   "source": [
    "source = transactions_fg.select([\"source\",\"is_sar\"]).read().withColumnRenamed(\"source\",\"id\")\n",
    "target = transactions_fg.select([\"target\",\"is_sar\"]).read().withColumnRenamed(\"target\",\"id\")\n",
    "nodes = source.union(target)\n",
    "sar_nodes = nodes.where(nodes.is_sar == 1)\n",
    "non_sar = nodes.where(nodes.is_sar == 0)\n",
    "non_sar_nodes = non_sar.join(sar_nodes, [\"id\"], \"leftanti\")\n",
    "labels = sar_nodes.union(non_sar_nodes).dropDuplicates(subset=[\"id\"])\n",
    "labels.show()"
   ]
  },
  {
   "cell_type": "code",
   "execution_count": 19,
   "metadata": {},
   "outputs": [
    {
     "name": "stdout",
     "output_type": "stream",
     "text": [
      "+---+---------------+--------------+---------+\n",
      "| id|initial_deposit|tx_behavior_id|prior_sar|\n",
      "+---+---------------+--------------+---------+\n",
      "|  0|       84442.19|             1|        0|\n",
      "|  1|       75795.44|             1|        0|\n",
      "|  2|       42057.16|             1|        0|\n",
      "|  3|       25891.68|             1|        0|\n",
      "|  4|       51127.47|             1|        0|\n",
      "|  5|       40493.41|             1|        0|\n",
      "|  6|       78379.86|             1|        0|\n",
      "|  7|       30331.27|             1|        0|\n",
      "|  8|        47659.7|             1|        0|\n",
      "|  9|        58338.2|             1|        0|\n",
      "| 10|       90811.29|             1|        0|\n",
      "| 11|       50468.69|             1|        0|\n",
      "| 12|       28183.78|             1|        0|\n",
      "| 13|       75580.42|             1|        0|\n",
      "| 14|        61836.9|             1|        0|\n",
      "| 15|       25050.63|             1|        0|\n",
      "| 16|       90974.63|             1|        0|\n",
      "| 17|       98278.55|             1|        0|\n",
      "| 18|       81021.72|             1|        0|\n",
      "| 19|        90216.6|             1|        0|\n",
      "+---+---------------+--------------+---------+\n",
      "only showing top 20 rows"
     ]
    }
   ],
   "source": [
    "accounts_df = accounts_df.withColumnRenamed(\"acct_id\",\"id\")\n",
    "accounts_df.show()"
   ]
  },
  {
   "cell_type": "code",
   "execution_count": 20,
   "metadata": {},
   "outputs": [
    {
     "name": "stdout",
     "output_type": "stream",
     "text": [
      "10000"
     ]
    }
   ],
   "source": [
    "accounts_df.count()"
   ]
  },
  {
   "cell_type": "code",
   "execution_count": 21,
   "metadata": {},
   "outputs": [
    {
     "name": "stdout",
     "output_type": "stream",
     "text": [
      "9998"
     ]
    }
   ],
   "source": [
    "nodes_df = accounts_df.join(labels, [\"id\"])\n",
    "nodes_df.count()"
   ]
  },
  {
   "cell_type": "code",
   "execution_count": 22,
   "metadata": {},
   "outputs": [
    {
     "name": "stdout",
     "output_type": "stream",
     "text": [
      "<hsfs.training_dataset.TrainingDataset object at 0x7fa945b27750>"
     ]
    }
   ],
   "source": [
    "node_td = fs.create_training_dataset(name=\"node_td\",\n",
    "                                       version=1,\n",
    "                                       data_format=\"csv\",   \n",
    "                                       description=\"node training dataset\")\n",
    "node_td.save(accounts_df)"
   ]
  },
  {
   "cell_type": "code",
   "execution_count": null,
   "metadata": {},
   "outputs": [],
   "source": []
  }
 ],
 "metadata": {
  "kernelspec": {
   "display_name": "PySpark",
   "language": "python",
   "name": "pysparkkernel"
  },
  "language_info": {
   "codemirror_mode": {
    "name": "python",
    "version": 3
   },
   "mimetype": "text/x-python",
   "name": "pyspark",
   "pygments_lexer": "python3"
  }
 },
 "nbformat": 4,
 "nbformat_minor": 4
}
