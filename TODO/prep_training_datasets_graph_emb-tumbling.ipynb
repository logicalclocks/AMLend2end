{
 "cells": [
  {
   "cell_type": "code",
   "execution_count": 14,
   "metadata": {},
   "outputs": [
    {
     "name": "stdout",
     "output_type": "stream",
     "text": [
      "<pyspark.sql.session.SparkSession object at 0x7fea9e121f90>"
     ]
    }
   ],
   "source": [
    "spark"
   ]
  },
  {
   "cell_type": "code",
   "execution_count": 15,
   "metadata": {},
   "outputs": [],
   "source": [
    "import hashlib\n",
    "from datetime import datetime\n",
    "from graphframes import *\n",
    "from pyspark.sql import functions as func\n",
    "from pyspark.sql.types import FloatType\n",
    "import hsfs\n",
    "from hops import hdfs\n",
    "import os\n",
    "from pyspark.sql import SQLContext"
   ]
  },
  {
   "cell_type": "code",
   "execution_count": 16,
   "metadata": {},
   "outputs": [],
   "source": [
    "def hashnode(x):\n",
    "    return hashlib.sha1(x.encode(\"UTF-8\")).hexdigest()[:8]\n",
    "\n",
    "hashnode_udf = func.udf(hashnode)"
   ]
  },
  {
   "cell_type": "code",
   "execution_count": 17,
   "metadata": {},
   "outputs": [
    {
     "name": "stdout",
     "output_type": "stream",
     "text": [
      "Connected. Call `.close()` to terminate connection gracefully."
     ]
    }
   ],
   "source": [
    "# Create a connection\n",
    "connection = hsfs.connection()\n",
    "# Get the feature store handle for the project's feature store\n",
    "fs = connection.get_feature_store()"
   ]
  },
  {
   "cell_type": "code",
   "execution_count": 18,
   "metadata": {},
   "outputs": [],
   "source": [
    "edge_fg = fs.get_feature_group('transactions_fg', 1)\n",
    "node_fg = fs.get_feature_group('account_features', 1)"
   ]
  },
  {
   "cell_type": "code",
   "execution_count": 19,
   "metadata": {},
   "outputs": [
    {
     "name": "stdout",
     "output_type": "stream",
     "text": [
      "+-------+---------------+--------------+---------+\n",
      "|acct_id|initial_deposit|tx_behavior_id|prior_sar|\n",
      "+-------+---------------+--------------+---------+\n",
      "|      0|       84442.19|             1|        0|\n",
      "|      1|       75795.44|             1|        0|\n",
      "|      2|       42057.16|             1|        0|\n",
      "|      3|       25891.68|             1|        0|\n",
      "|      4|       51127.47|             1|        0|\n",
      "+-------+---------------+--------------+---------+\n",
      "only showing top 5 rows"
     ]
    }
   ],
   "source": [
    "node_fg.show(5)"
   ]
  },
  {
   "cell_type": "code",
   "execution_count": 20,
   "metadata": {},
   "outputs": [
    {
     "name": "stdout",
     "output_type": "stream",
     "text": [
      "+------+-------+--------------+--------+------+--------+------+-------+\n",
      "|is_sar|tran_id|tran_timestamp|base_amt|target|alert_id|source|tx_type|\n",
      "+------+-------+--------------+--------+------+--------+------+-------+\n",
      "|     0|      1|   1.4832288E9| 9405.71|  3259|      -1|  1767|      4|\n",
      "|     0|      2|   1.4832288E9| 6884.54|  5141|      -1|  7363|      4|\n",
      "|     0|      3|   1.4832288E9|  7968.4|  9532|      -1|  7585|      4|\n",
      "|     0|      4|   1.4832288E9| 9042.67|  8792|      -1|  1750|      4|\n",
      "|     0|      5|   1.4832288E9| 4692.79|  4670|      -1|  9060|      4|\n",
      "+------+-------+--------------+--------+------+--------+------+-------+\n",
      "only showing top 5 rows"
     ]
    }
   ],
   "source": [
    "edge_fg.show(5)"
   ]
  },
  {
   "cell_type": "code",
   "execution_count": 21,
   "metadata": {},
   "outputs": [],
   "source": [
    "only_sar_edge_df = edge_fg.read().filter(func.col('alert_id') != -1)\n",
    "only_normal_edge_df =  edge_fg.read().filter(func.col('alert_id') == -1)"
   ]
  },
  {
   "cell_type": "code",
   "execution_count": 22,
   "metadata": {},
   "outputs": [
    {
     "name": "stdout",
     "output_type": "stream",
     "text": [
      "+------+-------+--------------+--------+------+--------+------+-------+\n",
      "|is_sar|tran_id|tran_timestamp|base_amt|target|alert_id|source|tx_type|\n",
      "+------+-------+--------------+--------+------+--------+------+-------+\n",
      "|     0|      1|   1.4832288E9| 9405.71|  3259|      -1|  1767|      4|\n",
      "|     0|      2|   1.4832288E9| 6884.54|  5141|      -1|  7363|      4|\n",
      "|     0|      3|   1.4832288E9|  7968.4|  9532|      -1|  7585|      4|\n",
      "|     0|      4|   1.4832288E9| 9042.67|  8792|      -1|  1750|      4|\n",
      "|     0|      5|   1.4832288E9| 4692.79|  4670|      -1|  9060|      4|\n",
      "+------+-------+--------------+--------+------+--------+------+-------+\n",
      "only showing top 5 rows"
     ]
    }
   ],
   "source": [
    "only_normal_edge_df.show(5)"
   ]
  },
  {
   "cell_type": "code",
   "execution_count": 23,
   "metadata": {},
   "outputs": [
    {
     "name": "stdout",
     "output_type": "stream",
     "text": [
      "+------+-------+--------------+--------+------+--------+------+-------+\n",
      "|is_sar|tran_id|tran_timestamp|base_amt|target|alert_id|source|tx_type|\n",
      "+------+-------+--------------+--------+------+--------+------+-------+\n",
      "|     1|     98|   1.4832288E9|  108.62|  5688|      16|  2298|      4|\n",
      "|     1|    108|   1.4832288E9|  183.25|  9601|      26|  8627|      4|\n",
      "|     1|    135|   1.4832288E9|  142.71|  8359|      15|  2756|      4|\n",
      "|     1|    137|   1.4832288E9|  132.47|  7702|       9|  7605|      4|\n",
      "|     1|    218|   1.4832288E9|  119.51|  7377|      17|  5891|      4|\n",
      "|     1|    335|   1.4832288E9|  136.02|  1661|      12|  6787|      4|\n",
      "|     1|    439|   1.4832288E9|  194.53|  7950|       0|  8485|      4|\n",
      "|     1|    477|   1.4832288E9|  184.32|  2177|       3|  5324|      4|\n",
      "|     1|    514|   1.4832288E9|  130.63|  4616|      19|  4919|      4|\n",
      "|     1|    564|   1.4832288E9|  183.27|  1589|       5|  4170|      4|\n",
      "|     1|    580|   1.4832288E9|  135.69|  1590|      18|  6483|      4|\n",
      "|     1|    654|   1.4832288E9|  160.35|  2275|      20|   123|      4|\n",
      "|     1|    711|   1.4832288E9|  144.32|  9851|      23|  6173|      4|\n",
      "|     1|    742|   1.4832288E9|  177.32|  2182|       4|  9300|      4|\n",
      "|     1|    779|   1.4832288E9|  189.75|  5470|       1|  2344|      4|\n",
      "|     1|    780|   1.4832288E9|  112.62|  4651|      22|  9149|      4|\n",
      "|     1|    933|   1.4832288E9|  108.91|  4046|      27|   312|      4|\n",
      "|     1|    947|   1.4832288E9|  173.42|  2300|       8|  5819|      4|\n",
      "|     1|   1070|   1.4832288E9|  135.89|  1964|       6|  3792|      4|\n",
      "|     1|   1256|   1.4832288E9|  142.27|  3191|      25|  7235|      4|\n",
      "+------+-------+--------------+--------+------+--------+------+-------+\n",
      "only showing top 20 rows"
     ]
    }
   ],
   "source": [
    "only_sar_edge_df.show()"
   ]
  },
  {
   "cell_type": "code",
   "execution_count": 24,
   "metadata": {},
   "outputs": [
    {
     "name": "stdout",
     "output_type": "stream",
     "text": [
      "732"
     ]
    }
   ],
   "source": [
    "only_sar_edge_df.count()"
   ]
  },
  {
   "cell_type": "code",
   "execution_count": 25,
   "metadata": {},
   "outputs": [
    {
     "name": "stdout",
     "output_type": "stream",
     "text": [
      "732"
     ]
    }
   ],
   "source": [
    "sar_sources = only_sar_edge_df.select(\"source\")\n",
    "sar_targets = only_sar_edge_df.select(\"target\")\n",
    "sar_nodes = sar_sources.union(sar_targets).toDF(\"id\").dropDuplicates()\n",
    "sar_nodes.count()\n",
    "\n",
    "sar_edges = only_sar_edge_df.select(\"source\", \"target\").toDF(\"src\", \"dst\")\n",
    "sar_edges.count()"
   ]
  },
  {
   "cell_type": "code",
   "execution_count": 26,
   "metadata": {},
   "outputs": [],
   "source": [
    "# Now lets construct the graph\n",
    "g_sar = GraphFrame(sar_nodes,sar_edges)\n",
    "sc.setCheckpointDir(\"hdfs:///Projects/{}/Logs/sc\".format(hdfs.project_name()))\n",
    "cc_sar = g_sar.connectedComponents()"
   ]
  },
  {
   "cell_type": "code",
   "execution_count": 27,
   "metadata": {},
   "outputs": [
    {
     "name": "stdout",
     "output_type": "stream",
     "text": [
      "+----+---------+\n",
      "|  id|component|\n",
      "+----+---------+\n",
      "|8086|     2599|\n",
      "|7833|     3671|\n",
      "|3997|     2773|\n",
      "|5300|     2773|\n",
      "| 463|      124|\n",
      "|1127|     1127|\n",
      "| 540|      540|\n",
      "|6393|     3396|\n",
      "|1522|     1054|\n",
      "|5614|      825|\n",
      "|3488|     2599|\n",
      "|2393|      397|\n",
      "|7387|      643|\n",
      "|9162|     2889|\n",
      "|1265|     1009|\n",
      "|4364|     1096|\n",
      "|4042|     1590|\n",
      "|5223|     1013|\n",
      "|2249|     1009|\n",
      "|3425|     1054|\n",
      "+----+---------+\n",
      "only showing top 20 rows"
     ]
    }
   ],
   "source": [
    "cc_sar.cache().show()"
   ]
  },
  {
   "cell_type": "code",
   "execution_count": 28,
   "metadata": {},
   "outputs": [
    {
     "name": "stdout",
     "output_type": "stream",
     "text": [
      "+-----+\n",
      "|count|\n",
      "+-----+\n",
      "|    5|\n",
      "|    6|\n",
      "|    7|\n",
      "|    8|\n",
      "|    9|\n",
      "|   10|\n",
      "+-----+"
     ]
    }
   ],
   "source": [
    "cc_sar.groupBy('component').count().select('count').dropDuplicates().orderBy('count').show()"
   ]
  },
  {
   "cell_type": "code",
   "execution_count": null,
   "metadata": {},
   "outputs": [],
   "source": []
  },
  {
   "cell_type": "code",
   "execution_count": 29,
   "metadata": {},
   "outputs": [
    {
     "name": "stdout",
     "output_type": "stream",
     "text": [
      "+---------+----+\n",
      "|component|  id|\n",
      "+---------+----+\n",
      "|     2599|8086|\n",
      "|     3671|7833|\n",
      "|     2773|3997|\n",
      "|     2773|5300|\n",
      "|      124| 463|\n",
      "|     1127|1127|\n",
      "|      540| 540|\n",
      "|     3396|6393|\n",
      "|     1054|1522|\n",
      "|      825|5614|\n",
      "|     2599|3488|\n",
      "|      397|2393|\n",
      "|      643|7387|\n",
      "|     2889|9162|\n",
      "|     1009|1265|\n",
      "|     1096|4364|\n",
      "|     1590|4042|\n",
      "|     1013|5223|\n",
      "|     1009|2249|\n",
      "|     1054|3425|\n",
      "+---------+----+\n",
      "only showing top 20 rows"
     ]
    }
   ],
   "source": [
    "cc_sar_grouped = cc_sar.groupBy('component').count().where(func.col('count')>2).drop('count')\n",
    "cc_sar = cc_sar.join(cc_sar_grouped,['component'])\n",
    "cc_sar.show()"
   ]
  },
  {
   "cell_type": "code",
   "execution_count": 30,
   "metadata": {},
   "outputs": [
    {
     "name": "stdout",
     "output_type": "stream",
     "text": [
      "+---------+----+------+-------+--------------+--------+------+--------+------+-------+\n",
      "|component|  id|is_sar|tran_id|tran_timestamp|base_amt|target|alert_id|source|tx_type|\n",
      "+---------+----+------+-------+--------------+--------+------+--------+------+-------+\n",
      "|     1823|2300|     1|  44437|   1.4859072E9|  173.42|  2300|       8|  5294|      4|\n",
      "|     1009|1425|     1| 100274|   1.4892768E9|  102.86|  1425|      80|  3661|      4|\n",
      "|      892|8764|     1| 612597|    1.520208E9|  109.79|  8764|      10|  7268|      4|\n",
      "|      410|2739|     1|  12471|     1.48392E9|  138.28|  2491|      58|  2739|      4|\n",
      "|     1794|5838|     1|  33855|    1.485216E9|  101.76|  9403|      44|  5838|      4|\n",
      "|     1801|3984|     1| 284874|   1.5004224E9|  103.47|  3984|      96|  9700|      4|\n",
      "|      554|8091|     1| 522545|   1.5147648E9|  106.94|  8091|      91|   554|      4|\n",
      "|     1823|2368|     1| 266765|   1.4992992E9|  173.42|  2300|       8|  2368|      4|\n",
      "|      825|7776|     1| 706588|    1.525824E9|   63.66|  7776|      84|  4571|      4|\n",
      "|       36|7605|     1|    137|   1.4832288E9|  132.47|  7702|       9|  7605|      4|\n",
      "|     1590|1590|     1|    580|   1.4832288E9|  135.69|  1590|      18|  6483|      4|\n",
      "|     2145|7133|     1| 161186|   1.4929056E9|  194.53|  7950|       0|  7133|      4|\n",
      "|      711|8334|     1| 246587|   1.4980896E9|  177.35|  8334|      24|   711|      4|\n",
      "|     1369|8581|     1| 472208|   1.5117408E9|  114.67|  8581|      70|  1598|      4|\n",
      "|     1013|5223|     1| 810963|   1.5322176E9|  136.02|  1661|      12|  5223|      4|\n",
      "|     1257|6837|     1|  57885|   1.4866848E9|   73.41|  6837|      95|  5261|      4|\n",
      "|     2862|2862|     1|  73566|   1.4876352E9|  109.81|  2862|      50|  3355|      4|\n",
      "|     3055|8375|     1| 881716|   1.5364512E9|   155.1|  8375|      33|  7366|      4|\n",
      "|      907|7851|     1| 509573|   1.5139872E9|   47.28|  3329|      90|  7851|      4|\n",
      "|     1096|9540|     1| 527507|    1.515024E9|  133.27|  5384|      48|  9540|      4|\n",
      "+---------+----+------+-------+--------------+--------+------+--------+------+-------+\n",
      "only showing top 20 rows"
     ]
    }
   ],
   "source": [
    "sar_cc_grouped = cc_sar.join(\n",
    "    only_sar_edge_df,\n",
    "    [(only_sar_edge_df.source==cc_sar.id)|(only_sar_edge_df.target==cc_sar.id)],\n",
    "    how=\"left\"\n",
    ").dropDuplicates(subset=['tran_id'])\n",
    "sar_cc_grouped.show()"
   ]
  },
  {
   "cell_type": "code",
   "execution_count": null,
   "metadata": {},
   "outputs": [],
   "source": []
  },
  {
   "cell_type": "code",
   "execution_count": 31,
   "metadata": {},
   "outputs": [
    {
     "name": "stdout",
     "output_type": "stream",
     "text": [
      "732"
     ]
    }
   ],
   "source": [
    "sar_cc_grouped.count()"
   ]
  },
  {
   "cell_type": "code",
   "execution_count": 32,
   "metadata": {},
   "outputs": [
    {
     "name": "stdout",
     "output_type": "stream",
     "text": [
      "732"
     ]
    }
   ],
   "source": [
    "sar_cc_grouped.count()"
   ]
  },
  {
   "cell_type": "code",
   "execution_count": 33,
   "metadata": {},
   "outputs": [
    {
     "name": "stdout",
     "output_type": "stream",
     "text": [
      "732"
     ]
    }
   ],
   "source": [
    "only_sar_edge_df.count()"
   ]
  },
  {
   "cell_type": "code",
   "execution_count": null,
   "metadata": {},
   "outputs": [],
   "source": []
  },
  {
   "cell_type": "code",
   "execution_count": null,
   "metadata": {},
   "outputs": [],
   "source": []
  },
  {
   "cell_type": "code",
   "execution_count": 34,
   "metadata": {},
   "outputs": [],
   "source": [
    "only_sar_edge_df = sar_cc_grouped"
   ]
  },
  {
   "cell_type": "code",
   "execution_count": 35,
   "metadata": {},
   "outputs": [
    {
     "name": "stdout",
     "output_type": "stream",
     "text": [
      "+---------+----+------+-------+--------------+--------+------+--------+------+-------+\n",
      "|component|  id|is_sar|tran_id|tran_timestamp|base_amt|target|alert_id|source|tx_type|\n",
      "+---------+----+------+-------+--------------+--------+------+--------+------+-------+\n",
      "|     1823|2300|     1|  44437|   1.4859072E9|  173.42|  2300|       8|  5294|      4|\n",
      "|     1009|3661|     1| 100274|   1.4892768E9|  102.86|  1425|      80|  3661|      4|\n",
      "|      892|8764|     1| 612597|    1.520208E9|  109.79|  8764|      10|  7268|      4|\n",
      "|      410|2491|     1|  12471|     1.48392E9|  138.28|  2491|      58|  2739|      4|\n",
      "|     1794|9403|     1|  33855|    1.485216E9|  101.76|  9403|      44|  5838|      4|\n",
      "+---------+----+------+-------+--------------+--------+------+--------+------+-------+\n",
      "only showing top 5 rows"
     ]
    }
   ],
   "source": [
    "only_sar_edge_df.show(5)"
   ]
  },
  {
   "cell_type": "code",
   "execution_count": null,
   "metadata": {},
   "outputs": [],
   "source": []
  },
  {
   "cell_type": "code",
   "execution_count": null,
   "metadata": {},
   "outputs": [],
   "source": []
  },
  {
   "cell_type": "code",
   "execution_count": 36,
   "metadata": {},
   "outputs": [
    {
     "name": "stdout",
     "output_type": "stream",
     "text": [
      "1028964"
     ]
    }
   ],
   "source": [
    "only_normal_edge_df.count()"
   ]
  },
  {
   "cell_type": "code",
   "execution_count": null,
   "metadata": {},
   "outputs": [],
   "source": []
  },
  {
   "cell_type": "code",
   "execution_count": 37,
   "metadata": {},
   "outputs": [
    {
     "name": "stdout",
     "output_type": "stream",
     "text": [
      "+---------+------------+-----------+\n",
      "|component|window_start| window_end|\n",
      "+---------+------------+-----------+\n",
      "|     1127| 1.4833152E9|1.4850432E9|\n",
      "|     1152|  1.516752E9|1.5170976E9|\n",
      "|      635|  1.483488E9|1.4957568E9|\n",
      "|      399| 1.5412032E9|1.5428448E9|\n",
      "|     3396| 1.4832288E9|1.5060384E9|\n",
      "+---------+------------+-----------+\n",
      "only showing top 5 rows"
     ]
    }
   ],
   "source": [
    "only_sar_edge_df_grouped = only_sar_edge_df.groupBy('component').agg(func.min(\"tran_timestamp\"),func.max(\"tran_timestamp\")).toDF(\"component\", \"window_start\", \"window_end\")\n",
    "only_sar_edge_df_grouped.show(5)"
   ]
  },
  {
   "cell_type": "code",
   "execution_count": null,
   "metadata": {},
   "outputs": [],
   "source": []
  },
  {
   "cell_type": "code",
   "execution_count": 38,
   "metadata": {},
   "outputs": [],
   "source": [
    "only_sar_edges_df_windows = only_sar_edge_df.join(only_sar_edge_df_grouped,[\"component\"])"
   ]
  },
  {
   "cell_type": "code",
   "execution_count": 39,
   "metadata": {},
   "outputs": [
    {
     "name": "stdout",
     "output_type": "stream",
     "text": [
      "+---------+----+------+-------+--------------+--------+------+--------+------+-------+------------+-----------+\n",
      "|component|  id|is_sar|tran_id|tran_timestamp|base_amt|target|alert_id|source|tx_type|window_start| window_end|\n",
      "+---------+----+------+-------+--------------+--------+------+--------+------+-------+------------+-----------+\n",
      "|     1127|3320|     1|   2135|   1.4833152E9|  170.32|  8279|      11|  3320|      4| 1.4833152E9|1.4850432E9|\n",
      "|     1127|8279|     1|  30182|   1.4850432E9|  170.32|  8279|      11|  9173|      4| 1.4833152E9|1.4850432E9|\n",
      "|     1127|1127|     1|  16629|   1.4841792E9|  170.32|  8279|      11|  1127|      4| 1.4833152E9|1.4850432E9|\n",
      "|     1127|7188|     1|   9861|   1.4837472E9|  170.32|  8279|      11|  7188|      4| 1.4833152E9|1.4850432E9|\n",
      "|     1127|8279|     1|  24020|   1.4846112E9|  170.32|  8279|      11|  4902|      4| 1.4833152E9|1.4850432E9|\n",
      "|     1152|7824|     1| 559198|   1.5169248E9|   82.04|  7824|      65|  8117|      4|  1.516752E9|1.5170976E9|\n",
      "|     1152|8049|     1| 561548|   1.5170976E9|   48.44|  8049|      65|  2321|      4|  1.516752E9|1.5170976E9|\n",
      "|     1152|8654|     1| 556094|    1.516752E9|  112.55|  3595|      65|  8654|      4|  1.516752E9|1.5170976E9|\n",
      "|     1152|2321|     1| 561547|   1.5170976E9|   53.83|  2321|      65|  4324|      4|  1.516752E9|1.5170976E9|\n",
      "|     1152|1152|     1| 556095|    1.516752E9|  101.29|  8535|      65|  1152|      4|  1.516752E9|1.5170976E9|\n",
      "|     1152|3304|     1| 559542|   1.5170112E9|   66.45|  8117|      65|  3304|      4|  1.516752E9|1.5170976E9|\n",
      "|     1152|8535|     1| 561549|   1.5170976E9|    43.6|  8654|      65|  8535|      4|  1.516752E9|1.5170976E9|\n",
      "|     1152|7824|     1| 557719|   1.5168384E9|   91.16|  1152|      65|  7824|      4|  1.516752E9|1.5170976E9|\n",
      "|     1152|3595|     1| 561546|   1.5170976E9|   59.81|  4324|      65|  3595|      4|  1.516752E9|1.5170976E9|\n",
      "|     1152|3304|     1| 559541|   1.5170112E9|   73.84|  3304|      65|  8049|      4|  1.516752E9|1.5170976E9|\n",
      "|      635|4330|     1|  61087|   1.4868576E9|  139.44|  4330|      31|  6378|      4|  1.483488E9|1.4957568E9|\n",
      "|      635|3988|     1|  86059|   1.4884128E9|  139.44|  3988|      31|  6378|      4|  1.483488E9|1.4957568E9|\n",
      "|      635|6378|     1|  18324|   1.4842656E9|  139.44|   635|      31|  6378|      4|  1.483488E9|1.4957568E9|\n",
      "|      635|6378|     1|   5154|    1.483488E9|  139.44|  8628|      31|  6378|      4|  1.483488E9|1.4957568E9|\n",
      "|      635|3398|     1| 208107|   1.4957568E9|  139.44|  3398|      31|  6378|      4|  1.483488E9|1.4957568E9|\n",
      "+---------+----+------+-------+--------------+--------+------+--------+------+-------+------------+-----------+\n",
      "only showing top 20 rows"
     ]
    }
   ],
   "source": [
    "only_sar_edges_df_windows.show()"
   ]
  },
  {
   "cell_type": "code",
   "execution_count": 40,
   "metadata": {},
   "outputs": [
    {
     "name": "stdout",
     "output_type": "stream",
     "text": [
      "732"
     ]
    }
   ],
   "source": [
    "only_sar_edges_df_windows.count()"
   ]
  },
  {
   "cell_type": "code",
   "execution_count": 42,
   "metadata": {},
   "outputs": [
    {
     "name": "stdout",
     "output_type": "stream",
     "text": [
      "+---------+----+------+-------+--------------+--------+------+--------+------+-------+------------+-----------+\n",
      "|component|  id|is_sar|tran_id|tran_timestamp|base_amt|target|alert_id|source|tx_type|window_start| window_end|\n",
      "+---------+----+------+-------+--------------+--------+------+--------+------+-------+------------+-----------+\n",
      "|     1127|8279|     1|  16629|   1.4841792E9|  170.32|  8279|      11|  1127|      4| 1.4833152E9|1.4850432E9|\n",
      "|     1127|8279|     1|  30182|   1.4850432E9|  170.32|  8279|      11|  9173|      4| 1.4833152E9|1.4850432E9|\n",
      "|     1127|8279|     1|   2135|   1.4833152E9|  170.32|  8279|      11|  3320|      4| 1.4833152E9|1.4850432E9|\n",
      "|     1127|4902|     1|  24020|   1.4846112E9|  170.32|  8279|      11|  4902|      4| 1.4833152E9|1.4850432E9|\n",
      "|     1127|7188|     1|   9861|   1.4837472E9|  170.32|  8279|      11|  7188|      4| 1.4833152E9|1.4850432E9|\n",
      "+---------+----+------+-------+--------------+--------+------+--------+------+-------+------------+-----------+"
     ]
    }
   ],
   "source": [
    "only_sar_edges_df_windows.where((only_sar_edges_df_windows.window_start == 1.4833152E9) & (only_sar_edges_df_windows.window_end == 1.4850432E9)).show()"
   ]
  },
  {
   "cell_type": "code",
   "execution_count": null,
   "metadata": {},
   "outputs": [],
   "source": []
  },
  {
   "cell_type": "code",
   "execution_count": 48,
   "metadata": {},
   "outputs": [],
   "source": [
    "only_normal_edges_df_windows = only_sar_edge_df_grouped.select(\"window_start\", \"window_end\").join(\n",
    "    only_normal_edge_df,\n",
    "    [(only_normal_edge_df.tran_timestamp>=only_sar_edge_df_grouped.window_start)&(only_normal_edge_df.tran_timestamp<=only_sar_edge_df_grouped.window_end)],\n",
    "    how=\"left\"\n",
    ")"
   ]
  },
  {
   "cell_type": "code",
   "execution_count": 49,
   "metadata": {},
   "outputs": [
    {
     "name": "stdout",
     "output_type": "stream",
     "text": [
      "+------------+-----------+------+-------+--------------+-------+--------+------+--------+------+\n",
      "|window_start| window_end|is_sar|tran_id|tran_timestamp|tx_type|base_amt|target|alert_id|source|\n",
      "+------------+-----------+------+-------+--------------+-------+--------+------+--------+------+\n",
      "| 1.4833152E9|1.4850432E9|     0|   1498|   1.4833152E9|      4| 4300.78|  2341|      -1|  1712|\n",
      "| 1.4833152E9|1.4850432E9|     0|   1499|   1.4833152E9|      4| 2702.02|  9721|      -1|  7976|\n",
      "| 1.4833152E9|1.4850432E9|     0|   1500|   1.4833152E9|      4| 2987.06|  9759|      -1|  9567|\n",
      "| 1.4833152E9|1.4850432E9|     0|   1501|   1.4833152E9|      4| 7066.07|  3219|      -1|  2664|\n",
      "| 1.4833152E9|1.4850432E9|     0|   1502|   1.4833152E9|      4| 5341.72|  3459|      -1|  5908|\n",
      "| 1.4833152E9|1.4850432E9|     0|   1503|   1.4833152E9|      4|  118.96|  2027|      -1|  5043|\n",
      "| 1.4833152E9|1.4850432E9|     0|   1504|   1.4833152E9|      4| 4353.21|  6294|      -1|  6502|\n",
      "| 1.4833152E9|1.4850432E9|     0|   1505|   1.4833152E9|      4| 5366.07|  1262|      -1|  4885|\n",
      "| 1.4833152E9|1.4850432E9|     0|   1506|   1.4833152E9|      4| 2407.98|  3436|      -1|  2085|\n",
      "| 1.4833152E9|1.4850432E9|     0|   1507|   1.4833152E9|      4| 7653.02|  8343|      -1|   862|\n",
      "| 1.4833152E9|1.4850432E9|     0|   1508|   1.4833152E9|      4| 5676.09|  9543|      -1|  8892|\n",
      "| 1.4833152E9|1.4850432E9|     0|   1509|   1.4833152E9|      4| 6733.68|   592|      -1|  4584|\n",
      "| 1.4833152E9|1.4850432E9|     0|   1510|   1.4833152E9|      4|  415.52|   311|      -1|  4809|\n",
      "| 1.4833152E9|1.4850432E9|     0|   1511|   1.4833152E9|      4| 2529.34|  8760|      -1|  7454|\n",
      "| 1.4833152E9|1.4850432E9|     0|   1512|   1.4833152E9|      4| 7102.71|  3549|      -1|  3033|\n",
      "| 1.4833152E9|1.4850432E9|     0|   1513|   1.4833152E9|      4| 8818.87|  4120|      -1|   207|\n",
      "| 1.4833152E9|1.4850432E9|     0|   1514|   1.4833152E9|      4| 8733.54|  7857|      -1|  7126|\n",
      "| 1.4833152E9|1.4850432E9|     0|   1515|   1.4833152E9|      4| 7945.31|  3919|      -1|  4508|\n",
      "| 1.4833152E9|1.4850432E9|     0|   1516|   1.4833152E9|      4| 7063.21|  2279|      -1|  1209|\n",
      "| 1.4833152E9|1.4850432E9|     0|   1517|   1.4833152E9|      4| 6615.02|  8941|      -1|  7361|\n",
      "+------------+-----------+------+-------+--------------+-------+--------+------+--------+------+\n",
      "only showing top 20 rows"
     ]
    }
   ],
   "source": [
    "only_normal_edges_df_windows.show()"
   ]
  },
  {
   "cell_type": "code",
   "execution_count": 50,
   "metadata": {},
   "outputs": [
    {
     "name": "stdout",
     "output_type": "stream",
     "text": [
      "26567736"
     ]
    }
   ],
   "source": [
    "only_normal_edges_df_windows.count()"
   ]
  },
  {
   "cell_type": "code",
   "execution_count": 51,
   "metadata": {},
   "outputs": [
    {
     "name": "stdout",
     "output_type": "stream",
     "text": [
      "+------------+-----------+------+-------+--------------+-------+--------+------+--------+------+--------+--------+\n",
      "|window_start| window_end|is_sar|tran_id|tran_timestamp|tx_type|base_amt|destId|alert_id|origId|  target|  source|\n",
      "+------------+-----------+------+-------+--------------+-------+--------+------+--------+------+--------+--------+\n",
      "| 1.4833152E9|1.4850432E9|     0|   1498|   1.4833152E9|      4| 4300.78|  2341|      -1|  1712|e63c8751|465fa954|\n",
      "| 1.4833152E9|1.4850432E9|     0|   1499|   1.4833152E9|      4| 2702.02|  9721|      -1|  7976|86bfcc1e|e7f1f1a1|\n",
      "| 1.4833152E9|1.4850432E9|     0|   1500|   1.4833152E9|      4| 2987.06|  9759|      -1|  9567|4531cf75|d0ac2ea1|\n",
      "| 1.4833152E9|1.4850432E9|     0|   1501|   1.4833152E9|      4| 7066.07|  3219|      -1|  2664|f4027061|2f4fa476|\n",
      "| 1.4833152E9|1.4850432E9|     0|   1502|   1.4833152E9|      4| 5341.72|  3459|      -1|  5908|631e2e29|ec3cdd07|\n",
      "| 1.4833152E9|1.4850432E9|     0|   1503|   1.4833152E9|      4|  118.96|  2027|      -1|  5043|4a73a008|1dafe491|\n",
      "| 1.4833152E9|1.4850432E9|     0|   1504|   1.4833152E9|      4| 4353.21|  6294|      -1|  6502|f1eea979|9f43b986|\n",
      "| 1.4833152E9|1.4850432E9|     0|   1505|   1.4833152E9|      4| 5366.07|  1262|      -1|  4885|bf36c08c|d5e37077|\n",
      "| 1.4833152E9|1.4850432E9|     0|   1506|   1.4833152E9|      4| 2407.98|  3436|      -1|  2085|5abe16dc|0630ff8f|\n",
      "| 1.4833152E9|1.4850432E9|     0|   1507|   1.4833152E9|      4| 7653.02|  8343|      -1|   862|234776a3|f1a4bc8f|\n",
      "| 1.4833152E9|1.4850432E9|     0|   1508|   1.4833152E9|      4| 5676.09|  9543|      -1|  8892|129da64b|a98d34a7|\n",
      "| 1.4833152E9|1.4850432E9|     0|   1509|   1.4833152E9|      4| 6733.68|   592|      -1|  4584|8564d116|09402643|\n",
      "| 1.4833152E9|1.4850432E9|     0|   1510|   1.4833152E9|      4|  415.52|   311|      -1|  4809|4a66bf71|92cd8c6a|\n",
      "| 1.4833152E9|1.4850432E9|     0|   1511|   1.4833152E9|      4| 2529.34|  8760|      -1|  7454|742a433d|ec9c89fd|\n",
      "| 1.4833152E9|1.4850432E9|     0|   1512|   1.4833152E9|      4| 7102.71|  3549|      -1|  3033|2b178f41|063e06bf|\n",
      "| 1.4833152E9|1.4850432E9|     0|   1513|   1.4833152E9|      4| 8818.87|  4120|      -1|   207|6a2145c8|bb42d637|\n",
      "| 1.4833152E9|1.4850432E9|     0|   1514|   1.4833152E9|      4| 8733.54|  7857|      -1|  7126|f50e3b29|06a38a29|\n",
      "| 1.4833152E9|1.4850432E9|     0|   1515|   1.4833152E9|      4| 7945.31|  3919|      -1|  4508|418974ea|59217799|\n",
      "| 1.4833152E9|1.4850432E9|     0|   1516|   1.4833152E9|      4| 7063.21|  2279|      -1|  1209|6f9a7cff|bdba6479|\n",
      "| 1.4833152E9|1.4850432E9|     0|   1517|   1.4833152E9|      4| 6615.02|  8941|      -1|  7361|f8354ecf|439263aa|\n",
      "+------------+-----------+------+-------+--------------+-------+--------+------+--------+------+--------+--------+\n",
      "only showing top 20 rows"
     ]
    }
   ],
   "source": [
    "only_normal_edges_df_windows = only_normal_edges_df_windows.withColumnRenamed(\"source\", \"origId\")\\\n",
    "                                                           .withColumnRenamed(\"target\", \"destId\")  \n",
    "only_normal_edges_df_windows = only_normal_edges_df_windows.withColumn('target',hashnode_udf(func.concat(func.col('destId'),func.lit('_'),func.col('window_start'),func.lit('_'),func.col('window_end'))))\\\n",
    "                                                           .withColumn('source',hashnode_udf(func.concat(func.col('origId'),func.lit('_'),func.col('window_start'),func.lit('_'),func.col('window_end'))))            \n",
    "only_normal_edges_df_windows.show()"
   ]
  },
  {
   "cell_type": "code",
   "execution_count": null,
   "metadata": {},
   "outputs": [],
   "source": []
  },
  {
   "cell_type": "code",
   "execution_count": 52,
   "metadata": {},
   "outputs": [],
   "source": [
    "normal_sources = only_normal_edges_df_windows.select(\"source\")\n",
    "normal_targets = only_normal_edges_df_windows.select(\"target\")\n",
    "normal_nodes = normal_sources.union(normal_targets).toDF(\"id\").dropDuplicates()\n",
    "normal_edges = only_normal_edges_df_windows.select(\"source\", \"target\").toDF(\"src\", \"dst\")"
   ]
  },
  {
   "cell_type": "code",
   "execution_count": null,
   "metadata": {},
   "outputs": [],
   "source": []
  },
  {
   "cell_type": "code",
   "execution_count": 53,
   "metadata": {},
   "outputs": [],
   "source": [
    "# Now lets construct the graph\n",
    "g_normal = GraphFrame(normal_nodes,normal_edges)"
   ]
  },
  {
   "cell_type": "code",
   "execution_count": null,
   "metadata": {},
   "outputs": [],
   "source": [
    "sc.setCheckpointDir(\"hdfs:///Projects/{}/Logs/sc\".format(hdfs.project_name()))\n",
    "cc_normal = g_normal.connectedComponents().cache()\n",
    "#scc_normal = g_normal.stronglyConnectedComponents(20).cache()"
   ]
  },
  {
   "cell_type": "code",
   "execution_count": null,
   "metadata": {},
   "outputs": [],
   "source": [
    "cc_norm_comp_count = cc_normal.groupBy('component').count().where(func.col('count')>2)\n",
    "cc_normal = cc_normal.join(cc_norm_comp_count,['component'])\n",
    "cc_normal =  cc_normal.drop('count')\n",
    "normal_cc_grouped = cc_normal.join(\n",
    "    only_normal_edge_df,\n",
    "    [(only_normal_edge_df.source==cc_normal.id)|(only_normal_edge_df.target==cc_normal.id)],\n",
    "    how=\"left\"\n",
    ").dropDuplicates(subset=['tran_id'])"
   ]
  },
  {
   "cell_type": "code",
   "execution_count": null,
   "metadata": {},
   "outputs": [],
   "source": [
    "normal_cc_grouped.show()"
   ]
  },
  {
   "cell_type": "code",
   "execution_count": null,
   "metadata": {},
   "outputs": [],
   "source": [
    "1-1"
   ]
  },
  {
   "cell_type": "code",
   "execution_count": null,
   "metadata": {},
   "outputs": [],
   "source": []
  },
  {
   "cell_type": "code",
   "execution_count": null,
   "metadata": {},
   "outputs": [],
   "source": []
  }
 ],
 "metadata": {
  "kernelspec": {
   "display_name": "PySpark",
   "language": "python",
   "name": "pysparkkernel"
  },
  "language_info": {
   "codemirror_mode": {
    "name": "python",
    "version": 3
   },
   "mimetype": "text/x-python",
   "name": "pyspark",
   "pygments_lexer": "python3"
  }
 },
 "nbformat": 4,
 "nbformat_minor": 4
}
