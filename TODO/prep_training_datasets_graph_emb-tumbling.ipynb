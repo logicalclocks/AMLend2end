{
 "cells": [
  {
   "cell_type": "code",
   "execution_count": 1,
   "metadata": {},
   "outputs": [
    {
     "name": "stdout",
     "output_type": "stream",
     "text": [
      "Starting Spark application\n"
     ]
    },
    {
     "data": {
      "text/html": [
       "<table>\n",
       "<tr><th>ID</th><th>YARN Application ID</th><th>Kind</th><th>State</th><th>Spark UI</th><th>Driver log</th></tr><tr><td>78</td><td>application_1608823814115_0001</td><td>pyspark</td><td>idle</td><td><a target=\"_blank\" href=\"http://hopsworksdavit-master.internal.cloudapp.net:8088/proxy/application_1608823814115_0001/\">Link</a></td><td><a target=\"_blank\" href=\"http://hopsworksdavit-worker-6.internal.cloudapp.net:8042/node/containerlogs/container_e06_1608823814115_0001_01_000001/amlsim__meb10179\">Link</a></td></tr></table>"
      ],
      "text/plain": [
       "<IPython.core.display.HTML object>"
      ]
     },
     "metadata": {},
     "output_type": "display_data"
    },
    {
     "name": "stdout",
     "output_type": "stream",
     "text": [
      "SparkSession available as 'spark'.\n",
      "<pyspark.sql.session.SparkSession object at 0x7f6c09809e90>"
     ]
    }
   ],
   "source": [
    "spark"
   ]
  },
  {
   "cell_type": "code",
   "execution_count": 2,
   "metadata": {},
   "outputs": [],
   "source": [
    "import hashlib\n",
    "from datetime import datetime\n",
    "from graphframes import *\n",
    "from pyspark.sql import functions as func\n",
    "from pyspark.sql.types import FloatType\n",
    "from pyspark.sql.window import Window\n",
    "import hsfs\n",
    "from hops import hdfs\n",
    "import os\n",
    "from pyspark.sql import SQLContext"
   ]
  },
  {
   "cell_type": "code",
   "execution_count": 3,
   "metadata": {},
   "outputs": [],
   "source": [
    "def hashnode(x):\n",
    "    return hashlib.sha1(x.encode(\"UTF-8\")).hexdigest()[:8]\n",
    "\n",
    "hashnode_udf = func.udf(hashnode)"
   ]
  },
  {
   "cell_type": "code",
   "execution_count": 4,
   "metadata": {},
   "outputs": [
    {
     "name": "stdout",
     "output_type": "stream",
     "text": [
      "Connected. Call `.close()` to terminate connection gracefully."
     ]
    }
   ],
   "source": [
    "# Create a connection\n",
    "connection = hsfs.connection()\n",
    "# Get the feature store handle for the project's feature store\n",
    "fs = connection.get_feature_store()"
   ]
  },
  {
   "cell_type": "code",
   "execution_count": 5,
   "metadata": {},
   "outputs": [],
   "source": [
    "edge_fg = fs.get_feature_group('transactions_fg', 1)\n",
    "node_fg = fs.get_feature_group('account_features', 1)"
   ]
  },
  {
   "cell_type": "code",
   "execution_count": 6,
   "metadata": {},
   "outputs": [
    {
     "name": "stdout",
     "output_type": "stream",
     "text": [
      "+---------------+--------------+-------+---------+\n",
      "|initial_deposit|tx_behavior_id|acct_id|prior_sar|\n",
      "+---------------+--------------+-------+---------+\n",
      "|       84442.19|             1|      0|        0|\n",
      "|       75795.44|             1|      1|        0|\n",
      "|       42057.16|             1|      2|        0|\n",
      "|       25891.68|             1|      3|        0|\n",
      "|       51127.47|             1|      4|        0|\n",
      "+---------------+--------------+-------+---------+\n",
      "only showing top 5 rows"
     ]
    }
   ],
   "source": [
    "node_fg.show(5)"
   ]
  },
  {
   "cell_type": "code",
   "execution_count": 7,
   "metadata": {},
   "outputs": [
    {
     "name": "stdout",
     "output_type": "stream",
     "text": [
      "+------+--------+--------------+------+--------+------+-------+-------+\n",
      "|is_sar|alert_id|tran_timestamp|target|base_amt|source|tran_id|tx_type|\n",
      "+------+--------+--------------+------+--------+------+-------+-------+\n",
      "|     0|      -1|   1.4832288E9|  3259| 9405.71|  1767|      1|      4|\n",
      "|     0|      -1|   1.4832288E9|  5141| 6884.54|  7363|      2|      4|\n",
      "|     0|      -1|   1.4832288E9|  9532|  7968.4|  7585|      3|      4|\n",
      "|     0|      -1|   1.4832288E9|  8792| 9042.67|  1750|      4|      4|\n",
      "|     0|      -1|   1.4832288E9|  4670| 4692.79|  9060|      5|      4|\n",
      "+------+--------+--------------+------+--------+------+-------+-------+\n",
      "only showing top 5 rows"
     ]
    }
   ],
   "source": [
    "edge_fg.show(5)"
   ]
  },
  {
   "cell_type": "code",
   "execution_count": null,
   "metadata": {},
   "outputs": [],
   "source": []
  },
  {
   "cell_type": "code",
   "execution_count": 8,
   "metadata": {},
   "outputs": [],
   "source": [
    "edge_df = edge_fg.read()"
   ]
  },
  {
   "cell_type": "code",
   "execution_count": 9,
   "metadata": {},
   "outputs": [
    {
     "name": "stdout",
     "output_type": "stream",
     "text": [
      "1029696"
     ]
    }
   ],
   "source": [
    "edge_df.count()"
   ]
  },
  {
   "cell_type": "code",
   "execution_count": 10,
   "metadata": {},
   "outputs": [
    {
     "name": "stdout",
     "output_type": "stream",
     "text": [
      "1465"
     ]
    }
   ],
   "source": [
    "edge_df.where(func.col(\"tran_timestamp\")==1.483488E9).count()"
   ]
  },
  {
   "cell_type": "code",
   "execution_count": 11,
   "metadata": {},
   "outputs": [
    {
     "name": "stdout",
     "output_type": "stream",
     "text": [
      "+------+--------+--------------+------+--------+------+-------+-------+\n",
      "|is_sar|alert_id|tran_timestamp|target|base_amt|source|tran_id|tx_type|\n",
      "+------+--------+--------------+------+--------+------+-------+-------+\n",
      "|     0|      -1|   1.4832288E9|  3259| 9405.71|  1767|      1|      4|\n",
      "|     0|      -1|   1.4832288E9|  5141| 6884.54|  7363|      2|      4|\n",
      "|     0|      -1|   1.4832288E9|  9532|  7968.4|  7585|      3|      4|\n",
      "|     0|      -1|   1.4832288E9|  8792| 9042.67|  1750|      4|      4|\n",
      "|     0|      -1|   1.4832288E9|  4670| 4692.79|  9060|      5|      4|\n",
      "|     0|      -1|   1.4832288E9|  3861| 4089.65|  8752|      6|      4|\n",
      "|     0|      -1|   1.4832288E9|  3805| 3055.04|  9645|      7|      4|\n",
      "|     0|      -1|   1.4832288E9|  9280| 6473.45|  7150|      8|      4|\n",
      "|     0|      -1|   1.4832288E9|  6369| 2583.42|  1685|      9|      4|\n",
      "|     0|      -1|   1.4832288E9|  8255| 6753.04|  7846|     10|      4|\n",
      "|     0|      -1|   1.4832288E9|  5957| 1743.57|   878|     11|      4|\n",
      "|     0|      -1|   1.4832288E9|  4091| 8591.59|   797|     12|      4|\n",
      "|     0|      -1|   1.4832288E9|  5274| 7006.77|  8472|     13|      4|\n",
      "|     0|      -1|   1.4832288E9|  3296| 5095.46|  5584|     14|      4|\n",
      "|     0|      -1|   1.4832288E9|  7618|  2537.2|   616|     15|      4|\n",
      "|     0|      -1|   1.4832288E9|  7617| 3120.27|  7312|     16|      4|\n",
      "|     0|      -1|   1.4832288E9|  9987| 5308.95|  9886|     17|      4|\n",
      "|     0|      -1|   1.4832288E9|  3603| 6788.85|  1132|     18|      4|\n",
      "|     0|      -1|   1.4832288E9|  3844| 5708.25|   266|     19|      4|\n",
      "|     0|      -1|   1.4832288E9|  2811| 5020.95|  2184|     20|      4|\n",
      "+------+--------+--------------+------+--------+------+-------+-------+\n",
      "only showing top 20 rows"
     ]
    }
   ],
   "source": [
    "edge_df.orderBy('tran_id').show()"
   ]
  },
  {
   "cell_type": "code",
   "execution_count": 87,
   "metadata": {},
   "outputs": [],
   "source": [
    "tumbling_wind_tr = edge_df.groupBy(func.window(func.col(\"tran_timestamp\").cast(\"timestamp\"), \"4 week\"))\\\n",
    "  .agg(func.collect_list(\"tran_id\").alias(\"tran_id_list\"))\\\n",
    "  .select(\"window.start\", \"window.end\", func.explode(\"tran_id_list\").alias(\"tran_id\"))\\\n",
    "  .orderBy(\"tran_id\")"
   ]
  },
  {
   "cell_type": "code",
   "execution_count": 88,
   "metadata": {},
   "outputs": [
    {
     "name": "stdout",
     "output_type": "stream",
     "text": [
      "+-------------------+-------------------+-------+\n",
      "|       window.start|         window.end|tran_id|\n",
      "+-------------------+-------------------+-------+\n",
      "|2016-12-29 00:00:00|2017-01-26 00:00:00|      1|\n",
      "|2016-12-29 00:00:00|2017-01-26 00:00:00|      2|\n",
      "|2016-12-29 00:00:00|2017-01-26 00:00:00|      3|\n",
      "|2016-12-29 00:00:00|2017-01-26 00:00:00|      4|\n",
      "|2016-12-29 00:00:00|2017-01-26 00:00:00|      5|\n",
      "|2016-12-29 00:00:00|2017-01-26 00:00:00|      6|\n",
      "|2016-12-29 00:00:00|2017-01-26 00:00:00|      7|\n",
      "|2016-12-29 00:00:00|2017-01-26 00:00:00|      8|\n",
      "|2016-12-29 00:00:00|2017-01-26 00:00:00|      9|\n",
      "|2016-12-29 00:00:00|2017-01-26 00:00:00|     10|\n",
      "|2016-12-29 00:00:00|2017-01-26 00:00:00|     11|\n",
      "|2016-12-29 00:00:00|2017-01-26 00:00:00|     12|\n",
      "|2016-12-29 00:00:00|2017-01-26 00:00:00|     13|\n",
      "|2016-12-29 00:00:00|2017-01-26 00:00:00|     14|\n",
      "|2016-12-29 00:00:00|2017-01-26 00:00:00|     15|\n",
      "|2016-12-29 00:00:00|2017-01-26 00:00:00|     16|\n",
      "|2016-12-29 00:00:00|2017-01-26 00:00:00|     17|\n",
      "|2016-12-29 00:00:00|2017-01-26 00:00:00|     18|\n",
      "|2016-12-29 00:00:00|2017-01-26 00:00:00|     19|\n",
      "|2016-12-29 00:00:00|2017-01-26 00:00:00|     20|\n",
      "+-------------------+-------------------+-------+\n",
      "only showing top 20 rows"
     ]
    }
   ],
   "source": [
    "tumbling_wind_tr.show()"
   ]
  },
  {
   "cell_type": "code",
   "execution_count": 89,
   "metadata": {},
   "outputs": [],
   "source": [
    "edge_fg_with_tumbling_wind = edge_df.join(tumbling_wind_tr,[\"tran_id\"])"
   ]
  },
  {
   "cell_type": "code",
   "execution_count": 90,
   "metadata": {},
   "outputs": [
    {
     "name": "stdout",
     "output_type": "stream",
     "text": [
      "+-------+------+--------+--------------+------+--------+------+-------+-------------------+-------------------+\n",
      "|tran_id|is_sar|alert_id|tran_timestamp|target|base_amt|source|tx_type|       window.start|         window.end|\n",
      "+-------+------+--------+--------------+------+--------+------+-------+-------------------+-------------------+\n",
      "|      1|     0|      -1|   1.4832288E9|  3259| 9405.71|  1767|      4|2016-12-29 00:00:00|2017-01-26 00:00:00|\n",
      "|      2|     0|      -1|   1.4832288E9|  5141| 6884.54|  7363|      4|2016-12-29 00:00:00|2017-01-26 00:00:00|\n",
      "|      3|     0|      -1|   1.4832288E9|  9532|  7968.4|  7585|      4|2016-12-29 00:00:00|2017-01-26 00:00:00|\n",
      "|      4|     0|      -1|   1.4832288E9|  8792| 9042.67|  1750|      4|2016-12-29 00:00:00|2017-01-26 00:00:00|\n",
      "|      5|     0|      -1|   1.4832288E9|  4670| 4692.79|  9060|      4|2016-12-29 00:00:00|2017-01-26 00:00:00|\n",
      "|      6|     0|      -1|   1.4832288E9|  3861| 4089.65|  8752|      4|2016-12-29 00:00:00|2017-01-26 00:00:00|\n",
      "|      7|     0|      -1|   1.4832288E9|  3805| 3055.04|  9645|      4|2016-12-29 00:00:00|2017-01-26 00:00:00|\n",
      "|      8|     0|      -1|   1.4832288E9|  9280| 6473.45|  7150|      4|2016-12-29 00:00:00|2017-01-26 00:00:00|\n",
      "|      9|     0|      -1|   1.4832288E9|  6369| 2583.42|  1685|      4|2016-12-29 00:00:00|2017-01-26 00:00:00|\n",
      "|     10|     0|      -1|   1.4832288E9|  8255| 6753.04|  7846|      4|2016-12-29 00:00:00|2017-01-26 00:00:00|\n",
      "|     11|     0|      -1|   1.4832288E9|  5957| 1743.57|   878|      4|2016-12-29 00:00:00|2017-01-26 00:00:00|\n",
      "|     12|     0|      -1|   1.4832288E9|  4091| 8591.59|   797|      4|2016-12-29 00:00:00|2017-01-26 00:00:00|\n",
      "|     13|     0|      -1|   1.4832288E9|  5274| 7006.77|  8472|      4|2016-12-29 00:00:00|2017-01-26 00:00:00|\n",
      "|     14|     0|      -1|   1.4832288E9|  3296| 5095.46|  5584|      4|2016-12-29 00:00:00|2017-01-26 00:00:00|\n",
      "|     15|     0|      -1|   1.4832288E9|  7618|  2537.2|   616|      4|2016-12-29 00:00:00|2017-01-26 00:00:00|\n",
      "|     16|     0|      -1|   1.4832288E9|  7617| 3120.27|  7312|      4|2016-12-29 00:00:00|2017-01-26 00:00:00|\n",
      "|     17|     0|      -1|   1.4832288E9|  9987| 5308.95|  9886|      4|2016-12-29 00:00:00|2017-01-26 00:00:00|\n",
      "|     18|     0|      -1|   1.4832288E9|  3603| 6788.85|  1132|      4|2016-12-29 00:00:00|2017-01-26 00:00:00|\n",
      "|     19|     0|      -1|   1.4832288E9|  3844| 5708.25|   266|      4|2016-12-29 00:00:00|2017-01-26 00:00:00|\n",
      "|     20|     0|      -1|   1.4832288E9|  2811| 5020.95|  2184|      4|2016-12-29 00:00:00|2017-01-26 00:00:00|\n",
      "+-------+------+--------+--------------+------+--------+------+-------+-------------------+-------------------+\n",
      "only showing top 20 rows"
     ]
    }
   ],
   "source": [
    "edge_fg_with_tumbling_wind.show()"
   ]
  },
  {
   "cell_type": "code",
   "execution_count": 91,
   "metadata": {},
   "outputs": [],
   "source": [
    "edge_fg_with_tumbling_wind = edge_fg_with_tumbling_wind.toDF(\"tran_id\",\"is_sar\",\"alert_id\",\"tran_timestamp\",\"target\",\"base_amt\",\"source\",\"tx_type\",\"window_start\",\"window_end\")"
   ]
  },
  {
   "cell_type": "code",
   "execution_count": 92,
   "metadata": {},
   "outputs": [],
   "source": [
    "edge_fg_with_tumbling_wind = edge_fg_with_tumbling_wind.where(func.col(\"window_start\")==\"2016-12-29 00:00:00\")"
   ]
  },
  {
   "cell_type": "code",
   "execution_count": 93,
   "metadata": {},
   "outputs": [],
   "source": [
    "only_sar_edge_df = edge_fg_with_tumbling_wind.filter(func.col('alert_id') != -1)\n",
    "only_normal_edge_df =  edge_fg_with_tumbling_wind.filter(func.col('alert_id') == -1)"
   ]
  },
  {
   "cell_type": "code",
   "execution_count": 94,
   "metadata": {},
   "outputs": [
    {
     "name": "stdout",
     "output_type": "stream",
     "text": [
      "+-------+------+--------+--------------+------+--------+------+-------+-------------------+-------------------+\n",
      "|tran_id|is_sar|alert_id|tran_timestamp|target|base_amt|source|tx_type|       window_start|         window_end|\n",
      "+-------+------+--------+--------------+------+--------+------+-------+-------------------+-------------------+\n",
      "|      1|     0|      -1|   1.4832288E9|  3259| 9405.71|  1767|      4|2016-12-29 00:00:00|2017-01-26 00:00:00|\n",
      "|      2|     0|      -1|   1.4832288E9|  5141| 6884.54|  7363|      4|2016-12-29 00:00:00|2017-01-26 00:00:00|\n",
      "|      3|     0|      -1|   1.4832288E9|  9532|  7968.4|  7585|      4|2016-12-29 00:00:00|2017-01-26 00:00:00|\n",
      "|      4|     0|      -1|   1.4832288E9|  8792| 9042.67|  1750|      4|2016-12-29 00:00:00|2017-01-26 00:00:00|\n",
      "|      5|     0|      -1|   1.4832288E9|  4670| 4692.79|  9060|      4|2016-12-29 00:00:00|2017-01-26 00:00:00|\n",
      "+-------+------+--------+--------------+------+--------+------+-------+-------------------+-------------------+\n",
      "only showing top 5 rows"
     ]
    }
   ],
   "source": [
    "only_normal_edge_df.show(5)"
   ]
  },
  {
   "cell_type": "code",
   "execution_count": 95,
   "metadata": {},
   "outputs": [
    {
     "name": "stdout",
     "output_type": "stream",
     "text": [
      "+-------+------+--------+--------------+------+--------+------+-------+-------------------+-------------------+\n",
      "|tran_id|is_sar|alert_id|tran_timestamp|target|base_amt|source|tx_type|       window_start|         window_end|\n",
      "+-------+------+--------+--------------+------+--------+------+-------+-------------------+-------------------+\n",
      "|     98|     1|      16|   1.4832288E9|  5688|  108.62|  2298|      4|2016-12-29 00:00:00|2017-01-26 00:00:00|\n",
      "|    108|     1|      26|   1.4832288E9|  9601|  183.25|  8627|      4|2016-12-29 00:00:00|2017-01-26 00:00:00|\n",
      "|    135|     1|      15|   1.4832288E9|  8359|  142.71|  2756|      4|2016-12-29 00:00:00|2017-01-26 00:00:00|\n",
      "|    137|     1|       9|   1.4832288E9|  7702|  132.47|  7605|      4|2016-12-29 00:00:00|2017-01-26 00:00:00|\n",
      "|    218|     1|      17|   1.4832288E9|  7377|  119.51|  5891|      4|2016-12-29 00:00:00|2017-01-26 00:00:00|\n",
      "+-------+------+--------+--------------+------+--------+------+-------+-------------------+-------------------+\n",
      "only showing top 5 rows"
     ]
    }
   ],
   "source": [
    "only_sar_edge_df.show(5)"
   ]
  },
  {
   "cell_type": "code",
   "execution_count": 96,
   "metadata": {},
   "outputs": [
    {
     "name": "stdout",
     "output_type": "stream",
     "text": [
      "79"
     ]
    }
   ],
   "source": [
    "only_sar_edge_df.count()"
   ]
  },
  {
   "cell_type": "code",
   "execution_count": 97,
   "metadata": {},
   "outputs": [
    {
     "name": "stdout",
     "output_type": "stream",
     "text": [
      "79"
     ]
    }
   ],
   "source": [
    "sar_sources = only_sar_edge_df.select(\"source\")\n",
    "sar_targets = only_sar_edge_df.select(\"target\")\n",
    "sar_nodes = sar_sources.union(sar_targets).toDF(\"id\").dropDuplicates()\n",
    "sar_nodes.count()\n",
    "\n",
    "sar_edges = only_sar_edge_df.select(\"source\", \"target\").toDF(\"src\", \"dst\")\n",
    "sar_edges.count()"
   ]
  },
  {
   "cell_type": "code",
   "execution_count": 98,
   "metadata": {},
   "outputs": [],
   "source": [
    "# Now lets construct the graph\n",
    "g_sar = GraphFrame(sar_nodes,sar_edges)\n",
    "sc.setCheckpointDir(\"hdfs:///Projects/{}/Logs/sc\".format(hdfs.project_name()))\n",
    "cc_sar = g_sar.connectedComponents()"
   ]
  },
  {
   "cell_type": "code",
   "execution_count": 99,
   "metadata": {},
   "outputs": [
    {
     "name": "stdout",
     "output_type": "stream",
     "text": [
      "+----+---------+\n",
      "|  id|component|\n",
      "+----+---------+\n",
      "|1127|     1127|\n",
      "|9403|     1794|\n",
      "|6176|     1607|\n",
      "|2238|     2227|\n",
      "|8627|     8627|\n",
      "|6378|      635|\n",
      "|8628|      635|\n",
      "|2739|     2491|\n",
      "|8442|     1794|\n",
      "|7188|     1127|\n",
      "|6095|      123|\n",
      "|9270|     2227|\n",
      "|4919|     4616|\n",
      "|3727|     3727|\n",
      "|5891|     5126|\n",
      "|9601|     8627|\n",
      "|3792|     1964|\n",
      "|2227|     2227|\n",
      "|5787|     1607|\n",
      "|5084|     3738|\n",
      "+----+---------+\n",
      "only showing top 20 rows"
     ]
    }
   ],
   "source": [
    "cc_sar.cache().show()"
   ]
  },
  {
   "cell_type": "code",
   "execution_count": 100,
   "metadata": {},
   "outputs": [
    {
     "name": "stdout",
     "output_type": "stream",
     "text": [
      "+-----+\n",
      "|count|\n",
      "+-----+\n",
      "|    2|\n",
      "|    3|\n",
      "|    4|\n",
      "|    5|\n",
      "|    6|\n",
      "|    7|\n",
      "+-----+"
     ]
    }
   ],
   "source": [
    "cc_sar.groupBy('component').count().select('count').dropDuplicates().orderBy('count').show()"
   ]
  },
  {
   "cell_type": "code",
   "execution_count": null,
   "metadata": {},
   "outputs": [],
   "source": []
  },
  {
   "cell_type": "code",
   "execution_count": 115,
   "metadata": {},
   "outputs": [
    {
     "name": "stdout",
     "output_type": "stream",
     "text": [
      "+---------+----+\n",
      "|component|  id|\n",
      "+---------+----+\n",
      "|     2227|2238|\n",
      "|     2227|9270|\n",
      "|     2227|2227|\n",
      "|     2227|7709|\n",
      "|     2227|2429|\n",
      "|     2227|4431|\n",
      "|     2227|8397|\n",
      "+---------+----+"
     ]
    }
   ],
   "source": [
    "cc_sar_grouped = cc_sar.groupBy('component').count().where(func.col('count')>=7).drop('count')\n",
    "cc_sar = cc_sar.join(cc_sar_grouped,['component'])\n",
    "cc_sar.show()"
   ]
  },
  {
   "cell_type": "code",
   "execution_count": 116,
   "metadata": {},
   "outputs": [
    {
     "name": "stdout",
     "output_type": "stream",
     "text": [
      "+---------+----+---------+----+-------+------+--------+--------------+------+--------+------+-------+-------------------+-------------------+\n",
      "|component|  id|component|  id|tran_id|is_sar|alert_id|tran_timestamp|target|base_amt|source|tx_type|       window_start|         window_end|\n",
      "+---------+----+---------+----+-------+------+--------+--------------+------+--------+------+-------+-------------------+-------------------+\n",
      "|     2227|7709|     2227|7709|  13830|     1|      53|   1.4840064E9|  7709|  147.41|  4431|      4|2016-12-29 00:00:00|2017-01-26 00:00:00|\n",
      "|     2227|9270|     2227|9270|  14488|     1|      53|   1.4840928E9|  9270|  147.41|  4431|      4|2016-12-29 00:00:00|2017-01-26 00:00:00|\n",
      "|     2227|2227|     2227|2227|  28162|     1|      53|   1.4848704E9|  2227|  147.41|  4431|      4|2016-12-29 00:00:00|2017-01-26 00:00:00|\n",
      "|     2227|2238|     2227|2238|  18229|     1|      53|   1.4842656E9|  2238|  147.41|  4431|      4|2016-12-29 00:00:00|2017-01-26 00:00:00|\n",
      "|     2227|2429|     2227|2429|   4473|     1|      53|    1.483488E9|  2429|  147.41|  4431|      4|2016-12-29 00:00:00|2017-01-26 00:00:00|\n",
      "|     2227|4431|     2227|4431|  14487|     1|      53|   1.4840928E9|  8397|  147.41|  4431|      4|2016-12-29 00:00:00|2017-01-26 00:00:00|\n",
      "+---------+----+---------+----+-------+------+--------+--------------+------+--------+------+-------+-------------------+-------------------+"
     ]
    }
   ],
   "source": [
    "sar_cc_grouped = cc_sar.join(\n",
    "    only_sar_edge_df,\n",
    "    [(only_sar_edge_df.source==cc_sar.id)|(only_sar_edge_df.target==cc_sar.id)],\n",
    "    how=\"left\"\n",
    ").dropDuplicates(subset=['tran_id'])\n",
    "sar_cc_grouped.show()"
   ]
  },
  {
   "cell_type": "code",
   "execution_count": null,
   "metadata": {},
   "outputs": [],
   "source": []
  },
  {
   "cell_type": "code",
   "execution_count": 117,
   "metadata": {},
   "outputs": [
    {
     "name": "stdout",
     "output_type": "stream",
     "text": [
      "6"
     ]
    }
   ],
   "source": [
    "sar_cc_grouped.count()"
   ]
  },
  {
   "cell_type": "code",
   "execution_count": 118,
   "metadata": {},
   "outputs": [
    {
     "name": "stdout",
     "output_type": "stream",
     "text": [
      "25"
     ]
    }
   ],
   "source": [
    "only_sar_edge_df.count()"
   ]
  },
  {
   "cell_type": "code",
   "execution_count": null,
   "metadata": {},
   "outputs": [],
   "source": []
  },
  {
   "cell_type": "code",
   "execution_count": 119,
   "metadata": {},
   "outputs": [],
   "source": [
    "only_sar_edge_df = sar_cc_grouped"
   ]
  },
  {
   "cell_type": "code",
   "execution_count": null,
   "metadata": {},
   "outputs": [],
   "source": []
  },
  {
   "cell_type": "code",
   "execution_count": 120,
   "metadata": {},
   "outputs": [
    {
     "name": "stdout",
     "output_type": "stream",
     "text": [
      "+---------+----+---------+----+-------+------+--------+--------------+------+--------+------+-------+-------------------+-------------------+\n",
      "|component|  id|component|  id|tran_id|is_sar|alert_id|tran_timestamp|target|base_amt|source|tx_type|       window_start|         window_end|\n",
      "+---------+----+---------+----+-------+------+--------+--------------+------+--------+------+-------+-------------------+-------------------+\n",
      "|     2227|7709|     2227|7709|  13830|     1|      53|   1.4840064E9|  7709|  147.41|  4431|      4|2016-12-29 00:00:00|2017-01-26 00:00:00|\n",
      "|     2227|9270|     2227|9270|  14488|     1|      53|   1.4840928E9|  9270|  147.41|  4431|      4|2016-12-29 00:00:00|2017-01-26 00:00:00|\n",
      "|     2227|2227|     2227|2227|  28162|     1|      53|   1.4848704E9|  2227|  147.41|  4431|      4|2016-12-29 00:00:00|2017-01-26 00:00:00|\n",
      "|     2227|2238|     2227|2238|  18229|     1|      53|   1.4842656E9|  2238|  147.41|  4431|      4|2016-12-29 00:00:00|2017-01-26 00:00:00|\n",
      "|     2227|2429|     2227|2429|   4473|     1|      53|    1.483488E9|  2429|  147.41|  4431|      4|2016-12-29 00:00:00|2017-01-26 00:00:00|\n",
      "+---------+----+---------+----+-------+------+--------+--------------+------+--------+------+-------+-------------------+-------------------+\n",
      "only showing top 5 rows"
     ]
    }
   ],
   "source": [
    "only_sar_edge_df.show(5)"
   ]
  },
  {
   "cell_type": "code",
   "execution_count": 124,
   "metadata": {},
   "outputs": [],
   "source": [
    "#only_sar_edge_df.orderBy(func.col(\"component\")).show(10)"
   ]
  },
  {
   "cell_type": "code",
   "execution_count": null,
   "metadata": {},
   "outputs": [],
   "source": []
  },
  {
   "cell_type": "code",
   "execution_count": 126,
   "metadata": {},
   "outputs": [
    {
     "name": "stdout",
     "output_type": "stream",
     "text": [
      "6"
     ]
    }
   ],
   "source": [
    "only_sar_edge_df.count()"
   ]
  },
  {
   "cell_type": "code",
   "execution_count": null,
   "metadata": {},
   "outputs": [],
   "source": []
  },
  {
   "cell_type": "code",
   "execution_count": 36,
   "metadata": {},
   "outputs": [
    {
     "name": "stdout",
     "output_type": "stream",
     "text": [
      "1028964"
     ]
    }
   ],
   "source": [
    "only_normal_edge_df.count()"
   ]
  },
  {
   "cell_type": "code",
   "execution_count": null,
   "metadata": {},
   "outputs": [],
   "source": []
  },
  {
   "cell_type": "code",
   "execution_count": 37,
   "metadata": {},
   "outputs": [
    {
     "name": "stdout",
     "output_type": "stream",
     "text": [
      "+---------+------------+-----------+\n",
      "|component|window_start| window_end|\n",
      "+---------+------------+-----------+\n",
      "|     1127| 1.4833152E9|1.4850432E9|\n",
      "|     1152|  1.516752E9|1.5170976E9|\n",
      "|      635|  1.483488E9|1.4957568E9|\n",
      "|      399| 1.5412032E9|1.5428448E9|\n",
      "|     3396| 1.4832288E9|1.5060384E9|\n",
      "+---------+------------+-----------+\n",
      "only showing top 5 rows"
     ]
    }
   ],
   "source": [
    "only_sar_edge_df_grouped = only_sar_edge_df.groupBy('component').agg(func.min(\"tran_timestamp\"),func.max(\"tran_timestamp\")).toDF(\"component\", \"window_start\", \"window_end\")\n",
    "only_sar_edge_df_grouped.show(5)"
   ]
  },
  {
   "cell_type": "code",
   "execution_count": null,
   "metadata": {},
   "outputs": [],
   "source": []
  },
  {
   "cell_type": "code",
   "execution_count": 38,
   "metadata": {},
   "outputs": [],
   "source": [
    "only_sar_edges_df_windows = only_sar_edge_df.join(only_sar_edge_df_grouped,[\"component\"])"
   ]
  },
  {
   "cell_type": "code",
   "execution_count": 39,
   "metadata": {},
   "outputs": [
    {
     "name": "stdout",
     "output_type": "stream",
     "text": [
      "+---------+----+------+-------+--------------+--------+------+--------+------+-------+------------+-----------+\n",
      "|component|  id|is_sar|tran_id|tran_timestamp|base_amt|target|alert_id|source|tx_type|window_start| window_end|\n",
      "+---------+----+------+-------+--------------+--------+------+--------+------+-------+------------+-----------+\n",
      "|     1127|3320|     1|   2135|   1.4833152E9|  170.32|  8279|      11|  3320|      4| 1.4833152E9|1.4850432E9|\n",
      "|     1127|8279|     1|  30182|   1.4850432E9|  170.32|  8279|      11|  9173|      4| 1.4833152E9|1.4850432E9|\n",
      "|     1127|1127|     1|  16629|   1.4841792E9|  170.32|  8279|      11|  1127|      4| 1.4833152E9|1.4850432E9|\n",
      "|     1127|7188|     1|   9861|   1.4837472E9|  170.32|  8279|      11|  7188|      4| 1.4833152E9|1.4850432E9|\n",
      "|     1127|8279|     1|  24020|   1.4846112E9|  170.32|  8279|      11|  4902|      4| 1.4833152E9|1.4850432E9|\n",
      "|     1152|7824|     1| 559198|   1.5169248E9|   82.04|  7824|      65|  8117|      4|  1.516752E9|1.5170976E9|\n",
      "|     1152|8049|     1| 561548|   1.5170976E9|   48.44|  8049|      65|  2321|      4|  1.516752E9|1.5170976E9|\n",
      "|     1152|8654|     1| 556094|    1.516752E9|  112.55|  3595|      65|  8654|      4|  1.516752E9|1.5170976E9|\n",
      "|     1152|2321|     1| 561547|   1.5170976E9|   53.83|  2321|      65|  4324|      4|  1.516752E9|1.5170976E9|\n",
      "|     1152|1152|     1| 556095|    1.516752E9|  101.29|  8535|      65|  1152|      4|  1.516752E9|1.5170976E9|\n",
      "|     1152|3304|     1| 559542|   1.5170112E9|   66.45|  8117|      65|  3304|      4|  1.516752E9|1.5170976E9|\n",
      "|     1152|8535|     1| 561549|   1.5170976E9|    43.6|  8654|      65|  8535|      4|  1.516752E9|1.5170976E9|\n",
      "|     1152|7824|     1| 557719|   1.5168384E9|   91.16|  1152|      65|  7824|      4|  1.516752E9|1.5170976E9|\n",
      "|     1152|3595|     1| 561546|   1.5170976E9|   59.81|  4324|      65|  3595|      4|  1.516752E9|1.5170976E9|\n",
      "|     1152|3304|     1| 559541|   1.5170112E9|   73.84|  3304|      65|  8049|      4|  1.516752E9|1.5170976E9|\n",
      "|      635|4330|     1|  61087|   1.4868576E9|  139.44|  4330|      31|  6378|      4|  1.483488E9|1.4957568E9|\n",
      "|      635|3988|     1|  86059|   1.4884128E9|  139.44|  3988|      31|  6378|      4|  1.483488E9|1.4957568E9|\n",
      "|      635|6378|     1|  18324|   1.4842656E9|  139.44|   635|      31|  6378|      4|  1.483488E9|1.4957568E9|\n",
      "|      635|6378|     1|   5154|    1.483488E9|  139.44|  8628|      31|  6378|      4|  1.483488E9|1.4957568E9|\n",
      "|      635|3398|     1| 208107|   1.4957568E9|  139.44|  3398|      31|  6378|      4|  1.483488E9|1.4957568E9|\n",
      "+---------+----+------+-------+--------------+--------+------+--------+------+-------+------------+-----------+\n",
      "only showing top 20 rows"
     ]
    }
   ],
   "source": [
    "only_sar_edges_df_windows.show()"
   ]
  },
  {
   "cell_type": "code",
   "execution_count": 40,
   "metadata": {},
   "outputs": [
    {
     "name": "stdout",
     "output_type": "stream",
     "text": [
      "732"
     ]
    }
   ],
   "source": [
    "only_sar_edges_df_windows.count()"
   ]
  },
  {
   "cell_type": "code",
   "execution_count": 42,
   "metadata": {},
   "outputs": [
    {
     "name": "stdout",
     "output_type": "stream",
     "text": [
      "+---------+----+------+-------+--------------+--------+------+--------+------+-------+------------+-----------+\n",
      "|component|  id|is_sar|tran_id|tran_timestamp|base_amt|target|alert_id|source|tx_type|window_start| window_end|\n",
      "+---------+----+------+-------+--------------+--------+------+--------+------+-------+------------+-----------+\n",
      "|     1127|8279|     1|  16629|   1.4841792E9|  170.32|  8279|      11|  1127|      4| 1.4833152E9|1.4850432E9|\n",
      "|     1127|8279|     1|  30182|   1.4850432E9|  170.32|  8279|      11|  9173|      4| 1.4833152E9|1.4850432E9|\n",
      "|     1127|8279|     1|   2135|   1.4833152E9|  170.32|  8279|      11|  3320|      4| 1.4833152E9|1.4850432E9|\n",
      "|     1127|4902|     1|  24020|   1.4846112E9|  170.32|  8279|      11|  4902|      4| 1.4833152E9|1.4850432E9|\n",
      "|     1127|7188|     1|   9861|   1.4837472E9|  170.32|  8279|      11|  7188|      4| 1.4833152E9|1.4850432E9|\n",
      "+---------+----+------+-------+--------------+--------+------+--------+------+-------+------------+-----------+"
     ]
    }
   ],
   "source": [
    "only_sar_edges_df_windows.where((only_sar_edges_df_windows.window_start == 1.4833152E9) & (only_sar_edges_df_windows.window_end == 1.4850432E9)).show()"
   ]
  },
  {
   "cell_type": "code",
   "execution_count": null,
   "metadata": {},
   "outputs": [],
   "source": []
  },
  {
   "cell_type": "code",
   "execution_count": 48,
   "metadata": {},
   "outputs": [],
   "source": [
    "only_normal_edges_df_windows = only_sar_edge_df_grouped.select(\"window_start\", \"window_end\").join(\n",
    "    only_normal_edge_df,\n",
    "    [(only_normal_edge_df.tran_timestamp>=only_sar_edge_df_grouped.window_start)&(only_normal_edge_df.tran_timestamp<=only_sar_edge_df_grouped.window_end)],\n",
    "    how=\"left\"\n",
    ")"
   ]
  },
  {
   "cell_type": "code",
   "execution_count": 49,
   "metadata": {},
   "outputs": [
    {
     "name": "stdout",
     "output_type": "stream",
     "text": [
      "+------------+-----------+------+-------+--------------+-------+--------+------+--------+------+\n",
      "|window_start| window_end|is_sar|tran_id|tran_timestamp|tx_type|base_amt|target|alert_id|source|\n",
      "+------------+-----------+------+-------+--------------+-------+--------+------+--------+------+\n",
      "| 1.4833152E9|1.4850432E9|     0|   1498|   1.4833152E9|      4| 4300.78|  2341|      -1|  1712|\n",
      "| 1.4833152E9|1.4850432E9|     0|   1499|   1.4833152E9|      4| 2702.02|  9721|      -1|  7976|\n",
      "| 1.4833152E9|1.4850432E9|     0|   1500|   1.4833152E9|      4| 2987.06|  9759|      -1|  9567|\n",
      "| 1.4833152E9|1.4850432E9|     0|   1501|   1.4833152E9|      4| 7066.07|  3219|      -1|  2664|\n",
      "| 1.4833152E9|1.4850432E9|     0|   1502|   1.4833152E9|      4| 5341.72|  3459|      -1|  5908|\n",
      "| 1.4833152E9|1.4850432E9|     0|   1503|   1.4833152E9|      4|  118.96|  2027|      -1|  5043|\n",
      "| 1.4833152E9|1.4850432E9|     0|   1504|   1.4833152E9|      4| 4353.21|  6294|      -1|  6502|\n",
      "| 1.4833152E9|1.4850432E9|     0|   1505|   1.4833152E9|      4| 5366.07|  1262|      -1|  4885|\n",
      "| 1.4833152E9|1.4850432E9|     0|   1506|   1.4833152E9|      4| 2407.98|  3436|      -1|  2085|\n",
      "| 1.4833152E9|1.4850432E9|     0|   1507|   1.4833152E9|      4| 7653.02|  8343|      -1|   862|\n",
      "| 1.4833152E9|1.4850432E9|     0|   1508|   1.4833152E9|      4| 5676.09|  9543|      -1|  8892|\n",
      "| 1.4833152E9|1.4850432E9|     0|   1509|   1.4833152E9|      4| 6733.68|   592|      -1|  4584|\n",
      "| 1.4833152E9|1.4850432E9|     0|   1510|   1.4833152E9|      4|  415.52|   311|      -1|  4809|\n",
      "| 1.4833152E9|1.4850432E9|     0|   1511|   1.4833152E9|      4| 2529.34|  8760|      -1|  7454|\n",
      "| 1.4833152E9|1.4850432E9|     0|   1512|   1.4833152E9|      4| 7102.71|  3549|      -1|  3033|\n",
      "| 1.4833152E9|1.4850432E9|     0|   1513|   1.4833152E9|      4| 8818.87|  4120|      -1|   207|\n",
      "| 1.4833152E9|1.4850432E9|     0|   1514|   1.4833152E9|      4| 8733.54|  7857|      -1|  7126|\n",
      "| 1.4833152E9|1.4850432E9|     0|   1515|   1.4833152E9|      4| 7945.31|  3919|      -1|  4508|\n",
      "| 1.4833152E9|1.4850432E9|     0|   1516|   1.4833152E9|      4| 7063.21|  2279|      -1|  1209|\n",
      "| 1.4833152E9|1.4850432E9|     0|   1517|   1.4833152E9|      4| 6615.02|  8941|      -1|  7361|\n",
      "+------------+-----------+------+-------+--------------+-------+--------+------+--------+------+\n",
      "only showing top 20 rows"
     ]
    }
   ],
   "source": [
    "only_normal_edges_df_windows.show()"
   ]
  },
  {
   "cell_type": "code",
   "execution_count": 50,
   "metadata": {},
   "outputs": [
    {
     "name": "stdout",
     "output_type": "stream",
     "text": [
      "26567736"
     ]
    }
   ],
   "source": [
    "only_normal_edges_df_windows.count()"
   ]
  },
  {
   "cell_type": "code",
   "execution_count": 51,
   "metadata": {},
   "outputs": [
    {
     "name": "stdout",
     "output_type": "stream",
     "text": [
      "+------------+-----------+------+-------+--------------+-------+--------+------+--------+------+--------+--------+\n",
      "|window_start| window_end|is_sar|tran_id|tran_timestamp|tx_type|base_amt|destId|alert_id|origId|  target|  source|\n",
      "+------------+-----------+------+-------+--------------+-------+--------+------+--------+------+--------+--------+\n",
      "| 1.4833152E9|1.4850432E9|     0|   1498|   1.4833152E9|      4| 4300.78|  2341|      -1|  1712|e63c8751|465fa954|\n",
      "| 1.4833152E9|1.4850432E9|     0|   1499|   1.4833152E9|      4| 2702.02|  9721|      -1|  7976|86bfcc1e|e7f1f1a1|\n",
      "| 1.4833152E9|1.4850432E9|     0|   1500|   1.4833152E9|      4| 2987.06|  9759|      -1|  9567|4531cf75|d0ac2ea1|\n",
      "| 1.4833152E9|1.4850432E9|     0|   1501|   1.4833152E9|      4| 7066.07|  3219|      -1|  2664|f4027061|2f4fa476|\n",
      "| 1.4833152E9|1.4850432E9|     0|   1502|   1.4833152E9|      4| 5341.72|  3459|      -1|  5908|631e2e29|ec3cdd07|\n",
      "| 1.4833152E9|1.4850432E9|     0|   1503|   1.4833152E9|      4|  118.96|  2027|      -1|  5043|4a73a008|1dafe491|\n",
      "| 1.4833152E9|1.4850432E9|     0|   1504|   1.4833152E9|      4| 4353.21|  6294|      -1|  6502|f1eea979|9f43b986|\n",
      "| 1.4833152E9|1.4850432E9|     0|   1505|   1.4833152E9|      4| 5366.07|  1262|      -1|  4885|bf36c08c|d5e37077|\n",
      "| 1.4833152E9|1.4850432E9|     0|   1506|   1.4833152E9|      4| 2407.98|  3436|      -1|  2085|5abe16dc|0630ff8f|\n",
      "| 1.4833152E9|1.4850432E9|     0|   1507|   1.4833152E9|      4| 7653.02|  8343|      -1|   862|234776a3|f1a4bc8f|\n",
      "| 1.4833152E9|1.4850432E9|     0|   1508|   1.4833152E9|      4| 5676.09|  9543|      -1|  8892|129da64b|a98d34a7|\n",
      "| 1.4833152E9|1.4850432E9|     0|   1509|   1.4833152E9|      4| 6733.68|   592|      -1|  4584|8564d116|09402643|\n",
      "| 1.4833152E9|1.4850432E9|     0|   1510|   1.4833152E9|      4|  415.52|   311|      -1|  4809|4a66bf71|92cd8c6a|\n",
      "| 1.4833152E9|1.4850432E9|     0|   1511|   1.4833152E9|      4| 2529.34|  8760|      -1|  7454|742a433d|ec9c89fd|\n",
      "| 1.4833152E9|1.4850432E9|     0|   1512|   1.4833152E9|      4| 7102.71|  3549|      -1|  3033|2b178f41|063e06bf|\n",
      "| 1.4833152E9|1.4850432E9|     0|   1513|   1.4833152E9|      4| 8818.87|  4120|      -1|   207|6a2145c8|bb42d637|\n",
      "| 1.4833152E9|1.4850432E9|     0|   1514|   1.4833152E9|      4| 8733.54|  7857|      -1|  7126|f50e3b29|06a38a29|\n",
      "| 1.4833152E9|1.4850432E9|     0|   1515|   1.4833152E9|      4| 7945.31|  3919|      -1|  4508|418974ea|59217799|\n",
      "| 1.4833152E9|1.4850432E9|     0|   1516|   1.4833152E9|      4| 7063.21|  2279|      -1|  1209|6f9a7cff|bdba6479|\n",
      "| 1.4833152E9|1.4850432E9|     0|   1517|   1.4833152E9|      4| 6615.02|  8941|      -1|  7361|f8354ecf|439263aa|\n",
      "+------------+-----------+------+-------+--------------+-------+--------+------+--------+------+--------+--------+\n",
      "only showing top 20 rows"
     ]
    }
   ],
   "source": [
    "only_normal_edges_df_windows = only_normal_edges_df_windows.withColumnRenamed(\"source\", \"origId\")\\\n",
    "                                                           .withColumnRenamed(\"target\", \"destId\")  \n",
    "only_normal_edges_df_windows = only_normal_edges_df_windows.withColumn('target',hashnode_udf(func.concat(func.col('destId'),func.lit('_'),func.col('window_start'),func.lit('_'),func.col('window_end'))))\\\n",
    "                                                           .withColumn('source',hashnode_udf(func.concat(func.col('origId'),func.lit('_'),func.col('window_start'),func.lit('_'),func.col('window_end'))))            \n",
    "only_normal_edges_df_windows.show()"
   ]
  },
  {
   "cell_type": "code",
   "execution_count": null,
   "metadata": {},
   "outputs": [],
   "source": []
  },
  {
   "cell_type": "code",
   "execution_count": 52,
   "metadata": {},
   "outputs": [],
   "source": [
    "normal_sources = only_normal_edges_df_windows.select(\"source\")\n",
    "normal_targets = only_normal_edges_df_windows.select(\"target\")\n",
    "normal_nodes = normal_sources.union(normal_targets).toDF(\"id\").dropDuplicates()\n",
    "normal_edges = only_normal_edges_df_windows.select(\"source\", \"target\").toDF(\"src\", \"dst\")"
   ]
  },
  {
   "cell_type": "code",
   "execution_count": null,
   "metadata": {},
   "outputs": [],
   "source": []
  },
  {
   "cell_type": "code",
   "execution_count": 53,
   "metadata": {},
   "outputs": [],
   "source": [
    "# Now lets construct the graph\n",
    "g_normal = GraphFrame(normal_nodes,normal_edges)"
   ]
  },
  {
   "cell_type": "code",
   "execution_count": null,
   "metadata": {},
   "outputs": [],
   "source": [
    "sc.setCheckpointDir(\"hdfs:///Projects/{}/Logs/sc\".format(hdfs.project_name()))\n",
    "cc_normal = g_normal.connectedComponents().cache()\n",
    "#scc_normal = g_normal.stronglyConnectedComponents(20).cache()"
   ]
  },
  {
   "cell_type": "code",
   "execution_count": null,
   "metadata": {},
   "outputs": [],
   "source": [
    "cc_norm_comp_count = cc_normal.groupBy('component').count().where(func.col('count')>2)\n",
    "cc_normal = cc_normal.join(cc_norm_comp_count,['component'])\n",
    "cc_normal =  cc_normal.drop('count')\n",
    "normal_cc_grouped = cc_normal.join(\n",
    "    only_normal_edge_df,\n",
    "    [(only_normal_edge_df.source==cc_normal.id)|(only_normal_edge_df.target==cc_normal.id)],\n",
    "    how=\"left\"\n",
    ").dropDuplicates(subset=['tran_id'])"
   ]
  },
  {
   "cell_type": "code",
   "execution_count": null,
   "metadata": {},
   "outputs": [],
   "source": [
    "normal_cc_grouped.show()"
   ]
  },
  {
   "cell_type": "code",
   "execution_count": null,
   "metadata": {},
   "outputs": [],
   "source": [
    "1-1"
   ]
  },
  {
   "cell_type": "code",
   "execution_count": null,
   "metadata": {},
   "outputs": [],
   "source": []
  },
  {
   "cell_type": "code",
   "execution_count": null,
   "metadata": {},
   "outputs": [],
   "source": []
  }
 ],
 "metadata": {
  "kernelspec": {
   "display_name": "PySpark",
   "language": "python",
   "name": "pysparkkernel"
  },
  "language_info": {
   "codemirror_mode": {
    "name": "python",
    "version": 3
   },
   "mimetype": "text/x-python",
   "name": "pyspark",
   "pygments_lexer": "python3"
  }
 },
 "nbformat": 4,
 "nbformat_minor": 4
}
