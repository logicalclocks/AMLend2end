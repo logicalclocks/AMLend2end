{
 "cells": [
  {
   "cell_type": "code",
   "execution_count": 1,
   "metadata": {},
   "outputs": [
    {
     "name": "stdout",
     "output_type": "stream",
     "text": [
      "Starting Spark application\n"
     ]
    },
    {
     "data": {
      "text/html": [
       "<table>\n",
       "<tr><th>ID</th><th>YARN Application ID</th><th>Kind</th><th>State</th><th>Spark UI</th><th>Driver log</th></tr><tr><td>80</td><td>application_1609265553881_0002</td><td>pyspark</td><td>idle</td><td><a target=\"_blank\" href=\"http://hopsworksdavit-master.internal.cloudapp.net:8088/proxy/application_1609265553881_0002/\">Link</a></td><td><a target=\"_blank\" href=\"http://hopsworksdavit-worker-6.internal.cloudapp.net:8042/node/containerlogs/container_e07_1609265553881_0002_01_000001/amlsim__meb10179\">Link</a></td></tr></table>"
      ],
      "text/plain": [
       "<IPython.core.display.HTML object>"
      ]
     },
     "metadata": {},
     "output_type": "display_data"
    },
    {
     "name": "stdout",
     "output_type": "stream",
     "text": [
      "SparkSession available as 'spark'.\n",
      "<pyspark.sql.session.SparkSession object at 0x7f414f1e4f10>"
     ]
    }
   ],
   "source": [
    "spark"
   ]
  },
  {
   "cell_type": "code",
   "execution_count": 2,
   "metadata": {},
   "outputs": [],
   "source": [
    "import hashlib\n",
    "from datetime import datetime\n",
    "from graphframes import *\n",
    "from pyspark.sql import functions as func\n",
    "from pyspark.sql.types import FloatType\n",
    "import hsfs\n",
    "from hops import hdfs\n",
    "import os\n",
    "from pyspark.sql import SQLContext"
   ]
  },
  {
   "cell_type": "code",
   "execution_count": 3,
   "metadata": {},
   "outputs": [],
   "source": [
    "def hashnode(x):\n",
    "    return hashlib.sha1(x.encode(\"UTF-8\")).hexdigest()[:8]\n",
    "\n",
    "hashnode_udf = func.udf(hashnode)"
   ]
  },
  {
   "cell_type": "code",
   "execution_count": 4,
   "metadata": {},
   "outputs": [
    {
     "name": "stdout",
     "output_type": "stream",
     "text": [
      "Connected. Call `.close()` to terminate connection gracefully."
     ]
    }
   ],
   "source": [
    "# Create a connection\n",
    "connection = hsfs.connection()\n",
    "# Get the feature store handle for the project's feature store\n",
    "fs = connection.get_feature_store()"
   ]
  },
  {
   "cell_type": "code",
   "execution_count": 5,
   "metadata": {},
   "outputs": [],
   "source": [
    "edge_fg = fs.get_feature_group('transactions_fg', 1)\n",
    "node_fg = fs.get_feature_group('account_features', 1)"
   ]
  },
  {
   "cell_type": "code",
   "execution_count": 6,
   "metadata": {},
   "outputs": [
    {
     "name": "stdout",
     "output_type": "stream",
     "text": [
      "+---------+---------------+--------------+-------+\n",
      "|prior_sar|initial_deposit|tx_behavior_id|acct_id|\n",
      "+---------+---------------+--------------+-------+\n",
      "|        0|       92221.09|             1|      0|\n",
      "|        0|       87897.72|             1|      1|\n",
      "|        0|       71028.58|             1|      2|\n",
      "|        0|       62945.84|             1|      3|\n",
      "|        0|       75563.74|             1|      4|\n",
      "+---------+---------------+--------------+-------+\n",
      "only showing top 5 rows"
     ]
    }
   ],
   "source": [
    "node_fg.show(5)"
   ]
  },
  {
   "cell_type": "code",
   "execution_count": 7,
   "metadata": {},
   "outputs": [
    {
     "name": "stdout",
     "output_type": "stream",
     "text": [
      "+------+------+-------+--------+--------------+-------+------+--------+\n",
      "|source|is_sar|tran_id|alert_id|tran_timestamp|tx_type|target|base_amt|\n",
      "+------+------+-------+--------+--------------+-------+------+--------+\n",
      "|   218|     0|      1|      -1|   1.4832288E9|      4|    78|  458.69|\n",
      "|   213|     0|      2|      -1|   1.4832288E9|      4|    95|  537.69|\n",
      "|   191|     0|      3|      -1|   1.4832288E9|      4|    74|  139.61|\n",
      "|   166|     0|      4|      -1|   1.4832288E9|      4|   197|  717.61|\n",
      "|    16|     0|      5|      -1|   1.4832288E9|      4|    46|  275.56|\n",
      "+------+------+-------+--------+--------------+-------+------+--------+\n",
      "only showing top 5 rows"
     ]
    }
   ],
   "source": [
    "edge_fg.show(5)"
   ]
  },
  {
   "cell_type": "code",
   "execution_count": null,
   "metadata": {},
   "outputs": [],
   "source": []
  },
  {
   "cell_type": "code",
   "execution_count": 36,
   "metadata": {},
   "outputs": [
    {
     "name": "stdout",
     "output_type": "stream",
     "text": [
      "+-----+\n",
      "|count|\n",
      "+-----+\n",
      "|  300|\n",
      "+-----+"
     ]
    }
   ],
   "source": [
    "all_sources = edge_fg.read().select(\"source\")\n",
    "all_targets = edge_fg.read().select(\"target\")\n",
    "all_nodes = all_sources.union(all_targets).toDF(\"id\").dropDuplicates()\n",
    "all_edges = edge_fg.read().select(\"source\", \"target\").toDF(\"src\", \"dst\")\n",
    "# Now lets construct the graph\n",
    "g_all = GraphFrame(all_nodes,all_edges)\n",
    "sc.setCheckpointDir(\"hdfs:///Projects/{}/Logs/sc\".format(hdfs.project_name()))\n",
    "#cc_all = g_all.connectedComponents().cache()\n",
    "cc_all = g_all.stronglyConnectedComponents(20).cache()\n",
    "cc_all.groupBy('component').count().select('count').dropDuplicates().orderBy('count').show()"
   ]
  },
  {
   "cell_type": "code",
   "execution_count": 38,
   "metadata": {},
   "outputs": [
    {
     "name": "stdout",
     "output_type": "stream",
     "text": [
      "300"
     ]
    }
   ],
   "source": [
    "all_nodes.count()"
   ]
  },
  {
   "cell_type": "code",
   "execution_count": 39,
   "metadata": {},
   "outputs": [
    {
     "name": "stdout",
     "output_type": "stream",
     "text": [
      "300"
     ]
    }
   ],
   "source": [
    "node_fg.read().count()"
   ]
  },
  {
   "cell_type": "code",
   "execution_count": 40,
   "metadata": {},
   "outputs": [],
   "source": [
    "# Run PageRank until convergence to tolerance \"tol\".\n",
    "results = g_all.pageRank(resetProbability=0.15, tol=0.01)\n",
    "# Display resulting pageranks and final edge weights\n",
    "# Note that the displayed pagerank may be truncated, e.g., missing the E notation.\n",
    "# In Spark 1.5+, you can use show(truncate=False) to avoid truncation."
   ]
  },
  {
   "cell_type": "code",
   "execution_count": 44,
   "metadata": {},
   "outputs": [
    {
     "name": "stdout",
     "output_type": "stream",
     "text": [
      "+---+------------------+\n",
      "| id|          pagerank|\n",
      "+---+------------------+\n",
      "|199| 3.090645691444692|\n",
      "|299|3.0616148540362587|\n",
      "|298| 2.700349396074648|\n",
      "|198| 2.621710988718279|\n",
      "| 99| 2.603718505547572|\n",
      "| 98|2.4392578463673744|\n",
      "|197|2.4169416134926127|\n",
      "|297| 2.413600360667969|\n",
      "| 97| 2.403460226105327|\n",
      "| 96| 2.196975880820476|\n",
      "|292|2.1299957536737906|\n",
      "|195|2.1079525426022006|\n",
      "|296|2.0997526965332156|\n",
      "| 95| 2.014461718748232|\n",
      "|294|  2.01075730228747|\n",
      "|194|1.9682507722506049|\n",
      "|295|1.9621250186782841|\n",
      "|196|1.9354852228725368|\n",
      "| 94| 1.895490737648288|\n",
      "| 91|1.8267309102516003|\n",
      "+---+------------------+\n",
      "only showing top 20 rows"
     ]
    }
   ],
   "source": [
    "results.vertices.select(\"id\", \"pagerank\").orderBy(\"pagerank\", ascending=False).show()"
   ]
  },
  {
   "cell_type": "code",
   "execution_count": 47,
   "metadata": {},
   "outputs": [
    {
     "name": "stdout",
     "output_type": "stream",
     "text": [
      "+---+---+\n",
      "|src|dst|\n",
      "+---+---+\n",
      "|218| 78|\n",
      "|213| 95|\n",
      "|191| 74|\n",
      "|166|197|\n",
      "| 16| 46|\n",
      "|100|296|\n",
      "|202| 76|\n",
      "| 69|229|\n",
      "| 97|121|\n",
      "|  9| 62|\n",
      "|118| 77|\n",
      "| 98|162|\n",
      "| 35|215|\n",
      "|266|276|\n",
      "|249|281|\n",
      "|295| 78|\n",
      "| 22|168|\n",
      "|273|261|\n",
      "|260|127|\n",
      "|244|281|\n",
      "+---+---+\n",
      "only showing top 20 rows"
     ]
    }
   ],
   "source": [
    "all_edges.show()"
   ]
  },
  {
   "cell_type": "code",
   "execution_count": 51,
   "metadata": {},
   "outputs": [],
   "source": [
    "import networkx as nx\n",
    "pdf = all_edges.toPandas()\n",
    "G=nx.from_pandas_edgelist(pdf,'src','dst')\n",
    "graphs = list(nx.connected_components(G))"
   ]
  },
  {
   "cell_type": "code",
   "execution_count": 52,
   "metadata": {},
   "outputs": [
    {
     "name": "stdout",
     "output_type": "stream",
     "text": [
      "[{0, 1, 2, 3, 4, 5, 6, 7, 8, 9, 10, 11, 12, 13, 14, 15, 16, 17, 18, 19, 20, 21, 22, 23, 24, 25, 26, 27, 28, 29, 30, 31, 32, 33, 34, 35, 36, 37, 38, 39, 40, 41, 42, 43, 44, 45, 46, 47, 48, 49, 50, 51, 52, 53, 54, 55, 56, 57, 58, 59, 60, 61, 62, 63, 64, 65, 66, 67, 68, 69, 70, 71, 72, 73, 74, 75, 76, 77, 78, 79, 80, 81, 82, 83, 84, 85, 86, 87, 88, 89, 90, 91, 92, 93, 94, 95, 96, 97, 98, 99, 100, 101, 102, 103, 104, 105, 106, 107, 108, 109, 110, 111, 112, 113, 114, 115, 116, 117, 118, 119, 120, 121, 122, 123, 124, 125, 126, 127, 128, 129, 130, 131, 132, 133, 134, 135, 136, 137, 138, 139, 140, 141, 142, 143, 144, 145, 146, 147, 148, 149, 150, 151, 152, 153, 154, 155, 156, 157, 158, 159, 160, 161, 162, 163, 164, 165, 166, 167, 168, 169, 170, 171, 172, 173, 174, 175, 176, 177, 178, 179, 180, 181, 182, 183, 184, 185, 186, 187, 188, 189, 190, 191, 192, 193, 194, 195, 196, 197, 198, 199, 200, 201, 202, 203, 204, 205, 206, 207, 208, 209, 210, 211, 212, 213, 214, 215, 216, 217, 218, 219, 220, 221, 222, 223, 224, 225, 226, 227, 228, 229, 230, 231, 232, 233, 234, 235, 236, 237, 238, 239, 240, 241, 242, 243, 244, 245, 246, 247, 248, 249, 250, 251, 252, 253, 254, 255, 256, 257, 258, 259, 260, 261, 262, 263, 264, 265, 266, 267, 268, 269, 270, 271, 272, 273, 274, 275, 276, 277, 278, 279, 280, 281, 282, 283, 284, 285, 286, 287, 288, 289, 290, 291, 292, 293, 294, 295, 296, 297, 298, 299}]"
     ]
    }
   ],
   "source": [
    "graphs"
   ]
  },
  {
   "cell_type": "code",
   "execution_count": 8,
   "metadata": {},
   "outputs": [],
   "source": [
    "only_sar_edge_df = edge_fg.read().filter(func.col('alert_id') != -1)\n",
    "only_normal_edge_df =  edge_fg.read().filter(func.col('alert_id') == -1)"
   ]
  },
  {
   "cell_type": "code",
   "execution_count": 9,
   "metadata": {},
   "outputs": [
    {
     "name": "stdout",
     "output_type": "stream",
     "text": [
      "+------+------+-------+--------+--------------+-------+------+--------+\n",
      "|source|is_sar|tran_id|alert_id|tran_timestamp|tx_type|target|base_amt|\n",
      "+------+------+-------+--------+--------------+-------+------+--------+\n",
      "|   218|     0|      1|      -1|   1.4832288E9|      4|    78|  458.69|\n",
      "|   213|     0|      2|      -1|   1.4832288E9|      4|    95|  537.69|\n",
      "|   191|     0|      3|      -1|   1.4832288E9|      4|    74|  139.61|\n",
      "|   166|     0|      4|      -1|   1.4832288E9|      4|   197|  717.61|\n",
      "|    16|     0|      5|      -1|   1.4832288E9|      4|    46|  275.56|\n",
      "+------+------+-------+--------+--------------+-------+------+--------+\n",
      "only showing top 5 rows"
     ]
    }
   ],
   "source": [
    "only_normal_edge_df.show(5)"
   ]
  },
  {
   "cell_type": "code",
   "execution_count": 10,
   "metadata": {},
   "outputs": [
    {
     "name": "stdout",
     "output_type": "stream",
     "text": [
      "+------+------+-------+--------+--------------+-------+------+--------+\n",
      "|source|is_sar|tran_id|alert_id|tran_timestamp|tx_type|target|base_amt|\n",
      "+------+------+-------+--------+--------------+-------+------+--------+\n",
      "|   202|     1|      7|       0|   1.4832288E9|      4|    76|  157.52|\n",
      "|    25|     1|   1791|       4|   1.4867712E9|      4|    32|  149.66|\n",
      "|    32|     1|   1833|       4|   1.4868576E9|      4|    57|  149.66|\n",
      "|    57|     1|   1958|       4|   1.4871168E9|      4|   177|  149.66|\n",
      "|   177|     1|   2033|       4|   1.4872896E9|      4|   259|  149.66|\n",
      "|   259|     1|   2232|       4|   1.4877216E9|      4|   163|  149.66|\n",
      "|   258|     1|   2668|       0|   1.4885856E9|      4|    76|  157.52|\n",
      "|    83|     1|   3909|       1|   1.4910912E9|      4|   249|  131.22|\n",
      "|   298|     1|   5340|       0|   1.4939424E9|      4|    76|  157.52|\n",
      "|   240|     1|   8002|       0|   1.4992992E9|      4|    76|  157.52|\n",
      "|    83|     1|   9999|       1|     1.50336E9|      4|   201|  131.22|\n",
      "|   230|     1|  15792|       5|    1.515024E9|      4|   176|  130.91|\n",
      "|     7|     1|  16131|       5|   1.5156288E9|      4|   230|  117.81|\n",
      "|    20|     1|  16198|       5|   1.5158016E9|      4|     7|  106.03|\n",
      "|   178|     1|  16233|       5|    1.515888E9|      4|    20|   95.43|\n",
      "|   176|     1|  16300|       5|   1.5159744E9|      4|   178|   85.89|\n",
      "|    83|     1|  18618|       1|     1.52064E9|      4|   237|  131.22|\n",
      "|    83|     1|  21099|       1|   1.5256512E9|      4|   227|  131.22|\n",
      "|   107|     1|  25277|       6|    1.534032E9|      4|   285|  112.65|\n",
      "|   107|     1|  25290|       6|   1.5341184E9|      4|   259|  112.65|\n",
      "+------+------+-------+--------+--------------+-------+------+--------+\n",
      "only showing top 20 rows"
     ]
    }
   ],
   "source": [
    "only_sar_edge_df.show()"
   ]
  },
  {
   "cell_type": "code",
   "execution_count": 11,
   "metadata": {},
   "outputs": [
    {
     "name": "stdout",
     "output_type": "stream",
     "text": [
      "38"
     ]
    }
   ],
   "source": [
    "only_sar_edge_df.count()"
   ]
  },
  {
   "cell_type": "code",
   "execution_count": 12,
   "metadata": {},
   "outputs": [
    {
     "name": "stdout",
     "output_type": "stream",
     "text": [
      "38"
     ]
    }
   ],
   "source": [
    "sar_sources = only_sar_edge_df.select(\"source\")\n",
    "sar_targets = only_sar_edge_df.select(\"target\")\n",
    "sar_nodes = sar_sources.union(sar_targets).toDF(\"id\").dropDuplicates()\n",
    "sar_nodes.count()\n",
    "\n",
    "sar_edges = only_sar_edge_df.select(\"source\", \"target\").toDF(\"src\", \"dst\")\n",
    "sar_edges.count()"
   ]
  },
  {
   "cell_type": "code",
   "execution_count": 16,
   "metadata": {},
   "outputs": [],
   "source": [
    "# Now lets construct the graph\n",
    "g_sar = GraphFrame(sar_nodes,sar_edges)\n",
    "sc.setCheckpointDir(\"hdfs:///Projects/{}/Logs/sc\".format(hdfs.project_name()))\n",
    "cc_sar = g_sar.connectedComponents()\n",
    "#cc_sar = g_sar.stronglyConnectedComponents(20).cache()"
   ]
  },
  {
   "cell_type": "code",
   "execution_count": 17,
   "metadata": {},
   "outputs": [
    {
     "name": "stdout",
     "output_type": "stream",
     "text": [
      "+---+---------+\n",
      "| id|component|\n",
      "+---+---------+\n",
      "| 78|        5|\n",
      "| 76|       76|\n",
      "|285|       25|\n",
      "|230|        7|\n",
      "|157|        5|\n",
      "|111|        5|\n",
      "|177|       25|\n",
      "|259|       25|\n",
      "|178|        7|\n",
      "| 20|        7|\n",
      "| 57|       25|\n",
      "|292|        5|\n",
      "|191|        5|\n",
      "|163|       25|\n",
      "|  5|        5|\n",
      "|258|       76|\n",
      "|227|       83|\n",
      "|202|       76|\n",
      "|107|       25|\n",
      "|176|        7|\n",
      "+---+---------+\n",
      "only showing top 20 rows"
     ]
    }
   ],
   "source": [
    "cc_sar.cache().show()"
   ]
  },
  {
   "cell_type": "code",
   "execution_count": 18,
   "metadata": {},
   "outputs": [
    {
     "name": "stdout",
     "output_type": "stream",
     "text": [
      "+-----+\n",
      "|count|\n",
      "+-----+\n",
      "|    5|\n",
      "|   11|\n",
      "|   12|\n",
      "+-----+"
     ]
    }
   ],
   "source": [
    "cc_sar.groupBy('component').count().select('count').dropDuplicates().orderBy('count').show()"
   ]
  },
  {
   "cell_type": "code",
   "execution_count": null,
   "metadata": {},
   "outputs": [],
   "source": []
  },
  {
   "cell_type": "code",
   "execution_count": 19,
   "metadata": {},
   "outputs": [
    {
     "name": "stdout",
     "output_type": "stream",
     "text": [
      "+---------+---+\n",
      "|component| id|\n",
      "+---------+---+\n",
      "|        5| 78|\n",
      "|       76| 76|\n",
      "|       25|285|\n",
      "|        7|230|\n",
      "|        5|157|\n",
      "|        5|111|\n",
      "|       25|177|\n",
      "|       25|259|\n",
      "|        7|178|\n",
      "|        7| 20|\n",
      "|       25| 57|\n",
      "|        5|292|\n",
      "|        5|191|\n",
      "|       25|163|\n",
      "|        5|  5|\n",
      "|       76|258|\n",
      "|       83|227|\n",
      "|       76|202|\n",
      "|       25|107|\n",
      "|        7|176|\n",
      "+---------+---+\n",
      "only showing top 20 rows"
     ]
    }
   ],
   "source": [
    "cc_sar_grouped = cc_sar.groupBy('component').count().where(func.col('count')>2).drop('count')\n",
    "cc_sar = cc_sar.join(cc_sar_grouped,['component'])\n",
    "cc_sar.show()"
   ]
  },
  {
   "cell_type": "code",
   "execution_count": 20,
   "metadata": {},
   "outputs": [
    {
     "name": "stdout",
     "output_type": "stream",
     "text": [
      "+---------+---+------+------+-------+--------+--------------+-------+------+--------+\n",
      "|component| id|source|is_sar|tran_id|alert_id|tran_timestamp|tx_type|target|base_amt|\n",
      "+---------+---+------+------+-------+--------+--------------+-------+------+--------+\n",
      "|        5|191|   191|     1|  26924|       7|   1.5374016E9|      4|   292|  102.97|\n",
      "|        5|292|   116|     1|  26683|       7|   1.5368832E9|      4|   292|  102.97|\n",
      "|       83|237|    83|     1|  18618|       1|     1.52064E9|      4|   237|  131.22|\n",
      "|        7|230|     7|     1|  16131|       5|   1.5156288E9|      4|   230|  117.81|\n",
      "|       25| 38|    38|     1|  25576|       6|   1.5346368E9|      4|   242|  101.38|\n",
      "|       76|258|   258|     1|   2668|       0|   1.4885856E9|      4|    76|  157.52|\n",
      "|        7|230|   230|     1|  15792|       5|    1.515024E9|      4|   176|  130.91|\n",
      "|       25|215|   215|     1|  25655|       6|   1.5348096E9|      4|   242|  101.38|\n",
      "|       25|285|   107|     1|  25277|       6|    1.534032E9|      4|   285|  112.65|\n",
      "|        5|292|   292|     1|  27281|       7|   1.5380928E9|      4|    21|   92.67|\n",
      "|        5|292|   156|     1|  26684|       7|   1.5368832E9|      4|   292|  102.97|\n",
      "|        7|176|   176|     1|  16300|       5|   1.5159744E9|      4|   178|   85.89|\n",
      "|       25|259|   259|     1|   2232|       4|   1.4877216E9|      4|   163|  149.66|\n",
      "|       25|107|   107|     1|  25397|       6|   1.5342912E9|      4|    38|  112.65|\n",
      "|        5|292|   157|     1|  26923|       7|   1.5374016E9|      4|   292|  102.97|\n",
      "|       76| 76|   240|     1|   8002|       0|   1.4992992E9|      4|    76|  157.52|\n",
      "|        5| 36|   292|     1|  27353|       7|   1.5381792E9|      4|    36|   92.67|\n",
      "|       25|107|   107|     1|  25395|       6|   1.5342912E9|      4|   215|  112.65|\n",
      "|       25| 57|    32|     1|   1833|       4|   1.4868576E9|      4|    57|  149.66|\n",
      "|       76| 76|   202|     1|      7|       0|   1.4832288E9|      4|    76|  157.52|\n",
      "+---------+---+------+------+-------+--------+--------------+-------+------+--------+\n",
      "only showing top 20 rows"
     ]
    }
   ],
   "source": [
    "sar_cc_grouped = cc_sar.join(\n",
    "    only_sar_edge_df,\n",
    "    [(only_sar_edge_df.source==cc_sar.id)|(only_sar_edge_df.target==cc_sar.id)],\n",
    "    how=\"left\"\n",
    ").dropDuplicates(subset=['tran_id'])\n",
    "sar_cc_grouped.show()"
   ]
  },
  {
   "cell_type": "code",
   "execution_count": null,
   "metadata": {},
   "outputs": [],
   "source": []
  },
  {
   "cell_type": "code",
   "execution_count": 21,
   "metadata": {},
   "outputs": [
    {
     "name": "stdout",
     "output_type": "stream",
     "text": [
      "38"
     ]
    }
   ],
   "source": [
    "sar_cc_grouped.count()"
   ]
  },
  {
   "cell_type": "code",
   "execution_count": 22,
   "metadata": {},
   "outputs": [
    {
     "name": "stdout",
     "output_type": "stream",
     "text": [
      "38"
     ]
    }
   ],
   "source": [
    "sar_cc_grouped.count()"
   ]
  },
  {
   "cell_type": "code",
   "execution_count": 23,
   "metadata": {},
   "outputs": [
    {
     "name": "stdout",
     "output_type": "stream",
     "text": [
      "38"
     ]
    }
   ],
   "source": [
    "only_sar_edge_df.count()"
   ]
  },
  {
   "cell_type": "code",
   "execution_count": null,
   "metadata": {},
   "outputs": [],
   "source": []
  },
  {
   "cell_type": "code",
   "execution_count": 24,
   "metadata": {},
   "outputs": [],
   "source": [
    "only_sar_edge_df = sar_cc_grouped"
   ]
  },
  {
   "cell_type": "code",
   "execution_count": 25,
   "metadata": {},
   "outputs": [
    {
     "name": "stdout",
     "output_type": "stream",
     "text": [
      "+---------+---+------+------+-------+--------+--------------+-------+------+--------+\n",
      "|component| id|source|is_sar|tran_id|alert_id|tran_timestamp|tx_type|target|base_amt|\n",
      "+---------+---+------+------+-------+--------+--------------+-------+------+--------+\n",
      "|        5|191|   191|     1|  26924|       7|   1.5374016E9|      4|   292|  102.97|\n",
      "|        5|292|   116|     1|  26683|       7|   1.5368832E9|      4|   292|  102.97|\n",
      "|       83| 83|    83|     1|  18618|       1|     1.52064E9|      4|   237|  131.22|\n",
      "|        7|230|     7|     1|  16131|       5|   1.5156288E9|      4|   230|  117.81|\n",
      "|       25|242|    38|     1|  25576|       6|   1.5346368E9|      4|   242|  101.38|\n",
      "+---------+---+------+------+-------+--------+--------------+-------+------+--------+\n",
      "only showing top 5 rows"
     ]
    }
   ],
   "source": [
    "only_sar_edge_df.show(5)"
   ]
  },
  {
   "cell_type": "code",
   "execution_count": null,
   "metadata": {},
   "outputs": [],
   "source": []
  },
  {
   "cell_type": "code",
   "execution_count": 27,
   "metadata": {},
   "outputs": [],
   "source": [
    "normal_sources = only_normal_edge_df.select(\"source\")\n",
    "normal_targets = only_normal_edge_df.select(\"target\")\n",
    "normal_nodes = normal_sources.union(normal_targets).toDF(\"id\").dropDuplicates()\n",
    "normal_edges = only_normal_edge_df.select(\"source\", \"target\").toDF(\"src\", \"dst\")"
   ]
  },
  {
   "cell_type": "code",
   "execution_count": 29,
   "metadata": {},
   "outputs": [],
   "source": [
    "# Now lets construct the graph\n",
    "g_normal = GraphFrame(normal_nodes,normal_edges)"
   ]
  },
  {
   "cell_type": "code",
   "execution_count": 32,
   "metadata": {},
   "outputs": [],
   "source": [
    "sc.setCheckpointDir(\"hdfs:///Projects/{}/Logs/sc\".format(hdfs.project_name()))\n",
    "#cc_normal = g_normal.connectedComponents().cache()\n",
    "cc_normal = g_normal.stronglyConnectedComponents(20).cache()"
   ]
  },
  {
   "cell_type": "code",
   "execution_count": 33,
   "metadata": {},
   "outputs": [
    {
     "name": "stdout",
     "output_type": "stream",
     "text": [
      "+-----+\n",
      "|count|\n",
      "+-----+\n",
      "|  300|\n",
      "+-----+"
     ]
    }
   ],
   "source": [
    "cc_normal.groupBy('component').count().select('count').dropDuplicates().orderBy('count').show()"
   ]
  },
  {
   "cell_type": "code",
   "execution_count": 34,
   "metadata": {},
   "outputs": [
    {
     "name": "stdout",
     "output_type": "stream",
     "text": [
      "+---+---------+\n",
      "| id|component|\n",
      "+---+---------+\n",
      "|200|        0|\n",
      "|  0|        0|\n",
      "|201|        0|\n",
      "|  1|        0|\n",
      "|202|        0|\n",
      "|  2|        0|\n",
      "|  3|        0|\n",
      "|203|        0|\n",
      "|  4|        0|\n",
      "|204|        0|\n",
      "|205|        0|\n",
      "|  5|        0|\n",
      "|206|        0|\n",
      "|  6|        0|\n",
      "|207|        0|\n",
      "|  7|        0|\n",
      "|208|        0|\n",
      "|  8|        0|\n",
      "|  9|        0|\n",
      "|209|        0|\n",
      "+---+---------+\n",
      "only showing top 20 rows"
     ]
    }
   ],
   "source": [
    "cc_normal.show()"
   ]
  },
  {
   "cell_type": "code",
   "execution_count": 36,
   "metadata": {},
   "outputs": [
    {
     "name": "stdout",
     "output_type": "stream",
     "text": [
      "DataFrame[component: bigint, id: int, is_sar: int, tx_type: string, tran_id: int, tran_timestamp: float, base_amt: double, target: int, alert_id: int, source: int]"
     ]
    }
   ],
   "source": [
    "cc_norm_comp_count = cc_normal.groupBy('component').count().where(func.col('count')>=5)\n",
    "cc_normal = cc_normal.join(cc_norm_comp_count,['component'])\n",
    "cc_normal =  cc_normal.drop('count')\n",
    "normal_cc_grouped = cc_normal.join(\n",
    "    only_normal_edge_df,\n",
    "    [(only_normal_edge_df.source==cc_normal.id)|(only_normal_edge_df.target==cc_normal.id)],\n",
    "    how=\"left\"\n",
    ").dropDuplicates(subset=['tran_id'])\n",
    "normal_cc_grouped.cache()"
   ]
  },
  {
   "cell_type": "code",
   "execution_count": 37,
   "metadata": {},
   "outputs": [
    {
     "name": "stdout",
     "output_type": "stream",
     "text": [
      "+---------+----+------+-------+-------+--------------+--------+------+--------+------+\n",
      "|component|  id|is_sar|tx_type|tran_id|tran_timestamp|base_amt|target|alert_id|source|\n",
      "+---------+----+------+-------+-------+--------------+--------+------+--------+------+\n",
      "|        4| 854|     0|      4|    148|   1.4832288E9| 8934.66|  3951|      -1|   854|\n",
      "|        4|4076|     0|      4|    463|   1.4832288E9| 5695.63|  1630|      -1|  4076|\n",
      "|        4|1334|     0|      4|    496|   1.4832288E9| 5231.16|  3654|      -1|  1334|\n",
      "|        4|1052|     0|      4|    833|   1.4832288E9| 4552.67|  8906|      -1|  1052|\n",
      "|        4|9097|     0|      4|   1088|   1.4832288E9| 6632.67|  9587|      -1|  9097|\n",
      "|        4|6306|     0|      4|   1342|   1.4832288E9|  9067.7|  6306|      -1|   176|\n",
      "|        4|9951|     0|      4|   1580|   1.4833152E9|  3811.5|  9951|      -1|  9478|\n",
      "|        4|4819|     0|      4|   1645|   1.4833152E9| 8523.88|  1246|      -1|  4819|\n",
      "|        4|5829|     0|      4|   1829|   1.4833152E9| 2840.21|  5829|      -1|  6351|\n",
      "|        4|7130|     0|      4|   1959|   1.4833152E9| 4195.39|  7130|      -1|  9370|\n",
      "|        4|1841|     0|      4|   2122|   1.4833152E9| 8528.77|  1841|      -1|  4484|\n",
      "|        4|7638|     0|      4|   2142|   1.4833152E9|  452.43|  5788|      -1|  7638|\n",
      "|        4|4909|     0|      4|   2366|   1.4833152E9| 2523.82|  3954|      -1|  4909|\n",
      "|        4|9611|     0|      4|   2659|   1.4833152E9| 2263.68|  9611|      -1|  6928|\n",
      "|        4|8818|     0|      4|   2866|   1.4833152E9| 2653.84|  1282|      -1|  8818|\n",
      "|        4|6326|     0|      4|   3175|   1.4834016E9| 4700.56|  6326|      -1|   439|\n",
      "|        4|6014|     0|      4|   3749|   1.4834016E9|  640.06|  1597|      -1|  6014|\n",
      "|        4|6049|     0|      4|   3794|   1.4834016E9| 6903.73|  6049|      -1|  8734|\n",
      "|        4|1613|     0|      4|   4519|    1.483488E9| 1571.64|  1613|      -1|  5350|\n",
      "|        4|1671|     0|      4|   4935|    1.483488E9| 6154.75|  1671|      -1|  5168|\n",
      "+---------+----+------+-------+-------+--------------+--------+------+--------+------+\n",
      "only showing top 20 rows"
     ]
    }
   ],
   "source": [
    "normal_cc_grouped.show()"
   ]
  },
  {
   "cell_type": "code",
   "execution_count": 38,
   "metadata": {},
   "outputs": [
    {
     "name": "stdout",
     "output_type": "stream",
     "text": [
      "751796"
     ]
    }
   ],
   "source": [
    "normal_cc_grouped.count()"
   ]
  },
  {
   "cell_type": "code",
   "execution_count": null,
   "metadata": {},
   "outputs": [],
   "source": []
  },
  {
   "cell_type": "code",
   "execution_count": null,
   "metadata": {},
   "outputs": [],
   "source": []
  }
 ],
 "metadata": {
  "kernelspec": {
   "display_name": "PySpark",
   "language": "python",
   "name": "pysparkkernel"
  },
  "language_info": {
   "codemirror_mode": {
    "name": "python",
    "version": 3
   },
   "mimetype": "text/x-python",
   "name": "pyspark",
   "pygments_lexer": "python3"
  }
 },
 "nbformat": 4,
 "nbformat_minor": 4
}
