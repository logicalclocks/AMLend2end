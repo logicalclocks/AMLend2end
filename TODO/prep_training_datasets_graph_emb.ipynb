{
 "cells": [
  {
   "cell_type": "code",
   "execution_count": 11,
   "metadata": {},
   "outputs": [
    {
     "name": "stdout",
     "output_type": "stream",
     "text": [
      "<pyspark.sql.session.SparkSession object at 0x7f103a41cfd0>"
     ]
    }
   ],
   "source": [
    "spark"
   ]
  },
  {
   "cell_type": "code",
   "execution_count": 12,
   "metadata": {},
   "outputs": [],
   "source": [
    "import hashlib\n",
    "from datetime import datetime\n",
    "from graphframes import *\n",
    "from pyspark.sql import functions as func\n",
    "from pyspark.sql.types import FloatType\n",
    "import hsfs\n",
    "from hops import hdfs\n",
    "import os\n",
    "from pyspark.sql import SQLContext"
   ]
  },
  {
   "cell_type": "code",
   "execution_count": 13,
   "metadata": {},
   "outputs": [],
   "source": [
    "def hashnode(x):\n",
    "    return hashlib.sha1(x.encode(\"UTF-8\")).hexdigest()[:8]\n",
    "\n",
    "hashnode_udf = func.udf(hashnode)"
   ]
  },
  {
   "cell_type": "code",
   "execution_count": 14,
   "metadata": {},
   "outputs": [
    {
     "name": "stdout",
     "output_type": "stream",
     "text": [
      "Connected. Call `.close()` to terminate connection gracefully."
     ]
    }
   ],
   "source": [
    "# Create a connection\n",
    "connection = hsfs.connection()\n",
    "# Get the feature store handle for the project's feature store\n",
    "fs = connection.get_feature_store()"
   ]
  },
  {
   "cell_type": "code",
   "execution_count": 15,
   "metadata": {},
   "outputs": [],
   "source": [
    "edge_fg = fs.get_feature_group('transactions_fg', 1)\n",
    "node_fg = fs.get_feature_group('account_features', 1)"
   ]
  },
  {
   "cell_type": "code",
   "execution_count": 16,
   "metadata": {},
   "outputs": [
    {
     "name": "stdout",
     "output_type": "stream",
     "text": [
      "+-------+--------------+---------+---------------+\n",
      "|acct_id|tx_behavior_id|prior_sar|initial_deposit|\n",
      "+-------+--------------+---------+---------------+\n",
      "|      0|             1|        0|       84442.19|\n",
      "|      1|             1|        0|       75795.44|\n",
      "|      2|             1|        0|       42057.16|\n",
      "|      3|             1|        0|       25891.68|\n",
      "|      4|             1|        0|       51127.47|\n",
      "+-------+--------------+---------+---------------+\n",
      "only showing top 5 rows"
     ]
    }
   ],
   "source": [
    "node_fg.show(5)"
   ]
  },
  {
   "cell_type": "code",
   "execution_count": 17,
   "metadata": {},
   "outputs": [
    {
     "name": "stdout",
     "output_type": "stream",
     "text": [
      "+------+-------+-------+--------------+--------+------+--------+------+\n",
      "|is_sar|tx_type|tran_id|tran_timestamp|base_amt|target|alert_id|source|\n",
      "+------+-------+-------+--------------+--------+------+--------+------+\n",
      "|     0|      4|      1|   1.4832288E9| 9405.71|  3259|      -1|  1767|\n",
      "|     0|      4|      2|   1.4832288E9| 6884.54|  5141|      -1|  7363|\n",
      "|     0|      4|      3|   1.4832288E9|  7968.4|  9532|      -1|  7585|\n",
      "|     0|      4|      4|   1.4832288E9| 9042.67|  8792|      -1|  1750|\n",
      "|     0|      4|      5|   1.4832288E9| 4692.79|  4670|      -1|  9060|\n",
      "+------+-------+-------+--------------+--------+------+--------+------+\n",
      "only showing top 5 rows"
     ]
    }
   ],
   "source": [
    "edge_fg.show(5)"
   ]
  },
  {
   "cell_type": "code",
   "execution_count": 18,
   "metadata": {},
   "outputs": [],
   "source": [
    "only_sar_edge_df = edge_fg.read().filter(func.col('alert_id') != -1)\n",
    "only_normal_edge_df =  edge_fg.read().filter(func.col('alert_id') == -1)"
   ]
  },
  {
   "cell_type": "code",
   "execution_count": 19,
   "metadata": {},
   "outputs": [
    {
     "name": "stdout",
     "output_type": "stream",
     "text": [
      "+------+-------+-------+--------------+--------+------+--------+------+\n",
      "|is_sar|tx_type|tran_id|tran_timestamp|base_amt|target|alert_id|source|\n",
      "+------+-------+-------+--------------+--------+------+--------+------+\n",
      "|     0|      4|      1|   1.4832288E9| 9405.71|  3259|      -1|  1767|\n",
      "|     0|      4|      2|   1.4832288E9| 6884.54|  5141|      -1|  7363|\n",
      "|     0|      4|      3|   1.4832288E9|  7968.4|  9532|      -1|  7585|\n",
      "|     0|      4|      4|   1.4832288E9| 9042.67|  8792|      -1|  1750|\n",
      "|     0|      4|      5|   1.4832288E9| 4692.79|  4670|      -1|  9060|\n",
      "+------+-------+-------+--------------+--------+------+--------+------+\n",
      "only showing top 5 rows"
     ]
    }
   ],
   "source": [
    "only_normal_edge_df.show(5)"
   ]
  },
  {
   "cell_type": "code",
   "execution_count": 20,
   "metadata": {},
   "outputs": [
    {
     "name": "stdout",
     "output_type": "stream",
     "text": [
      "+------+-------+-------+--------------+--------+------+--------+------+\n",
      "|is_sar|tx_type|tran_id|tran_timestamp|base_amt|target|alert_id|source|\n",
      "+------+-------+-------+--------------+--------+------+--------+------+\n",
      "|     1|      4|     98|   1.4832288E9|  108.62|  5688|      16|  2298|\n",
      "|     1|      4|    108|   1.4832288E9|  183.25|  9601|      26|  8627|\n",
      "|     1|      4|    135|   1.4832288E9|  142.71|  8359|      15|  2756|\n",
      "|     1|      4|    137|   1.4832288E9|  132.47|  7702|       9|  7605|\n",
      "|     1|      4|    218|   1.4832288E9|  119.51|  7377|      17|  5891|\n",
      "|     1|      4|    335|   1.4832288E9|  136.02|  1661|      12|  6787|\n",
      "|     1|      4|    439|   1.4832288E9|  194.53|  7950|       0|  8485|\n",
      "|     1|      4|    477|   1.4832288E9|  184.32|  2177|       3|  5324|\n",
      "|     1|      4|    514|   1.4832288E9|  130.63|  4616|      19|  4919|\n",
      "|     1|      4|    564|   1.4832288E9|  183.27|  1589|       5|  4170|\n",
      "|     1|      4|    580|   1.4832288E9|  135.69|  1590|      18|  6483|\n",
      "|     1|      4|    654|   1.4832288E9|  160.35|  2275|      20|   123|\n",
      "|     1|      4|    711|   1.4832288E9|  144.32|  9851|      23|  6173|\n",
      "|     1|      4|    742|   1.4832288E9|  177.32|  2182|       4|  9300|\n",
      "|     1|      4|    779|   1.4832288E9|  189.75|  5470|       1|  2344|\n",
      "|     1|      4|    780|   1.4832288E9|  112.62|  4651|      22|  9149|\n",
      "|     1|      4|    933|   1.4832288E9|  108.91|  4046|      27|   312|\n",
      "|     1|      4|    947|   1.4832288E9|  173.42|  2300|       8|  5819|\n",
      "|     1|      4|   1070|   1.4832288E9|  135.89|  1964|       6|  3792|\n",
      "|     1|      4|   1256|   1.4832288E9|  142.27|  3191|      25|  7235|\n",
      "+------+-------+-------+--------------+--------+------+--------+------+\n",
      "only showing top 20 rows"
     ]
    }
   ],
   "source": [
    "only_sar_edge_df.show()"
   ]
  },
  {
   "cell_type": "code",
   "execution_count": 21,
   "metadata": {},
   "outputs": [
    {
     "name": "stdout",
     "output_type": "stream",
     "text": [
      "732"
     ]
    }
   ],
   "source": [
    "only_sar_edge_df.count()"
   ]
  },
  {
   "cell_type": "code",
   "execution_count": 22,
   "metadata": {},
   "outputs": [
    {
     "name": "stdout",
     "output_type": "stream",
     "text": [
      "732"
     ]
    }
   ],
   "source": [
    "sar_sources = only_sar_edge_df.select(\"source\")\n",
    "sar_targets = only_sar_edge_df.select(\"target\")\n",
    "sar_nodes = sar_sources.union(sar_targets).toDF(\"id\").dropDuplicates()\n",
    "sar_nodes.count()\n",
    "\n",
    "sar_edges = only_sar_edge_df.select(\"source\", \"target\").toDF(\"src\", \"dst\")\n",
    "sar_edges.count()"
   ]
  },
  {
   "cell_type": "code",
   "execution_count": 23,
   "metadata": {},
   "outputs": [],
   "source": [
    "# Now lets construct the graph\n",
    "g_sar = GraphFrame(sar_nodes,sar_edges)\n",
    "sc.setCheckpointDir(\"hdfs:///Projects/{}/Logs/sc\".format(hdfs.project_name()))\n",
    "#cc_sar = g_sar.connectedComponents()\n",
    "cc_sar = g_sar.stronglyConnectedComponents(20).cache()"
   ]
  },
  {
   "cell_type": "code",
   "execution_count": 24,
   "metadata": {},
   "outputs": [
    {
     "name": "stdout",
     "output_type": "stream",
     "text": [
      "+----+---------+\n",
      "|  id|component|\n",
      "+----+---------+\n",
      "|7800|     7800|\n",
      "|8600|     8600|\n",
      "|4000|     4000|\n",
      "|5201|     1109|\n",
      "|1801|     1801|\n",
      "| 601|      601|\n",
      "|1201|     1201|\n",
      "|4601|     4601|\n",
      "|9601|     9601|\n",
      "|3402|     3402|\n",
      "|4802|     4802|\n",
      "|7802|     1945|\n",
      "|6403|     1630|\n",
      "|1003|     1003|\n",
      "|2003|     1201|\n",
      "|5403|      295|\n",
      "|9403|     9403|\n",
      "|7604|     1201|\n",
      "|5204|     1257|\n",
      "|8004|     8004|\n",
      "+----+---------+\n",
      "only showing top 20 rows"
     ]
    }
   ],
   "source": [
    "cc_sar.cache().show()"
   ]
  },
  {
   "cell_type": "code",
   "execution_count": 25,
   "metadata": {},
   "outputs": [
    {
     "name": "stdout",
     "output_type": "stream",
     "text": [
      "+-----+\n",
      "|count|\n",
      "+-----+\n",
      "|    1|\n",
      "|    5|\n",
      "|    6|\n",
      "|    7|\n",
      "|    8|\n",
      "|    9|\n",
      "|   10|\n",
      "+-----+"
     ]
    }
   ],
   "source": [
    "cc_sar.groupBy('component').count().select('count').dropDuplicates().orderBy('count').show()"
   ]
  },
  {
   "cell_type": "code",
   "execution_count": null,
   "metadata": {},
   "outputs": [],
   "source": []
  },
  {
   "cell_type": "code",
   "execution_count": 26,
   "metadata": {},
   "outputs": [
    {
     "name": "stdout",
     "output_type": "stream",
     "text": [
      "+---------+----+\n",
      "|component|  id|\n",
      "+---------+----+\n",
      "|     1109|5201|\n",
      "|     1801|1801|\n",
      "|      601| 601|\n",
      "|     1201|1201|\n",
      "|     1945|7802|\n",
      "|     1630|6403|\n",
      "|     1003|1003|\n",
      "|     1201|2003|\n",
      "|      295|5403|\n",
      "|     1201|7604|\n",
      "|     1257|5204|\n",
      "|      255|6204|\n",
      "|     1369|7006|\n",
      "|      829|3607|\n",
      "|     3669|7207|\n",
      "|     3751|5608|\n",
      "|     1109|4208|\n",
      "|      515|7809|\n",
      "|     1688|3609|\n",
      "|      295|9009|\n",
      "+---------+----+\n",
      "only showing top 20 rows"
     ]
    }
   ],
   "source": [
    "cc_sar_grouped = cc_sar.groupBy('component').count().where(func.col('count')>2).drop('count')\n",
    "cc_sar = cc_sar.join(cc_sar_grouped,['component'])\n",
    "cc_sar.show()"
   ]
  },
  {
   "cell_type": "code",
   "execution_count": 27,
   "metadata": {},
   "outputs": [
    {
     "name": "stdout",
     "output_type": "stream",
     "text": [
      "+---------+----+------+-------+-------+--------------+--------+------+--------+------+\n",
      "|component|  id|is_sar|tx_type|tran_id|tran_timestamp|base_amt|target|alert_id|source|\n",
      "+---------+----+------+-------+-------+--------------+--------+------+--------+------+\n",
      "|     1009|1425|     1|      4| 100274|   1.4892768E9|  102.86|  1425|      80|  3661|\n",
      "|     1801|9700|     1|      4| 284874|   1.5004224E9|  103.47|  3984|      96|  9700|\n",
      "|      554|8091|     1|      4| 522545|   1.5147648E9|  106.94|  8091|      91|   554|\n",
      "|      825|4571|     1|      4| 706588|    1.525824E9|   63.66|  7776|      84|  4571|\n",
      "|     1369|8581|     1|      4| 472208|   1.5117408E9|  114.67|  8581|      70|  1598|\n",
      "|     1257|6837|     1|      4|  57885|   1.4866848E9|   73.41|  6837|      95|  5261|\n",
      "|      907|7851|     1|      4| 509573|   1.5139872E9|   47.28|  3329|      90|  7851|\n",
      "|      397|6415|     1|      4| 786028|   1.5306624E9|   79.42|  6415|      74|  3252|\n",
      "|      295|6810|     1|      4| 202624|   1.4954112E9|   57.47|  9785|      99|  6810|\n",
      "|     3669|3669|     1|      4|  93978|   1.4888448E9|  173.69|  5541|      85|  3669|\n",
      "|     2047|2542|     1|      4| 179206|   1.4940288E9|  197.69|  2542|      81|  2861|\n",
      "|     2047|6767|     1|      4| 186510|   1.4944608E9|   129.7|  7703|      81|  6767|\n",
      "|     1369|1926|     1|      4| 474798|   1.5118272E9|   92.88|  1926|      70|  6504|\n",
      "|     1945|4743|     1|      4| 769037|   1.5296256E9|  143.74|  4743|      98|  7802|\n",
      "|     1257|5204|     1|      4|  35905|   1.4853888E9|  153.47|  5204|      95|  3441|\n",
      "|      601|9965|     1|      4| 405475|     1.50768E9|  179.36|  6315|      63|  9965|\n",
      "|      374|1826|     1|      4|  72841|   1.4875488E9|  174.29|  1826|      72|   374|\n",
      "|      825|5440|     1|      4| 701190|   1.5255648E9|   78.59|  5440|      84|  5614|\n",
      "|     1945|1945|     1|      4| 774140|   1.5299712E9|  116.43|  1945|      98|  7176|\n",
      "|      601|9965|     1|      4| 407998|   1.5078528E9|  130.76|  9965|      63|  9223|\n",
      "+---------+----+------+-------+-------+--------------+--------+------+--------+------+\n",
      "only showing top 20 rows"
     ]
    }
   ],
   "source": [
    "sar_cc_grouped = cc_sar.join(\n",
    "    only_sar_edge_df,\n",
    "    [(only_sar_edge_df.source==cc_sar.id)|(only_sar_edge_df.target==cc_sar.id)],\n",
    "    how=\"left\"\n",
    ").dropDuplicates(subset=['tran_id'])\n",
    "sar_cc_grouped.show()"
   ]
  },
  {
   "cell_type": "code",
   "execution_count": null,
   "metadata": {},
   "outputs": [],
   "source": []
  },
  {
   "cell_type": "code",
   "execution_count": 28,
   "metadata": {},
   "outputs": [
    {
     "name": "stdout",
     "output_type": "stream",
     "text": [
      "321"
     ]
    }
   ],
   "source": [
    "sar_cc_grouped.count()"
   ]
  },
  {
   "cell_type": "code",
   "execution_count": 29,
   "metadata": {},
   "outputs": [
    {
     "name": "stdout",
     "output_type": "stream",
     "text": [
      "321"
     ]
    }
   ],
   "source": [
    "sar_cc_grouped.count()"
   ]
  },
  {
   "cell_type": "code",
   "execution_count": 30,
   "metadata": {},
   "outputs": [
    {
     "name": "stdout",
     "output_type": "stream",
     "text": [
      "732"
     ]
    }
   ],
   "source": [
    "only_sar_edge_df.count()"
   ]
  },
  {
   "cell_type": "code",
   "execution_count": null,
   "metadata": {},
   "outputs": [],
   "source": []
  },
  {
   "cell_type": "code",
   "execution_count": null,
   "metadata": {},
   "outputs": [],
   "source": []
  },
  {
   "cell_type": "code",
   "execution_count": 31,
   "metadata": {},
   "outputs": [],
   "source": [
    "only_sar_edge_df = sar_cc_grouped"
   ]
  },
  {
   "cell_type": "code",
   "execution_count": 32,
   "metadata": {},
   "outputs": [
    {
     "name": "stdout",
     "output_type": "stream",
     "text": [
      "+---------+----+------+-------+-------+--------------+--------+------+--------+------+\n",
      "|component|  id|is_sar|tx_type|tran_id|tran_timestamp|base_amt|target|alert_id|source|\n",
      "+---------+----+------+-------+-------+--------------+--------+------+--------+------+\n",
      "|     1009|1425|     1|      4| 100274|   1.4892768E9|  102.86|  1425|      80|  3661|\n",
      "|     1801|9700|     1|      4| 284874|   1.5004224E9|  103.47|  3984|      96|  9700|\n",
      "|      554|8091|     1|      4| 522545|   1.5147648E9|  106.94|  8091|      91|   554|\n",
      "|      825|4571|     1|      4| 706588|    1.525824E9|   63.66|  7776|      84|  4571|\n",
      "|     1369|8581|     1|      4| 472208|   1.5117408E9|  114.67|  8581|      70|  1598|\n",
      "+---------+----+------+-------+-------+--------------+--------+------+--------+------+\n",
      "only showing top 5 rows"
     ]
    }
   ],
   "source": [
    "only_sar_edge_df.show(5)"
   ]
  },
  {
   "cell_type": "code",
   "execution_count": null,
   "metadata": {},
   "outputs": [],
   "source": []
  },
  {
   "cell_type": "code",
   "execution_count": 45,
   "metadata": {},
   "outputs": [
    {
     "name": "stdout",
     "output_type": "stream",
     "text": [
      "+--------------+-----+\n",
      "|tran_timestamp|count|\n",
      "+--------------+-----+\n",
      "|    1.483488E9| 1056|\n",
      "|      1.4904E9| 1010|\n",
      "|   1.5161472E9| 1072|\n",
      "|   1.5188256E9| 1005|\n",
      "|   1.5254784E9|  983|\n",
      "|   1.5032736E9| 1062|\n",
      "|     1.50336E9| 1093|\n",
      "|    1.519776E9| 1068|\n",
      "|   1.5226272E9| 1037|\n",
      "|   1.5437952E9| 1050|\n",
      "|   1.5450048E9| 1032|\n",
      "|   1.4878944E9| 1005|\n",
      "|   1.4931648E9| 1100|\n",
      "|   1.5218496E9|  999|\n",
      "|   1.5369696E9| 1003|\n",
      "|   1.4924736E9| 1048|\n",
      "|   1.5074208E9| 1090|\n",
      "|   1.5123456E9| 1016|\n",
      "|   1.5198624E9| 1040|\n",
      "|    1.518912E9| 1057|\n",
      "|   1.5272928E9|  976|\n",
      "|   1.5312672E9| 1085|\n",
      "|   1.5374016E9| 1064|\n",
      "|   1.4944608E9| 1063|\n",
      "|   1.5306624E9| 1065|\n",
      "|    1.535328E9| 1067|\n",
      "|   1.5066432E9| 1051|\n",
      "|   1.5304896E9| 1022|\n",
      "|   1.4874624E9| 1032|\n",
      "|   1.5101856E9| 1069|\n",
      "|   1.5395616E9| 1076|\n",
      "|   1.5381792E9|  948|\n",
      "|   1.4996448E9| 1042|\n",
      "|   1.5380064E9| 1006|\n",
      "|   1.5384384E9| 1032|\n",
      "|   1.4845248E9| 1074|\n",
      "|   1.5253056E9| 1054|\n",
      "|   1.4862528E9| 1055|\n",
      "|   1.5281568E9| 1076|\n",
      "|    1.540512E9| 1058|\n",
      "|   1.4933376E9| 1029|\n",
      "|      1.5228E9| 1086|\n",
      "|   1.5225408E9| 1051|\n",
      "|    1.532304E9| 1054|\n",
      "|   1.5044832E9| 1018|\n",
      "|   1.5274656E9| 1042|\n",
      "|   1.5330816E9| 1097|\n",
      "|   1.5333408E9| 1001|\n",
      "|   1.5178752E9| 1073|\n",
      "|    1.496448E9| 1006|\n",
      "|   1.5018912E9|  970|\n",
      "|   1.5189984E9| 1051|\n",
      "|    1.527984E9| 1084|\n",
      "|   1.5382656E9| 1040|\n",
      "|   1.4892768E9| 1087|\n",
      "|   1.4893632E9| 1046|\n",
      "|     1.53576E9| 1007|\n",
      "|   1.4923008E9| 1056|\n",
      "|   1.5036192E9| 1044|\n",
      "|    1.518048E9| 1073|\n",
      "|   1.5267744E9| 1065|\n",
      "|   1.4907456E9| 1074|\n",
      "|   1.5121728E9|  993|\n",
      "|   1.5164928E9| 1006|\n",
      "|   1.5393024E9| 1029|\n",
      "|   1.4859936E9| 1078|\n",
      "|   1.4936832E9| 1070|\n",
      "|   1.5052608E9| 1064|\n",
      "|   1.5230592E9|  994|\n",
      "|   1.5345504E9|  979|\n",
      "|   1.5324768E9| 1103|\n",
      "|    1.539216E9| 1057|\n",
      "|    1.486512E9| 1082|\n",
      "|   1.5000768E9|  996|\n",
      "|   1.5088032E9| 1032|\n",
      "|    1.515024E9| 1069|\n",
      "|   1.5242688E9|  998|\n",
      "|    1.529712E9|  982|\n",
      "|   1.4850432E9| 1093|\n",
      "|   1.4897952E9|  998|\n",
      "|   1.5151104E9| 1057|\n",
      "|    1.521504E9| 1062|\n",
      "|   1.4842656E9| 1000|\n",
      "|   1.4854752E9| 1055|\n",
      "|   1.4898816E9| 1056|\n",
      "|    1.502928E9| 1066|\n",
      "|   1.5444864E9| 1071|\n",
      "|   1.5094944E9| 1085|\n",
      "|   1.5286752E9| 1046|\n",
      "|   1.5329952E9| 1079|\n",
      "|   1.5332544E9| 1053|\n",
      "|   1.5451776E9| 1066|\n",
      "|    1.492128E9| 1033|\n",
      "|   1.4974848E9| 1049|\n",
      "|   1.4988672E9|  983|\n",
      "|   1.5034464E9| 1112|\n",
      "|   1.5100992E9| 1096|\n",
      "|   1.5107904E9| 1073|\n",
      "|   1.5173568E9| 1075|\n",
      "|   1.5407712E9| 1020|\n",
      "|   1.5199488E9| 1013|\n",
      "|   1.5255648E9| 1067|\n",
      "|   1.5302304E9| 1034|\n",
      "|   1.5424992E9| 1073|\n",
      "|   1.5425856E9| 1059|\n",
      "|    1.515456E9| 1081|\n",
      "|   1.5165792E9|  982|\n",
      "|   1.5191712E9| 1090|\n",
      "|   1.5304032E9| 1041|\n",
      "|   1.4879808E9|  972|\n",
      "|   1.5087168E9| 1021|\n",
      "|   1.5112224E9| 1076|\n",
      "|   1.5169248E9|  974|\n",
      "|   1.5361056E9| 1100|\n",
      "|   1.4904864E9| 1075|\n",
      "|    1.497312E9| 1066|\n",
      "|   1.5075072E9| 1038|\n",
      "|   1.5082848E9| 1048|\n",
      "|   1.5177888E9| 1046|\n",
      "|   1.5282432E9| 1087|\n",
      "|    1.488672E9| 1094|\n",
      "|   1.4966208E9| 1034|\n",
      "|   1.4982624E9|  969|\n",
      "|    1.497744E9| 1057|\n",
      "|   1.5086304E9| 1055|\n",
      "|   1.5146784E9| 1095|\n",
      "|   1.5276384E9| 1094|\n",
      "|    1.534032E9| 1050|\n",
      "|    1.540944E9| 1078|\n",
      "|   1.4943744E9| 1077|\n",
      "|   1.5285024E9| 1014|\n",
      "|   1.5449184E9| 1060|\n",
      "|   1.4861664E9| 1014|\n",
      "|   1.5095808E9| 1041|\n",
      "|   1.5062112E9| 1077|\n",
      "|     1.53144E9| 1015|\n",
      "|   1.4900544E9| 1069|\n",
      "|    1.511568E9|  997|\n",
      "|   1.5202944E9| 1053|\n",
      "|   1.5208128E9| 1038|\n",
      "|   1.5247872E9| 1043|\n",
      "|    1.532736E9| 1008|\n",
      "|   1.5365376E9| 1055|\n",
      "|   1.5062976E9| 1080|\n",
      "|   1.5190848E9| 1074|\n",
      "|   1.5231456E9| 1062|\n",
      "|   1.5437088E9| 1092|\n",
      "|   1.5109632E9| 1011|\n",
      "|   1.4939424E9| 1053|\n",
      "|   1.5013728E9| 1053|\n",
      "|    1.504656E9| 1076|\n",
      "|    1.505952E9| 1057|\n",
      "|   1.5159744E9| 1033|\n",
      "|   1.5179616E9| 1094|\n",
      "|   1.4916096E9|  969|\n",
      "|   1.5325632E9| 1080|\n",
      "|   1.5045696E9| 1039|\n",
      "|   1.5326496E9| 1043|\n",
      "|   1.4923872E9| 1016|\n",
      "|    1.510272E9| 1040|\n",
      "|   1.5205536E9| 1012|\n",
      "|   1.5342048E9| 1033|\n",
      "|   1.4906592E9| 1052|\n",
      "|   1.5283296E9| 1085|\n",
      "|   1.5300576E9| 1074|\n",
      "|   1.5355872E9| 1055|\n",
      "|   1.5367968E9| 1066|\n",
      "|   1.5164064E9|  972|\n",
      "|   1.4929056E9| 1094|\n",
      "|    1.508112E9| 1019|\n",
      "|    1.512864E9| 1038|\n",
      "|     1.51848E9| 1089|\n",
      "|   1.5316128E9| 1068|\n",
      "|   1.4853024E9| 1114|\n",
      "|   1.4880672E9| 1061|\n",
      "|   1.5130368E9| 1041|\n",
      "|   1.5428448E9| 1055|\n",
      "|     1.48824E9| 1061|\n",
      "|   1.5006816E9| 1005|\n",
      "|    1.511136E9| 1044|\n",
      "|   1.5174432E9| 1038|\n",
      "|   1.4838336E9| 1032|\n",
      "|    1.490832E9| 1047|\n",
      "|   1.4918688E9| 1049|\n",
      "|     1.49904E9| 1056|\n",
      "|   1.5054336E9|  993|\n",
      "|   1.5126048E9| 1011|\n",
      "|    1.514592E9| 1017|\n",
      "|   1.5186528E9| 1069|\n",
      "|   1.5272064E9| 1012|\n",
      "|   1.5399936E9| 1020|\n",
      "|   1.5010272E9| 1081|\n",
      "|   1.5114816E9| 1044|\n",
      "|    1.527552E9| 1063|\n",
      "|   1.5328224E9| 1108|\n",
      "|   1.5450912E9| 1050|\n",
      "|   1.4942016E9| 1042|\n",
      "|   1.4979168E9| 1055|\n",
      "|   1.5187392E9| 1049|\n",
      "|   1.5056064E9| 1056|\n",
      "+--------------+-----+\n",
      "only showing top 200 rows"
     ]
    }
   ],
   "source": [
    "only_normal_edge_df = normal_cc_grouped.groupBy('tran_timestamp').count().show(200)"
   ]
  },
  {
   "cell_type": "code",
   "execution_count": null,
   "metadata": {},
   "outputs": [],
   "source": [
    "only_normal_edge_df."
   ]
  },
  {
   "cell_type": "code",
   "execution_count": 33,
   "metadata": {},
   "outputs": [],
   "source": [
    "normal_sources = only_normal_edge_df.select(\"source\")\n",
    "normal_targets = only_normal_edge_df.select(\"target\")\n",
    "normal_nodes = normal_sources.union(normal_targets).toDF(\"id\").dropDuplicates()\n",
    "normal_edges = only_normal_edge_df.select(\"source\", \"target\").toDF(\"src\", \"dst\")"
   ]
  },
  {
   "cell_type": "code",
   "execution_count": null,
   "metadata": {},
   "outputs": [],
   "source": []
  },
  {
   "cell_type": "code",
   "execution_count": 34,
   "metadata": {},
   "outputs": [],
   "source": [
    "# Now lets construct the graph\n",
    "g_normal = GraphFrame(normal_nodes,normal_edges)"
   ]
  },
  {
   "cell_type": "code",
   "execution_count": 35,
   "metadata": {},
   "outputs": [],
   "source": [
    "sc.setCheckpointDir(\"hdfs:///Projects/{}/Logs/sc\".format(hdfs.project_name()))\n",
    "#cc_normal = g_normal.connectedComponents().cache()\n",
    "cc_normal = g_normal.stronglyConnectedComponents(20).cache()"
   ]
  },
  {
   "cell_type": "code",
   "execution_count": 36,
   "metadata": {},
   "outputs": [
    {
     "name": "stdout",
     "output_type": "stream",
     "text": [
      "DataFrame[component: bigint, id: int, is_sar: int, tx_type: string, tran_id: int, tran_timestamp: float, base_amt: double, target: int, alert_id: int, source: int]"
     ]
    }
   ],
   "source": [
    "cc_norm_comp_count = cc_normal.groupBy('component').count().where(func.col('count')>=5)\n",
    "cc_normal = cc_normal.join(cc_norm_comp_count,['component'])\n",
    "cc_normal =  cc_normal.drop('count')\n",
    "normal_cc_grouped = cc_normal.join(\n",
    "    only_normal_edge_df,\n",
    "    [(only_normal_edge_df.source==cc_normal.id)|(only_normal_edge_df.target==cc_normal.id)],\n",
    "    how=\"left\"\n",
    ").dropDuplicates(subset=['tran_id'])\n",
    "normal_cc_grouped.cache()"
   ]
  },
  {
   "cell_type": "code",
   "execution_count": 37,
   "metadata": {},
   "outputs": [
    {
     "name": "stdout",
     "output_type": "stream",
     "text": [
      "+---------+----+------+-------+-------+--------------+--------+------+--------+------+\n",
      "|component|  id|is_sar|tx_type|tran_id|tran_timestamp|base_amt|target|alert_id|source|\n",
      "+---------+----+------+-------+-------+--------------+--------+------+--------+------+\n",
      "|        4| 854|     0|      4|    148|   1.4832288E9| 8934.66|  3951|      -1|   854|\n",
      "|        4|4076|     0|      4|    463|   1.4832288E9| 5695.63|  1630|      -1|  4076|\n",
      "|        4|1334|     0|      4|    496|   1.4832288E9| 5231.16|  3654|      -1|  1334|\n",
      "|        4|1052|     0|      4|    833|   1.4832288E9| 4552.67|  8906|      -1|  1052|\n",
      "|        4|9097|     0|      4|   1088|   1.4832288E9| 6632.67|  9587|      -1|  9097|\n",
      "|        4|6306|     0|      4|   1342|   1.4832288E9|  9067.7|  6306|      -1|   176|\n",
      "|        4|9951|     0|      4|   1580|   1.4833152E9|  3811.5|  9951|      -1|  9478|\n",
      "|        4|4819|     0|      4|   1645|   1.4833152E9| 8523.88|  1246|      -1|  4819|\n",
      "|        4|5829|     0|      4|   1829|   1.4833152E9| 2840.21|  5829|      -1|  6351|\n",
      "|        4|7130|     0|      4|   1959|   1.4833152E9| 4195.39|  7130|      -1|  9370|\n",
      "|        4|1841|     0|      4|   2122|   1.4833152E9| 8528.77|  1841|      -1|  4484|\n",
      "|        4|7638|     0|      4|   2142|   1.4833152E9|  452.43|  5788|      -1|  7638|\n",
      "|        4|4909|     0|      4|   2366|   1.4833152E9| 2523.82|  3954|      -1|  4909|\n",
      "|        4|9611|     0|      4|   2659|   1.4833152E9| 2263.68|  9611|      -1|  6928|\n",
      "|        4|8818|     0|      4|   2866|   1.4833152E9| 2653.84|  1282|      -1|  8818|\n",
      "|        4|6326|     0|      4|   3175|   1.4834016E9| 4700.56|  6326|      -1|   439|\n",
      "|        4|6014|     0|      4|   3749|   1.4834016E9|  640.06|  1597|      -1|  6014|\n",
      "|        4|6049|     0|      4|   3794|   1.4834016E9| 6903.73|  6049|      -1|  8734|\n",
      "|        4|1613|     0|      4|   4519|    1.483488E9| 1571.64|  1613|      -1|  5350|\n",
      "|        4|1671|     0|      4|   4935|    1.483488E9| 6154.75|  1671|      -1|  5168|\n",
      "+---------+----+------+-------+-------+--------------+--------+------+--------+------+\n",
      "only showing top 20 rows"
     ]
    }
   ],
   "source": [
    "normal_cc_grouped.show()"
   ]
  },
  {
   "cell_type": "code",
   "execution_count": 38,
   "metadata": {},
   "outputs": [
    {
     "name": "stdout",
     "output_type": "stream",
     "text": [
      "751796"
     ]
    }
   ],
   "source": [
    "normal_cc_grouped.count()"
   ]
  },
  {
   "cell_type": "code",
   "execution_count": null,
   "metadata": {},
   "outputs": [],
   "source": []
  },
  {
   "cell_type": "code",
   "execution_count": null,
   "metadata": {},
   "outputs": [],
   "source": []
  }
 ],
 "metadata": {
  "kernelspec": {
   "display_name": "PySpark",
   "language": "python",
   "name": "pysparkkernel"
  },
  "language_info": {
   "codemirror_mode": {
    "name": "python",
    "version": 3
   },
   "mimetype": "text/x-python",
   "name": "pyspark",
   "pygments_lexer": "python3"
  }
 },
 "nbformat": 4,
 "nbformat_minor": 4
}
