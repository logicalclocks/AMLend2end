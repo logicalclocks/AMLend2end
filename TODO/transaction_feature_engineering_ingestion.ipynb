{
 "cells": [
  {
   "cell_type": "code",
   "execution_count": 1,
   "metadata": {},
   "outputs": [
    {
     "name": "stdout",
     "output_type": "stream",
     "text": [
      "Starting Spark application\n"
     ]
    },
    {
     "data": {
      "text/html": [
       "<table>\n",
       "<tr><th>ID</th><th>YARN Application ID</th><th>Kind</th><th>State</th><th>Spark UI</th><th>Driver log</th></tr><tr><td>83</td><td>application_1609326166272_0002</td><td>pyspark</td><td>idle</td><td><a target=\"_blank\" href=\"http://hopsworksdavit-master.internal.cloudapp.net:8088/proxy/application_1609326166272_0002/\">Link</a></td><td><a target=\"_blank\" href=\"http://hopsworksdavit-worker-2.internal.cloudapp.net:8042/node/containerlogs/container_e08_1609326166272_0002_01_000001/amlsim__meb10179\">Link</a></td></tr></table>"
      ],
      "text/plain": [
       "<IPython.core.display.HTML object>"
      ]
     },
     "metadata": {},
     "output_type": "display_data"
    },
    {
     "name": "stdout",
     "output_type": "stream",
     "text": [
      "SparkSession available as 'spark'.\n",
      "<pyspark.sql.session.SparkSession object at 0x7f27436b7ed0>"
     ]
    }
   ],
   "source": [
    "spark"
   ]
  },
  {
   "cell_type": "markdown",
   "metadata": {},
   "source": [
    "## Import modules"
   ]
  },
  {
   "cell_type": "code",
   "execution_count": 2,
   "metadata": {},
   "outputs": [],
   "source": [
    "import hashlib\n",
    "from datetime import datetime\n",
    "from pyspark.sql import functions as F\n",
    "from pyspark.sql.types import FloatType\n",
    "from graphframes import *\n",
    "import hsfs\n",
    "from hops import hdfs"
   ]
  },
  {
   "cell_type": "markdown",
   "metadata": {},
   "source": [
    "## Define utility functions"
   ]
  },
  {
   "cell_type": "code",
   "execution_count": 3,
   "metadata": {},
   "outputs": [],
   "source": [
    "def action_2_code(x):\n",
    "    if (x == \"CASH_IN\"):\n",
    "        node_type = 0\n",
    "    elif (x == \"CASH_OUT\"):\n",
    "        node_type = 1\n",
    "    elif (x == \"DEBIT\"):\n",
    "        node_type = 2\n",
    "    elif (x == \"PAYMENT\"):\n",
    "        node_type = 3\n",
    "    elif (x == \"TRANSFER\"):\n",
    "        node_type = 4\n",
    "    elif (x == \"DEPOSIT\"):\n",
    "        node_type = 4        \n",
    "    else:\n",
    "        node_type = 99\n",
    "    return node_type\n",
    "\n",
    "def timestamp_2_time(x):\n",
    "    dt_obj = datetime.strptime(str(x), '%Y-%m-%d %H:%M:%S')\n",
    "    return dt_obj.timestamp()\n",
    "\n",
    "action_2_code_udf = F.udf(action_2_code)\n",
    "timestamp_2_time_udf = F.udf(timestamp_2_time)"
   ]
  },
  {
   "cell_type": "code",
   "execution_count": null,
   "metadata": {},
   "outputs": [],
   "source": []
  },
  {
   "cell_type": "markdown",
   "metadata": {},
   "source": [
    "## Load accounts datasets as spark dataframe and perform feature engineering"
   ]
  },
  {
   "cell_type": "code",
   "execution_count": 4,
   "metadata": {},
   "outputs": [],
   "source": [
    "accounts_df = spark.read\\\n",
    "             .option(\"inferSchema\", \"true\")\\\n",
    "             .option(\"header\", \"true\")\\\n",
    "             .format(\"csv\")\\\n",
    "             .load(\"hdfs:///Projects/{}/Resources/10K/10K/accounts.csv\".format(hdfs.project_name()))\n",
    "\n",
    "accounts_df = accounts_df.drop('first_name')\\\n",
    "                        .drop('last_name')\\\n",
    "                        .drop('street_addr')\\\n",
    "                        .drop('city')\\\n",
    "                        .drop('state')\\\n",
    "                        .drop('zip')\\\n",
    "                        .drop('gender')\\\n",
    "                        .drop('birth_date')\\\n",
    "                        .drop('ssn')\\\n",
    "                        .drop('lon')\\\n",
    "                        .drop('lat')"
   ]
  },
  {
   "cell_type": "code",
   "execution_count": 5,
   "metadata": {},
   "outputs": [],
   "source": [
    "accounts_df = accounts_df.withColumn('prior_sar',F.when(F.col('prior_sar_count') == 'true', 1).otherwise(0))\\\n",
    "                         .drop(\"prior_sar_count\",\"acct_rptng_crncy\",\"type\",\"acct_stat\",\"open_dt\",\"bank_id\",\"country\",\"close_dt\",\"dsply_nm\",\"branch_id\")"
   ]
  },
  {
   "cell_type": "code",
   "execution_count": 6,
   "metadata": {},
   "outputs": [
    {
     "name": "stdout",
     "output_type": "stream",
     "text": [
      "+-------+---------------+--------------+---------+\n",
      "|acct_id|initial_deposit|tx_behavior_id|prior_sar|\n",
      "+-------+---------------+--------------+---------+\n",
      "|      0|       92221.09|             1|        0|\n",
      "|      1|       87897.72|             1|        0|\n",
      "|      2|       71028.58|             1|        0|\n",
      "|      3|       62945.84|             1|        0|\n",
      "|      4|       75563.74|             1|        0|\n",
      "|      5|       70246.71|             1|        0|\n",
      "|      6|       89189.93|             1|        0|\n",
      "|      7|       65165.64|             1|        0|\n",
      "|      8|       73829.85|             1|        0|\n",
      "|      9|        79169.1|             1|        0|\n",
      "|     10|       95405.64|             1|        0|\n",
      "|     11|       75234.34|             1|        0|\n",
      "|     12|       64091.89|             1|        0|\n",
      "|     13|       87790.21|             1|        0|\n",
      "|     14|       80918.45|             1|        0|\n",
      "|     15|       62525.32|             1|        0|\n",
      "|     16|       95487.31|             1|        0|\n",
      "|     17|       99139.27|             1|        0|\n",
      "|     18|       90510.86|             1|        0|\n",
      "|     19|        95108.3|             1|        0|\n",
      "+-------+---------------+--------------+---------+\n",
      "only showing top 20 rows"
     ]
    }
   ],
   "source": [
    "accounts_df.show()"
   ]
  },
  {
   "cell_type": "code",
   "execution_count": 7,
   "metadata": {},
   "outputs": [
    {
     "name": "stdout",
     "output_type": "stream",
     "text": [
      "+--------------+\n",
      "|tx_behavior_id|\n",
      "+--------------+\n",
      "|             1|\n",
      "|             3|\n",
      "|             5|\n",
      "|             4|\n",
      "|             2|\n",
      "+--------------+"
     ]
    }
   ],
   "source": [
    "accounts_df.select(\"tx_behavior_id\").dropDuplicates().show()"
   ]
  },
  {
   "cell_type": "code",
   "execution_count": 8,
   "metadata": {},
   "outputs": [
    {
     "name": "stdout",
     "output_type": "stream",
     "text": [
      "+-------+---------------+--------------+---------+\n",
      "|acct_id|initial_deposit|tx_behavior_id|prior_sar|\n",
      "+-------+---------------+--------------+---------+\n",
      "|   7950|       64926.12|             4|        1|\n",
      "+-------+---------------+--------------+---------+"
     ]
    }
   ],
   "source": [
    "accounts_df.where(F.col(\"acct_id\")==7950).show()"
   ]
  },
  {
   "cell_type": "markdown",
   "metadata": {},
   "source": [
    "## Load transactions datasets as spark dataframe and perform feature engineering"
   ]
  },
  {
   "cell_type": "code",
   "execution_count": 9,
   "metadata": {},
   "outputs": [
    {
     "name": "stdout",
     "output_type": "stream",
     "text": [
      "+-------+---------+---------+-------------------+--------+-------------------+------+--------+\n",
      "|tran_id|orig_acct|bene_acct|            tx_type|base_amt|     tran_timestamp|is_sar|alert_id|\n",
      "+-------+---------+---------+-------------------+--------+-------------------+------+--------+\n",
      "|      1|     7720|     9769|   TRANSFER-Forward|   721.5|2020-01-01 00:00:00| false|      -1|\n",
      "|      2|     8148|     2780|TRANSFER-Periodical|   719.6|2020-01-01 00:00:00| false|      -1|\n",
      "|      3|     8148|     9182|TRANSFER-Periodical|  817.15|2020-01-01 00:00:00| false|      -1|\n",
      "|      4|     8148|     8612|TRANSFER-Periodical|  931.53|2020-01-01 00:00:00| false|      -1|\n",
      "|      5|      440|     2608|    TRANSFER-FanOut|  454.24|2020-01-01 00:00:00| false|      -1|\n",
      "|      6|     5126|     3115|    TRANSFER-Mutual|  683.79|2020-01-01 00:00:00| false|      -1|\n",
      "|      7|      894|     2759|    TRANSFER-FanOut|  682.61|2020-01-01 00:00:00| false|      -1|\n",
      "|      8|     1316|     9766|    TRANSFER-FanOut|  325.43|2020-01-01 00:00:00| false|      -1|\n",
      "|      9|      178|     9957|    TRANSFER-FanOut|  273.78|2020-01-01 00:00:00| false|      -1|\n",
      "|     10|     3913|     3387|     TRANSFER-FanIn|   459.3|2020-01-01 00:00:00| false|      -1|\n",
      "|     11|     8019|     9877|TRANSFER-Periodical|  543.19|2020-01-01 00:00:00| false|      -1|\n",
      "|     12|     8019|     5105|TRANSFER-Periodical|  298.02|2020-01-01 00:00:00| false|      -1|\n",
      "|     13|     8019|     8104|TRANSFER-Periodical|  865.73|2020-01-01 00:00:00| false|      -1|\n",
      "|     14|     1718|     9204|    TRANSFER-FanOut|  301.98|2020-01-01 00:00:00| false|      -1|\n",
      "|     15|      798|     2731|    TRANSFER-FanOut|  316.79|2020-01-01 00:00:00| false|      -1|\n",
      "|     16|     4567|     4301|    TRANSFER-Mutual|  789.81|2020-01-01 00:00:00| false|      -1|\n",
      "|     17|     5584|     3296|    TRANSFER-Mutual|   577.8|2020-01-01 00:00:00| false|      -1|\n",
      "|     18|     9308|     8575|TRANSFER-Periodical|  710.99|2020-01-01 00:00:00| false|      -1|\n",
      "|     19|     9308|     6703|TRANSFER-Periodical|  537.46|2020-01-01 00:00:00| false|      -1|\n",
      "|     20|     9308|     1866|TRANSFER-Periodical|  613.74|2020-01-01 00:00:00| false|      -1|\n",
      "+-------+---------+---------+-------------------+--------+-------------------+------+--------+\n",
      "only showing top 20 rows"
     ]
    }
   ],
   "source": [
    "transactions_df = spark.read\\\n",
    "             .option(\"inferSchema\", \"true\")\\\n",
    "             .option(\"header\", \"true\")\\\n",
    "             .format(\"csv\")\\\n",
    "             .load(\"hdfs:///Projects/{}/Resources/10K/10K/transactions.csv\".format(hdfs.project_name()))\n",
    "transactions_df.show()"
   ]
  },
  {
   "cell_type": "code",
   "execution_count": null,
   "metadata": {},
   "outputs": [],
   "source": []
  },
  {
   "cell_type": "code",
   "execution_count": 10,
   "metadata": {},
   "outputs": [
    {
     "name": "stdout",
     "output_type": "stream",
     "text": [
      "+--------+----------+-------+---------+------+--------+-----+-------+-----------+-------+\n",
      "|alert_id|alert_type|acct_id|acct_name|is_sar|model_id|start|    end|schedule_id|bank_id|\n",
      "+--------+----------+-------+---------+------+--------+-----+-------+-----------+-------+\n",
      "|       0|    fan_in|   7950|     7950|  true|       2|    0|1000000|          2|   bank|\n",
      "|       0|    fan_in|   8485|     8485|  true|       2|    0|1000000|          2|   bank|\n",
      "|       0|    fan_in|   3838|     3838|  true|       2|    0|1000000|          2|   bank|\n",
      "|       0|    fan_in|   2145|     2145|  true|       2|    0|1000000|          2|   bank|\n",
      "|       0|    fan_in|   8913|     8913|  true|       2|    0|1000000|          2|   bank|\n",
      "|       0|    fan_in|   6075|     6075|  true|       2|    0|1000000|          2|   bank|\n",
      "|       0|    fan_in|   2322|     2322|  true|       2|    0|1000000|          2|   bank|\n",
      "|       0|    fan_in|   3948|     3948|  true|       2|    0|1000000|          2|   bank|\n",
      "|       0|    fan_in|   6419|     6419|  true|       2|    0|1000000|          2|   bank|\n",
      "|       0|    fan_in|   7133|     7133|  true|       2|    0|1000000|          2|   bank|\n",
      "|       1|    fan_in|   5470|     5470|  true|       2|    0|1000000|          2|   bank|\n",
      "|       1|    fan_in|   2344|     2344|  true|       2|    0|1000000|          2|   bank|\n",
      "|       1|    fan_in|    511|      511|  true|       2|    0|1000000|          2|   bank|\n",
      "|       1|    fan_in|   7236|     7236|  true|       2|    0|1000000|          2|   bank|\n",
      "|       1|    fan_in|   7538|     7538|  true|       2|    0|1000000|          2|   bank|\n",
      "|       1|    fan_in|   4591|     4591|  true|       2|    0|1000000|          2|   bank|\n",
      "|       1|    fan_in|   5856|     5856|  true|       2|    0|1000000|          2|   bank|\n",
      "|       1|    fan_in|   6832|     6832|  true|       2|    0|1000000|          2|   bank|\n",
      "|       2|    fan_in|   9782|     9782|  true|       2|    0|1000000|          2|   bank|\n",
      "|       2|    fan_in|   4380|     4380|  true|       2|    0|1000000|          2|   bank|\n",
      "+--------+----------+-------+---------+------+--------+-----+-------+-----------+-------+\n",
      "only showing top 20 rows"
     ]
    }
   ],
   "source": [
    "alert_accounts_df = spark.read\\\n",
    "             .option(\"inferSchema\", \"true\")\\\n",
    "             .option(\"header\", \"true\")\\\n",
    "             .format(\"csv\")\\\n",
    "             .load(\"hdfs:///Projects/{}/Resources/10K/10K/alert_accounts.csv\".format(hdfs.project_name()))\n",
    "\n",
    "alert_accounts_df.show()\n",
    "#alert_accounts_df.orderBy(\"alert_id\").show()"
   ]
  },
  {
   "cell_type": "code",
   "execution_count": 11,
   "metadata": {},
   "outputs": [
    {
     "name": "stdout",
     "output_type": "stream",
     "text": [
      "770"
     ]
    }
   ],
   "source": [
    "alert_accounts_df.count()"
   ]
  },
  {
   "cell_type": "code",
   "execution_count": 12,
   "metadata": {},
   "outputs": [
    {
     "name": "stdout",
     "output_type": "stream",
     "text": [
      "+--------+----------+------+-------+---------+---------+-------------------+--------+-------------------+\n",
      "|alert_id|alert_type|is_sar|tran_id|orig_acct|bene_acct|            tx_type|base_amt|     tran_timestamp|\n",
      "+--------+----------+------+-------+---------+---------+-------------------+--------+-------------------+\n",
      "|       0|    fan_in|  true|   3071|     3838|     7950|     TRANSFER-FanIn|  194.53|2020-01-02 00:00:00|\n",
      "|       0|    fan_in|  true|  12308|     6075|     7950|   TRANSFER-Forward|  194.53|2020-01-05 00:00:00|\n",
      "|       0|    fan_in|  true|   9496|     8913|     7950|TRANSFER-Periodical|  194.53|2020-01-04 00:00:00|\n",
      "|       0|    fan_in|  true|  14316|     2322|     7950|     TRANSFER-FanIn|  194.53|2020-01-06 00:00:00|\n",
      "|       0|    fan_in|  true|  18059|     3948|     7950|     TRANSFER-FanIn|  194.53|2020-01-07 00:00:00|\n",
      "|       0|    fan_in|  true|   7847|     2145|     7950|     TRANSFER-FanIn|  194.53|2020-01-03 00:00:00|\n",
      "|       0|    fan_in|  true|  19638|     6419|     7950|   TRANSFER-Forward|  194.53|2020-01-08 00:00:00|\n",
      "|       0|    fan_in|  true|  22462|     7133|     7950|   TRANSFER-Forward|  194.53|2020-01-09 00:00:00|\n",
      "|       0|    fan_in|  true|   1122|     8485|     7950|TRANSFER-Periodical|  194.53|2020-01-01 00:00:00|\n",
      "|       1|    fan_in|  true|  22598|     7236|     5470|   TRANSFER-Forward|  189.75|2020-01-09 00:00:00|\n",
      "|       1|    fan_in|  true|  34964|     7538|     5470|   TRANSFER-Forward|  189.75|2020-01-13 00:00:00|\n",
      "|       1|    fan_in|  true|  45528|     4591|     5470|    TRANSFER-Mutual|  189.75|2020-01-17 00:00:00|\n",
      "|       1|    fan_in|  true|  67820|     6832|     5470|   TRANSFER-Forward|  189.75|2020-01-25 00:00:00|\n",
      "|       1|    fan_in|  true|   2615|     2344|     5470|     TRANSFER-FanIn|  189.75|2020-01-01 00:00:00|\n",
      "|       1|    fan_in|  true|  56690|     5856|     5470|    TRANSFER-Mutual|  189.75|2020-01-21 00:00:00|\n",
      "|       1|    fan_in|  true|  12600|      511|     5470|    TRANSFER-FanOut|  189.75|2020-01-05 00:00:00|\n",
      "|       2|    fan_in|  true|  11721|      651|     9782|    TRANSFER-FanOut|  109.12|2020-01-05 00:00:00|\n",
      "|       2|    fan_in|  true|    632|     4380|     9782|    TRANSFER-Mutual|  109.12|2020-01-01 00:00:00|\n",
      "|       2|    fan_in|  true|   6665|     1586|     9782|    TRANSFER-FanOut|  109.12|2020-01-03 00:00:00|\n",
      "|       2|    fan_in|  true|  22233|     1792|     9782|    TRANSFER-FanOut|  109.12|2020-01-09 00:00:00|\n",
      "+--------+----------+------+-------+---------+---------+-------------------+--------+-------------------+\n",
      "only showing top 20 rows"
     ]
    }
   ],
   "source": [
    "alert_transactions_df = spark.read\\\n",
    "             .option(\"inferSchema\", \"true\")\\\n",
    "             .option(\"header\", \"true\")\\\n",
    "             .format(\"csv\")\\\n",
    "             .load(\"hdfs:///Projects/{}/Resources/10K/10K/alert_transactions.csv\".format(hdfs.project_name()))\n",
    "alert_transactions_df.orderBy(\"alert_id\").show()"
   ]
  },
  {
   "cell_type": "code",
   "execution_count": 13,
   "metadata": {},
   "outputs": [
    {
     "name": "stdout",
     "output_type": "stream",
     "text": [
      "710"
     ]
    }
   ],
   "source": [
    "alert_transactions_df.count()"
   ]
  },
  {
   "cell_type": "code",
   "execution_count": 14,
   "metadata": {},
   "outputs": [
    {
     "name": "stdout",
     "output_type": "stream",
     "text": [
      "+-------+---------+---------+-------------------+--------+-------------------+------+--------+\n",
      "|tran_id|orig_acct|bene_acct|            tx_type|base_amt|     tran_timestamp|is_sar|alert_id|\n",
      "+-------+---------+---------+-------------------+--------+-------------------+------+--------+\n",
      "|    148|     6944|     8315|   TRANSFER-Forward|  927.66|2020-01-01 00:00:00| false|      -1|\n",
      "|   1580|     9915|     8387|TRANSFER-Periodical|  662.87|2020-01-01 00:00:00| false|      -1|\n",
      "|   2142|     3367|     3484|     TRANSFER-FanIn|   452.9|2020-01-01 00:00:00| false|      -1|\n",
      "|   5156|     9794|     8523|TRANSFER-Periodical|  337.62|2020-01-02 00:00:00| false|      -1|\n",
      "|   5518|      254|     8605|    TRANSFER-FanOut|  188.55|2020-01-03 00:00:00| false|      -1|\n",
      "|   6336|     9230|     8311|TRANSFER-Periodical|  253.46|2020-01-03 00:00:00| false|      -1|\n",
      "|   7754|     9834|     8059|TRANSFER-Periodical|  787.57|2020-01-03 00:00:00| false|      -1|\n",
      "|   8638|     9813|     8108|TRANSFER-Periodical|  397.07|2020-01-04 00:00:00| false|      -1|\n",
      "|  11141|     9982|     9959|TRANSFER-Periodical|   131.7|2020-01-05 00:00:00| false|      -1|\n",
      "|  11317|     9799|     2412|TRANSFER-Periodical|  717.47|2020-01-05 00:00:00| false|      -1|\n",
      "|  11858|     9930|     8693|TRANSFER-Periodical|  322.97|2020-01-05 00:00:00| false|      -1|\n",
      "|  13285|     9342|     2227|TRANSFER-Periodical|  154.69|2020-01-05 00:00:00|  true|      10|\n",
      "|  13623|     6421|     2441|   TRANSFER-Forward|  724.84|2020-01-05 00:00:00| false|      -1|\n",
      "|  13832|     9950|     1278|TRANSFER-Periodical|  715.15|2020-01-06 00:00:00| false|      -1|\n",
      "|  14570|     9995|     9777|TRANSFER-Periodical|  149.81|2020-01-06 00:00:00| false|      -1|\n",
      "|  16339|     1824|     3608|    TRANSFER-FanOut|  585.73|2020-01-06 00:00:00| false|      -1|\n",
      "|  16503|     9090|     9947|TRANSFER-Periodical|  343.95|2020-01-07 00:00:00| false|      -1|\n",
      "|  17679|     9314|      880|TRANSFER-Periodical|  220.23|2020-01-07 00:00:00| false|      -1|\n",
      "|  18911|      419|     9983|    TRANSFER-FanOut|  702.86|2020-01-07 00:00:00| false|      -1|\n",
      "|  19079|     2488|     2716|     TRANSFER-FanIn|  140.38|2020-01-08 00:00:00|  true|      26|\n",
      "+-------+---------+---------+-------------------+--------+-------------------+------+--------+\n",
      "only showing top 20 rows"
     ]
    }
   ],
   "source": [
    "alert_acct_id_df = alert_accounts_df.select(\"acct_id\")\n",
    "alert_related_transactions_df = transactions_df.join(\n",
    "    alert_acct_id_df,\n",
    "    [(alert_acct_id_df.acct_id==transactions_df.orig_acct)|(alert_acct_id_df.acct_id==transactions_df.bene_acct)],\n",
    "    how=\"inner\"\n",
    ").dropDuplicates(subset=['tran_id']).drop(\"acct_id\")\n",
    "alert_related_transactions_df.show()"
   ]
  },
  {
   "cell_type": "code",
   "execution_count": 15,
   "metadata": {},
   "outputs": [
    {
     "name": "stdout",
     "output_type": "stream",
     "text": [
      "13271"
     ]
    }
   ],
   "source": [
    "alert_related_transactions_df.count()"
   ]
  },
  {
   "cell_type": "code",
   "execution_count": 16,
   "metadata": {},
   "outputs": [
    {
     "name": "stdout",
     "output_type": "stream",
     "text": [
      "+-------+---------+---------+-------------------+--------+-------------------+------+--------+\n",
      "|tran_id|orig_acct|bene_acct|            tx_type|base_amt|     tran_timestamp|is_sar|alert_id|\n",
      "+-------+---------+---------+-------------------+--------+-------------------+------+--------+\n",
      "|    148|     6944|     8315|   TRANSFER-Forward|  927.66|2020-01-01 00:00:00| false|      -1|\n",
      "|   1580|     9915|     8387|TRANSFER-Periodical|  662.87|2020-01-01 00:00:00| false|      -1|\n",
      "|   2142|     3367|     3484|     TRANSFER-FanIn|   452.9|2020-01-01 00:00:00| false|      -1|\n",
      "|   5156|     9794|     8523|TRANSFER-Periodical|  337.62|2020-01-02 00:00:00| false|      -1|\n",
      "|   5518|      254|     8605|    TRANSFER-FanOut|  188.55|2020-01-03 00:00:00| false|      -1|\n",
      "|   6336|     9230|     8311|TRANSFER-Periodical|  253.46|2020-01-03 00:00:00| false|      -1|\n",
      "|   7754|     9834|     8059|TRANSFER-Periodical|  787.57|2020-01-03 00:00:00| false|      -1|\n",
      "|   8638|     9813|     8108|TRANSFER-Periodical|  397.07|2020-01-04 00:00:00| false|      -1|\n",
      "|  11141|     9982|     9959|TRANSFER-Periodical|   131.7|2020-01-05 00:00:00| false|      -1|\n",
      "|  11317|     9799|     2412|TRANSFER-Periodical|  717.47|2020-01-05 00:00:00| false|      -1|\n",
      "|  11858|     9930|     8693|TRANSFER-Periodical|  322.97|2020-01-05 00:00:00| false|      -1|\n",
      "|  13623|     6421|     2441|   TRANSFER-Forward|  724.84|2020-01-05 00:00:00| false|      -1|\n",
      "|  13832|     9950|     1278|TRANSFER-Periodical|  715.15|2020-01-06 00:00:00| false|      -1|\n",
      "|  14570|     9995|     9777|TRANSFER-Periodical|  149.81|2020-01-06 00:00:00| false|      -1|\n",
      "|  16339|     1824|     3608|    TRANSFER-FanOut|  585.73|2020-01-06 00:00:00| false|      -1|\n",
      "|  16503|     9090|     9947|TRANSFER-Periodical|  343.95|2020-01-07 00:00:00| false|      -1|\n",
      "|  17679|     9314|      880|TRANSFER-Periodical|  220.23|2020-01-07 00:00:00| false|      -1|\n",
      "|  18911|      419|     9983|    TRANSFER-FanOut|  702.86|2020-01-07 00:00:00| false|      -1|\n",
      "|  21700|     9958|     5109|TRANSFER-Periodical|  404.71|2020-01-08 00:00:00| false|      -1|\n",
      "|  22521|     9892|     7908|TRANSFER-Periodical|  792.85|2020-01-09 00:00:00| false|      -1|\n",
      "+-------+---------+---------+-------------------+--------+-------------------+------+--------+\n",
      "only showing top 20 rows"
     ]
    }
   ],
   "source": [
    "alert_related_transactions_df.where(F.col(\"alert_id\")==-1).show()"
   ]
  },
  {
   "cell_type": "code",
   "execution_count": 17,
   "metadata": {},
   "outputs": [
    {
     "name": "stdout",
     "output_type": "stream",
     "text": [
      "+-------+---------+---------+-------------------+--------+-------------------+------+--------+\n",
      "|tran_id|orig_acct|bene_acct|            tx_type|base_amt|     tran_timestamp|is_sar|alert_id|\n",
      "+-------+---------+---------+-------------------+--------+-------------------+------+--------+\n",
      "|    463|     7252|     7708|   TRANSFER-Forward|  277.72|2020-01-01 00:00:00| false|      -1|\n",
      "|    471|     7199|     4620|   TRANSFER-Forward|  664.95|2020-01-01 00:00:00| false|      -1|\n",
      "|    496|     9009|     9648|TRANSFER-Periodical|  791.27|2020-01-01 00:00:00| false|      -1|\n",
      "|    833|     3874|     2457|     TRANSFER-FanIn|  131.92|2020-01-01 00:00:00| false|      -1|\n",
      "|   1088|     9218|      596|TRANSFER-Periodical|  422.95|2020-01-01 00:00:00| false|      -1|\n",
      "|   1238|      346|     4803|    TRANSFER-FanOut|  933.44|2020-01-01 00:00:00| false|      -1|\n",
      "|   1342|     8056|     5454|TRANSFER-Periodical|  634.39|2020-01-01 00:00:00| false|      -1|\n",
      "|   1591|     2413|     3546|     TRANSFER-FanIn|  295.36|2020-01-01 00:00:00| false|      -1|\n",
      "|   1645|     6091|     8898|   TRANSFER-Forward|  657.75|2020-01-01 00:00:00| false|      -1|\n",
      "|   1829|     5900|     7206|    TRANSFER-Mutual|  967.61|2020-01-01 00:00:00| false|      -1|\n",
      "|   1959|     3274|     2174|     TRANSFER-FanIn|   340.4|2020-01-01 00:00:00| false|      -1|\n",
      "|   2122|     8128|     7852|TRANSFER-Periodical|  971.49|2020-01-01 00:00:00| false|      -1|\n",
      "|   2366|     9343|     8596|TRANSFER-Periodical|  153.24|2020-01-01 00:00:00| false|      -1|\n",
      "|   2659|     7365|     2759|   TRANSFER-Forward|  601.59|2020-01-01 00:00:00| false|      -1|\n",
      "|   2866|     9983|     4296|TRANSFER-Periodical|  168.72|2020-01-01 00:00:00| false|      -1|\n",
      "|   3175|     1582|     9802|    TRANSFER-FanOut| 1011.48|2020-01-02 00:00:00| false|      -1|\n",
      "|   3749|     9923|     8334|TRANSFER-Periodical|  816.98|2020-01-02 00:00:00| false|      -1|\n",
      "|   3794|     7024|     2848|   TRANSFER-Forward|  312.28|2020-01-02 00:00:00| false|      -1|\n",
      "|   3918|     9979|     9328|TRANSFER-Periodical|  700.34|2020-01-02 00:00:00| false|      -1|\n",
      "|   3997|     9529|     9856|TRANSFER-Periodical|  434.85|2020-01-02 00:00:00| false|      -1|\n",
      "+-------+---------+---------+-------------------+--------+-------------------+------+--------+\n",
      "only showing top 20 rows"
     ]
    }
   ],
   "source": [
    "alert_related_transactions_ids = alert_related_transactions_df.select(\"tran_id\")\n",
    "non_alert_related_transactions_df = transactions_df.join(alert_related_transactions_ids, [\"tran_id\"], how=\"leftanti\")\n",
    "non_alert_related_transactions_df.show()"
   ]
  },
  {
   "cell_type": "code",
   "execution_count": 18,
   "metadata": {},
   "outputs": [
    {
     "name": "stdout",
     "output_type": "stream",
     "text": [
      "68146"
     ]
    }
   ],
   "source": [
    "non_alert_related_transactions_df.count()"
   ]
  },
  {
   "cell_type": "code",
   "execution_count": 19,
   "metadata": {},
   "outputs": [
    {
     "name": "stdout",
     "output_type": "stream",
     "text": [
      "+-------+---------+---------+-------------------+--------+-------------------+------+--------+\n",
      "|tran_id|orig_acct|bene_acct|            tx_type|base_amt|     tran_timestamp|is_sar|alert_id|\n",
      "+-------+---------+---------+-------------------+--------+-------------------+------+--------+\n",
      "|    463|     7252|     7708|   TRANSFER-Forward|  277.72|2020-01-01 00:00:00| false|      -1|\n",
      "|    471|     7199|     4620|   TRANSFER-Forward|  664.95|2020-01-01 00:00:00| false|      -1|\n",
      "|    496|     9009|     9648|TRANSFER-Periodical|  791.27|2020-01-01 00:00:00| false|      -1|\n",
      "|    833|     3874|     2457|     TRANSFER-FanIn|  131.92|2020-01-01 00:00:00| false|      -1|\n",
      "|   1088|     9218|      596|TRANSFER-Periodical|  422.95|2020-01-01 00:00:00| false|      -1|\n",
      "|   1238|      346|     4803|    TRANSFER-FanOut|  933.44|2020-01-01 00:00:00| false|      -1|\n",
      "|   1342|     8056|     5454|TRANSFER-Periodical|  634.39|2020-01-01 00:00:00| false|      -1|\n",
      "|   1591|     2413|     3546|     TRANSFER-FanIn|  295.36|2020-01-01 00:00:00| false|      -1|\n",
      "|   1645|     6091|     8898|   TRANSFER-Forward|  657.75|2020-01-01 00:00:00| false|      -1|\n",
      "|   1829|     5900|     7206|    TRANSFER-Mutual|  967.61|2020-01-01 00:00:00| false|      -1|\n",
      "|   1959|     3274|     2174|     TRANSFER-FanIn|   340.4|2020-01-01 00:00:00| false|      -1|\n",
      "|   2122|     8128|     7852|TRANSFER-Periodical|  971.49|2020-01-01 00:00:00| false|      -1|\n",
      "|   2366|     9343|     8596|TRANSFER-Periodical|  153.24|2020-01-01 00:00:00| false|      -1|\n",
      "|   2659|     7365|     2759|   TRANSFER-Forward|  601.59|2020-01-01 00:00:00| false|      -1|\n",
      "|   2866|     9983|     4296|TRANSFER-Periodical|  168.72|2020-01-01 00:00:00| false|      -1|\n",
      "|   3175|     1582|     9802|    TRANSFER-FanOut| 1011.48|2020-01-02 00:00:00| false|      -1|\n",
      "|   3749|     9923|     8334|TRANSFER-Periodical|  816.98|2020-01-02 00:00:00| false|      -1|\n",
      "|   3794|     7024|     2848|   TRANSFER-Forward|  312.28|2020-01-02 00:00:00| false|      -1|\n",
      "|   3918|     9979|     9328|TRANSFER-Periodical|  700.34|2020-01-02 00:00:00| false|      -1|\n",
      "|   3997|     9529|     9856|TRANSFER-Periodical|  434.85|2020-01-02 00:00:00| false|      -1|\n",
      "+-------+---------+---------+-------------------+--------+-------------------+------+--------+\n",
      "only showing top 20 rows"
     ]
    }
   ],
   "source": [
    "non_alert_related_transactions_df.show()"
   ]
  },
  {
   "cell_type": "code",
   "execution_count": 20,
   "metadata": {},
   "outputs": [
    {
     "name": "stdout",
     "output_type": "stream",
     "text": [
      "+-------+---------+---------+-------+--------+--------------+------+--------+\n",
      "|tran_id|orig_acct|bene_acct|tx_type|base_amt|tran_timestamp|is_sar|alert_id|\n",
      "+-------+---------+---------+-------+--------+--------------+------+--------+\n",
      "+-------+---------+---------+-------+--------+--------------+------+--------+"
     ]
    }
   ],
   "source": [
    "non_alert_related_transactions_df.where(F.col(\"alert_id\")>-1).show()"
   ]
  },
  {
   "cell_type": "code",
   "execution_count": null,
   "metadata": {},
   "outputs": [],
   "source": []
  },
  {
   "cell_type": "code",
   "execution_count": null,
   "metadata": {},
   "outputs": [],
   "source": []
  },
  {
   "cell_type": "code",
   "execution_count": 21,
   "metadata": {},
   "outputs": [],
   "source": [
    "sar_sources = alert_related_transactions_df.select(\"orig_acct\").toDF(\"id\")\n",
    "sar_targets = alert_related_transactions_df.select(\"bene_acct\").toDF(\"id\")\n",
    "sar_nodes = sar_sources.union(sar_targets).dropDuplicates()\n",
    "sar_edges = non_alert_related_transactions_df.select(\"orig_acct\", \"bene_acct\").toDF(\"src\", \"dst\")"
   ]
  },
  {
   "cell_type": "code",
   "execution_count": 22,
   "metadata": {},
   "outputs": [],
   "source": [
    "# Now lets construct the graph\n",
    "g_sar = GraphFrame(sar_nodes,sar_edges)"
   ]
  },
  {
   "cell_type": "code",
   "execution_count": null,
   "metadata": {},
   "outputs": [],
   "source": [
    "sc.setCheckpointDir(\"hdfs:///Projects/{}/Logs/sc\".format(hdfs.project_name()))\n",
    "cc_sar = g_sar.connectedComponents().cache()\n",
    "#cc_sar = g_sar.stronglyConnectedComponents(20).cache()"
   ]
  },
  {
   "cell_type": "code",
   "execution_count": null,
   "metadata": {},
   "outputs": [],
   "source": [
    "cc_sar.groupBy('component').count().select('count').dropDuplicates().orderBy('count').show()"
   ]
  },
  {
   "cell_type": "code",
   "execution_count": null,
   "metadata": {},
   "outputs": [],
   "source": []
  },
  {
   "cell_type": "code",
   "execution_count": null,
   "metadata": {},
   "outputs": [],
   "source": []
  },
  {
   "cell_type": "code",
   "execution_count": null,
   "metadata": {},
   "outputs": [],
   "source": [
    "normal_sources = non_alert_related_transactions_df.select(\"orig_acct\").toDF(\"id\")\n",
    "normal_targets = non_alert_related_transactions_df.select(\"bene_acct\").toDF(\"id\")\n",
    "normal_nodes = normal_sources.union(normal_targets).dropDuplicates()\n",
    "normal_edges = non_alert_related_transactions_df.select(\"orig_acct\", \"bene_acct\").toDF(\"src\", \"dst\")"
   ]
  },
  {
   "cell_type": "code",
   "execution_count": null,
   "metadata": {},
   "outputs": [],
   "source": [
    "normal_nodes.show()"
   ]
  },
  {
   "cell_type": "code",
   "execution_count": null,
   "metadata": {},
   "outputs": [],
   "source": [
    "normal_edges.show()"
   ]
  },
  {
   "cell_type": "code",
   "execution_count": null,
   "metadata": {},
   "outputs": [],
   "source": [
    "# Now lets construct the graph\n",
    "g_normal = GraphFrame(normal_nodes,normal_edges)"
   ]
  },
  {
   "cell_type": "code",
   "execution_count": null,
   "metadata": {},
   "outputs": [],
   "source": [
    "sc.setCheckpointDir(\"hdfs:///Projects/{}/Logs/sc\".format(hdfs.project_name()))\n",
    "cc_normal = g_normal.connectedComponents().cache()\n",
    "#cc_normal = g_normal.stronglyConnectedComponents(20).cache()"
   ]
  },
  {
   "cell_type": "code",
   "execution_count": null,
   "metadata": {},
   "outputs": [],
   "source": [
    "cc_normal.groupBy('component').count().select('count').dropDuplicates().orderBy('count').show()"
   ]
  },
  {
   "cell_type": "code",
   "execution_count": null,
   "metadata": {},
   "outputs": [],
   "source": []
  },
  {
   "cell_type": "code",
   "execution_count": null,
   "metadata": {},
   "outputs": [],
   "source": []
  },
  {
   "cell_type": "code",
   "execution_count": null,
   "metadata": {},
   "outputs": [],
   "source": []
  },
  {
   "cell_type": "code",
   "execution_count": null,
   "metadata": {},
   "outputs": [],
   "source": []
  },
  {
   "cell_type": "code",
   "execution_count": null,
   "metadata": {},
   "outputs": [],
   "source": []
  },
  {
   "cell_type": "code",
   "execution_count": null,
   "metadata": {},
   "outputs": [],
   "source": []
  },
  {
   "cell_type": "code",
   "execution_count": null,
   "metadata": {},
   "outputs": [],
   "source": []
  },
  {
   "cell_type": "code",
   "execution_count": null,
   "metadata": {},
   "outputs": [],
   "source": []
  },
  {
   "cell_type": "markdown",
   "metadata": {},
   "source": [
    "## Create a connection to Hopsworks feature store (hsfs)"
   ]
  },
  {
   "cell_type": "code",
   "execution_count": null,
   "metadata": {},
   "outputs": [],
   "source": [
    "# Create a connection\n",
    "connection = hsfs.connection()\n",
    "# Get the feature store handle for the project's feature store\n",
    "fs = connection.get_feature_store()"
   ]
  },
  {
   "cell_type": "markdown",
   "metadata": {},
   "source": [
    "## Create accounts feature group metadata and save it in to hsfs "
   ]
  },
  {
   "cell_type": "code",
   "execution_count": null,
   "metadata": {},
   "outputs": [],
   "source": [
    "accounts_fg = fs.create_feature_group(name=\"account_features\",\n",
    "                                      version=1,\n",
    "                                      primary_key=[\"acct_id\"],\n",
    "                                      description=\"node features\",\n",
    "                                      time_travel_format=None,\n",
    "                                      statistics_config=False)\n",
    "accounts_fg.save(accounts_df)"
   ]
  },
  {
   "cell_type": "markdown",
   "metadata": {},
   "source": [
    "## Create transactions feature group metadata and save it in to hsfs "
   ]
  },
  {
   "cell_type": "code",
   "execution_count": 10,
   "metadata": {},
   "outputs": [
    {
     "name": "stdout",
     "output_type": "stream",
     "text": [
      "<hsfs.feature_group.FeatureGroup object at 0x7fcc08cb6dd0>"
     ]
    }
   ],
   "source": [
    "transactions_fg = fs.create_feature_group(name=\"transactions_fg\",\n",
    "                                       version=1,\n",
    "                                       primary_key=[\"tran_id\"],\n",
    "                                       description=\"edge features\",\n",
    "                                       time_travel_format=None,                                        \n",
    "                                       statistics_config=False)\n",
    "transactions_fg.save(transactions_df)"
   ]
  },
  {
   "cell_type": "code",
   "execution_count": null,
   "metadata": {},
   "outputs": [],
   "source": []
  }
 ],
 "metadata": {
  "kernelspec": {
   "display_name": "PySpark",
   "language": "python",
   "name": "pysparkkernel"
  },
  "language_info": {
   "codemirror_mode": {
    "name": "python",
    "version": 3
   },
   "mimetype": "text/x-python",
   "name": "pyspark",
   "pygments_lexer": "python3"
  }
 },
 "nbformat": 4,
 "nbformat_minor": 4
}
