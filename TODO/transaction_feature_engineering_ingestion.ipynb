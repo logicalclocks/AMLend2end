{
 "cells": [
  {
   "cell_type": "code",
   "execution_count": 1,
   "metadata": {},
   "outputs": [
    {
     "name": "stdout",
     "output_type": "stream",
     "text": [
      "Starting Spark application\n"
     ]
    },
    {
     "data": {
      "text/html": [
       "<table>\n",
       "<tr><th>ID</th><th>YARN Application ID</th><th>Kind</th><th>State</th><th>Spark UI</th><th>Driver log</th></tr><tr><td>85</td><td>application_1609326166272_0004</td><td>pyspark</td><td>idle</td><td><a target=\"_blank\" href=\"http://hopsworksdavit-master.internal.cloudapp.net:8088/proxy/application_1609326166272_0004/\">Link</a></td><td><a target=\"_blank\" href=\"http://hopsworksdavit-worker-6.internal.cloudapp.net:8042/node/containerlogs/container_e08_1609326166272_0004_01_000001/amlsim__meb10179\">Link</a></td></tr></table>"
      ],
      "text/plain": [
       "<IPython.core.display.HTML object>"
      ]
     },
     "metadata": {},
     "output_type": "display_data"
    },
    {
     "name": "stdout",
     "output_type": "stream",
     "text": [
      "SparkSession available as 'spark'.\n",
      "<pyspark.sql.session.SparkSession object at 0x7fda14e34f90>"
     ]
    }
   ],
   "source": [
    "spark"
   ]
  },
  {
   "cell_type": "markdown",
   "metadata": {},
   "source": [
    "## Import modules"
   ]
  },
  {
   "cell_type": "code",
   "execution_count": 125,
   "metadata": {},
   "outputs": [],
   "source": [
    "import hashlib\n",
    "from datetime import datetime\n",
    "from pyspark.sql import functions as F\n",
    "from pyspark.sql.types import FloatType, LongType\n",
    "from pyspark.sql.functions import explode\n",
    "from graphframes import *\n",
    "import hsfs\n",
    "from hops import hdfs"
   ]
  },
  {
   "cell_type": "markdown",
   "metadata": {},
   "source": [
    "## Define utility functions"
   ]
  },
  {
   "cell_type": "code",
   "execution_count": 3,
   "metadata": {},
   "outputs": [],
   "source": [
    "def action_2_code(x):\n",
    "    if (x == \"CASH_IN\"):\n",
    "        node_type = 0\n",
    "    elif (x == \"CASH_OUT\"):\n",
    "        node_type = 1\n",
    "    elif (x == \"DEBIT\"):\n",
    "        node_type = 2\n",
    "    elif (x == \"PAYMENT\"):\n",
    "        node_type = 3\n",
    "    elif (x == \"TRANSFER\"):\n",
    "        node_type = 4\n",
    "    elif (x == \"DEPOSIT\"):\n",
    "        node_type = 4        \n",
    "    else:\n",
    "        node_type = 99\n",
    "    return node_type\n",
    "\n",
    "def timestamp_2_time(x):\n",
    "    dt_obj = datetime.strptime(str(x), '%Y-%m-%d %H:%M:%S')\n",
    "    return dt_obj.timestamp()\n",
    "\n",
    "action_2_code_udf = F.udf(action_2_code)\n",
    "timestamp_2_time_udf = F.udf(timestamp_2_time)"
   ]
  },
  {
   "cell_type": "code",
   "execution_count": 41,
   "metadata": {},
   "outputs": [],
   "source": [
    "simname = \"composite\""
   ]
  },
  {
   "cell_type": "markdown",
   "metadata": {},
   "source": [
    "## Load accounts datasets as spark dataframe and perform feature engineering"
   ]
  },
  {
   "cell_type": "code",
   "execution_count": 42,
   "metadata": {},
   "outputs": [],
   "source": [
    "accounts_df = spark.read\\\n",
    "             .option(\"inferSchema\", \"true\")\\\n",
    "             .option(\"header\", \"true\")\\\n",
    "             .format(\"csv\")\\\n",
    "             .load(\"hdfs:///Projects/{}/Resources/{}/{}/accounts.csv\".format(hdfs.project_name(),simname,simname))\n",
    "\n",
    "accounts_df = accounts_df.drop('first_name')\\\n",
    "                        .drop('last_name')\\\n",
    "                        .drop('street_addr')\\\n",
    "                        .drop('city')\\\n",
    "                        .drop('state')\\\n",
    "                        .drop('zip')\\\n",
    "                        .drop('gender')\\\n",
    "                        .drop('birth_date')\\\n",
    "                        .drop('ssn')\\\n",
    "                        .drop('lon')\\\n",
    "                        .drop('lat')"
   ]
  },
  {
   "cell_type": "code",
   "execution_count": 43,
   "metadata": {},
   "outputs": [],
   "source": [
    "accounts_df = accounts_df.withColumn('prior_sar',F.when(F.col('prior_sar_count') == 'true', 1).otherwise(0))\\\n",
    "                         .drop(\"prior_sar_count\",\"acct_rptng_crncy\",\"type\",\"acct_stat\",\"open_dt\",\"bank_id\",\"country\",\"close_dt\",\"dsply_nm\",\"branch_id\")"
   ]
  },
  {
   "cell_type": "code",
   "execution_count": 44,
   "metadata": {},
   "outputs": [
    {
     "name": "stdout",
     "output_type": "stream",
     "text": [
      "+-------+---------------+--------------+---------+\n",
      "|acct_id|initial_deposit|tx_behavior_id|prior_sar|\n",
      "+-------+---------------+--------------+---------+\n",
      "|      0|       92221.09|             1|        1|\n",
      "|      1|       87897.72|             1|        0|\n",
      "|      2|       71028.58|             1|        0|\n",
      "|      3|       62945.84|             1|        0|\n",
      "|      4|       75563.74|             1|        0|\n",
      "|      5|       70246.71|             1|        0|\n",
      "|      6|       89189.93|             1|        0|\n",
      "|      7|       65165.64|             1|        0|\n",
      "|      8|       73829.85|             1|        0|\n",
      "|      9|        79169.1|             1|        0|\n",
      "|     10|       95405.64|             1|        0|\n",
      "|     11|       75234.34|             1|        0|\n",
      "|     12|       64091.89|             1|        0|\n",
      "|     13|       87790.21|             1|        0|\n",
      "|     14|       80918.45|             1|        0|\n",
      "|     15|       62525.32|             1|        0|\n",
      "|     16|       95487.31|             1|        0|\n",
      "|     17|       99139.27|             1|        0|\n",
      "|     18|       90510.86|             1|        0|\n",
      "|     19|        95108.3|             1|        0|\n",
      "+-------+---------------+--------------+---------+\n",
      "only showing top 20 rows"
     ]
    }
   ],
   "source": [
    "accounts_df.show()"
   ]
  },
  {
   "cell_type": "code",
   "execution_count": 45,
   "metadata": {},
   "outputs": [
    {
     "name": "stdout",
     "output_type": "stream",
     "text": [
      "+--------------+\n",
      "|tx_behavior_id|\n",
      "+--------------+\n",
      "|             1|\n",
      "+--------------+"
     ]
    }
   ],
   "source": [
    "accounts_df.select(\"tx_behavior_id\").dropDuplicates().show()"
   ]
  },
  {
   "cell_type": "code",
   "execution_count": null,
   "metadata": {},
   "outputs": [],
   "source": []
  },
  {
   "cell_type": "markdown",
   "metadata": {},
   "source": [
    "## Load transactions datasets as spark dataframe and perform feature engineering"
   ]
  },
  {
   "cell_type": "code",
   "execution_count": 46,
   "metadata": {},
   "outputs": [
    {
     "name": "stdout",
     "output_type": "stream",
     "text": [
      "+-------+---------+---------+---------------+--------+-------------------+------+--------+\n",
      "|tran_id|orig_acct|bene_acct|        tx_type|base_amt|     tran_timestamp|is_sar|alert_id|\n",
      "+-------+---------+---------+---------------+--------+-------------------+------+--------+\n",
      "|      1|    16410|    17545|TRANSFER-FanOut|  935.75|2020-01-01 00:00:00| false|      -1|\n",
      "|      2|     5281|    12044|TRANSFER-FanOut|  839.51|2020-01-01 00:00:00| false|      -1|\n",
      "|      3|     5738|     1148|TRANSFER-FanOut|  795.57|2020-01-01 00:00:00| false|      -1|\n",
      "|      4|     2858|     6899|TRANSFER-FanOut|  997.98|2020-01-01 00:00:00| false|      -1|\n",
      "|      5|    12766|     6586|TRANSFER-FanOut|  416.49|2020-01-01 00:00:00| false|      -1|\n",
      "|      6|    10396|     1653|TRANSFER-FanOut|  979.52|2020-01-01 00:00:00| false|      -1|\n",
      "|      7|      689|     8570|TRANSFER-FanOut|  927.83|2020-01-01 00:00:00| false|      -1|\n",
      "|      8|     9593|    10644|TRANSFER-FanOut|  690.37|2020-01-01 00:00:00| false|      -1|\n",
      "|      9|     1548|    17441|TRANSFER-FanOut|  747.82|2020-01-01 00:00:00| false|      -1|\n",
      "|     10|      165|      564|TRANSFER-FanOut|  949.29|2020-01-01 00:00:00| false|      -1|\n",
      "|     11|     7653|     4798|TRANSFER-FanOut|  298.13|2020-01-01 00:00:00| false|      -1|\n",
      "|     12|    12843|     3711|TRANSFER-FanOut|  477.75|2020-01-01 00:00:00| false|      -1|\n",
      "|     13|    19495|    16285|TRANSFER-FanOut|  867.79|2020-01-01 00:00:00| false|      -1|\n",
      "|     14|     5920|     6847|TRANSFER-FanOut|  345.73|2020-01-01 00:00:00| false|      -1|\n",
      "|     15|     9886|     7031|TRANSFER-FanOut|   794.6|2020-01-01 00:00:00| false|      -1|\n",
      "|     16|      344|    12777|TRANSFER-FanOut|  661.87|2020-01-01 00:00:00| false|      -1|\n",
      "|     17|     4754|    19887|TRANSFER-FanOut|   390.0|2020-01-01 00:00:00| false|      -1|\n",
      "|     18|      948|      332|TRANSFER-FanOut|  618.54|2020-01-01 00:00:00| false|      -1|\n",
      "|     19|       43|    13390|TRANSFER-FanOut|  509.61|2020-01-01 00:00:00| false|      -1|\n",
      "|     20|    18748|     2038|TRANSFER-FanOut|  840.78|2020-01-01 00:00:00| false|      -1|\n",
      "+-------+---------+---------+---------------+--------+-------------------+------+--------+\n",
      "only showing top 20 rows"
     ]
    }
   ],
   "source": [
    "transactions_df = spark.read\\\n",
    "             .option(\"inferSchema\", \"true\")\\\n",
    "             .option(\"header\", \"true\")\\\n",
    "             .format(\"csv\")\\\n",
    "             .load(\"hdfs:///Projects/{}/Resources/{}/{}/transactions.csv\".format(hdfs.project_name(),simname,simname))\n",
    "\n",
    "transactions_df.show()"
   ]
  },
  {
   "cell_type": "code",
   "execution_count": null,
   "metadata": {},
   "outputs": [],
   "source": []
  },
  {
   "cell_type": "code",
   "execution_count": 47,
   "metadata": {},
   "outputs": [
    {
     "name": "stdout",
     "output_type": "stream",
     "text": [
      "+--------+--------------+-------+---------+------+--------+-----+-------+-----------+-------+\n",
      "|alert_id|    alert_type|acct_id|acct_name|is_sar|model_id|start|    end|schedule_id|bank_id|\n",
      "+--------+--------------+-------+---------+------+--------+-----+-------+-----------+-------+\n",
      "|       0|scatter_gather|  16158|    16158|  true|       7|    0|1000000|          0|      1|\n",
      "|       0|scatter_gather|   9425|     9425|  true|       7|    0|1000000|          0|      1|\n",
      "|       0|scatter_gather|   2565|     2565|  true|       7|    0|1000000|          0|      1|\n",
      "|       0|scatter_gather|  16244|    16244|  true|       7|    0|1000000|          0|      1|\n",
      "|       0|scatter_gather|  16062|    16062|  true|       7|    0|1000000|          0|      1|\n",
      "|       1|scatter_gather|  19241|    19241|  true|       7|    0|1000000|          0|      1|\n",
      "|       1|scatter_gather|  16207|    16207|  true|       7|    0|1000000|          0|      1|\n",
      "|       1|scatter_gather|  14585|    14585|  true|       7|    0|1000000|          0|      1|\n",
      "|       1|scatter_gather|   7115|     7115|  true|       7|    0|1000000|          0|      1|\n",
      "|       1|scatter_gather|   8891|     8891|  true|       7|    0|1000000|          0|      1|\n",
      "|       1|scatter_gather|    618|      618|  true|       7|    0|1000000|          0|      1|\n",
      "|       2|scatter_gather|  15005|    15005|  true|       7|    0|1000000|          0|      1|\n",
      "|       2|scatter_gather|  14278|    14278|  true|       7|    0|1000000|          0|      1|\n",
      "|       2|scatter_gather|   4589|     4589|  true|       7|    0|1000000|          0|      1|\n",
      "|       2|scatter_gather|  10953|    10953|  true|       7|    0|1000000|          0|      1|\n",
      "|       2|scatter_gather|  10367|    10367|  true|       7|    0|1000000|          0|      1|\n",
      "|       2|scatter_gather|   1878|     1878|  true|       7|    0|1000000|          0|      1|\n",
      "|       3|scatter_gather|  15246|    15246|  true|       7|    0|1000000|          0|      1|\n",
      "|       3|scatter_gather|   1069|     1069|  true|       7|    0|1000000|          0|      1|\n",
      "|       3|scatter_gather|   4516|     4516|  true|       7|    0|1000000|          0|      1|\n",
      "+--------+--------------+-------+---------+------+--------+-----+-------+-----------+-------+\n",
      "only showing top 20 rows"
     ]
    }
   ],
   "source": [
    "alert_accounts_df = spark.read\\\n",
    "             .option(\"inferSchema\", \"true\")\\\n",
    "             .option(\"header\", \"true\")\\\n",
    "             .format(\"csv\")\\\n",
    "             .load(\"hdfs:///Projects/{}/Resources/{}/{}/alert_accounts.csv\".format(hdfs.project_name(),simname,simname))\n",
    "\n",
    "alert_accounts_df.show()\n",
    "#alert_accounts_df.orderBy(\"alert_id\").show()"
   ]
  },
  {
   "cell_type": "code",
   "execution_count": 48,
   "metadata": {},
   "outputs": [
    {
     "name": "stdout",
     "output_type": "stream",
     "text": [
      "820"
     ]
    }
   ],
   "source": [
    "alert_accounts_df.count()"
   ]
  },
  {
   "cell_type": "code",
   "execution_count": 49,
   "metadata": {},
   "outputs": [
    {
     "name": "stdout",
     "output_type": "stream",
     "text": [
      "+--------+--------------+------+-------+---------+---------+---------------+--------+-------------------+\n",
      "|alert_id|    alert_type|is_sar|tran_id|orig_acct|bene_acct|        tx_type|base_amt|     tran_timestamp|\n",
      "+--------+--------------+------+-------+---------+---------+---------------+--------+-------------------+\n",
      "|       0|scatter_gather|  true|  92688|     2565|     9425|TRANSFER-FanOut| 2450.35|2020-02-02 00:00:00|\n",
      "|       0|scatter_gather|  true|  50229|    16158|     2565|TRANSFER-FanOut| 2722.62|2020-01-18 00:00:00|\n",
      "|       0|scatter_gather|  true|  53063|    16158|    16062|TRANSFER-FanOut| 2722.62|2020-01-19 00:00:00|\n",
      "|       0|scatter_gather|  true|  86765|    16062|     9425|TRANSFER-FanOut| 2450.35|2020-01-31 00:00:00|\n",
      "|       0|scatter_gather|  true|  50230|    16158|    16244|TRANSFER-FanOut| 2722.62|2020-01-18 00:00:00|\n",
      "|       0|scatter_gather|  true|  89949|    16244|     9425|TRANSFER-FanOut| 2450.35|2020-02-01 00:00:00|\n",
      "|       1|scatter_gather|  true|  83716|    19241|      618|TRANSFER-FanOut| 2881.62|2020-01-30 00:00:00|\n",
      "|       1|scatter_gather|  true| 153123|     8891|    16207|TRANSFER-FanOut| 2593.46|2020-02-23 00:00:00|\n",
      "|       1|scatter_gather|  true| 153122|     7115|    16207|TRANSFER-FanOut| 2593.46|2020-02-23 00:00:00|\n",
      "|       1|scatter_gather|  true|  83194|    19241|    14585|TRANSFER-FanOut| 2881.62|2020-01-29 00:00:00|\n",
      "|       1|scatter_gather|  true| 127176|      618|    16207|TRANSFER-FanOut| 2593.46|2020-02-14 00:00:00|\n",
      "|       1|scatter_gather|  true| 161662|    14585|    16207|TRANSFER-FanOut| 2593.46|2020-02-26 00:00:00|\n",
      "|       1|scatter_gather|  true|  88333|    19241|     7115|TRANSFER-FanOut| 2881.62|2020-01-31 00:00:00|\n",
      "|       1|scatter_gather|  true| 110181|    19241|     8891|TRANSFER-FanOut| 2881.62|2020-02-08 00:00:00|\n",
      "|       2|scatter_gather|  true|  98375|    10953|    14278|TRANSFER-FanOut| 2638.05|2020-02-04 00:00:00|\n",
      "|       2|scatter_gather|  true|  51292|    15005|     4589|TRANSFER-FanOut| 2931.15|2020-01-18 00:00:00|\n",
      "|       2|scatter_gather|  true|  78471|    10367|    14278|TRANSFER-FanOut| 2638.05|2020-01-28 00:00:00|\n",
      "|       2|scatter_gather|  true|  60984|    15005|    10367|TRANSFER-FanOut| 2931.15|2020-01-22 00:00:00|\n",
      "|       2|scatter_gather|  true|  68369|    15005|     1878|TRANSFER-FanOut| 2931.15|2020-01-24 00:00:00|\n",
      "|       2|scatter_gather|  true| 101782|     1878|    14278|TRANSFER-FanOut| 2638.05|2020-02-05 00:00:00|\n",
      "+--------+--------------+------+-------+---------+---------+---------------+--------+-------------------+\n",
      "only showing top 20 rows"
     ]
    }
   ],
   "source": [
    "alert_transactions_df = spark.read\\\n",
    "             .option(\"inferSchema\", \"true\")\\\n",
    "             .option(\"header\", \"true\")\\\n",
    "             .format(\"csv\")\\\n",
    "             .load(\"hdfs:///Projects/{}/Resources/{}/{}/alert_transactions.csv\".format(hdfs.project_name(),simname,simname))\n",
    "alert_transactions_df.orderBy(\"alert_id\").show()"
   ]
  },
  {
   "cell_type": "code",
   "execution_count": 50,
   "metadata": {},
   "outputs": [
    {
     "name": "stdout",
     "output_type": "stream",
     "text": [
      "946"
     ]
    }
   ],
   "source": [
    "alert_transactions_df.count()"
   ]
  },
  {
   "cell_type": "code",
   "execution_count": 51,
   "metadata": {},
   "outputs": [
    {
     "name": "stdout",
     "output_type": "stream",
     "text": [
      "+-------+---------+---------+---------------+--------+-------------------+------+--------+\n",
      "|tran_id|orig_acct|bene_acct|        tx_type|base_amt|     tran_timestamp|is_sar|alert_id|\n",
      "+-------+---------+---------+---------------+--------+-------------------+------+--------+\n",
      "|    496|     8153|     7297|TRANSFER-FanOut|  171.95|2020-01-01 00:00:00| false|      -1|\n",
      "|    833|     5680|     7093|TRANSFER-FanOut|  321.03|2020-01-01 00:00:00| false|      -1|\n",
      "|   1088|    12707|     4794|TRANSFER-FanOut|  159.79|2020-01-01 00:00:00| false|      -1|\n",
      "|   2142|      762|     6467|TRANSFER-FanOut|  688.46|2020-01-01 00:00:00| false|      -1|\n",
      "|   5300|      512|     8552|TRANSFER-FanOut|  759.93|2020-01-02 00:00:00| false|      -1|\n",
      "|  17389|     5483|    16940|TRANSFER-FanOut|  551.35|2020-01-07 00:00:00| false|      -1|\n",
      "|  17679|     6177|     7585|TRANSFER-FanOut|  931.99|2020-01-07 00:00:00| false|      -1|\n",
      "|  18498|    10119|    14224|TRANSFER-FanOut|  667.98|2020-01-07 00:00:00| false|      -1|\n",
      "|  18654|    12100|     9391|TRANSFER-FanOut|  972.55|2020-01-07 00:00:00| false|      -1|\n",
      "|  18911|    14732|     3777|TRANSFER-FanOut|  801.83|2020-01-07 00:00:00| false|      -1|\n",
      "|  21220|    12706|    19306|TRANSFER-FanOut|  681.13|2020-01-08 00:00:00| false|      -1|\n",
      "|  24663|     1628|    11560|TRANSFER-FanOut| 2957.57|2020-01-09 00:00:00|  true|      19|\n",
      "|  25517|    11176|     5611|TRANSFER-FanOut|  228.57|2020-01-09 00:00:00| false|      -1|\n",
      "|  28664|    11485|     8664|TRANSFER-FanOut|  550.25|2020-01-10 00:00:00| false|      -1|\n",
      "|  29285|     7679|    15307|TRANSFER-FanOut|  905.82|2020-01-11 00:00:00| false|      -1|\n",
      "|  30970|      883|    14239|TRANSFER-FanOut|   387.2|2020-01-11 00:00:00| false|      -1|\n",
      "|  32396|    17174|     7221|TRANSFER-FanOut|  141.23|2020-01-12 00:00:00| false|      -1|\n",
      "|  32414|     2356|     8313|TRANSFER-FanOut|  289.33|2020-01-12 00:00:00| false|      -1|\n",
      "|  35351|    10234|     4571|TRANSFER-FanOut|  370.23|2020-01-13 00:00:00| false|      -1|\n",
      "|  36525|    11942|     4895|TRANSFER-FanOut|  796.31|2020-01-13 00:00:00| false|      -1|\n",
      "+-------+---------+---------+---------------+--------+-------------------+------+--------+\n",
      "only showing top 20 rows"
     ]
    }
   ],
   "source": [
    "alert_acct_id_df = alert_accounts_df.select(\"acct_id\")\n",
    "alert_related_transactions_df = transactions_df.join(\n",
    "    alert_acct_id_df,\n",
    "    [(alert_acct_id_df.acct_id==transactions_df.orig_acct)|(alert_acct_id_df.acct_id==transactions_df.bene_acct)],\n",
    "    how=\"inner\"\n",
    ").dropDuplicates(subset=['tran_id']).drop(\"acct_id\")\n",
    "alert_related_transactions_df.show()"
   ]
  },
  {
   "cell_type": "code",
   "execution_count": 52,
   "metadata": {},
   "outputs": [
    {
     "name": "stdout",
     "output_type": "stream",
     "text": [
      "14731"
     ]
    }
   ],
   "source": [
    "alert_related_transactions_df.count()"
   ]
  },
  {
   "cell_type": "code",
   "execution_count": 53,
   "metadata": {},
   "outputs": [
    {
     "name": "stdout",
     "output_type": "stream",
     "text": [
      "+-------+---------+---------+---------------+--------+-------------------+------+--------+\n",
      "|tran_id|orig_acct|bene_acct|        tx_type|base_amt|     tran_timestamp|is_sar|alert_id|\n",
      "+-------+---------+---------+---------------+--------+-------------------+------+--------+\n",
      "|    496|     8153|     7297|TRANSFER-FanOut|  171.95|2020-01-01 00:00:00| false|      -1|\n",
      "|    833|     5680|     7093|TRANSFER-FanOut|  321.03|2020-01-01 00:00:00| false|      -1|\n",
      "|   1088|    12707|     4794|TRANSFER-FanOut|  159.79|2020-01-01 00:00:00| false|      -1|\n",
      "|   2142|      762|     6467|TRANSFER-FanOut|  688.46|2020-01-01 00:00:00| false|      -1|\n",
      "|   5300|      512|     8552|TRANSFER-FanOut|  759.93|2020-01-02 00:00:00| false|      -1|\n",
      "|  17389|     5483|    16940|TRANSFER-FanOut|  551.35|2020-01-07 00:00:00| false|      -1|\n",
      "|  17679|     6177|     7585|TRANSFER-FanOut|  931.99|2020-01-07 00:00:00| false|      -1|\n",
      "|  18498|    10119|    14224|TRANSFER-FanOut|  667.98|2020-01-07 00:00:00| false|      -1|\n",
      "|  18654|    12100|     9391|TRANSFER-FanOut|  972.55|2020-01-07 00:00:00| false|      -1|\n",
      "|  18911|    14732|     3777|TRANSFER-FanOut|  801.83|2020-01-07 00:00:00| false|      -1|\n",
      "|  21220|    12706|    19306|TRANSFER-FanOut|  681.13|2020-01-08 00:00:00| false|      -1|\n",
      "|  25517|    11176|     5611|TRANSFER-FanOut|  228.57|2020-01-09 00:00:00| false|      -1|\n",
      "|  28664|    11485|     8664|TRANSFER-FanOut|  550.25|2020-01-10 00:00:00| false|      -1|\n",
      "|  29285|     7679|    15307|TRANSFER-FanOut|  905.82|2020-01-11 00:00:00| false|      -1|\n",
      "|  30970|      883|    14239|TRANSFER-FanOut|   387.2|2020-01-11 00:00:00| false|      -1|\n",
      "|  32396|    17174|     7221|TRANSFER-FanOut|  141.23|2020-01-12 00:00:00| false|      -1|\n",
      "|  32414|     2356|     8313|TRANSFER-FanOut|  289.33|2020-01-12 00:00:00| false|      -1|\n",
      "|  35351|    10234|     4571|TRANSFER-FanOut|  370.23|2020-01-13 00:00:00| false|      -1|\n",
      "|  36525|    11942|     4895|TRANSFER-FanOut|  796.31|2020-01-13 00:00:00| false|      -1|\n",
      "|  37111|    18671|     2268|TRANSFER-FanOut|  519.81|2020-01-13 00:00:00| false|      -1|\n",
      "+-------+---------+---------+---------------+--------+-------------------+------+--------+\n",
      "only showing top 20 rows"
     ]
    }
   ],
   "source": [
    "alert_related_transactions_df.where(F.col(\"alert_id\")==-1).show()"
   ]
  },
  {
   "cell_type": "code",
   "execution_count": 54,
   "metadata": {},
   "outputs": [
    {
     "name": "stdout",
     "output_type": "stream",
     "text": [
      "+-------+---------+---------+---------------+--------+-------------------+------+--------+\n",
      "|tran_id|orig_acct|bene_acct|        tx_type|base_amt|     tran_timestamp|is_sar|alert_id|\n",
      "+-------+---------+---------+---------------+--------+-------------------+------+--------+\n",
      "|    148|    18881|     3076|TRANSFER-FanOut|  972.76|2020-01-01 00:00:00| false|      -1|\n",
      "|    463|    19195|     2588|TRANSFER-FanOut|  590.17|2020-01-01 00:00:00| false|      -1|\n",
      "|    471|     9896|     3998|TRANSFER-FanOut|  632.81|2020-01-01 00:00:00| false|      -1|\n",
      "|   1238|     8751|     4701|TRANSFER-FanOut|  194.26|2020-01-01 00:00:00| false|      -1|\n",
      "|   1342|     8661|    19826|TRANSFER-FanOut|  115.78|2020-01-01 00:00:00| false|      -1|\n",
      "|   1580|     3637|     4171|TRANSFER-FanOut|  958.31|2020-01-01 00:00:00| false|      -1|\n",
      "|   1591|     9261|     8762|TRANSFER-FanOut|   415.0|2020-01-01 00:00:00| false|      -1|\n",
      "|   1645|     8979|     8966|TRANSFER-FanOut|  407.84|2020-01-01 00:00:00| false|      -1|\n",
      "|   1829|     8703|     6205|TRANSFER-FanOut|  297.26|2020-01-01 00:00:00| false|      -1|\n",
      "|   1959|     4932|    12922|TRANSFER-FanOut|  548.16|2020-01-01 00:00:00| false|      -1|\n",
      "|   2122|    10899|    12208|TRANSFER-FanOut|  100.83|2020-01-01 00:00:00| false|      -1|\n",
      "|   2366|     6696|     4389|TRANSFER-FanOut|  467.96|2020-01-01 00:00:00| false|      -1|\n",
      "|   2659|     9644|    13793|TRANSFER-FanOut|  681.57|2020-01-01 00:00:00| false|      -1|\n",
      "|   2866|     8954|     7344|TRANSFER-FanOut|  215.12|2020-01-01 00:00:00| false|      -1|\n",
      "|   3175|    18768|     2299|TRANSFER-FanOut|  416.29|2020-01-02 00:00:00| false|      -1|\n",
      "|   3749|     4223|    18948|TRANSFER-FanOut|  748.12|2020-01-02 00:00:00| false|      -1|\n",
      "|   3794|    17244|    14897|TRANSFER-FanOut|  503.63|2020-01-02 00:00:00| false|      -1|\n",
      "|   3918|    11866|    16683|TRANSFER-FanOut|   147.4|2020-01-02 00:00:00| false|      -1|\n",
      "|   3997|     3053|       75|TRANSFER-FanOut|  436.31|2020-01-02 00:00:00| false|      -1|\n",
      "|   4101|    18457|    18593|TRANSFER-FanOut|  203.49|2020-01-02 00:00:00| false|      -1|\n",
      "+-------+---------+---------+---------------+--------+-------------------+------+--------+\n",
      "only showing top 20 rows"
     ]
    }
   ],
   "source": [
    "alert_related_transactions_ids = alert_related_transactions_df.select(\"tran_id\")\n",
    "non_alert_related_transactions_df = transactions_df.join(alert_related_transactions_ids, [\"tran_id\"], how=\"leftanti\")\n",
    "non_alert_related_transactions_df.show()"
   ]
  },
  {
   "cell_type": "code",
   "execution_count": 55,
   "metadata": {},
   "outputs": [
    {
     "name": "stdout",
     "output_type": "stream",
     "text": [
      "157697"
     ]
    }
   ],
   "source": [
    "non_alert_related_transactions_df.count()"
   ]
  },
  {
   "cell_type": "code",
   "execution_count": 56,
   "metadata": {},
   "outputs": [
    {
     "name": "stdout",
     "output_type": "stream",
     "text": [
      "+-------+---------+---------+---------------+--------+-------------------+------+--------+\n",
      "|tran_id|orig_acct|bene_acct|        tx_type|base_amt|     tran_timestamp|is_sar|alert_id|\n",
      "+-------+---------+---------+---------------+--------+-------------------+------+--------+\n",
      "|    148|    18881|     3076|TRANSFER-FanOut|  972.76|2020-01-01 00:00:00| false|      -1|\n",
      "|    463|    19195|     2588|TRANSFER-FanOut|  590.17|2020-01-01 00:00:00| false|      -1|\n",
      "|    471|     9896|     3998|TRANSFER-FanOut|  632.81|2020-01-01 00:00:00| false|      -1|\n",
      "|   1238|     8751|     4701|TRANSFER-FanOut|  194.26|2020-01-01 00:00:00| false|      -1|\n",
      "|   1342|     8661|    19826|TRANSFER-FanOut|  115.78|2020-01-01 00:00:00| false|      -1|\n",
      "|   1580|     3637|     4171|TRANSFER-FanOut|  958.31|2020-01-01 00:00:00| false|      -1|\n",
      "|   1591|     9261|     8762|TRANSFER-FanOut|   415.0|2020-01-01 00:00:00| false|      -1|\n",
      "|   1645|     8979|     8966|TRANSFER-FanOut|  407.84|2020-01-01 00:00:00| false|      -1|\n",
      "|   1829|     8703|     6205|TRANSFER-FanOut|  297.26|2020-01-01 00:00:00| false|      -1|\n",
      "|   1959|     4932|    12922|TRANSFER-FanOut|  548.16|2020-01-01 00:00:00| false|      -1|\n",
      "|   2122|    10899|    12208|TRANSFER-FanOut|  100.83|2020-01-01 00:00:00| false|      -1|\n",
      "|   2366|     6696|     4389|TRANSFER-FanOut|  467.96|2020-01-01 00:00:00| false|      -1|\n",
      "|   2659|     9644|    13793|TRANSFER-FanOut|  681.57|2020-01-01 00:00:00| false|      -1|\n",
      "|   2866|     8954|     7344|TRANSFER-FanOut|  215.12|2020-01-01 00:00:00| false|      -1|\n",
      "|   3175|    18768|     2299|TRANSFER-FanOut|  416.29|2020-01-02 00:00:00| false|      -1|\n",
      "|   3749|     4223|    18948|TRANSFER-FanOut|  748.12|2020-01-02 00:00:00| false|      -1|\n",
      "|   3794|    17244|    14897|TRANSFER-FanOut|  503.63|2020-01-02 00:00:00| false|      -1|\n",
      "|   3918|    11866|    16683|TRANSFER-FanOut|   147.4|2020-01-02 00:00:00| false|      -1|\n",
      "|   3997|     3053|       75|TRANSFER-FanOut|  436.31|2020-01-02 00:00:00| false|      -1|\n",
      "|   4101|    18457|    18593|TRANSFER-FanOut|  203.49|2020-01-02 00:00:00| false|      -1|\n",
      "+-------+---------+---------+---------------+--------+-------------------+------+--------+\n",
      "only showing top 20 rows"
     ]
    }
   ],
   "source": [
    "non_alert_related_transactions_df.show()"
   ]
  },
  {
   "cell_type": "code",
   "execution_count": 57,
   "metadata": {},
   "outputs": [
    {
     "name": "stdout",
     "output_type": "stream",
     "text": [
      "+-------+---------+---------+-------+--------+--------------+------+--------+\n",
      "|tran_id|orig_acct|bene_acct|tx_type|base_amt|tran_timestamp|is_sar|alert_id|\n",
      "+-------+---------+---------+-------+--------+--------------+------+--------+\n",
      "+-------+---------+---------+-------+--------+--------------+------+--------+"
     ]
    }
   ],
   "source": [
    "non_alert_related_transactions_df.where(F.col(\"alert_id\")>-1).show()"
   ]
  },
  {
   "cell_type": "code",
   "execution_count": null,
   "metadata": {},
   "outputs": [],
   "source": []
  },
  {
   "cell_type": "code",
   "execution_count": 67,
   "metadata": {},
   "outputs": [
    {
     "name": "stdout",
     "output_type": "stream",
     "text": [
      "+-------+---------+---------+--------+\n",
      "|tran_id|orig_acct|bene_acct|base_amt|\n",
      "+-------+---------+---------+--------+\n",
      "|  83194|    19241|    14585| 2881.62|\n",
      "|  83716|    19241|      618| 2881.62|\n",
      "|  88333|    19241|     7115| 2881.62|\n",
      "| 110181|    19241|     8891| 2881.62|\n",
      "| 127176|      618|    16207| 2593.46|\n",
      "| 153122|     7115|    16207| 2593.46|\n",
      "| 153123|     8891|    16207| 2593.46|\n",
      "| 161662|    14585|    16207| 2593.46|\n",
      "+-------+---------+---------+--------+"
     ]
    }
   ],
   "source": [
    "demo_alert = alert_transactions_df.where(F.col(\"alert_id\")==1).select(\"tran_id\",\"orig_acct\",\"bene_acct\",\"base_amt\")\n",
    "demo_alert.show()"
   ]
  },
  {
   "cell_type": "code",
   "execution_count": 68,
   "metadata": {},
   "outputs": [],
   "source": [
    "%%spark -o demo_alert"
   ]
  },
  {
   "cell_type": "code",
   "execution_count": 159,
   "metadata": {},
   "outputs": [
    {
     "data": {
      "image/png": "[encoded data removed]",
      "text/plain": [
       "<Figure size 432x288 with 1 Axes>"
      ]
     },
     "metadata": {},
     "output_type": "display_data"
    }
   ],
   "source": [
    "%%local\n",
    "import networkx as nx\n",
    "import numpy as np\n",
    "import matplotlib.pyplot as plt\n",
    "import pylab\n",
    "\n",
    "G = nx.from_pandas_edgelist(demo_alert,source='orig_acct',\n",
    "                                   target='bene_acct',edge_attr=True,\n",
    "                                   create_using=nx.DiGraph())\n",
    "\n",
    "val_map = {}\n",
    "\n",
    "values = [val_map.get(node, 0.45) for node in G.nodes()]\n",
    "edge_labels=dict([((u,v,),d['tran_id']) for u,v,d in G.edges(data=True)])\n",
    "red_edges = [('C','D'),('D','A')]\n",
    "edge_colors = ['black' if not edge in red_edges else 'red' for edge in G.edges()]\n",
    "\n",
    "pos=nx.spring_layout(G)\n",
    "nx.draw_networkx_edge_labels(G,pos,edge_labels=edge_labels)\n",
    "nx.draw(G,pos, node_size=1500, edge_color=edge_colors,edge_cmap=plt.cm.Reds, with_labels = True) #node_color = values,\n",
    "pylab.show()"
   ]
  },
  {
   "cell_type": "code",
   "execution_count": 79,
   "metadata": {},
   "outputs": [
    {
     "name": "stdout",
     "output_type": "stream",
     "text": [
      "+-----+\n",
      "|   id|\n",
      "+-----+\n",
      "|19241|\n",
      "|  618|\n",
      "|14585|\n",
      "|16207|\n",
      "| 7115|\n",
      "| 8891|\n",
      "+-----+"
     ]
    }
   ],
   "source": [
    "demo_sources = demo_alert.select(\"orig_acct\").toDF(\"id\")\n",
    "demo_targets = demo_alert.select(\"bene_acct\").toDF(\"id\")\n",
    "demo_nodes = demo_sources.union(demo_targets).dropDuplicates()\n",
    "demo_nodes.show()"
   ]
  },
  {
   "cell_type": "code",
   "execution_count": null,
   "metadata": {},
   "outputs": [],
   "source": []
  },
  {
   "cell_type": "code",
   "execution_count": 181,
   "metadata": {},
   "outputs": [],
   "source": [
    "demo_nodes_array = [int(row.id) for row in demo_nodes.collect()]\n",
    "sources = alert_related_transactions_df.select(\"orig_acct\").toDF(\"id\")\n",
    "targets = alert_related_transactions_df.select(\"bene_acct\").toDF(\"id\")\n",
    "nodes = sources.union(targets).dropDuplicates()\n",
    "edges = alert_related_transactions_df.select(\"orig_acct\",\"bene_acct\").toDF(\"src\", \"dst\")\n",
    "# Now lets construct the graph\n",
    "g = GraphFrame(nodes, edges)"
   ]
  },
  {
   "cell_type": "code",
   "execution_count": 182,
   "metadata": {},
   "outputs": [
    {
     "name": "stdout",
     "output_type": "stream",
     "text": [
      "+-----+--------------+-----+-------------+----+\n",
      "|    a|            ab|    b|           bc|   c|\n",
      "+-----+--------------+-----+-------------+----+\n",
      "|17620| [17620, 2546]| 2546|  [2546, 471]| 471|\n",
      "| 4617| [4617, 10070]|10070| [10070, 471]| 471|\n",
      "| 4617| [4617, 10070]|10070| [10070, 471]| 471|\n",
      "| 8641| [8641, 12707]|12707| [12707, 496]| 496|\n",
      "| 8641| [8641, 12707]|12707| [12707, 496]| 496|\n",
      "| 8118| [8118, 12707]|12707| [12707, 496]| 496|\n",
      "| 8118| [8118, 12707]|12707| [12707, 496]| 496|\n",
      "| 8118| [8118, 12707]|12707| [12707, 496]| 496|\n",
      "| 8118| [8118, 12707]|12707| [12707, 496]| 496|\n",
      "|14297|[14297, 12707]|12707| [12707, 496]| 496|\n",
      "|14297|[14297, 12707]|12707| [12707, 496]| 496|\n",
      "|18287|[18287, 12707]|12707| [12707, 496]| 496|\n",
      "|18287|[18287, 12707]|12707| [12707, 496]| 496|\n",
      "|14864| [14864, 1184]| 1184| [1184, 1088]|1088|\n",
      "|11948| [11948, 6396]| 6396| [6396, 1088]|1088|\n",
      "| 4138| [4138, 18299]|18299|[18299, 1088]|1088|\n",
      "| 1929|  [1929, 4386]| 4386| [4386, 1088]|1088|\n",
      "| 1929|  [1929, 4386]| 4386| [4386, 1088]|1088|\n",
      "|13339| [13339, 4386]| 4386| [4386, 1088]|1088|\n",
      "|13339| [13339, 4386]| 4386| [4386, 1088]|1088|\n",
      "+-----+--------------+-----+-------------+----+\n",
      "only showing top 20 rows"
     ]
    }
   ],
   "source": [
    "max2hop = g.find(\"(a)-[ab]->(b); (b)-[bc]->(c)\")\n",
    "max2hop = max2hop.select('a.*','ab','b.*','bc','c.*').toDF(\"a\",\"ab\",\"b\",\"bc\",\"c\")\n",
    "max2hop.show()\n",
    "\n",
    "# compute shortest paths to demo_nodes\n",
    "#sp_results = g.shortestPaths(landmarks=demo_nodes_array)\n",
    "#sp_results = sp_results.select(\"id\", explode(\"distances\"))\n",
    "#max2_hops = sp_results.where((F.col(\"value\")>=1) & (F.col(\"value\")<=2))"
   ]
  },
  {
   "cell_type": "code",
   "execution_count": 183,
   "metadata": {},
   "outputs": [
    {
     "name": "stdout",
     "output_type": "stream",
     "text": [
      "+-----+-------------+----+------------+----+-----+\n",
      "|    a|           ab|   b|          bc|   c|   id|\n",
      "+-----+-------------+----+------------+----+-----+\n",
      "| 2572| [2572, 8891]|8891|[8891, 8928]|8928| 8891|\n",
      "|11780|[11780, 8891]|8891|[8891, 8928]|8928| 8891|\n",
      "| 3751| [3751, 8891]|8891|[8891, 8928]|8928| 8891|\n",
      "| 1445| [1445, 8891]|8891|[8891, 8928]|8928| 8891|\n",
      "| 3862| [3862, 8891]|8891|[8891, 8928]|8928| 8891|\n",
      "| 4946| [4946, 8891]|8891|[8891, 8928]|8928| 8891|\n",
      "| 1647| [1647, 8891]|8891|[8891, 8928]|8928| 8891|\n",
      "|10727|[10727, 8891]|8891|[8891, 8928]|8928| 8891|\n",
      "|19241|[19241, 8891]|8891|[8891, 8928]|8928|19241|\n",
      "|19241|[19241, 8891]|8891|[8891, 8928]|8928| 8891|\n",
      "|16294|[16294, 8891]|8891|[8891, 8928]|8928| 8891|\n",
      "|18400|[18400, 8891]|8891|[8891, 8928]|8928| 8891|\n",
      "|18400|[18400, 8891]|8891|[8891, 8928]|8928| 8891|\n",
      "|18400|[18400, 8891]|8891|[8891, 8928]|8928| 8891|\n",
      "|18400|[18400, 8891]|8891|[8891, 8928]|8928| 8891|\n",
      "| 2681| [2681, 8891]|8891|[8891, 8928]|8928| 8891|\n",
      "| 7470| [7470, 8891]|8891|[8891, 8928]|8928| 8891|\n",
      "| 5437| [5437, 8891]|8891|[8891, 8928]|8928| 8891|\n",
      "|11008|[11008, 8891]|8891|[8891, 8928]|8928| 8891|\n",
      "|11008|[11008, 8891]|8891|[8891, 8928]|8928| 8891|\n",
      "+-----+-------------+----+------------+----+-----+\n",
      "only showing top 20 rows"
     ]
    }
   ],
   "source": [
    "max2hop_from_to_demo_nodes = max2hop.join(\n",
    "    demo_nodes,\n",
    "    [(demo_nodes.id==max2hop.a)|(demo_nodes.id==max2hop.b)|(demo_nodes.id==max2hop.c)],\n",
    "    how=\"inner\"\n",
    ")\n",
    "max2hop_from_to_demo_nodes.show()"
   ]
  },
  {
   "cell_type": "code",
   "execution_count": 185,
   "metadata": {},
   "outputs": [
    {
     "name": "stdout",
     "output_type": "stream",
     "text": [
      "+-----+--------------+-----+--------------+-----+-----+\n",
      "|    a|            ab|    b|            bc|    c|   id|\n",
      "+-----+--------------+-----+--------------+-----+-----+\n",
      "|19241| [19241, 8891]| 8891|  [8891, 8928]| 8928|19241|\n",
      "|19241| [19241, 8891]| 8891|  [8891, 8928]| 8928| 8891|\n",
      "|19241|[19241, 16207]|16207|[16207, 12607]|12607|19241|\n",
      "|19241|[19241, 16207]|16207|[16207, 12607]|12607|16207|\n",
      "|19241|[19241, 16207]|16207|[16207, 12607]|12607|19241|\n",
      "|19241|[19241, 16207]|16207|[16207, 12607]|12607|16207|\n",
      "|19241|[19241, 16207]|16207| [16207, 4291]| 4291|19241|\n",
      "|19241|[19241, 16207]|16207| [16207, 4291]| 4291|16207|\n",
      "|19241|[19241, 16207]|16207| [16207, 4291]| 4291|19241|\n",
      "|19241|[19241, 16207]|16207| [16207, 4291]| 4291|16207|\n",
      "|19241| [19241, 7115]| 7115| [7115, 16317]|16317|19241|\n",
      "|19241| [19241, 7115]| 7115| [7115, 16317]|16317| 7115|\n",
      "|19241| [19241, 7115]| 7115| [7115, 16317]|16317|19241|\n",
      "|19241| [19241, 7115]| 7115| [7115, 16317]|16317| 7115|\n",
      "|19241|[19241, 14585]|14585|[14585, 14558]|14558|19241|\n",
      "|19241|[19241, 14585]|14585|[14585, 14558]|14558|14585|\n",
      "|19241|[19241, 14585]|14585|[14585, 14558]|14558|19241|\n",
      "|19241|[19241, 14585]|14585|[14585, 14558]|14558|14585|\n",
      "| 4353| [4353, 19241]|19241| [19241, 9384]| 9384|19241|\n",
      "| 9042| [9042, 19241]|19241| [19241, 9384]| 9384|19241|\n",
      "+-----+--------------+-----+--------------+-----+-----+\n",
      "only showing top 20 rows"
     ]
    }
   ],
   "source": [
    "max2hop_from_to_demo_nodes.where((F.col(\"a\")==19241)|(F.col(\"b\")==19241)|(F.col(\"c\")==19241)).show()"
   ]
  },
  {
   "cell_type": "code",
   "execution_count": null,
   "metadata": {},
   "outputs": [],
   "source": []
  },
  {
   "cell_type": "code",
   "execution_count": null,
   "metadata": {},
   "outputs": [],
   "source": [
    "\n",
    "e1 = max2hop.select(\"ab\").toDF(\"e\")\n",
    "e2 = max2hop.select(\"bc\").toDF(\"e\")\n",
    "e = e1.union(e2)\n"
   ]
  },
  {
   "cell_type": "code",
   "execution_count": null,
   "metadata": {},
   "outputs": [],
   "source": []
  },
  {
   "cell_type": "code",
   "execution_count": 173,
   "metadata": {},
   "outputs": [
    {
     "name": "stdout",
     "output_type": "stream",
     "text": [
      "+-------+--------------+-------+-------------+------+\n",
      "|      a|            ab|      b|           bc|     c|\n",
      "+-------+--------------+-------+-------------+------+\n",
      "| [8767]| [8767, 18368]|[18368]| [18368, 474]| [474]|\n",
      "|  [843]|  [843, 18368]|[18368]| [18368, 474]| [474]|\n",
      "|[18455]|[18455, 18368]|[18368]| [18368, 474]| [474]|\n",
      "|[18962]|[18962, 18368]|[18368]| [18368, 474]| [474]|\n",
      "|[11649]|[11649, 18368]|[18368]| [18368, 474]| [474]|\n",
      "|[11783]|[11783, 18368]|[18368]| [18368, 474]| [474]|\n",
      "| [5659]| [5659, 18368]|[18368]| [18368, 474]| [474]|\n",
      "|[18068]|[18068, 18368]|[18368]| [18368, 474]| [474]|\n",
      "| [1467]| [1467, 18368]|[18368]| [18368, 474]| [474]|\n",
      "|[17229]|[17229, 16342]|[16342]| [16342, 474]| [474]|\n",
      "|  [639]|  [639, 17401]|[17401]|[17401, 1697]|[1697]|\n",
      "|  [639]|  [639, 17401]|[17401]|[17401, 1697]|[1697]|\n",
      "|  [639]|  [639, 17401]|[17401]|[17401, 1697]|[1697]|\n",
      "|  [639]|  [639, 17401]|[17401]|[17401, 1697]|[1697]|\n",
      "| [8548]| [8548, 17401]|[17401]|[17401, 1697]|[1697]|\n",
      "| [8548]| [8548, 17401]|[17401]|[17401, 1697]|[1697]|\n",
      "|[12685]|[12685, 17401]|[17401]|[17401, 1697]|[1697]|\n",
      "|[12685]|[12685, 17401]|[17401]|[17401, 1697]|[1697]|\n",
      "| [8556]|  [8556, 5934]| [5934]| [5934, 1950]|[1950]|\n",
      "| [8556]|  [8556, 5934]| [5934]| [5934, 1950]|[1950]|\n",
      "+-------+--------------+-------+-------------+------+\n",
      "only showing top 20 rows"
     ]
    }
   ],
   "source": []
  },
  {
   "cell_type": "code",
   "execution_count": 177,
   "metadata": {},
   "outputs": [
    {
     "name": "stdout",
     "output_type": "stream",
     "text": [
      "+-----+--------------+-----+-------------+----+\n",
      "|    a|            ab|    b|           bc|   c|\n",
      "+-----+--------------+-----+-------------+----+\n",
      "|17229|[17229, 16342]|16342| [16342, 474]| 474|\n",
      "|11783|[11783, 18368]|18368| [18368, 474]| 474|\n",
      "|18068|[18068, 18368]|18368| [18368, 474]| 474|\n",
      "| 8767| [8767, 18368]|18368| [18368, 474]| 474|\n",
      "| 5659| [5659, 18368]|18368| [18368, 474]| 474|\n",
      "| 1467| [1467, 18368]|18368| [18368, 474]| 474|\n",
      "|  843|  [843, 18368]|18368| [18368, 474]| 474|\n",
      "|11649|[11649, 18368]|18368| [18368, 474]| 474|\n",
      "|18455|[18455, 18368]|18368| [18368, 474]| 474|\n",
      "|18962|[18962, 18368]|18368| [18368, 474]| 474|\n",
      "|  639|  [639, 17401]|17401|[17401, 1697]|1697|\n",
      "|  639|  [639, 17401]|17401|[17401, 1697]|1697|\n",
      "|  639|  [639, 17401]|17401|[17401, 1697]|1697|\n",
      "|  639|  [639, 17401]|17401|[17401, 1697]|1697|\n",
      "| 8548| [8548, 17401]|17401|[17401, 1697]|1697|\n",
      "| 8548| [8548, 17401]|17401|[17401, 1697]|1697|\n",
      "|12685|[12685, 17401]|17401|[17401, 1697]|1697|\n",
      "|12685|[12685, 17401]|17401|[17401, 1697]|1697|\n",
      "|  388|   [388, 5934]| 5934| [5934, 1950]|1950|\n",
      "|  388|   [388, 5934]| 5934| [5934, 1950]|1950|\n",
      "+-----+--------------+-----+-------------+----+\n",
      "only showing top 20 rows"
     ]
    }
   ],
   "source": []
  },
  {
   "cell_type": "code",
   "execution_count": null,
   "metadata": {},
   "outputs": [],
   "source": []
  },
  {
   "cell_type": "code",
   "execution_count": 72,
   "metadata": {},
   "outputs": [
    {
     "name": "stdout",
     "output_type": "stream",
     "text": [
      "+-------+---------+---------+---------------+--------+-------------------+------+--------+\n",
      "|tran_id|orig_acct|bene_acct|        tx_type|base_amt|     tran_timestamp|is_sar|alert_id|\n",
      "+-------+---------+---------+---------------+--------+-------------------+------+--------+\n",
      "|    148|    18881|     3076|TRANSFER-FanOut|  972.76|2020-01-01 00:00:00| false|      -1|\n",
      "| 163068|    18881|    16245|TRANSFER-FanOut|  691.85|2020-02-26 00:00:00| false|      -1|\n",
      "| 101496|    18881|     3170|TRANSFER-FanOut| 1008.21|2020-02-05 00:00:00| false|      -1|\n",
      "| 122140|    18881|    12059|TRANSFER-FanOut|  341.63|2020-02-12 00:00:00| false|      -1|\n",
      "|  81539|    18881|    12823|TRANSFER-FanOut|  547.94|2020-01-29 00:00:00| false|      -1|\n",
      "| 142546|    18881|     5430|TRANSFER-FanOut|  270.05|2020-02-19 00:00:00| false|      -1|\n",
      "|  22372|    18881|      349|TRANSFER-FanOut|  681.15|2020-01-08 00:00:00| false|      -1|\n",
      "|  60321|    18881|    10386|TRANSFER-FanOut|  559.66|2020-01-22 00:00:00| false|      -1|\n",
      "+-------+---------+---------+---------------+--------+-------------------+------+--------+"
     ]
    }
   ],
   "source": [
    "non_alert_related_transactions_df.where(F.col(\"orig_acct\")==18881).show()"
   ]
  },
  {
   "cell_type": "code",
   "execution_count": null,
   "metadata": {},
   "outputs": [],
   "source": []
  },
  {
   "cell_type": "code",
   "execution_count": 75,
   "metadata": {},
   "outputs": [
    {
     "name": "stdout",
     "output_type": "stream",
     "text": [
      "+-------+---------+---------+---------------+--------+-------------------+------+--------+\n",
      "|tran_id|orig_acct|bene_acct|        tx_type|base_amt|     tran_timestamp|is_sar|alert_id|\n",
      "+-------+---------+---------+---------------+--------+-------------------+------+--------+\n",
      "|  65353|    19241|     9708|TRANSFER-FanOut|  361.24|2020-01-23 00:00:00| false|      -1|\n",
      "| 106300|    19241|     9384|TRANSFER-FanOut|  770.13|2020-02-06 00:00:00| false|      -1|\n",
      "| 144904|    19241|    16207|TRANSFER-FanOut|  484.71|2020-02-20 00:00:00| false|      -1|\n",
      "|   5701|    19241|     1949|TRANSFER-FanOut|   905.6|2020-01-02 00:00:00| false|      -1|\n",
      "|  44206|    19241|    10825|TRANSFER-FanOut|  331.96|2020-01-16 00:00:00| false|      -1|\n",
      "|  83194|    19241|    14585|TRANSFER-FanOut| 2881.62|2020-01-29 00:00:00|  true|       1|\n",
      "|  83717|    19241|    13697|TRANSFER-FanOut|  256.91|2020-01-30 00:00:00| false|      -1|\n",
      "|  23169|    19241|    11561|TRANSFER-FanOut|  732.72|2020-01-09 00:00:00| false|      -1|\n",
      "|  88333|    19241|     7115|TRANSFER-FanOut| 2881.62|2020-01-31 00:00:00|  true|       1|\n",
      "| 126112|    19241|    10423|TRANSFER-FanOut|  930.55|2020-02-13 00:00:00| false|      -1|\n",
      "| 166581|    19241|    14585|TRANSFER-FanOut|  775.18|2020-02-27 00:00:00| false|      -1|\n",
      "| 110181|    19241|     8891|TRANSFER-FanOut| 2881.62|2020-02-08 00:00:00|  true|       1|\n",
      "|  83716|    19241|      618|TRANSFER-FanOut| 2881.62|2020-01-30 00:00:00|  true|       1|\n",
      "+-------+---------+---------+---------------+--------+-------------------+------+--------+"
     ]
    }
   ],
   "source": [
    "alert_related_transactions_df.where(F.col(\"orig_acct\")==19241).show()"
   ]
  },
  {
   "cell_type": "code",
   "execution_count": 78,
   "metadata": {},
   "outputs": [
    {
     "name": "stdout",
     "output_type": "stream",
     "text": [
      "+-------+---------+---------+---------------+--------+-------------------+------+--------+\n",
      "|tran_id|orig_acct|bene_acct|        tx_type|base_amt|     tran_timestamp|is_sar|alert_id|\n",
      "+-------+---------+---------+---------------+--------+-------------------+------+--------+\n",
      "| 144904|    19241|    16207|TRANSFER-FanOut|  484.71|2020-02-20 00:00:00| false|      -1|\n",
      "| 153123|     8891|    16207|TRANSFER-FanOut| 2593.46|2020-02-23 00:00:00|  true|       1|\n",
      "| 142543|    15681|    16207|TRANSFER-FanOut|  417.44|2020-02-19 00:00:00| false|      -1|\n",
      "| 161662|    14585|    16207|TRANSFER-FanOut| 2593.46|2020-02-26 00:00:00|  true|       1|\n",
      "| 127176|      618|    16207|TRANSFER-FanOut| 2593.46|2020-02-14 00:00:00|  true|       1|\n",
      "|  95278|    11227|    16207|TRANSFER-FanOut|  252.57|2020-02-03 00:00:00| false|      -1|\n",
      "| 153122|     7115|    16207|TRANSFER-FanOut| 2593.46|2020-02-23 00:00:00|  true|       1|\n",
      "+-------+---------+---------+---------------+--------+-------------------+------+--------+"
     ]
    }
   ],
   "source": [
    "alert_related_transactions_df.where(F.col(\"bene_acct\")==16207).show()"
   ]
  },
  {
   "cell_type": "code",
   "execution_count": null,
   "metadata": {},
   "outputs": [],
   "source": []
  },
  {
   "cell_type": "code",
   "execution_count": null,
   "metadata": {},
   "outputs": [],
   "source": []
  },
  {
   "cell_type": "code",
   "execution_count": null,
   "metadata": {},
   "outputs": [],
   "source": []
  },
  {
   "cell_type": "markdown",
   "metadata": {},
   "source": [
    "## Create a connection to Hopsworks feature store (hsfs)"
   ]
  },
  {
   "cell_type": "code",
   "execution_count": null,
   "metadata": {},
   "outputs": [],
   "source": [
    "# Create a connection\n",
    "connection = hsfs.connection()\n",
    "# Get the feature store handle for the project's feature store\n",
    "fs = connection.get_feature_store()"
   ]
  },
  {
   "cell_type": "markdown",
   "metadata": {},
   "source": [
    "## Create accounts feature group metadata and save it in to hsfs "
   ]
  },
  {
   "cell_type": "code",
   "execution_count": null,
   "metadata": {},
   "outputs": [],
   "source": [
    "accounts_fg = fs.create_feature_group(name=\"account_features\",\n",
    "                                      version=1,\n",
    "                                      primary_key=[\"acct_id\"],\n",
    "                                      description=\"node features\",\n",
    "                                      time_travel_format=None,\n",
    "                                      statistics_config=False)\n",
    "accounts_fg.save(accounts_df)"
   ]
  },
  {
   "cell_type": "markdown",
   "metadata": {},
   "source": [
    "## Create transactions feature group metadata and save it in to hsfs "
   ]
  },
  {
   "cell_type": "code",
   "execution_count": 10,
   "metadata": {},
   "outputs": [
    {
     "name": "stdout",
     "output_type": "stream",
     "text": [
      "<hsfs.feature_group.FeatureGroup object at 0x7fcc08cb6dd0>"
     ]
    }
   ],
   "source": [
    "transactions_fg = fs.create_feature_group(name=\"transactions_fg\",\n",
    "                                       version=1,\n",
    "                                       primary_key=[\"tran_id\"],\n",
    "                                       description=\"edge features\",\n",
    "                                       time_travel_format=None,                                        \n",
    "                                       statistics_config=False)\n",
    "transactions_fg.save(transactions_df)"
   ]
  },
  {
   "cell_type": "code",
   "execution_count": null,
   "metadata": {},
   "outputs": [],
   "source": []
  },
  {
   "cell_type": "code",
   "execution_count": null,
   "metadata": {},
   "outputs": [],
   "source": []
  },
  {
   "cell_type": "code",
   "execution_count": null,
   "metadata": {},
   "outputs": [],
   "source": []
  },
  {
   "cell_type": "code",
   "execution_count": null,
   "metadata": {},
   "outputs": [],
   "source": []
  }
 ],
 "metadata": {
  "kernelspec": {
   "display_name": "PySpark",
   "language": "python",
   "name": "pysparkkernel"
  },
  "language_info": {
   "codemirror_mode": {
    "name": "python",
    "version": 3
   },
   "mimetype": "text/x-python",
   "name": "pyspark",
   "pygments_lexer": "python3"
  }
 },
 "nbformat": 4,
 "nbformat_minor": 4
}
