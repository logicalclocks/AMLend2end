{
 "cells": [
  {
   "cell_type": "code",
   "execution_count": 1,
   "metadata": {},
   "outputs": [
    {
     "name": "stdout",
     "output_type": "stream",
     "text": [
      "Starting Spark application\n"
     ]
    },
    {
     "data": {
      "text/html": [
       "<table>\n",
       "<tr><th>ID</th><th>YARN Application ID</th><th>Kind</th><th>State</th><th>Spark UI</th><th>Driver log</th></tr><tr><td>81</td><td>application_1609265553881_0003</td><td>pyspark</td><td>idle</td><td><a target=\"_blank\" href=\"http://hopsworksdavit-master.internal.cloudapp.net:8088/proxy/application_1609265553881_0003/\">Link</a></td><td><a target=\"_blank\" href=\"http://hopsworksdavit-worker-6.internal.cloudapp.net:8042/node/containerlogs/container_e07_1609265553881_0003_01_000001/amlsim__meb10179\">Link</a></td></tr></table>"
      ],
      "text/plain": [
       "<IPython.core.display.HTML object>"
      ]
     },
     "metadata": {},
     "output_type": "display_data"
    },
    {
     "name": "stdout",
     "output_type": "stream",
     "text": [
      "SparkSession available as 'spark'.\n",
      "<pyspark.sql.session.SparkSession object at 0x7f51d2776f90>"
     ]
    }
   ],
   "source": [
    "spark"
   ]
  },
  {
   "cell_type": "markdown",
   "metadata": {},
   "source": [
    "## Import modules"
   ]
  },
  {
   "cell_type": "code",
   "execution_count": 2,
   "metadata": {},
   "outputs": [],
   "source": [
    "import hashlib\n",
    "from datetime import datetime\n",
    "from pyspark.sql import functions as F\n",
    "from pyspark.sql.types import FloatType\n",
    "import hsfs\n",
    "from hops import hdfs"
   ]
  },
  {
   "cell_type": "markdown",
   "metadata": {},
   "source": [
    "## Define utility functions"
   ]
  },
  {
   "cell_type": "code",
   "execution_count": 3,
   "metadata": {},
   "outputs": [],
   "source": [
    "def action_2_code(x):\n",
    "    if (x == \"CASH_IN\"):\n",
    "        node_type = 0\n",
    "    elif (x == \"CASH_OUT\"):\n",
    "        node_type = 1\n",
    "    elif (x == \"DEBIT\"):\n",
    "        node_type = 2\n",
    "    elif (x == \"PAYMENT\"):\n",
    "        node_type = 3\n",
    "    elif (x == \"TRANSFER\"):\n",
    "        node_type = 4\n",
    "    elif (x == \"DEPOSIT\"):\n",
    "        node_type = 4        \n",
    "    else:\n",
    "        node_type = 99\n",
    "    return node_type\n",
    "\n",
    "def timestamp_2_time(x):\n",
    "    dt_obj = datetime.strptime(str(x), '%Y-%m-%d %H:%M:%S')\n",
    "    return dt_obj.timestamp()\n",
    "\n",
    "action_2_code_udf = F.udf(action_2_code)\n",
    "timestamp_2_time_udf = F.udf(timestamp_2_time)"
   ]
  },
  {
   "cell_type": "markdown",
   "metadata": {},
   "source": [
    "## Create a connection to Hopsworks feature store (hsfs)"
   ]
  },
  {
   "cell_type": "code",
   "execution_count": 4,
   "metadata": {},
   "outputs": [
    {
     "name": "stdout",
     "output_type": "stream",
     "text": [
      "Connected. Call `.close()` to terminate connection gracefully."
     ]
    }
   ],
   "source": [
    "# Create a connection\n",
    "connection = hsfs.connection()\n",
    "# Get the feature store handle for the project's feature store\n",
    "fs = connection.get_feature_store()"
   ]
  },
  {
   "cell_type": "markdown",
   "metadata": {},
   "source": [
    "## Load accounts datasets as spark dataframe and perform feature engineering"
   ]
  },
  {
   "cell_type": "code",
   "execution_count": 6,
   "metadata": {},
   "outputs": [],
   "source": [
    "accounts_df = spark.read\\\n",
    "             .option(\"inferSchema\", \"true\")\\\n",
    "             .option(\"header\", \"true\")\\\n",
    "             .format(\"csv\")\\\n",
    "             .load(\"hdfs:///Projects/{}/Resources/typologies/typologies/accounts.csv\".format(hdfs.project_name()))\n",
    "\n",
    "accounts_df = accounts_df.drop('first_name')\\\n",
    "                        .drop('last_name')\\\n",
    "                        .drop('street_addr')\\\n",
    "                        .drop('city')\\\n",
    "                        .drop('state')\\\n",
    "                        .drop('zip')\\\n",
    "                        .drop('gender')\\\n",
    "                        .drop('birth_date')\\\n",
    "                        .drop('ssn')\\\n",
    "                        .drop('lon')\\\n",
    "                        .drop('lat')"
   ]
  },
  {
   "cell_type": "code",
   "execution_count": 7,
   "metadata": {},
   "outputs": [],
   "source": [
    "accounts_df = accounts_df.withColumn('prior_sar',F.when(F.col('prior_sar_count') == 'true', 1).otherwise(0))\\\n",
    "                         .drop(\"prior_sar_count\",\"acct_rptng_crncy\",\"type\",\"acct_stat\",\"open_dt\",\"bank_id\",\"country\",\"close_dt\",\"dsply_nm\",\"branch_id\")"
   ]
  },
  {
   "cell_type": "markdown",
   "metadata": {},
   "source": []
  },
  {
   "cell_type": "code",
   "execution_count": null,
   "metadata": {},
   "outputs": [],
   "source": []
  },
  {
   "cell_type": "markdown",
   "metadata": {},
   "source": [
    "## Load transactions datasets as spark dataframe and perform feature engineering"
   ]
  },
  {
   "cell_type": "code",
   "execution_count": 21,
   "metadata": {},
   "outputs": [
    {
     "name": "stdout",
     "output_type": "stream",
     "text": [
      "+-------+---------+---------+-------------------+--------+-------------------+------+--------+\n",
      "|tran_id|orig_acct|bene_acct|            tx_type|base_amt|     tran_timestamp|is_sar|alert_id|\n",
      "+-------+---------+---------+-------------------+--------+-------------------+------+--------+\n",
      "|      1|     7720|     9769|   TRANSFER-Forward|   721.5|2020-01-01 00:00:00| false|      -1|\n",
      "|      2|     8148|     2780|TRANSFER-Periodical|   719.6|2020-01-01 00:00:00| false|      -1|\n",
      "|      3|     8148|     9182|TRANSFER-Periodical|  817.15|2020-01-01 00:00:00| false|      -1|\n",
      "|      4|     8148|     8612|TRANSFER-Periodical|  931.53|2020-01-01 00:00:00| false|      -1|\n",
      "|      5|      440|     2608|    TRANSFER-FanOut|  454.24|2020-01-01 00:00:00| false|      -1|\n",
      "|      6|     5126|     3115|    TRANSFER-Mutual|  683.79|2020-01-01 00:00:00| false|      -1|\n",
      "|      7|      894|     2759|    TRANSFER-FanOut|  682.61|2020-01-01 00:00:00| false|      -1|\n",
      "|      8|     1316|     9766|    TRANSFER-FanOut|  325.43|2020-01-01 00:00:00| false|      -1|\n",
      "|      9|      178|     9957|    TRANSFER-FanOut|  273.78|2020-01-01 00:00:00| false|      -1|\n",
      "|     10|     3913|     3387|     TRANSFER-FanIn|   459.3|2020-01-01 00:00:00| false|      -1|\n",
      "|     11|     8019|     9877|TRANSFER-Periodical|  543.19|2020-01-01 00:00:00| false|      -1|\n",
      "|     12|     8019|     5105|TRANSFER-Periodical|  298.02|2020-01-01 00:00:00| false|      -1|\n",
      "|     13|     8019|     8104|TRANSFER-Periodical|  865.73|2020-01-01 00:00:00| false|      -1|\n",
      "|     14|     1718|     9204|    TRANSFER-FanOut|  301.98|2020-01-01 00:00:00| false|      -1|\n",
      "|     15|      798|     2731|    TRANSFER-FanOut|  316.79|2020-01-01 00:00:00| false|      -1|\n",
      "|     16|     4567|     4301|    TRANSFER-Mutual|  789.81|2020-01-01 00:00:00| false|      -1|\n",
      "|     17|     5584|     3296|    TRANSFER-Mutual|   577.8|2020-01-01 00:00:00| false|      -1|\n",
      "|     18|     9308|     8575|TRANSFER-Periodical|  710.99|2020-01-01 00:00:00| false|      -1|\n",
      "|     19|     9308|     6703|TRANSFER-Periodical|  537.46|2020-01-01 00:00:00| false|      -1|\n",
      "|     20|     9308|     1866|TRANSFER-Periodical|  613.74|2020-01-01 00:00:00| false|      -1|\n",
      "+-------+---------+---------+-------------------+--------+-------------------+------+--------+\n",
      "only showing top 20 rows"
     ]
    }
   ],
   "source": [
    "transactions_df = spark.read\\\n",
    "             .option(\"inferSchema\", \"true\")\\\n",
    "             .option(\"header\", \"true\")\\\n",
    "             .format(\"csv\")\\\n",
    "             .load(\"hdfs:///Projects/{}/Resources/10K/10K/transactions.csv\".format(hdfs.project_name()))\n",
    "transactions_df.show()"
   ]
  },
  {
   "cell_type": "code",
   "execution_count": null,
   "metadata": {},
   "outputs": [],
   "source": []
  },
  {
   "cell_type": "code",
   "execution_count": null,
   "metadata": {},
   "outputs": [],
   "source": [
    "alert_accounts_df = spark.read\\\n",
    "             .option(\"inferSchema\", \"true\")\\\n",
    "             .option(\"header\", \"true\")\\\n",
    "             .format(\"csv\")\\\n",
    "             .load(\"hdfs:///Projects/{}/Resources/10K/10K/alert_accounts.csv\".format(hdfs.project_name()))\n",
    "\n",
    "alert_accounts_df.show()\n",
    "#alert_accounts_df.orderBy(\"alert_id\").show()"
   ]
  },
  {
   "cell_type": "code",
   "execution_count": null,
   "metadata": {},
   "outputs": [],
   "source": [
    "alert_accounts_df.count()"
   ]
  },
  {
   "cell_type": "code",
   "execution_count": null,
   "metadata": {},
   "outputs": [],
   "source": [
    "alert_transactions_df = spark.read\\\n",
    "             .option(\"inferSchema\", \"true\")\\\n",
    "             .option(\"header\", \"true\")\\\n",
    "             .format(\"csv\")\\\n",
    "             .load(\"hdfs:///Projects/{}/Resources/10K/10K/alert_transactions.csv\".format(hdfs.project_name()))\n",
    "alert_transactions_df.orderBy(\"alert_id\").show()"
   ]
  },
  {
   "cell_type": "code",
   "execution_count": null,
   "metadata": {},
   "outputs": [],
   "source": [
    "alert_transactions_df.count()"
   ]
  },
  {
   "cell_type": "code",
   "execution_count": null,
   "metadata": {},
   "outputs": [],
   "source": [
    "alert_related_transactions_df = transactions_df.join(\n",
    "    alert_accounts_df,\n",
    "    [(alert_accounts_df.acct_id==transactions_df.orig_acct)|(alert_accounts_df.acct_id==transactions_df.bene_acct)],\n",
    "    how=\"inner\"\n",
    ").dropDuplicates(subset=['tran_id'])\n",
    "alert_related_transactions_df.show()"
   ]
  },
  {
   "cell_type": "code",
   "execution_count": null,
   "metadata": {},
   "outputs": [],
   "source": [
    "alert_related_transactions_df.count()"
   ]
  },
  {
   "cell_type": "code",
   "execution_count": null,
   "metadata": {},
   "outputs": [],
   "source": []
  },
  {
   "cell_type": "code",
   "execution_count": null,
   "metadata": {},
   "outputs": [],
   "source": []
  },
  {
   "cell_type": "code",
   "execution_count": 22,
   "metadata": {},
   "outputs": [
    {
     "name": "stdout",
     "output_type": "stream",
     "text": [
      "+-------+---------+---------+---------------+--------+-------------------+------+--------+\n",
      "|tran_id|orig_acct|bene_acct|        tx_type|base_amt|     tran_timestamp|is_sar|alert_id|\n",
      "+-------+---------+---------+---------------+--------+-------------------+------+--------+\n",
      "|    708|      165|     8297|TRANSFER-FanOut|  388.45|2020-01-01 00:00:00| false|      -1|\n",
      "|  21817|      165|      645|TRANSFER-FanOut|  202.01|2020-01-08 00:00:00| false|      -1|\n",
      "|  40184|      165|     8945|TRANSFER-FanOut|  647.11|2020-01-15 00:00:00| false|      -1|\n",
      "|  58399|      165|     8297|TRANSFER-FanOut|  558.09|2020-01-22 00:00:00| false|      -1|\n",
      "|  67968|      619|      165|TRANSFER-FanOut|  480.41|2020-01-26 00:00:00| false|      -1|\n",
      "|  78332|      165|      645|TRANSFER-FanOut| 1029.48|2020-01-29 00:00:00| false|      -1|\n",
      "+-------+---------+---------+---------------+--------+-------------------+------+--------+"
     ]
    }
   ],
   "source": [
    "transactions_df.where((F.col(\"orig_acct\")==165)|(F.col(\"bene_acct\")==165)).show()"
   ]
  },
  {
   "cell_type": "code",
   "execution_count": 26,
   "metadata": {},
   "outputs": [
    {
     "name": "stdout",
     "output_type": "stream",
     "text": [
      "+-------+---------+---------+---------------+--------+-------------------+------+--------+\n",
      "|tran_id|orig_acct|bene_acct|        tx_type|base_amt|     tran_timestamp|is_sar|alert_id|\n",
      "+-------+---------+---------+---------------+--------+-------------------+------+--------+\n",
      "|  13594|      619|     9942|TRANSFER-FanOut|  955.18|2020-01-05 00:00:00| false|      -1|\n",
      "|  32497|      619|     1353|TRANSFER-FanOut|  899.84|2020-01-12 00:00:00| false|      -1|\n",
      "|  51560|      619|     9546|TRANSFER-FanOut|  123.98|2020-01-19 00:00:00| false|      -1|\n",
      "|  67968|      619|      165|TRANSFER-FanOut|  480.41|2020-01-26 00:00:00| false|      -1|\n",
      "+-------+---------+---------+---------------+--------+-------------------+------+--------+"
     ]
    }
   ],
   "source": [
    "transactions_df.where((F.col(\"orig_acct\")==619)).show()"
   ]
  },
  {
   "cell_type": "code",
   "execution_count": 27,
   "metadata": {},
   "outputs": [
    {
     "name": "stdout",
     "output_type": "stream",
     "text": [
      "+-------+---------+---------+-------------------+--------+-------------------+------+--------+\n",
      "|tran_id|orig_acct|bene_acct|            tx_type|base_amt|     tran_timestamp|is_sar|alert_id|\n",
      "+-------+---------+---------+-------------------+--------+-------------------+------+--------+\n",
      "|  14758|     9262|      619|TRANSFER-Periodical|  790.72|2020-01-06 00:00:00| false|      -1|\n",
      "|  35069|     9262|      619|TRANSFER-Periodical|   158.1|2020-01-13 00:00:00| false|      -1|\n",
      "|  53272|     9262|      619|TRANSFER-Periodical|  700.75|2020-01-20 00:00:00| false|      -1|\n",
      "|  73426|     9262|      619|TRANSFER-Periodical|  101.98|2020-01-27 00:00:00| false|      -1|\n",
      "+-------+---------+---------+-------------------+--------+-------------------+------+--------+"
     ]
    }
   ],
   "source": [
    "transactions_df.where((F.col(\"bene_acct\")==619)).show()"
   ]
  },
  {
   "cell_type": "code",
   "execution_count": 28,
   "metadata": {},
   "outputs": [
    {
     "name": "stdout",
     "output_type": "stream",
     "text": [
      "+-------+---------+---------+-------------------+--------+-------------------+------+--------+\n",
      "|tran_id|orig_acct|bene_acct|            tx_type|base_amt|     tran_timestamp|is_sar|alert_id|\n",
      "+-------+---------+---------+-------------------+--------+-------------------+------+--------+\n",
      "|   6173|     9262|     7108|TRANSFER-Periodical|  185.58|2020-01-03 00:00:00|  true|      21|\n",
      "|  14756|     9262|     6850|TRANSFER-Periodical|  898.97|2020-01-06 00:00:00| false|      -1|\n",
      "|  14757|     9262|     8569|TRANSFER-Periodical|   725.0|2020-01-06 00:00:00| false|      -1|\n",
      "|  14758|     9262|      619|TRANSFER-Periodical|  790.72|2020-01-06 00:00:00| false|      -1|\n",
      "|  14759|     9262|     8209|TRANSFER-Periodical|  189.24|2020-01-06 00:00:00| false|      -1|\n",
      "|  14760|     9262|     3395|TRANSFER-Periodical|   208.1|2020-01-06 00:00:00| false|      -1|\n",
      "|  35067|     9262|     6850|TRANSFER-Periodical|   513.2|2020-01-13 00:00:00| false|      -1|\n",
      "|  35068|     9262|     8569|TRANSFER-Periodical|   765.1|2020-01-13 00:00:00| false|      -1|\n",
      "|  35069|     9262|      619|TRANSFER-Periodical|   158.1|2020-01-13 00:00:00| false|      -1|\n",
      "|  35070|     9262|     8209|TRANSFER-Periodical|  261.42|2020-01-13 00:00:00| false|      -1|\n",
      "|  35071|     9262|     3395|TRANSFER-Periodical|  275.85|2020-01-13 00:00:00| false|      -1|\n",
      "|  53270|     9262|     6850|TRANSFER-Periodical|  909.37|2020-01-20 00:00:00| false|      -1|\n",
      "|  53271|     9262|     8569|TRANSFER-Periodical|  281.47|2020-01-20 00:00:00| false|      -1|\n",
      "|  53272|     9262|      619|TRANSFER-Periodical|  700.75|2020-01-20 00:00:00| false|      -1|\n",
      "|  53273|     9262|     8209|TRANSFER-Periodical|  615.78|2020-01-20 00:00:00| false|      -1|\n",
      "|  53274|     9262|     3395|TRANSFER-Periodical|  935.28|2020-01-20 00:00:00| false|      -1|\n",
      "|  73424|     9262|     6850|TRANSFER-Periodical|  601.97|2020-01-27 00:00:00| false|      -1|\n",
      "|  73425|     9262|     8569|TRANSFER-Periodical|  407.93|2020-01-27 00:00:00| false|      -1|\n",
      "|  73426|     9262|      619|TRANSFER-Periodical|  101.98|2020-01-27 00:00:00| false|      -1|\n",
      "|  73427|     9262|     8209|TRANSFER-Periodical|  338.28|2020-01-27 00:00:00| false|      -1|\n",
      "+-------+---------+---------+-------------------+--------+-------------------+------+--------+\n",
      "only showing top 20 rows"
     ]
    }
   ],
   "source": [
    "transactions_df.where((F.col(\"orig_acct\")==9262)).show()"
   ]
  },
  {
   "cell_type": "code",
   "execution_count": 29,
   "metadata": {},
   "outputs": [
    {
     "name": "stdout",
     "output_type": "stream",
     "text": [
      "+-------+---------+---------+-------------------+--------+-------------------+------+--------+\n",
      "|tran_id|orig_acct|bene_acct|            tx_type|base_amt|     tran_timestamp|is_sar|alert_id|\n",
      "+-------+---------+---------+-------------------+--------+-------------------+------+--------+\n",
      "|   5068|     1765|     9262|    TRANSFER-FanOut|   448.4|2020-01-02 00:00:00| false|      -1|\n",
      "|   6257|     7328|     9262|   TRANSFER-Forward|  146.71|2020-01-03 00:00:00| false|      -1|\n",
      "|  14222|     9474|     9262|TRANSFER-Periodical|  731.25|2020-01-06 00:00:00| false|      -1|\n",
      "|  24324|     6892|     9262|   TRANSFER-Forward|   408.3|2020-01-09 00:00:00| false|      -1|\n",
      "|  26685|     7035|     9262|   TRANSFER-Forward|  400.55|2020-01-10 00:00:00| false|      -1|\n",
      "|  33868|     9474|     9262|TRANSFER-Periodical|  153.61|2020-01-13 00:00:00| false|      -1|\n",
      "|  38951|     6711|     9262|   TRANSFER-Forward|  415.45|2020-01-15 00:00:00| false|      -1|\n",
      "|  53055|     9474|     9262|TRANSFER-Periodical|   454.3|2020-01-20 00:00:00| false|      -1|\n",
      "|  71355|     9474|     9262|TRANSFER-Periodical|  786.37|2020-01-27 00:00:00| false|      -1|\n",
      "+-------+---------+---------+-------------------+--------+-------------------+------+--------+"
     ]
    }
   ],
   "source": [
    "transactions_df.where((F.col(\"bene_acct\")==9262)).show()"
   ]
  },
  {
   "cell_type": "code",
   "execution_count": null,
   "metadata": {},
   "outputs": [],
   "source": []
  },
  {
   "cell_type": "code",
   "execution_count": 23,
   "metadata": {},
   "outputs": [
    {
     "name": "stdout",
     "output_type": "stream",
     "text": [
      "+-------------------+\n",
      "|            tx_type|\n",
      "+-------------------+\n",
      "|   TRANSFER-Forward|\n",
      "|TRANSFER-Periodical|\n",
      "|    TRANSFER-FanOut|\n",
      "|    TRANSFER-Mutual|\n",
      "|     TRANSFER-FanIn|\n",
      "+-------------------+"
     ]
    }
   ],
   "source": [
    "transactions_df.where(F.col(\"alert_id\")==-1).select(\"tx_type\").dropDuplicates().show()"
   ]
  },
  {
   "cell_type": "code",
   "execution_count": 24,
   "metadata": {},
   "outputs": [
    {
     "name": "stdout",
     "output_type": "stream",
     "text": [
      "+-------------------+\n",
      "|            tx_type|\n",
      "+-------------------+\n",
      "|   TRANSFER-Forward|\n",
      "|TRANSFER-Periodical|\n",
      "|    TRANSFER-FanOut|\n",
      "|    TRANSFER-Mutual|\n",
      "|     TRANSFER-FanIn|\n",
      "+-------------------+"
     ]
    }
   ],
   "source": [
    "transactions_df.where(F.col(\"alert_id\")!=-1).select(\"tx_type\").dropDuplicates().show()"
   ]
  },
  {
   "cell_type": "code",
   "execution_count": null,
   "metadata": {},
   "outputs": [],
   "source": []
  },
  {
   "cell_type": "code",
   "execution_count": null,
   "metadata": {},
   "outputs": [],
   "source": []
  },
  {
   "cell_type": "code",
   "execution_count": null,
   "metadata": {},
   "outputs": [],
   "source": []
  },
  {
   "cell_type": "code",
   "execution_count": null,
   "metadata": {},
   "outputs": [],
   "source": []
  },
  {
   "cell_type": "code",
   "execution_count": null,
   "metadata": {},
   "outputs": [],
   "source": []
  },
  {
   "cell_type": "code",
   "execution_count": null,
   "metadata": {},
   "outputs": [],
   "source": []
  },
  {
   "cell_type": "code",
   "execution_count": null,
   "metadata": {},
   "outputs": [],
   "source": []
  },
  {
   "cell_type": "code",
   "execution_count": null,
   "metadata": {},
   "outputs": [],
   "source": []
  },
  {
   "cell_type": "code",
   "execution_count": null,
   "metadata": {},
   "outputs": [],
   "source": []
  },
  {
   "cell_type": "code",
   "execution_count": null,
   "metadata": {},
   "outputs": [],
   "source": []
  },
  {
   "cell_type": "code",
   "execution_count": null,
   "metadata": {},
   "outputs": [],
   "source": []
  },
  {
   "cell_type": "code",
   "execution_count": 32,
   "metadata": {},
   "outputs": [
    {
     "name": "stdout",
     "output_type": "stream",
     "text": [
      "+-------+---------+---------+----------------+--------+-------------------+------+--------+\n",
      "|tran_id|orig_acct|bene_acct|         tx_type|base_amt|     tran_timestamp|is_sar|alert_id|\n",
      "+-------+---------+---------+----------------+--------+-------------------+------+--------+\n",
      "|  18060|     7950|     1374|TRANSFER-Forward|  197.05|2020-01-07 00:00:00| false|      -1|\n",
      "|  36357|     7950|     4631|TRANSFER-Forward|  594.77|2020-01-14 00:00:00| false|      -1|\n",
      "|  56287|     7950|     9191|TRANSFER-Forward|  153.27|2020-01-21 00:00:00| false|      -1|\n",
      "|  75210|     7950|     6405|TRANSFER-Forward|  173.72|2020-01-28 00:00:00| false|      -1|\n",
      "+-------+---------+---------+----------------+--------+-------------------+------+--------+"
     ]
    }
   ],
   "source": [
    "transactions_df.where((F.col(\"orig_acct\")==7950)).show()"
   ]
  },
  {
   "cell_type": "code",
   "execution_count": 33,
   "metadata": {},
   "outputs": [
    {
     "name": "stdout",
     "output_type": "stream",
     "text": [
      "+-------+---------+---------+-------------------+--------+-------------------+------+--------+\n",
      "|tran_id|orig_acct|bene_acct|            tx_type|base_amt|     tran_timestamp|is_sar|alert_id|\n",
      "+-------+---------+---------+-------------------+--------+-------------------+------+--------+\n",
      "|   1122|     8485|     7950|TRANSFER-Periodical|  194.53|2020-01-01 00:00:00|  true|       0|\n",
      "|   3071|     3838|     7950|     TRANSFER-FanIn|  194.53|2020-01-02 00:00:00|  true|       0|\n",
      "|   5015|     9624|     7950|TRANSFER-Periodical|  224.25|2020-01-02 00:00:00| false|      -1|\n",
      "|   6753|     9726|     7950|TRANSFER-Periodical|  385.45|2020-01-03 00:00:00| false|      -1|\n",
      "|   7847|     2145|     7950|     TRANSFER-FanIn|  194.53|2020-01-03 00:00:00|  true|       0|\n",
      "|   9496|     8913|     7950|TRANSFER-Periodical|  194.53|2020-01-04 00:00:00|  true|       0|\n",
      "|  12069|     9854|     7950|TRANSFER-Periodical|  221.99|2020-01-05 00:00:00| false|      -1|\n",
      "|  12308|     6075|     7950|   TRANSFER-Forward|  194.53|2020-01-05 00:00:00|  true|       0|\n",
      "|  14316|     2322|     7950|     TRANSFER-FanIn|  194.53|2020-01-06 00:00:00|  true|       0|\n",
      "|  18059|     3948|     7950|     TRANSFER-FanIn|  194.53|2020-01-07 00:00:00|  true|       0|\n",
      "|  19638|     6419|     7950|   TRANSFER-Forward|  194.53|2020-01-08 00:00:00|  true|       0|\n",
      "|  22462|     7133|     7950|   TRANSFER-Forward|  194.53|2020-01-09 00:00:00|  true|       0|\n",
      "|  24372|     9624|     7950|TRANSFER-Periodical|  797.39|2020-01-09 00:00:00| false|      -1|\n",
      "|  26498|     9726|     7950|TRANSFER-Periodical|  743.62|2020-01-10 00:00:00| false|      -1|\n",
      "|  31666|     9854|     7950|TRANSFER-Periodical|  270.33|2020-01-12 00:00:00| false|      -1|\n",
      "|  42140|     9624|     7950|TRANSFER-Periodical|  196.68|2020-01-16 00:00:00| false|      -1|\n",
      "|  44066|     9726|     7950|TRANSFER-Periodical|  650.15|2020-01-17 00:00:00| false|      -1|\n",
      "|  49032|     9854|     7950|TRANSFER-Periodical|  124.11|2020-01-19 00:00:00| false|      -1|\n",
      "|  52048|     6364|     7950|   TRANSFER-Forward|  226.95|2020-01-20 00:00:00| false|      -1|\n",
      "|  60185|     9624|     7950|TRANSFER-Periodical|  710.46|2020-01-23 00:00:00| false|      -1|\n",
      "+-------+---------+---------+-------------------+--------+-------------------+------+--------+\n",
      "only showing top 20 rows"
     ]
    }
   ],
   "source": [
    "transactions_df.where((F.col(\"bene_acct\")==7950)).show()"
   ]
  },
  {
   "cell_type": "code",
   "execution_count": null,
   "metadata": {},
   "outputs": [],
   "source": []
  },
  {
   "cell_type": "code",
   "execution_count": null,
   "metadata": {},
   "outputs": [],
   "source": []
  },
  {
   "cell_type": "code",
   "execution_count": 13,
   "metadata": {},
   "outputs": [
    {
     "name": "stdout",
     "output_type": "stream",
     "text": [
      "+-------+------+------+-------+--------+--------------+------+--------+\n",
      "|tran_id|source|target|tx_type|base_amt|tran_timestamp|is_sar|alert_id|\n",
      "+-------+------+------+-------+--------+--------------+------+--------+\n",
      "|      1|   165|    36|     99|  458.69|   1.5778368E9|     0|      -1|\n",
      "|      2|   199|   194|     99|  537.69|   1.5778368E9|     0|      -1|\n",
      "|      3|   116|    95|     99|  139.61|   1.5778368E9|     0|      -1|\n",
      "|      4|    16|    46|     99|  717.61|   1.5778368E9|     0|      -1|\n",
      "|      5|   176|    32|     99|  275.56|   1.5778368E9|     0|      -1|\n",
      "|      6|   295|    78|     99|  870.63|   1.5778368E9|     0|      -1|\n",
      "|      7|    80|   268|     99|  498.12|   1.5778368E9|     0|      -1|\n",
      "|      8|   178|    59|     99|  451.32|   1.5778368E9|     0|      -1|\n",
      "|      9|    69|   229|     99|  688.63|   1.5778368E9|     0|      -1|\n",
      "|     10|   167|   251|     99|  395.89|   1.5778368E9|     0|      -1|\n",
      "|     11|   281|   192|     99|  153.48|   1.5778368E9|     0|      -1|\n",
      "|     12|    41|    94|     99|  957.03|   1.5778368E9|     0|      -1|\n",
      "|     13|   196|    91|     99|  845.54|   1.5778368E9|     0|      -1|\n",
      "|     14|    35|   215|     99|  198.14|   1.5778368E9|     0|      -1|\n",
      "|     15|   244|   281|     99|  589.35|   1.5778368E9|     0|      -1|\n",
      "|     16|   273|   261|     99|  570.68|   1.5778368E9|     0|      -1|\n",
      "|     17|   100|   296|     99|  488.36|   1.5778368E9|     0|      -1|\n",
      "|     18|   204|    15|     99|   640.2|   1.5778368E9|     0|      -1|\n",
      "|     19|   218|    78|     99|  286.85|   1.5778368E9|     0|      -1|\n",
      "|     20|    98|   162|     99|  410.07|   1.5778368E9|     0|      -1|\n",
      "+-------+------+------+-------+--------+--------------+------+--------+\n",
      "only showing top 20 rows"
     ]
    }
   ],
   "source": [
    "transactions_df = transactions_df.withColumn('is_sar',F.when(F.col('is_sar') == 'true', 1).otherwise(0))\\\n",
    "                                 .withColumn('tx_type', action_2_code_udf(F.col('tx_type')))\\\n",
    "                                 .withColumn('tran_timestamp', timestamp_2_time_udf(F.col('tran_timestamp')).cast(FloatType()))\\\n",
    "                                 .withColumnRenamed(\"orig_acct\",\"source\")\\\n",
    "                                 .withColumnRenamed(\"bene_acct\",\"target\")\\\n",
    "                                 .select(\"source\",\"target\",\"tran_timestamp\",\"is_sar\",\"alert_id\",\"tran_id\",\"tx_type\",\"base_amt\")\n",
    "transactions_df.show()"
   ]
  },
  {
   "cell_type": "code",
   "execution_count": null,
   "metadata": {},
   "outputs": [],
   "source": []
  },
  {
   "cell_type": "markdown",
   "metadata": {},
   "source": [
    "## Create accounts feature group metadata and save it in to hsfs "
   ]
  },
  {
   "cell_type": "code",
   "execution_count": null,
   "metadata": {},
   "outputs": [],
   "source": [
    "accounts_fg = fs.create_feature_group(name=\"account_features\",\n",
    "                                      version=1,\n",
    "                                      primary_key=[\"acct_id\"],\n",
    "                                      description=\"node features\",\n",
    "                                      time_travel_format=None,\n",
    "                                      statistics_config=False)\n",
    "accounts_fg.save(accounts_df)"
   ]
  },
  {
   "cell_type": "markdown",
   "metadata": {},
   "source": [
    "## Create transactions feature group metadata and save it in to hsfs "
   ]
  },
  {
   "cell_type": "code",
   "execution_count": 10,
   "metadata": {},
   "outputs": [
    {
     "name": "stdout",
     "output_type": "stream",
     "text": [
      "<hsfs.feature_group.FeatureGroup object at 0x7fcc08cb6dd0>"
     ]
    }
   ],
   "source": [
    "transactions_fg = fs.create_feature_group(name=\"transactions_fg\",\n",
    "                                       version=1,\n",
    "                                       primary_key=[\"tran_id\"],\n",
    "                                       description=\"edge features\",\n",
    "                                       time_travel_format=None,                                        \n",
    "                                       statistics_config=False)\n",
    "transactions_fg.save(transactions_df)"
   ]
  },
  {
   "cell_type": "code",
   "execution_count": null,
   "metadata": {},
   "outputs": [],
   "source": []
  }
 ],
 "metadata": {
  "kernelspec": {
   "display_name": "PySpark",
   "language": "python",
   "name": "pysparkkernel"
  },
  "language_info": {
   "codemirror_mode": {
    "name": "python",
    "version": 3
   },
   "mimetype": "text/x-python",
   "name": "pyspark",
   "pygments_lexer": "python3"
  }
 },
 "nbformat": 4,
 "nbformat_minor": 4
}
