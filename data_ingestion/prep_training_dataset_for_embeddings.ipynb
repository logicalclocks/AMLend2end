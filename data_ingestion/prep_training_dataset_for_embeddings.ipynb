{
 "cells": [
  {
   "cell_type": "code",
   "execution_count": 1,
   "metadata": {},
   "outputs": [
    {
     "name": "stdout",
     "output_type": "stream",
     "text": [
      "Starting Spark application\n"
     ]
    },
    {
     "data": {
      "text/html": [
       "<table>\n",
       "<tr><th>ID</th><th>YARN Application ID</th><th>Kind</th><th>State</th><th>Spark UI</th><th>Driver log</th></tr><tr><td>33</td><td>application_1607949680860_0035</td><td>pyspark</td><td>idle</td><td><a target=\"_blank\" href=\"http://resourcemanager.service.consul:8088/proxy/application_1607949680860_0035/\">Link</a></td><td><a target=\"_blank\" href=\"http://hopsworksdavit-worker-1.internal.cloudapp.net:8042/node/containerlogs/container_e02_1607949680860_0035_01_000001/amlsim__meb10179\">Link</a></td></tr></table>"
      ],
      "text/plain": [
       "<IPython.core.display.HTML object>"
      ]
     },
     "metadata": {},
     "output_type": "display_data"
    },
    {
     "name": "stdout",
     "output_type": "stream",
     "text": [
      "SparkSession available as 'spark'.\n",
      "<pyspark.sql.session.SparkSession object at 0x7fc3262c6ed0>"
     ]
    }
   ],
   "source": [
    "spark"
   ]
  },
  {
   "cell_type": "code",
   "execution_count": 2,
   "metadata": {},
   "outputs": [],
   "source": [
    "import hashlib\n",
    "from datetime import datetime\n",
    "from pyspark.sql import functions as func\n",
    "from pyspark.sql.types import FloatType\n",
    "import hsfs"
   ]
  },
  {
   "cell_type": "code",
   "execution_count": 3,
   "metadata": {},
   "outputs": [
    {
     "name": "stdout",
     "output_type": "stream",
     "text": [
      "Connected. Call `.close()` to terminate connection gracefully."
     ]
    }
   ],
   "source": [
    "# Create a connection\n",
    "connection = hsfs.connection()\n",
    "# Get the feature store handle for the project's feature store\n",
    "fs = connection.get_feature_store()"
   ]
  },
  {
   "cell_type": "markdown",
   "metadata": {},
   "source": [
    "## Placeholder"
   ]
  },
  {
   "cell_type": "code",
   "execution_count": 4,
   "metadata": {},
   "outputs": [],
   "source": [
    "transactions_fg = fs.get_feature_group(\"transactions_fg\", 1)"
   ]
  },
  {
   "cell_type": "code",
   "execution_count": 5,
   "metadata": {},
   "outputs": [
    {
     "name": "stdout",
     "output_type": "stream",
     "text": [
      "+------+--------+------+--------+------+-------+--------------+-------+\n",
      "|is_sar|base_amt|target|alert_id|source|tran_id|tran_timestamp|tx_type|\n",
      "+------+--------+------+--------+------+-------+--------------+-------+\n",
      "|     0| 9405.71|  3259|      -1|  1767|      1|   1.4832288E9|      4|\n",
      "|     0| 6884.54|  5141|      -1|  7363|      2|   1.4832288E9|      4|\n",
      "|     0|  7968.4|  9532|      -1|  7585|      3|   1.4832288E9|      4|\n",
      "|     0| 9042.67|  8792|      -1|  1750|      4|   1.4832288E9|      4|\n",
      "|     0| 4692.79|  4670|      -1|  9060|      5|   1.4832288E9|      4|\n",
      "|     0| 4089.65|  3861|      -1|  8752|      6|   1.4832288E9|      4|\n",
      "|     0| 3055.04|  3805|      -1|  9645|      7|   1.4832288E9|      4|\n",
      "|     0| 6473.45|  9280|      -1|  7150|      8|   1.4832288E9|      4|\n",
      "|     0| 2583.42|  6369|      -1|  1685|      9|   1.4832288E9|      4|\n",
      "|     0| 6753.04|  8255|      -1|  7846|     10|   1.4832288E9|      4|\n",
      "|     0| 1743.57|  5957|      -1|   878|     11|   1.4832288E9|      4|\n",
      "|     0| 8591.59|  4091|      -1|   797|     12|   1.4832288E9|      4|\n",
      "|     0| 7006.77|  5274|      -1|  8472|     13|   1.4832288E9|      4|\n",
      "|     0| 5095.46|  3296|      -1|  5584|     14|   1.4832288E9|      4|\n",
      "|     0|  2537.2|  7618|      -1|   616|     15|   1.4832288E9|      4|\n",
      "|     0| 3120.27|  7617|      -1|  7312|     16|   1.4832288E9|      4|\n",
      "|     0| 5308.95|  9987|      -1|  9886|     17|   1.4832288E9|      4|\n",
      "|     0| 6788.85|  3603|      -1|  1132|     18|   1.4832288E9|      4|\n",
      "|     0| 5708.25|  3844|      -1|   266|     19|   1.4832288E9|      4|\n",
      "|     0| 5020.95|  2811|      -1|  2184|     20|   1.4832288E9|      4|\n",
      "+------+--------+------+--------+------+-------+--------------+-------+\n",
      "only showing top 20 rows"
     ]
    }
   ],
   "source": [
    "transactions_df = transactions_fg.read()\n",
    "transactions_df.show()"
   ]
  },
  {
   "cell_type": "markdown",
   "metadata": {},
   "source": [
    "## Placeholder"
   ]
  },
  {
   "cell_type": "code",
   "execution_count": 6,
   "metadata": {},
   "outputs": [
    {
     "name": "stdout",
     "output_type": "stream",
     "text": [
      "<hsfs.training_dataset.TrainingDataset object at 0x7fc335c31890>"
     ]
    }
   ],
   "source": [
    "edges_td_meta = fs.create_training_dataset(name=\"edges_td\",\n",
    "                                       version=1,\n",
    "                                       data_format=\"csv\",\n",
    "                                       label = [\"is_sar\"],   \n",
    "                                       description=\"edges training dataset\")\n",
    "edges_td_meta.save(transactions_df)"
   ]
  },
  {
   "cell_type": "markdown",
   "metadata": {},
   "source": [
    "### Placeholder"
   ]
  },
  {
   "cell_type": "code",
   "execution_count": 7,
   "metadata": {},
   "outputs": [],
   "source": [
    "account_fg = fs.get_feature_group(\"account_features\", 1)"
   ]
  },
  {
   "cell_type": "code",
   "execution_count": 8,
   "metadata": {},
   "outputs": [
    {
     "name": "stdout",
     "output_type": "stream",
     "text": [
      "+-------+---------------+--------------+---------+\n",
      "|acct_id|initial_deposit|tx_behavior_id|prior_sar|\n",
      "+-------+---------------+--------------+---------+\n",
      "|      0|       84442.19|             1|        0|\n",
      "|      1|       75795.44|             1|        0|\n",
      "|      2|       42057.16|             1|        0|\n",
      "|      3|       25891.68|             1|        0|\n",
      "|      4|       51127.47|             1|        0|\n",
      "|      5|       40493.41|             1|        0|\n",
      "|      6|       78379.86|             1|        0|\n",
      "|      7|       30331.27|             1|        0|\n",
      "|      8|        47659.7|             1|        0|\n",
      "|      9|        58338.2|             1|        0|\n",
      "|     10|       90811.29|             1|        0|\n",
      "|     11|       50468.69|             1|        0|\n",
      "|     12|       28183.78|             1|        0|\n",
      "|     13|       75580.42|             1|        0|\n",
      "|     14|        61836.9|             1|        0|\n",
      "|     15|       25050.63|             1|        0|\n",
      "|     16|       90974.63|             1|        0|\n",
      "|     17|       98278.55|             1|        0|\n",
      "|     18|       81021.72|             1|        0|\n",
      "|     19|        90216.6|             1|        0|\n",
      "+-------+---------------+--------------+---------+\n",
      "only showing top 20 rows"
     ]
    }
   ],
   "source": [
    "accounts_df = account_fg.read()\n",
    "accounts_df.show()"
   ]
  },
  {
   "cell_type": "markdown",
   "metadata": {},
   "source": [
    "### Placeholder"
   ]
  },
  {
   "cell_type": "code",
   "execution_count": 9,
   "metadata": {},
   "outputs": [
    {
     "name": "stdout",
     "output_type": "stream",
     "text": [
      "+----+------+\n",
      "|  id|is_sar|\n",
      "+----+------+\n",
      "|3997|     1|\n",
      "|5300|     1|\n",
      "| 463|     1|\n",
      "|8086|     1|\n",
      "|7833|     1|\n",
      "|1088|     0|\n",
      "|6654|     0|\n",
      "|9465|     0|\n",
      "|7880|     0|\n",
      "|6336|     0|\n",
      "|1580|     0|\n",
      "|1829|     0|\n",
      "|7993|     0|\n",
      "|7240|     0|\n",
      "|7253|     0|\n",
      "|8389|     0|\n",
      "|4935|     0|\n",
      "|6658|     0|\n",
      "|6466|     0|\n",
      "|8592|     0|\n",
      "+----+------+\n",
      "only showing top 20 rows"
     ]
    }
   ],
   "source": [
    "source = transactions_fg.select([\"source\",\"is_sar\"]).read().withColumnRenamed(\"source\",\"id\")\n",
    "target = transactions_fg.select([\"target\",\"is_sar\"]).read().withColumnRenamed(\"target\",\"id\")\n",
    "nodes = source.union(target)\n",
    "sar_nodes = nodes.where(nodes.is_sar == 1)\n",
    "non_sar = nodes.where(nodes.is_sar == 0)\n",
    "non_sar_nodes = non_sar.join(sar_nodes, [\"id\"], \"leftanti\")\n",
    "labels = sar_nodes.union(non_sar_nodes).dropDuplicates(subset=[\"id\"])\n",
    "labels.show()"
   ]
  },
  {
   "cell_type": "code",
   "execution_count": 10,
   "metadata": {},
   "outputs": [
    {
     "name": "stdout",
     "output_type": "stream",
     "text": [
      "+---+---------------+--------------+---------+\n",
      "| id|initial_deposit|tx_behavior_id|prior_sar|\n",
      "+---+---------------+--------------+---------+\n",
      "|  0|       84442.19|             1|        0|\n",
      "|  1|       75795.44|             1|        0|\n",
      "|  2|       42057.16|             1|        0|\n",
      "|  3|       25891.68|             1|        0|\n",
      "|  4|       51127.47|             1|        0|\n",
      "|  5|       40493.41|             1|        0|\n",
      "|  6|       78379.86|             1|        0|\n",
      "|  7|       30331.27|             1|        0|\n",
      "|  8|        47659.7|             1|        0|\n",
      "|  9|        58338.2|             1|        0|\n",
      "| 10|       90811.29|             1|        0|\n",
      "| 11|       50468.69|             1|        0|\n",
      "| 12|       28183.78|             1|        0|\n",
      "| 13|       75580.42|             1|        0|\n",
      "| 14|        61836.9|             1|        0|\n",
      "| 15|       25050.63|             1|        0|\n",
      "| 16|       90974.63|             1|        0|\n",
      "| 17|       98278.55|             1|        0|\n",
      "| 18|       81021.72|             1|        0|\n",
      "| 19|        90216.6|             1|        0|\n",
      "+---+---------------+--------------+---------+\n",
      "only showing top 20 rows"
     ]
    }
   ],
   "source": [
    "accounts_df = accounts_df.withColumnRenamed(\"acct_id\",\"id\")\n",
    "accounts_df.show()"
   ]
  },
  {
   "cell_type": "code",
   "execution_count": 11,
   "metadata": {},
   "outputs": [
    {
     "name": "stdout",
     "output_type": "stream",
     "text": [
      "10000"
     ]
    }
   ],
   "source": [
    "accounts_df.count()"
   ]
  },
  {
   "cell_type": "code",
   "execution_count": 12,
   "metadata": {},
   "outputs": [
    {
     "name": "stdout",
     "output_type": "stream",
     "text": [
      "9998"
     ]
    }
   ],
   "source": [
    "nodes_df = accounts_df.join(labels, [\"id\"])\n",
    "nodes_df.count()"
   ]
  },
  {
   "cell_type": "code",
   "execution_count": 13,
   "metadata": {},
   "outputs": [
    {
     "name": "stdout",
     "output_type": "stream",
     "text": [
      "<hsfs.training_dataset.TrainingDataset object at 0x7fc33578e390>"
     ]
    }
   ],
   "source": [
    "node_td = fs.create_training_dataset(name=\"node_td\",\n",
    "                                       version=1,\n",
    "                                       data_format=\"csv\",   \n",
    "                                       description=\"node training dataset\")\n",
    "node_td.save(nodes_df)"
   ]
  }
 ],
 "metadata": {
  "kernelspec": {
   "display_name": "PySpark",
   "language": "python",
   "name": "pysparkkernel"
  },
  "language_info": {
   "codemirror_mode": {
    "name": "python",
    "version": 3
   },
   "mimetype": "text/x-python",
   "name": "pyspark",
   "pygments_lexer": "python3"
  }
 },
 "nbformat": 4,
 "nbformat_minor": 4
}
