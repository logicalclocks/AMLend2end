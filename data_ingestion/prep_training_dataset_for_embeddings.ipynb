{
 "cells": [
  {
   "cell_type": "code",
   "execution_count": 3,
   "metadata": {},
   "outputs": [
    {
     "name": "stdout",
     "output_type": "stream",
     "text": [
      "<pyspark.sql.session.SparkSession object at 0x7fa9ef040d90>"
     ]
    }
   ],
   "source": [
    "spark"
   ]
  },
  {
   "cell_type": "code",
   "execution_count": 19,
   "metadata": {},
   "outputs": [],
   "source": [
    "import hashlib\n",
    "from datetime import datetime\n",
    "from pyspark.sql import functions as F\n",
    "from pyspark.sql.types import FloatType\n",
    "import hsfs"
   ]
  },
  {
   "cell_type": "code",
   "execution_count": 5,
   "metadata": {},
   "outputs": [
    {
     "name": "stdout",
     "output_type": "stream",
     "text": [
      "Connected. Call `.close()` to terminate connection gracefully."
     ]
    }
   ],
   "source": [
    "# Create a connection\n",
    "connection = hsfs.connection()\n",
    "# Get the feature store handle for the project's feature store\n",
    "fs = connection.get_feature_store()"
   ]
  },
  {
   "cell_type": "markdown",
   "metadata": {},
   "source": [
    "## Load transactions feature group from hsfs"
   ]
  },
  {
   "cell_type": "code",
   "execution_count": 10,
   "metadata": {},
   "outputs": [
    {
     "name": "stdout",
     "output_type": "stream",
     "text": [
      "+-------+--------------+-------+--------+--------+--------+\n",
      "|tx_type|tran_timestamp|tran_id|     dst|     src|base_amt|\n",
      "+-------+--------------+-------+--------+--------+--------+\n",
      "|      4|        Jan-01|    496|1e46e726|3aa9646b|  858.77|\n",
      "|      4|        Jan-01|   1342|a74d1101|49203bc3|  386.86|\n",
      "|      4|        Jan-02|   1580|99af2455|616d4505|  616.43|\n",
      "|      4|        Jan-02|   2866|e7ec7bdb|39be1ea2|  146.44|\n",
      "|      4|        Jan-03|   3997|afc399a9|e2e0d938|  439.09|\n",
      "|      4|        Jan-04|   5518|d7a317f6|75c9a805|   361.0|\n",
      "|      4|        Jan-06|   7340|733a496b|c14f4989|  768.98|\n",
      "|      4|        Jan-07|   9376|aa49b0eb|576eb672|   943.4|\n",
      "|      4|        Jan-08|  10362|b070a6bb|847a9cf6|   668.3|\n",
      "|      4|        Jan-08|  10817|586377aa|12a388ff|  139.84|\n",
      "|      4|        Jan-08|  11317|1b467848|b36f9c84|  499.47|\n",
      "|      4|        Jan-09|  11748|385afb8b|362e42e0|  357.96|\n",
      "|      4|        Jan-10|  13285|acd60eca|572014da|   630.9|\n",
      "|      4|        Jan-11|  14832|31976e38|5ff2d9a7|  685.07|\n",
      "|      4|        Jan-11|  15619|fcf3bbf3|24bf603c|  964.81|\n",
      "|      4|        Jan-12|  16574|ca0967a6|9a118f8d|  919.76|\n",
      "|      4|        Jan-14|  18944|bc0de3c7|65b8a85f|  302.26|\n",
      "|      4|        Jan-14|  19204|31db9495|d7a317f6|  637.18|\n",
      "|      4|        Jan-14|  19530|3a63a8fc|95aac0c4|  630.43|\n",
      "|      4|        Jan-15|  20382|f388cc0f|5411dc34|  374.73|\n",
      "+-------+--------------+-------+--------+--------+--------+\n",
      "only showing top 20 rows"
     ]
    }
   ],
   "source": [
    "transactions_fg = fs.get_feature_group(\"transactions_fg\", 1)\n",
    "transactions_df = transactions_fg.read()\n",
    "transactions_df.show()"
   ]
  },
  {
   "cell_type": "markdown",
   "metadata": {},
   "source": [
    "## Load alert transactions feature group from hsfs"
   ]
  },
  {
   "cell_type": "code",
   "execution_count": 9,
   "metadata": {},
   "outputs": [
    {
     "name": "stdout",
     "output_type": "stream",
     "text": [
      "+--------+--------------+-------+------+\n",
      "|alert_id|    alert_type|tran_id|is_sar|\n",
      "+--------+--------------+-------+------+\n",
      "|      52|gather_scatter| 447977|  true|\n",
      "|      23|scatter_gather| 449282|  true|\n",
      "|      52|gather_scatter| 454797|  true|\n",
      "|      68|gather_scatter| 462363|  true|\n",
      "|      68|gather_scatter| 468776|  true|\n",
      "|      26|scatter_gather| 518050|  true|\n",
      "|      10|scatter_gather| 518475|  true|\n",
      "|      26|scatter_gather| 519362|  true|\n",
      "|      26|scatter_gather| 521249|  true|\n",
      "|      65|gather_scatter| 521357|  true|\n",
      "|      25|scatter_gather| 557238|  true|\n",
      "|      25|scatter_gather| 558782|  true|\n",
      "|      61|gather_scatter| 559459|  true|\n",
      "|      61|gather_scatter| 559460|  true|\n",
      "|      69|gather_scatter| 559567|  true|\n",
      "|      69|gather_scatter| 553958|  true|\n",
      "|      25|scatter_gather| 554411|  true|\n",
      "|      61|gather_scatter| 555697|  true|\n",
      "|      61|gather_scatter| 556608|  true|\n",
      "|      61|gather_scatter| 556609|  true|\n",
      "+--------+--------------+-------+------+\n",
      "only showing top 20 rows"
     ]
    }
   ],
   "source": [
    "alert_transactions_fg = fs.get_feature_group(\"alert_transactions_fg\", 1)\n",
    "alert_transactions_df = alert_transactions_fg.read()\n",
    "alert_transactions_df.show()"
   ]
  },
  {
   "cell_type": "markdown",
   "metadata": {},
   "source": [
    "## Load party feature group from hsfs"
   ]
  },
  {
   "cell_type": "code",
   "execution_count": 11,
   "metadata": {},
   "outputs": [
    {
     "name": "stdout",
     "output_type": "stream",
     "text": [
      "+--------+----+\n",
      "|      id|type|\n",
      "+--------+----+\n",
      "|5628bd6c|   0|\n",
      "|a1fcba39|   0|\n",
      "|f56c9501|   1|\n",
      "|9969afdd|   0|\n",
      "|b356eeae|   1|\n",
      "|3406706a|   0|\n",
      "|26c56102|   0|\n",
      "|e386ebf7|   1|\n",
      "|8c094b0d|   1|\n",
      "|939235aa|   1|\n",
      "|de6bf2a5|   0|\n",
      "|33a8ff5b|   0|\n",
      "|a32807a1|   1|\n",
      "|2906ef08|   0|\n",
      "|c2a01b8d|   1|\n",
      "|5a99160f|   1|\n",
      "|8b9017b8|   0|\n",
      "|fcf3bbf3|   1|\n",
      "|5132aa4d|   0|\n",
      "|68b90958|   1|\n",
      "+--------+----+\n",
      "only showing top 20 rows"
     ]
    }
   ],
   "source": [
    "party_fg = fs.get_feature_group(\"party_fg\", 1)\n",
    "party_df = party_fg.read()\n",
    "party_df.show()"
   ]
  },
  {
   "cell_type": "code",
   "execution_count": null,
   "metadata": {},
   "outputs": [],
   "source": []
  },
  {
   "cell_type": "markdown",
   "metadata": {},
   "source": [
    "## Create graph edge training dataset"
   ]
  },
  {
   "cell_type": "code",
   "execution_count": 14,
   "metadata": {},
   "outputs": [
    {
     "name": "stdout",
     "output_type": "stream",
     "text": [
      "915"
     ]
    }
   ],
   "source": [
    "alert_transactions_df.count()"
   ]
  },
  {
   "cell_type": "code",
   "execution_count": 15,
   "metadata": {},
   "outputs": [
    {
     "name": "stdout",
     "output_type": "stream",
     "text": [
      "438386"
     ]
    }
   ],
   "source": [
    "transactions_df.count()"
   ]
  },
  {
   "cell_type": "code",
   "execution_count": 31,
   "metadata": {},
   "outputs": [],
   "source": [
    "edges = transactions_df.join(alert_transactions_df,[\"tran_id\"],\"left\")\n",
    "edges = edges.withColumn(\"is_sar\",F.when(F.col(\"is_sar\") == \"true\", 1).otherwise(0))\\\n",
    "             .select(\"dst\",\"src\",\"tx_type\",\"base_amt\",\"tran_timestamp\",\"is_sar\")  "
   ]
  },
  {
   "cell_type": "code",
   "execution_count": 32,
   "metadata": {},
   "outputs": [
    {
     "name": "stdout",
     "output_type": "stream",
     "text": [
      "+--------+--------+-------+--------+--------------+------+\n",
      "|     dst|     src|tx_type|base_amt|tran_timestamp|is_sar|\n",
      "+--------+--------+-------+--------+--------------+------+\n",
      "|1e46e726|3aa9646b|      4|  858.77|        Jan-01|     0|\n",
      "|a74d1101|49203bc3|      4|  386.86|        Jan-01|     0|\n",
      "|99af2455|616d4505|      4|  616.43|        Jan-02|     0|\n",
      "|e7ec7bdb|39be1ea2|      4|  146.44|        Jan-02|     0|\n",
      "|afc399a9|e2e0d938|      4|  439.09|        Jan-03|     0|\n",
      "|d7a317f6|75c9a805|      4|   361.0|        Jan-04|     0|\n",
      "|733a496b|c14f4989|      4|  768.98|        Jan-06|     0|\n",
      "|aa49b0eb|576eb672|      4|   943.4|        Jan-07|     0|\n",
      "|b070a6bb|847a9cf6|      4|   668.3|        Jan-08|     0|\n",
      "|586377aa|12a388ff|      4|  139.84|        Jan-08|     0|\n",
      "|1b467848|b36f9c84|      4|  499.47|        Jan-08|     0|\n",
      "|385afb8b|362e42e0|      4|  357.96|        Jan-09|     0|\n",
      "|acd60eca|572014da|      4|   630.9|        Jan-10|     0|\n",
      "|31976e38|5ff2d9a7|      4|  685.07|        Jan-11|     0|\n",
      "|fcf3bbf3|24bf603c|      4|  964.81|        Jan-11|     0|\n",
      "|ca0967a6|9a118f8d|      4|  919.76|        Jan-12|     0|\n",
      "|bc0de3c7|65b8a85f|      4|  302.26|        Jan-14|     0|\n",
      "|31db9495|d7a317f6|      4|  637.18|        Jan-14|     0|\n",
      "|3a63a8fc|95aac0c4|      4|  630.43|        Jan-14|     0|\n",
      "|f388cc0f|5411dc34|      4|  374.73|        Jan-15|     0|\n",
      "+--------+--------+-------+--------+--------------+------+\n",
      "only showing top 20 rows"
     ]
    }
   ],
   "source": [
    "edges.show()"
   ]
  },
  {
   "cell_type": "code",
   "execution_count": 33,
   "metadata": {},
   "outputs": [
    {
     "name": "stdout",
     "output_type": "stream",
     "text": [
      "438386"
     ]
    }
   ],
   "source": [
    "edges.count()"
   ]
  },
  {
   "cell_type": "code",
   "execution_count": 34,
   "metadata": {},
   "outputs": [
    {
     "name": "stdout",
     "output_type": "stream",
     "text": [
      "915"
     ]
    }
   ],
   "source": [
    "edges.where(F.col(\"is_sar\")==1).count()"
   ]
  },
  {
   "cell_type": "code",
   "execution_count": 35,
   "metadata": {},
   "outputs": [
    {
     "name": "stdout",
     "output_type": "stream",
     "text": [
      "<hsfs.training_dataset.TrainingDataset object at 0x7fa9fa558150>"
     ]
    }
   ],
   "source": [
    "edges_td_meta = fs.create_training_dataset(name=\"edges_td\",\n",
    "                                       version=1,\n",
    "                                       data_format=\"csv\",\n",
    "                                       label = [\"is_sar\"],   \n",
    "                                       description=\"edges training dataset\")\n",
    "edges_td_meta.save(edges)"
   ]
  },
  {
   "cell_type": "markdown",
   "metadata": {},
   "source": [
    "## Create graph node training dataset"
   ]
  },
  {
   "cell_type": "code",
   "execution_count": 36,
   "metadata": {},
   "outputs": [
    {
     "name": "stdout",
     "output_type": "stream",
     "text": [
      "+--------+\n",
      "|      id|\n",
      "+--------+\n",
      "|26c56102|\n",
      "|9969afdd|\n",
      "|2906ef08|\n",
      "|5a99160f|\n",
      "|de6bf2a5|\n",
      "|b356eeae|\n",
      "|f56c9501|\n",
      "|a32807a1|\n",
      "|939235aa|\n",
      "|e386ebf7|\n",
      "|33a8ff5b|\n",
      "|a9edaba6|\n",
      "|8c094b0d|\n",
      "|fcf3bbf3|\n",
      "|5628bd6c|\n",
      "|a1fcba39|\n",
      "|c2a01b8d|\n",
      "|7138cbc6|\n",
      "|3406706a|\n",
      "|68b90958|\n",
      "+--------+\n",
      "only showing top 20 rows"
     ]
    }
   ],
   "source": [
    "sources = edges.select([\"src\"]).toDF(\"id\")\n",
    "targets = edges.select([\"dst\"]).toDF(\"id\")\n",
    "nodes = sources.union(targets).dropDuplicates(subset=[\"id\"])\n",
    "nodes.show()"
   ]
  },
  {
   "cell_type": "code",
   "execution_count": 37,
   "metadata": {},
   "outputs": [
    {
     "name": "stdout",
     "output_type": "stream",
     "text": [
      "7347"
     ]
    }
   ],
   "source": [
    "nodes.count()"
   ]
  },
  {
   "cell_type": "code",
   "execution_count": 38,
   "metadata": {},
   "outputs": [
    {
     "name": "stdout",
     "output_type": "stream",
     "text": [
      "7347"
     ]
    }
   ],
   "source": [
    "nodes_td = nodes.join(party_df, [\"id\"])\n",
    "nodes_td.count()"
   ]
  },
  {
   "cell_type": "code",
   "execution_count": 39,
   "metadata": {},
   "outputs": [
    {
     "name": "stdout",
     "output_type": "stream",
     "text": [
      "+--------+----+\n",
      "|      id|type|\n",
      "+--------+----+\n",
      "|26c56102|   0|\n",
      "|9969afdd|   0|\n",
      "|2906ef08|   0|\n",
      "|5a99160f|   1|\n",
      "|de6bf2a5|   0|\n",
      "|b356eeae|   1|\n",
      "|f56c9501|   1|\n",
      "|a32807a1|   1|\n",
      "|939235aa|   1|\n",
      "|e386ebf7|   1|\n",
      "|33a8ff5b|   0|\n",
      "|a9edaba6|   0|\n",
      "|8c094b0d|   1|\n",
      "|fcf3bbf3|   1|\n",
      "|5628bd6c|   0|\n",
      "|a1fcba39|   0|\n",
      "|c2a01b8d|   1|\n",
      "|7138cbc6|   1|\n",
      "|3406706a|   0|\n",
      "|68b90958|   1|\n",
      "+--------+----+\n",
      "only showing top 20 rows"
     ]
    }
   ],
   "source": [
    "nodes_td.show()"
   ]
  },
  {
   "cell_type": "code",
   "execution_count": 41,
   "metadata": {},
   "outputs": [
    {
     "name": "stdout",
     "output_type": "stream",
     "text": [
      "<hsfs.training_dataset.TrainingDataset object at 0x7fa9fa53d290>"
     ]
    }
   ],
   "source": [
    "node_td_meta = fs.create_training_dataset(name=\"node_td\",\n",
    "                                       version=1,\n",
    "                                       data_format=\"csv\",   \n",
    "                                       description=\"node training dataset\")\n",
    "node_td_meta.save(nodes_td)"
   ]
  },
  {
   "cell_type": "code",
   "execution_count": null,
   "metadata": {},
   "outputs": [],
   "source": []
  }
 ],
 "metadata": {
  "kernelspec": {
   "display_name": "PySpark",
   "language": "python",
   "name": "pysparkkernel"
  },
  "language_info": {
   "codemirror_mode": {
    "name": "python",
    "version": 3
   },
   "mimetype": "text/x-python",
   "name": "pyspark",
   "pygments_lexer": "python3"
  }
 },
 "nbformat": 4,
 "nbformat_minor": 4
}
