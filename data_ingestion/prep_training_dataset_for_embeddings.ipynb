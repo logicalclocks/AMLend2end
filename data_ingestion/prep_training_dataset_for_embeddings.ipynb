{
 "cells": [
  {
   "cell_type": "code",
   "execution_count": 1,
   "metadata": {},
   "outputs": [
    {
     "name": "stdout",
     "output_type": "stream",
     "text": [
      "Starting Spark application\n"
     ]
    },
    {
     "data": {
      "text/html": [
       "<table>\n",
       "<tr><th>ID</th><th>YARN Application ID</th><th>Kind</th><th>State</th><th>Spark UI</th><th>Driver log</th></tr><tr><td>27</td><td>application_1609605496842_0009</td><td>pyspark</td><td>idle</td><td><a target=\"_blank\" href=\"http://hopsworksdavit-master.internal.cloudapp.net:8088/proxy/application_1609605496842_0009/\">Link</a></td><td><a target=\"_blank\" href=\"http://hopsworksdavit-worker-2.internal.cloudapp.net:8042/node/containerlogs/container_e04_1609605496842_0009_01_000001/amlsim__meb10179\">Link</a></td></tr></table>"
      ],
      "text/plain": [
       "<IPython.core.display.HTML object>"
      ]
     },
     "metadata": {},
     "output_type": "display_data"
    },
    {
     "name": "stdout",
     "output_type": "stream",
     "text": [
      "SparkSession available as 'spark'.\n",
      "<pyspark.sql.session.SparkSession object at 0x7f336b801790>"
     ]
    }
   ],
   "source": [
    "spark"
   ]
  },
  {
   "cell_type": "code",
   "execution_count": 2,
   "metadata": {},
   "outputs": [],
   "source": [
    "import hashlib\n",
    "from datetime import datetime\n",
    "from pyspark.sql import functions as F\n",
    "from pyspark.sql.types import FloatType\n",
    "import hsfs"
   ]
  },
  {
   "cell_type": "code",
   "execution_count": 3,
   "metadata": {},
   "outputs": [
    {
     "name": "stdout",
     "output_type": "stream",
     "text": [
      "Connected. Call `.close()` to terminate connection gracefully."
     ]
    }
   ],
   "source": [
    "# Create a connection\n",
    "connection = hsfs.connection()\n",
    "# Get the feature store handle for the project's feature store\n",
    "fs = connection.get_feature_store()"
   ]
  },
  {
   "cell_type": "markdown",
   "metadata": {},
   "source": [
    "## Load transactions feature group from hsfs"
   ]
  },
  {
   "cell_type": "code",
   "execution_count": 4,
   "metadata": {},
   "outputs": [
    {
     "name": "stdout",
     "output_type": "stream",
     "text": [
      "+--------+-------+--------------+-------+--------+--------+\n",
      "|     dst|tx_type|tran_timestamp|tran_id|     src|base_amt|\n",
      "+--------+-------+--------------+-------+--------+--------+\n",
      "|1e46e726|      4|        Jan-01|    496|3aa9646b|  858.77|\n",
      "|a74d1101|      4|        Jan-01|   1342|49203bc3|  386.86|\n",
      "|99af2455|      4|        Jan-02|   1580|616d4505|  616.43|\n",
      "|e7ec7bdb|      4|        Jan-02|   2866|39be1ea2|  146.44|\n",
      "|afc399a9|      4|        Jan-03|   3997|e2e0d938|  439.09|\n",
      "|d7a317f6|      4|        Jan-04|   5518|75c9a805|   361.0|\n",
      "|733a496b|      4|        Jan-06|   7340|c14f4989|  768.98|\n",
      "|aa49b0eb|      4|        Jan-07|   9376|576eb672|   943.4|\n",
      "|b070a6bb|      4|        Jan-08|  10362|847a9cf6|   668.3|\n",
      "|586377aa|      4|        Jan-08|  10817|12a388ff|  139.84|\n",
      "|1b467848|      4|        Jan-08|  11317|b36f9c84|  499.47|\n",
      "|385afb8b|      4|        Jan-09|  11748|362e42e0|  357.96|\n",
      "|acd60eca|      4|        Jan-10|  13285|572014da|   630.9|\n",
      "|31976e38|      4|        Jan-11|  14832|5ff2d9a7|  685.07|\n",
      "|fcf3bbf3|      4|        Jan-11|  15619|24bf603c|  964.81|\n",
      "|ca0967a6|      4|        Jan-12|  16574|9a118f8d|  919.76|\n",
      "|bc0de3c7|      4|        Jan-14|  18944|65b8a85f|  302.26|\n",
      "|31db9495|      4|        Jan-14|  19204|d7a317f6|  637.18|\n",
      "|3a63a8fc|      4|        Jan-14|  19530|95aac0c4|  630.43|\n",
      "|f388cc0f|      4|        Jan-15|  20382|5411dc34|  374.73|\n",
      "+--------+-------+--------------+-------+--------+--------+\n",
      "only showing top 20 rows"
     ]
    }
   ],
   "source": [
    "transactions_fg = fs.get_feature_group(\"transactions_fg\", 1)\n",
    "transactions_df = transactions_fg.read()\n",
    "transactions_df.show()"
   ]
  },
  {
   "cell_type": "markdown",
   "metadata": {},
   "source": [
    "## Load alert transactions feature group from hsfs"
   ]
  },
  {
   "cell_type": "code",
   "execution_count": 5,
   "metadata": {},
   "outputs": [
    {
     "name": "stdout",
     "output_type": "stream",
     "text": [
      "+--------------+-------+--------+------+\n",
      "|    alert_type|tran_id|alert_id|is_sar|\n",
      "+--------------+-------+--------+------+\n",
      "|gather_scatter| 447977|      52|  true|\n",
      "|scatter_gather| 449282|      23|  true|\n",
      "|gather_scatter| 454797|      52|  true|\n",
      "|gather_scatter| 462363|      68|  true|\n",
      "|gather_scatter| 468776|      68|  true|\n",
      "|scatter_gather| 518050|      26|  true|\n",
      "|scatter_gather| 518475|      10|  true|\n",
      "|scatter_gather| 519362|      26|  true|\n",
      "|scatter_gather| 521249|      26|  true|\n",
      "|gather_scatter| 521357|      65|  true|\n",
      "|scatter_gather| 557238|      25|  true|\n",
      "|scatter_gather| 558782|      25|  true|\n",
      "|gather_scatter| 559459|      61|  true|\n",
      "|gather_scatter| 559460|      61|  true|\n",
      "|gather_scatter| 559567|      69|  true|\n",
      "|gather_scatter| 553958|      69|  true|\n",
      "|scatter_gather| 554411|      25|  true|\n",
      "|gather_scatter| 555697|      61|  true|\n",
      "|gather_scatter| 556608|      61|  true|\n",
      "|gather_scatter| 556609|      61|  true|\n",
      "+--------------+-------+--------+------+\n",
      "only showing top 20 rows"
     ]
    }
   ],
   "source": [
    "alert_transactions_fg = fs.get_feature_group(\"alert_transactions_fg\", 1)\n",
    "alert_transactions_df = alert_transactions_fg.read()\n",
    "alert_transactions_df.show()"
   ]
  },
  {
   "cell_type": "markdown",
   "metadata": {},
   "source": [
    "## Load party feature group from hsfs"
   ]
  },
  {
   "cell_type": "code",
   "execution_count": 6,
   "metadata": {},
   "outputs": [
    {
     "name": "stdout",
     "output_type": "stream",
     "text": [
      "+----+--------+\n",
      "|type|      id|\n",
      "+----+--------+\n",
      "|   0|5628bd6c|\n",
      "|   0|a1fcba39|\n",
      "|   1|f56c9501|\n",
      "|   0|9969afdd|\n",
      "|   1|b356eeae|\n",
      "|   0|3406706a|\n",
      "|   0|26c56102|\n",
      "|   1|e386ebf7|\n",
      "|   1|8c094b0d|\n",
      "|   1|939235aa|\n",
      "|   0|de6bf2a5|\n",
      "|   0|33a8ff5b|\n",
      "|   1|a32807a1|\n",
      "|   0|2906ef08|\n",
      "|   1|c2a01b8d|\n",
      "|   1|5a99160f|\n",
      "|   0|8b9017b8|\n",
      "|   1|fcf3bbf3|\n",
      "|   0|5132aa4d|\n",
      "|   1|68b90958|\n",
      "+----+--------+\n",
      "only showing top 20 rows"
     ]
    }
   ],
   "source": [
    "party_fg = fs.get_feature_group(\"party_fg\", 1)\n",
    "party_df = party_fg.read()\n",
    "party_df.show()"
   ]
  },
  {
   "cell_type": "code",
   "execution_count": null,
   "metadata": {},
   "outputs": [],
   "source": []
  },
  {
   "cell_type": "markdown",
   "metadata": {},
   "source": [
    "## Create graph edge training dataset"
   ]
  },
  {
   "cell_type": "code",
   "execution_count": 7,
   "metadata": {},
   "outputs": [
    {
     "name": "stdout",
     "output_type": "stream",
     "text": [
      "915"
     ]
    }
   ],
   "source": [
    "alert_transactions_df.count()"
   ]
  },
  {
   "cell_type": "code",
   "execution_count": 8,
   "metadata": {},
   "outputs": [
    {
     "name": "stdout",
     "output_type": "stream",
     "text": [
      "438386"
     ]
    }
   ],
   "source": [
    "transactions_df.count()"
   ]
  },
  {
   "cell_type": "code",
   "execution_count": 9,
   "metadata": {},
   "outputs": [],
   "source": [
    "edges = transactions_df.join(alert_transactions_df,[\"tran_id\"],\"left\")\n",
    "edges = edges.withColumn(\"is_sar\",F.when(F.col(\"is_sar\") == \"true\", 1).otherwise(0))\\\n",
    "             .select(\"src\",\"dst\",\"tx_type\",\"base_amt\",\"tran_id\",\"is_sar\")\\\n",
    "             .toDF('source', 'target', 'tx_type', 'base_amt', 'tran_id', 'is_sar')"
   ]
  },
  {
   "cell_type": "code",
   "execution_count": 10,
   "metadata": {},
   "outputs": [
    {
     "name": "stdout",
     "output_type": "stream",
     "text": [
      "+--------+--------+-------+--------+-------+------+\n",
      "|  source|  target|tx_type|base_amt|tran_id|is_sar|\n",
      "+--------+--------+-------+--------+-------+------+\n",
      "|3aa9646b|1e46e726|      4|  858.77|    496|     0|\n",
      "|49203bc3|a74d1101|      4|  386.86|   1342|     0|\n",
      "|616d4505|99af2455|      4|  616.43|   1580|     0|\n",
      "|39be1ea2|e7ec7bdb|      4|  146.44|   2866|     0|\n",
      "|e2e0d938|afc399a9|      4|  439.09|   3997|     0|\n",
      "|75c9a805|d7a317f6|      4|   361.0|   5518|     0|\n",
      "|c14f4989|733a496b|      4|  768.98|   7340|     0|\n",
      "|576eb672|aa49b0eb|      4|   943.4|   9376|     0|\n",
      "|847a9cf6|b070a6bb|      4|   668.3|  10362|     0|\n",
      "|12a388ff|586377aa|      4|  139.84|  10817|     0|\n",
      "|b36f9c84|1b467848|      4|  499.47|  11317|     0|\n",
      "|362e42e0|385afb8b|      4|  357.96|  11748|     0|\n",
      "|572014da|acd60eca|      4|   630.9|  13285|     0|\n",
      "|5ff2d9a7|31976e38|      4|  685.07|  14832|     0|\n",
      "|24bf603c|fcf3bbf3|      4|  964.81|  15619|     0|\n",
      "|9a118f8d|ca0967a6|      4|  919.76|  16574|     0|\n",
      "|65b8a85f|bc0de3c7|      4|  302.26|  18944|     0|\n",
      "|d7a317f6|31db9495|      4|  637.18|  19204|     0|\n",
      "|95aac0c4|3a63a8fc|      4|  630.43|  19530|     0|\n",
      "|5411dc34|f388cc0f|      4|  374.73|  20382|     0|\n",
      "+--------+--------+-------+--------+-------+------+\n",
      "only showing top 20 rows"
     ]
    }
   ],
   "source": [
    "edges.show()"
   ]
  },
  {
   "cell_type": "code",
   "execution_count": 11,
   "metadata": {},
   "outputs": [
    {
     "name": "stdout",
     "output_type": "stream",
     "text": [
      "438386"
     ]
    }
   ],
   "source": [
    "edges.count()"
   ]
  },
  {
   "cell_type": "code",
   "execution_count": 12,
   "metadata": {},
   "outputs": [
    {
     "name": "stdout",
     "output_type": "stream",
     "text": [
      "915"
     ]
    }
   ],
   "source": [
    "edges.where(F.col(\"is_sar\")==1).count()"
   ]
  },
  {
   "cell_type": "code",
   "execution_count": 13,
   "metadata": {},
   "outputs": [
    {
     "name": "stdout",
     "output_type": "stream",
     "text": [
      "<hsfs.training_dataset.TrainingDataset object at 0x7f3378ce9490>"
     ]
    }
   ],
   "source": [
    "edges_td_meta = fs.create_training_dataset(name=\"edges_td\",\n",
    "                                       version=1,\n",
    "                                       data_format=\"csv\",\n",
    "                                       label = [\"is_sar\"],   \n",
    "                                       description=\"edges training dataset\")\n",
    "edges_td_meta.save(edges)"
   ]
  },
  {
   "cell_type": "markdown",
   "metadata": {},
   "source": [
    "## Create graph node training dataset"
   ]
  },
  {
   "cell_type": "code",
   "execution_count": 19,
   "metadata": {},
   "outputs": [
    {
     "name": "stdout",
     "output_type": "stream",
     "text": [
      "+--------+\n",
      "|      id|\n",
      "+--------+\n",
      "|fcf3bbf3|\n",
      "|9969afdd|\n",
      "|a1fcba39|\n",
      "|d7a0ca48|\n",
      "|43e028ef|\n",
      "|a9edaba6|\n",
      "|3406706a|\n",
      "|b356eeae|\n",
      "|de6bf2a5|\n",
      "|f7e4e741|\n",
      "|33a8ff5b|\n",
      "|2906ef08|\n",
      "|3406d993|\n",
      "|f56c9501|\n",
      "|26c56102|\n",
      "|8b9017b8|\n",
      "|8c094b0d|\n",
      "|243b1e8b|\n",
      "|5628bd6c|\n",
      "|c2a01b8d|\n",
      "+--------+\n",
      "only showing top 20 rows"
     ]
    }
   ],
   "source": [
    "sources = edges.select([\"source\"]).toDF(\"id\")\n",
    "targets = edges.select([\"target\"]).toDF(\"id\")\n",
    "nodes = sources.union(targets).dropDuplicates(subset=[\"id\"])\n",
    "nodes.show()"
   ]
  },
  {
   "cell_type": "code",
   "execution_count": 20,
   "metadata": {},
   "outputs": [
    {
     "name": "stdout",
     "output_type": "stream",
     "text": [
      "7347"
     ]
    }
   ],
   "source": [
    "nodes.count()"
   ]
  },
  {
   "cell_type": "code",
   "execution_count": 21,
   "metadata": {},
   "outputs": [
    {
     "name": "stdout",
     "output_type": "stream",
     "text": [
      "7347"
     ]
    }
   ],
   "source": [
    "nodes_td = nodes.join(party_df, [\"id\"])\n",
    "nodes_td.count()"
   ]
  },
  {
   "cell_type": "code",
   "execution_count": 22,
   "metadata": {},
   "outputs": [
    {
     "name": "stdout",
     "output_type": "stream",
     "text": [
      "+--------+----+\n",
      "|      id|type|\n",
      "+--------+----+\n",
      "|fcf3bbf3|   1|\n",
      "|9969afdd|   0|\n",
      "|a1fcba39|   0|\n",
      "|d7a0ca48|   1|\n",
      "|43e028ef|   0|\n",
      "|a9edaba6|   0|\n",
      "|3406706a|   0|\n",
      "|b356eeae|   1|\n",
      "|de6bf2a5|   0|\n",
      "|f7e4e741|   0|\n",
      "|33a8ff5b|   0|\n",
      "|2906ef08|   0|\n",
      "|3406d993|   1|\n",
      "|f56c9501|   1|\n",
      "|26c56102|   0|\n",
      "|8b9017b8|   0|\n",
      "|8c094b0d|   1|\n",
      "|243b1e8b|   1|\n",
      "|5628bd6c|   0|\n",
      "|c2a01b8d|   1|\n",
      "+--------+----+\n",
      "only showing top 20 rows"
     ]
    }
   ],
   "source": [
    "nodes_td.show()"
   ]
  },
  {
   "cell_type": "code",
   "execution_count": 23,
   "metadata": {},
   "outputs": [
    {
     "name": "stdout",
     "output_type": "stream",
     "text": [
      "<hsfs.training_dataset.TrainingDataset object at 0x7f3315312690>"
     ]
    }
   ],
   "source": [
    "node_td_meta = fs.create_training_dataset(name=\"node_td\",\n",
    "                                       version=1,\n",
    "                                       data_format=\"csv\",   \n",
    "                                       description=\"node training dataset\")\n",
    "node_td_meta.save(nodes_td)"
   ]
  }
 ],
 "metadata": {
  "kernelspec": {
   "display_name": "PySpark",
   "language": "python",
   "name": "pysparkkernel"
  },
  "language_info": {
   "codemirror_mode": {
    "name": "python",
    "version": 3
   },
   "mimetype": "text/x-python",
   "name": "pyspark",
   "pygments_lexer": "python3"
  }
 },
 "nbformat": 4,
 "nbformat_minor": 4
}
