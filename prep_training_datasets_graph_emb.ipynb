{
 "cells": [
  {
   "cell_type": "code",
   "execution_count": 1,
   "metadata": {},
   "outputs": [
    {
     "name": "stdout",
     "output_type": "stream",
     "text": [
      "Starting Spark application\n"
     ]
    },
    {
     "data": {
      "text/html": [
       "<table>\n",
       "<tr><th>ID</th><th>YARN Application ID</th><th>Kind</th><th>State</th><th>Spark UI</th><th>Driver log</th></tr><tr><td>70</td><td>application_1607949680860_0072</td><td>pyspark</td><td>idle</td><td><a target=\"_blank\" href=\"http://resourcemanager.service.consul:8088/proxy/application_1607949680860_0072/\">Link</a></td><td><a target=\"_blank\" href=\"http://hopsworksdavit-worker-1.internal.cloudapp.net:8042/node/containerlogs/container_e02_1607949680860_0072_01_000001/amlsim__meb10179\">Link</a></td></tr></table>"
      ],
      "text/plain": [
       "<IPython.core.display.HTML object>"
      ]
     },
     "metadata": {},
     "output_type": "display_data"
    },
    {
     "name": "stdout",
     "output_type": "stream",
     "text": [
      "SparkSession available as 'spark'.\n",
      "<pyspark.sql.session.SparkSession object at 0x7fd2b4765f90>"
     ]
    }
   ],
   "source": [
    "spark"
   ]
  },
  {
   "cell_type": "code",
   "execution_count": 2,
   "metadata": {},
   "outputs": [],
   "source": [
    "import hashlib\n",
    "from datetime import datetime\n",
    "from graphframes import *\n",
    "from pyspark.sql import functions as func\n",
    "from pyspark.sql.types import FloatType\n",
    "import hsfs\n",
    "from hops import hdfs\n",
    "import os\n",
    "from pyspark.sql import SQLContext"
   ]
  },
  {
   "cell_type": "code",
   "execution_count": 3,
   "metadata": {},
   "outputs": [],
   "source": [
    "def hashnode(x):\n",
    "    return hashlib.sha1(x.encode(\"UTF-8\")).hexdigest()[:8]\n",
    "\n",
    "hashnode_udf = func.udf(hashnode)"
   ]
  },
  {
   "cell_type": "code",
   "execution_count": 4,
   "metadata": {},
   "outputs": [
    {
     "name": "stdout",
     "output_type": "stream",
     "text": [
      "Connected. Call `.close()` to terminate connection gracefully."
     ]
    }
   ],
   "source": [
    "# Create a connection\n",
    "connection = hsfs.connection()\n",
    "# Get the feature store handle for the project's feature store\n",
    "fs = connection.get_feature_store()"
   ]
  },
  {
   "cell_type": "code",
   "execution_count": 5,
   "metadata": {},
   "outputs": [],
   "source": [
    "edge_fg = fs.get_feature_group('transactions_fg', 1)\n",
    "node_fg = fs.get_feature_group('account_features', 1)"
   ]
  },
  {
   "cell_type": "code",
   "execution_count": 6,
   "metadata": {},
   "outputs": [
    {
     "name": "stdout",
     "output_type": "stream",
     "text": [
      "+--------------+---------+---------------+-------+\n",
      "|tx_behavior_id|prior_sar|initial_deposit|acct_id|\n",
      "+--------------+---------+---------------+-------+\n",
      "|             1|        0|       84442.19|      0|\n",
      "|             1|        0|       75795.44|      1|\n",
      "|             1|        0|       42057.16|      2|\n",
      "|             1|        0|       25891.68|      3|\n",
      "|             1|        0|       51127.47|      4|\n",
      "+--------------+---------+---------------+-------+\n",
      "only showing top 5 rows"
     ]
    }
   ],
   "source": [
    "node_fg.show(5)"
   ]
  },
  {
   "cell_type": "code",
   "execution_count": 7,
   "metadata": {},
   "outputs": [
    {
     "name": "stdout",
     "output_type": "stream",
     "text": [
      "+------+-------+--------------+--------+------+--------+------+-------+\n",
      "|is_sar|tran_id|tran_timestamp|base_amt|target|alert_id|source|tx_type|\n",
      "+------+-------+--------------+--------+------+--------+------+-------+\n",
      "|     0|      1|   1.4832288E9| 9405.71|  3259|      -1|  1767|      4|\n",
      "|     0|      2|   1.4832288E9| 6884.54|  5141|      -1|  7363|      4|\n",
      "|     0|      3|   1.4832288E9|  7968.4|  9532|      -1|  7585|      4|\n",
      "|     0|      4|   1.4832288E9| 9042.67|  8792|      -1|  1750|      4|\n",
      "|     0|      5|   1.4832288E9| 4692.79|  4670|      -1|  9060|      4|\n",
      "+------+-------+--------------+--------+------+--------+------+-------+\n",
      "only showing top 5 rows"
     ]
    }
   ],
   "source": [
    "edge_fg.show(5)"
   ]
  },
  {
   "cell_type": "code",
   "execution_count": 8,
   "metadata": {},
   "outputs": [],
   "source": [
    "only_sar_edge_df = edge_fg.read().filter(func.col('alert_id') != -1)\n",
    "only_normal_edge_df =  edge_fg.read().filter(func.col('alert_id') == -1)"
   ]
  },
  {
   "cell_type": "code",
   "execution_count": 9,
   "metadata": {},
   "outputs": [
    {
     "name": "stdout",
     "output_type": "stream",
     "text": [
      "+------+-------+--------------+--------+------+--------+------+-------+\n",
      "|is_sar|tran_id|tran_timestamp|base_amt|target|alert_id|source|tx_type|\n",
      "+------+-------+--------------+--------+------+--------+------+-------+\n",
      "|     0|      1|   1.4832288E9| 9405.71|  3259|      -1|  1767|      4|\n",
      "|     0|      2|   1.4832288E9| 6884.54|  5141|      -1|  7363|      4|\n",
      "|     0|      3|   1.4832288E9|  7968.4|  9532|      -1|  7585|      4|\n",
      "|     0|      4|   1.4832288E9| 9042.67|  8792|      -1|  1750|      4|\n",
      "|     0|      5|   1.4832288E9| 4692.79|  4670|      -1|  9060|      4|\n",
      "+------+-------+--------------+--------+------+--------+------+-------+\n",
      "only showing top 5 rows"
     ]
    }
   ],
   "source": [
    "only_normal_edge_df.show(5)"
   ]
  },
  {
   "cell_type": "code",
   "execution_count": 10,
   "metadata": {},
   "outputs": [
    {
     "name": "stdout",
     "output_type": "stream",
     "text": [
      "+------+-------+--------------+--------+------+--------+------+-------+\n",
      "|is_sar|tran_id|tran_timestamp|base_amt|target|alert_id|source|tx_type|\n",
      "+------+-------+--------------+--------+------+--------+------+-------+\n",
      "|     1|     98|   1.4832288E9|  108.62|  5688|      16|  2298|      4|\n",
      "|     1|    108|   1.4832288E9|  183.25|  9601|      26|  8627|      4|\n",
      "|     1|    135|   1.4832288E9|  142.71|  8359|      15|  2756|      4|\n",
      "|     1|    137|   1.4832288E9|  132.47|  7702|       9|  7605|      4|\n",
      "|     1|    218|   1.4832288E9|  119.51|  7377|      17|  5891|      4|\n",
      "|     1|    335|   1.4832288E9|  136.02|  1661|      12|  6787|      4|\n",
      "|     1|    439|   1.4832288E9|  194.53|  7950|       0|  8485|      4|\n",
      "|     1|    477|   1.4832288E9|  184.32|  2177|       3|  5324|      4|\n",
      "|     1|    514|   1.4832288E9|  130.63|  4616|      19|  4919|      4|\n",
      "|     1|    564|   1.4832288E9|  183.27|  1589|       5|  4170|      4|\n",
      "|     1|    580|   1.4832288E9|  135.69|  1590|      18|  6483|      4|\n",
      "|     1|    654|   1.4832288E9|  160.35|  2275|      20|   123|      4|\n",
      "|     1|    711|   1.4832288E9|  144.32|  9851|      23|  6173|      4|\n",
      "|     1|    742|   1.4832288E9|  177.32|  2182|       4|  9300|      4|\n",
      "|     1|    779|   1.4832288E9|  189.75|  5470|       1|  2344|      4|\n",
      "|     1|    780|   1.4832288E9|  112.62|  4651|      22|  9149|      4|\n",
      "|     1|    933|   1.4832288E9|  108.91|  4046|      27|   312|      4|\n",
      "|     1|    947|   1.4832288E9|  173.42|  2300|       8|  5819|      4|\n",
      "|     1|   1070|   1.4832288E9|  135.89|  1964|       6|  3792|      4|\n",
      "|     1|   1256|   1.4832288E9|  142.27|  3191|      25|  7235|      4|\n",
      "+------+-------+--------------+--------+------+--------+------+-------+\n",
      "only showing top 20 rows"
     ]
    }
   ],
   "source": [
    "only_sar_edge_df.show()"
   ]
  },
  {
   "cell_type": "code",
   "execution_count": 11,
   "metadata": {},
   "outputs": [
    {
     "name": "stdout",
     "output_type": "stream",
     "text": [
      "732"
     ]
    }
   ],
   "source": [
    "only_sar_edge_df.count()"
   ]
  },
  {
   "cell_type": "code",
   "execution_count": 12,
   "metadata": {},
   "outputs": [
    {
     "name": "stdout",
     "output_type": "stream",
     "text": [
      "732"
     ]
    }
   ],
   "source": [
    "sar_sources = only_sar_edge_df.select(\"source\")\n",
    "sar_targets = only_sar_edge_df.select(\"target\")\n",
    "sar_nodes = sar_sources.union(sar_targets).toDF(\"id\").dropDuplicates()\n",
    "sar_nodes.count()\n",
    "\n",
    "sar_edges = only_sar_edge_df.select(\"source\", \"target\").toDF(\"src\", \"dst\")\n",
    "sar_edges.count()"
   ]
  },
  {
   "cell_type": "code",
   "execution_count": 13,
   "metadata": {},
   "outputs": [],
   "source": [
    "# Now lets construct the graph\n",
    "g_sar = GraphFrame(sar_nodes,sar_edges)\n",
    "sc.setCheckpointDir(\"hdfs:///Projects/{}/Logs/sc\".format(hdfs.project_name()))\n",
    "cc_sar = g_sar.connectedComponents()"
   ]
  },
  {
   "cell_type": "code",
   "execution_count": 14,
   "metadata": {},
   "outputs": [
    {
     "name": "stdout",
     "output_type": "stream",
     "text": [
      "+----+---------+\n",
      "|  id|component|\n",
      "+----+---------+\n",
      "|8086|     2599|\n",
      "|7833|     3671|\n",
      "|3997|     2773|\n",
      "|5300|     2773|\n",
      "| 463|      124|\n",
      "|1127|     1127|\n",
      "| 540|      540|\n",
      "|6393|     3396|\n",
      "|1522|     1054|\n",
      "|5614|      825|\n",
      "|9162|     2889|\n",
      "|3488|     2599|\n",
      "|2393|      397|\n",
      "|7387|      643|\n",
      "|1265|     1009|\n",
      "|4042|     1590|\n",
      "|5223|     1013|\n",
      "|4364|     1096|\n",
      "|3425|     1054|\n",
      "|5157|       61|\n",
      "+----+---------+\n",
      "only showing top 20 rows"
     ]
    }
   ],
   "source": [
    "cc_sar.cache().show()"
   ]
  },
  {
   "cell_type": "code",
   "execution_count": 15,
   "metadata": {},
   "outputs": [
    {
     "name": "stdout",
     "output_type": "stream",
     "text": [
      "+-----+\n",
      "|count|\n",
      "+-----+\n",
      "|    5|\n",
      "|    6|\n",
      "|    7|\n",
      "|    8|\n",
      "|    9|\n",
      "|   10|\n",
      "+-----+"
     ]
    }
   ],
   "source": [
    "cc_sar.groupBy('component').count().select('count').dropDuplicates().orderBy('count').show()"
   ]
  },
  {
   "cell_type": "code",
   "execution_count": null,
   "metadata": {},
   "outputs": [],
   "source": []
  },
  {
   "cell_type": "code",
   "execution_count": null,
   "metadata": {},
   "outputs": [],
   "source": [
    "scc_sar = g_sar.stronglyConnectedComponents(20)"
   ]
  },
  {
   "cell_type": "code",
   "execution_count": null,
   "metadata": {},
   "outputs": [],
   "source": [
    "scc_sar.cache().show()"
   ]
  },
  {
   "cell_type": "code",
   "execution_count": null,
   "metadata": {},
   "outputs": [],
   "source": [
    "scc_sar.groupBy('component').count().select('count').dropDuplicates().orderBy('count').show()"
   ]
  },
  {
   "cell_type": "code",
   "execution_count": null,
   "metadata": {},
   "outputs": [],
   "source": [
    "scc_sar.groupBy('component').count().where(func.col('count')==1).count()"
   ]
  },
  {
   "cell_type": "code",
   "execution_count": null,
   "metadata": {},
   "outputs": [],
   "source": [
    "scc_sar.groupBy('component').count().where(func.col('count')>1).count()"
   ]
  },
  {
   "cell_type": "code",
   "execution_count": null,
   "metadata": {},
   "outputs": [],
   "source": [
    "scc_comp_count = scc_sar.groupBy('component').count().where(func.col('count')>1)"
   ]
  },
  {
   "cell_type": "code",
   "execution_count": null,
   "metadata": {},
   "outputs": [],
   "source": [
    "scc_sar = scc_sar.join(scc_comp_count,['component'])"
   ]
  },
  {
   "cell_type": "code",
   "execution_count": null,
   "metadata": {},
   "outputs": [],
   "source": [
    "scc_sar.show()"
   ]
  },
  {
   "cell_type": "code",
   "execution_count": null,
   "metadata": {},
   "outputs": [],
   "source": [
    "scc_sar =  scc_sar.drop('count')"
   ]
  },
  {
   "cell_type": "code",
   "execution_count": null,
   "metadata": {},
   "outputs": [],
   "source": [
    "cc_sar = cc_sar.groupBy('component').count().where(func.col('count')>2).drop('count')\n",
    "\n",
    "sar_cc_grouped = cc_sar.join(\n",
    "    only_sar_edge_df,\n",
    "    [(only_sar_edge_df.source==cc_sar.id)|(only_sar_edge_df.target==cc_sar.id)],\n",
    "    how=\"left\"\n",
    ").dropDuplicates(subset=['tran_id'])"
   ]
  },
  {
   "cell_type": "code",
   "execution_count": null,
   "metadata": {},
   "outputs": [],
   "source": [
    "sar_scc_grouped = scc_sar.join(\n",
    "    only_sar_edge_df,\n",
    "    [(only_sar_edge_df.source==scc_sar.id)|(only_sar_edge_df.target==scc_sar.id)],\n",
    "    how=\"left\"\n",
    ").dropDuplicates(subset=['tran_id'])"
   ]
  },
  {
   "cell_type": "code",
   "execution_count": null,
   "metadata": {},
   "outputs": [],
   "source": [
    "sar_cc_grouped.count()"
   ]
  },
  {
   "cell_type": "code",
   "execution_count": null,
   "metadata": {},
   "outputs": [],
   "source": [
    "sar_scc_grouped.count()"
   ]
  },
  {
   "cell_type": "code",
   "execution_count": null,
   "metadata": {},
   "outputs": [],
   "source": [
    "only_sar_edge_df.count()"
   ]
  },
  {
   "cell_type": "code",
   "execution_count": null,
   "metadata": {},
   "outputs": [],
   "source": []
  },
  {
   "cell_type": "code",
   "execution_count": null,
   "metadata": {},
   "outputs": [],
   "source": [
    "sar_scc_grouped.show()"
   ]
  },
  {
   "cell_type": "code",
   "execution_count": null,
   "metadata": {},
   "outputs": [],
   "source": []
  },
  {
   "cell_type": "code",
   "execution_count": null,
   "metadata": {},
   "outputs": [],
   "source": [
    "only_sar_edge_df = sar_cc_grouped"
   ]
  },
  {
   "cell_type": "code",
   "execution_count": null,
   "metadata": {},
   "outputs": [],
   "source": [
    "only_sar_edge_df.show(5)"
   ]
  },
  {
   "cell_type": "code",
   "execution_count": null,
   "metadata": {},
   "outputs": [],
   "source": []
  },
  {
   "cell_type": "code",
   "execution_count": null,
   "metadata": {},
   "outputs": [],
   "source": []
  },
  {
   "cell_type": "code",
   "execution_count": null,
   "metadata": {},
   "outputs": [],
   "source": [
    "only_normal_edge_df.count()"
   ]
  },
  {
   "cell_type": "code",
   "execution_count": null,
   "metadata": {},
   "outputs": [],
   "source": []
  },
  {
   "cell_type": "code",
   "execution_count": null,
   "metadata": {},
   "outputs": [],
   "source": [
    "only_sar_edge_df_grouped = only_sar_edge_df.groupBy('component').agg(func.min(\"tran_timestamp\"),func.max(\"tran_timestamp\")).toDF(\"component\", \"window_start\", \"window_end\")\n",
    "only_sar_edge_df_grouped.show(5)"
   ]
  },
  {
   "cell_type": "code",
   "execution_count": null,
   "metadata": {},
   "outputs": [],
   "source": []
  },
  {
   "cell_type": "code",
   "execution_count": null,
   "metadata": {},
   "outputs": [],
   "source": [
    "only_sar_edges_df_windows = only_sar_edge_df.join(only_sar_edge_df_grouped,[\"component\"])"
   ]
  },
  {
   "cell_type": "code",
   "execution_count": null,
   "metadata": {},
   "outputs": [],
   "source": [
    "only_sar_edges_df_windows.show()"
   ]
  },
  {
   "cell_type": "code",
   "execution_count": null,
   "metadata": {},
   "outputs": [],
   "source": [
    "only_sar_edges_df_windows.count()"
   ]
  },
  {
   "cell_type": "code",
   "execution_count": null,
   "metadata": {},
   "outputs": [],
   "source": []
  },
  {
   "cell_type": "code",
   "execution_count": null,
   "metadata": {},
   "outputs": [],
   "source": [
    "only_normal_edges_df_windows = only_sar_edge_df_grouped.select(\"window_start\", \"window_end\").join(\n",
    "    only_normal_edge_df,\n",
    "    [(only_normal_edge_df.tran_timestamp>=only_sar_edge_df_grouped.window_start)&(only_normal_edge_df.tran_timestamp<=only_sar_edge_df_grouped.window_end)],\n",
    "    how=\"left\"\n",
    ")"
   ]
  },
  {
   "cell_type": "code",
   "execution_count": null,
   "metadata": {},
   "outputs": [],
   "source": [
    "only_normal_edges_df_windows.show()"
   ]
  },
  {
   "cell_type": "code",
   "execution_count": null,
   "metadata": {},
   "outputs": [],
   "source": [
    "only_normal_edges_df_windows.count()"
   ]
  },
  {
   "cell_type": "code",
   "execution_count": null,
   "metadata": {},
   "outputs": [],
   "source": [
    "only_normal_edges_df_windows = only_normal_edges_df_windows.withColumnRenamed(\"source\", \"origId\")\\\n",
    "                                                           .withColumnRenamed(\"target\", \"destId\")  \n",
    "only_normal_edges_df_windows = only_normal_edges_df_windows.withColumn('target',hashnode_udf(func.concat(func.col('destId'),func.lit('_'),func.col('window_start'),func.lit('_'),func.col('window_end'))))\\\n",
    "                                                           .withColumn('source',hashnode_udf(func.concat(func.col('origId'),func.lit('_'),func.col('window_start'),func.lit('_'),func.col('window_end'))))            \n",
    "only_normal_edges_df_windows.show()"
   ]
  },
  {
   "cell_type": "code",
   "execution_count": null,
   "metadata": {},
   "outputs": [],
   "source": []
  },
  {
   "cell_type": "code",
   "execution_count": null,
   "metadata": {},
   "outputs": [],
   "source": [
    "normal_sources = only_normal_edges_df_windows.select(\"source\")\n",
    "normal_targets = only_normal_edges_df_windows.select(\"target\")\n",
    "normal_nodes = normal_sources.union(normal_targets).toDF(\"id\").dropDuplicates()\n",
    "normal_edges = only_normal_edges_df_windows.select(\"source\", \"target\").toDF(\"src\", \"dst\")"
   ]
  },
  {
   "cell_type": "code",
   "execution_count": null,
   "metadata": {},
   "outputs": [],
   "source": []
  },
  {
   "cell_type": "code",
   "execution_count": null,
   "metadata": {},
   "outputs": [],
   "source": [
    "# Now lets construct the graph\n",
    "g_normal = GraphFrame(normal_nodes,normal_edges)"
   ]
  },
  {
   "cell_type": "code",
   "execution_count": null,
   "metadata": {},
   "outputs": [],
   "source": [
    "sc.setCheckpointDir(\"hdfs:///Projects/{}/Logs/sc\".format(hdfs.project_name()))\n",
    "cc_normal = g_normal.connectedComponents().cache()\n",
    "#scc_normal = g_normal.stronglyConnectedComponents(20).cache()"
   ]
  },
  {
   "cell_type": "code",
   "execution_count": null,
   "metadata": {},
   "outputs": [],
   "source": [
    "cc_norm_comp_count = cc_normal.groupBy('component').count().where(func.col('count')>2)\n",
    "cc_normal = cc_normal.join(cc_norm_comp_count,['component'])\n",
    "cc_normal =  cc_normal.drop('count')\n",
    "normal_cc_grouped = cc_normal.join(\n",
    "    only_normal_edge_df,\n",
    "    [(only_normal_edge_df.source==cc_normal.id)|(only_normal_edge_df.target==cc_normal.id)],\n",
    "    how=\"left\"\n",
    ").dropDuplicates(subset=['tran_id'])"
   ]
  },
  {
   "cell_type": "code",
   "execution_count": null,
   "metadata": {},
   "outputs": [],
   "source": [
    "normal_cc_grouped.show()"
   ]
  },
  {
   "cell_type": "code",
   "execution_count": null,
   "metadata": {},
   "outputs": [],
   "source": []
  },
  {
   "cell_type": "code",
   "execution_count": null,
   "metadata": {},
   "outputs": [],
   "source": []
  },
  {
   "cell_type": "code",
   "execution_count": null,
   "metadata": {},
   "outputs": [],
   "source": []
  }
 ],
 "metadata": {
  "kernelspec": {
   "display_name": "PySpark",
   "language": "python",
   "name": "pysparkkernel"
  },
  "language_info": {
   "codemirror_mode": {
    "name": "python",
    "version": 3
   },
   "mimetype": "text/x-python",
   "name": "pyspark",
   "pygments_lexer": "python3"
  }
 },
 "nbformat": 4,
 "nbformat_minor": 4
}
