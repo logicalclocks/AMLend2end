{
 "cells": [
  {
   "cell_type": "code",
   "execution_count": 1,
   "metadata": {},
   "outputs": [
    {
     "name": "stdout",
     "output_type": "stream",
     "text": [
      "Starting Spark application\n"
     ]
    },
    {
     "data": {
      "text/html": [
       "<table>\n",
       "<tr><th>ID</th><th>YARN Application ID</th><th>Kind</th><th>State</th><th>Spark UI</th><th>Driver log</th></tr><tr><td>72</td><td>application_1607949680860_0074</td><td>pyspark</td><td>idle</td><td><a target=\"_blank\" href=\"http://resourcemanager.service.consul:8088/proxy/application_1607949680860_0074/\">Link</a></td><td><a target=\"_blank\" href=\"http://hopsworksdavit-worker-5.internal.cloudapp.net:8042/node/containerlogs/container_e02_1607949680860_0074_01_000001/amlsim__meb10179\">Link</a></td></tr></table>"
      ],
      "text/plain": [
       "<IPython.core.display.HTML object>"
      ]
     },
     "metadata": {},
     "output_type": "display_data"
    },
    {
     "name": "stdout",
     "output_type": "stream",
     "text": [
      "SparkSession available as 'spark'.\n",
      "<pyspark.sql.session.SparkSession object at 0x7f8a87eb1e90>"
     ]
    }
   ],
   "source": [
    "spark"
   ]
  },
  {
   "cell_type": "code",
   "execution_count": 2,
   "metadata": {},
   "outputs": [],
   "source": [
    "import hashlib\n",
    "from datetime import datetime\n",
    "from graphframes import *\n",
    "from pyspark.sql import functions as func\n",
    "from pyspark.sql.types import FloatType\n",
    "import hsfs\n",
    "from hops import hdfs\n",
    "import os\n",
    "from pyspark.sql import SQLContext"
   ]
  },
  {
   "cell_type": "code",
   "execution_count": 3,
   "metadata": {},
   "outputs": [],
   "source": [
    "def hashnode(x):\n",
    "    return hashlib.sha1(x.encode(\"UTF-8\")).hexdigest()[:8]\n",
    "\n",
    "hashnode_udf = func.udf(hashnode)"
   ]
  },
  {
   "cell_type": "code",
   "execution_count": 4,
   "metadata": {},
   "outputs": [
    {
     "name": "stdout",
     "output_type": "stream",
     "text": [
      "Connected. Call `.close()` to terminate connection gracefully."
     ]
    }
   ],
   "source": [
    "# Create a connection\n",
    "connection = hsfs.connection()\n",
    "# Get the feature store handle for the project's feature store\n",
    "fs = connection.get_feature_store()"
   ]
  },
  {
   "cell_type": "code",
   "execution_count": 5,
   "metadata": {},
   "outputs": [],
   "source": [
    "edge_fg = fs.get_feature_group('transactions_fg', 1)\n",
    "node_fg = fs.get_feature_group('account_features', 1)"
   ]
  },
  {
   "cell_type": "code",
   "execution_count": 6,
   "metadata": {},
   "outputs": [
    {
     "name": "stdout",
     "output_type": "stream",
     "text": [
      "+--------------+---------+-------+---------------+\n",
      "|tx_behavior_id|prior_sar|acct_id|initial_deposit|\n",
      "+--------------+---------+-------+---------------+\n",
      "|             1|        0|      0|       84442.19|\n",
      "|             1|        0|      1|       75795.44|\n",
      "|             1|        0|      2|       42057.16|\n",
      "|             1|        0|      3|       25891.68|\n",
      "|             1|        0|      4|       51127.47|\n",
      "+--------------+---------+-------+---------------+\n",
      "only showing top 5 rows"
     ]
    }
   ],
   "source": [
    "node_fg.show(5)"
   ]
  },
  {
   "cell_type": "code",
   "execution_count": 7,
   "metadata": {},
   "outputs": [
    {
     "name": "stdout",
     "output_type": "stream",
     "text": [
      "+------+-------+--------------+--------+------+--------+------+-------+\n",
      "|is_sar|tran_id|tran_timestamp|base_amt|target|alert_id|source|tx_type|\n",
      "+------+-------+--------------+--------+------+--------+------+-------+\n",
      "|     0|      1|   1.4832288E9| 9405.71|  3259|      -1|  1767|      4|\n",
      "|     0|      2|   1.4832288E9| 6884.54|  5141|      -1|  7363|      4|\n",
      "|     0|      3|   1.4832288E9|  7968.4|  9532|      -1|  7585|      4|\n",
      "|     0|      4|   1.4832288E9| 9042.67|  8792|      -1|  1750|      4|\n",
      "|     0|      5|   1.4832288E9| 4692.79|  4670|      -1|  9060|      4|\n",
      "+------+-------+--------------+--------+------+--------+------+-------+\n",
      "only showing top 5 rows"
     ]
    }
   ],
   "source": [
    "edge_fg.show(5)"
   ]
  },
  {
   "cell_type": "code",
   "execution_count": 8,
   "metadata": {},
   "outputs": [],
   "source": [
    "only_sar_edge_df = edge_fg.read().filter(func.col('alert_id') != -1)\n",
    "only_normal_edge_df =  edge_fg.read().filter(func.col('alert_id') == -1)"
   ]
  },
  {
   "cell_type": "code",
   "execution_count": 9,
   "metadata": {},
   "outputs": [
    {
     "name": "stdout",
     "output_type": "stream",
     "text": [
      "+------+-------+--------------+--------+------+--------+------+-------+\n",
      "|is_sar|tran_id|tran_timestamp|base_amt|target|alert_id|source|tx_type|\n",
      "+------+-------+--------------+--------+------+--------+------+-------+\n",
      "|     0|      1|   1.4832288E9| 9405.71|  3259|      -1|  1767|      4|\n",
      "|     0|      2|   1.4832288E9| 6884.54|  5141|      -1|  7363|      4|\n",
      "|     0|      3|   1.4832288E9|  7968.4|  9532|      -1|  7585|      4|\n",
      "|     0|      4|   1.4832288E9| 9042.67|  8792|      -1|  1750|      4|\n",
      "|     0|      5|   1.4832288E9| 4692.79|  4670|      -1|  9060|      4|\n",
      "+------+-------+--------------+--------+------+--------+------+-------+\n",
      "only showing top 5 rows"
     ]
    }
   ],
   "source": [
    "only_normal_edge_df.show(5)"
   ]
  },
  {
   "cell_type": "code",
   "execution_count": 10,
   "metadata": {},
   "outputs": [
    {
     "name": "stdout",
     "output_type": "stream",
     "text": [
      "+------+-------+--------------+--------+------+--------+------+-------+\n",
      "|is_sar|tran_id|tran_timestamp|base_amt|target|alert_id|source|tx_type|\n",
      "+------+-------+--------------+--------+------+--------+------+-------+\n",
      "|     1|     98|   1.4832288E9|  108.62|  5688|      16|  2298|      4|\n",
      "|     1|    108|   1.4832288E9|  183.25|  9601|      26|  8627|      4|\n",
      "|     1|    135|   1.4832288E9|  142.71|  8359|      15|  2756|      4|\n",
      "|     1|    137|   1.4832288E9|  132.47|  7702|       9|  7605|      4|\n",
      "|     1|    218|   1.4832288E9|  119.51|  7377|      17|  5891|      4|\n",
      "|     1|    335|   1.4832288E9|  136.02|  1661|      12|  6787|      4|\n",
      "|     1|    439|   1.4832288E9|  194.53|  7950|       0|  8485|      4|\n",
      "|     1|    477|   1.4832288E9|  184.32|  2177|       3|  5324|      4|\n",
      "|     1|    514|   1.4832288E9|  130.63|  4616|      19|  4919|      4|\n",
      "|     1|    564|   1.4832288E9|  183.27|  1589|       5|  4170|      4|\n",
      "|     1|    580|   1.4832288E9|  135.69|  1590|      18|  6483|      4|\n",
      "|     1|    654|   1.4832288E9|  160.35|  2275|      20|   123|      4|\n",
      "|     1|    711|   1.4832288E9|  144.32|  9851|      23|  6173|      4|\n",
      "|     1|    742|   1.4832288E9|  177.32|  2182|       4|  9300|      4|\n",
      "|     1|    779|   1.4832288E9|  189.75|  5470|       1|  2344|      4|\n",
      "|     1|    780|   1.4832288E9|  112.62|  4651|      22|  9149|      4|\n",
      "|     1|    933|   1.4832288E9|  108.91|  4046|      27|   312|      4|\n",
      "|     1|    947|   1.4832288E9|  173.42|  2300|       8|  5819|      4|\n",
      "|     1|   1070|   1.4832288E9|  135.89|  1964|       6|  3792|      4|\n",
      "|     1|   1256|   1.4832288E9|  142.27|  3191|      25|  7235|      4|\n",
      "+------+-------+--------------+--------+------+--------+------+-------+\n",
      "only showing top 20 rows"
     ]
    }
   ],
   "source": [
    "only_sar_edge_df.show()"
   ]
  },
  {
   "cell_type": "code",
   "execution_count": 11,
   "metadata": {},
   "outputs": [
    {
     "name": "stdout",
     "output_type": "stream",
     "text": [
      "732"
     ]
    }
   ],
   "source": [
    "only_sar_edge_df.count()"
   ]
  },
  {
   "cell_type": "code",
   "execution_count": 12,
   "metadata": {},
   "outputs": [
    {
     "name": "stdout",
     "output_type": "stream",
     "text": [
      "732"
     ]
    }
   ],
   "source": [
    "sar_sources = only_sar_edge_df.select(\"source\")\n",
    "sar_targets = only_sar_edge_df.select(\"target\")\n",
    "sar_nodes = sar_sources.union(sar_targets).toDF(\"id\").dropDuplicates()\n",
    "sar_nodes.count()\n",
    "\n",
    "sar_edges = only_sar_edge_df.select(\"source\", \"target\").toDF(\"src\", \"dst\")\n",
    "sar_edges.count()"
   ]
  },
  {
   "cell_type": "code",
   "execution_count": 13,
   "metadata": {},
   "outputs": [],
   "source": [
    "# Now lets construct the graph\n",
    "g_sar = GraphFrame(sar_nodes,sar_edges)\n",
    "sc.setCheckpointDir(\"hdfs:///Projects/{}/Logs/sc\".format(hdfs.project_name()))\n",
    "cc_sar = g_sar.connectedComponents()"
   ]
  },
  {
   "cell_type": "code",
   "execution_count": 14,
   "metadata": {},
   "outputs": [
    {
     "name": "stdout",
     "output_type": "stream",
     "text": [
      "+----+---------+\n",
      "|  id|component|\n",
      "+----+---------+\n",
      "|8086|     2599|\n",
      "|7833|     3671|\n",
      "|5300|     2773|\n",
      "| 463|      124|\n",
      "|3997|     2773|\n",
      "|1127|     1127|\n",
      "| 540|      540|\n",
      "|6393|     3396|\n",
      "|1522|     1054|\n",
      "|5614|      825|\n",
      "|7387|      643|\n",
      "|3488|     2599|\n",
      "|2393|      397|\n",
      "|9162|     2889|\n",
      "|1265|     1009|\n",
      "|4042|     1590|\n",
      "|5223|     1013|\n",
      "|4364|     1096|\n",
      "|9403|     1794|\n",
      "|4000|      960|\n",
      "+----+---------+\n",
      "only showing top 20 rows"
     ]
    }
   ],
   "source": [
    "cc_sar.cache().show()"
   ]
  },
  {
   "cell_type": "code",
   "execution_count": 15,
   "metadata": {},
   "outputs": [
    {
     "name": "stdout",
     "output_type": "stream",
     "text": [
      "+-----+\n",
      "|count|\n",
      "+-----+\n",
      "|    5|\n",
      "|    6|\n",
      "|    7|\n",
      "|    8|\n",
      "|    9|\n",
      "|   10|\n",
      "+-----+"
     ]
    }
   ],
   "source": [
    "cc_sar.groupBy('component').count().select('count').dropDuplicates().orderBy('count').show()"
   ]
  },
  {
   "cell_type": "code",
   "execution_count": null,
   "metadata": {},
   "outputs": [],
   "source": []
  },
  {
   "cell_type": "code",
   "execution_count": 16,
   "metadata": {},
   "outputs": [
    {
     "name": "stdout",
     "output_type": "stream",
     "text": [
      "+---------+----+\n",
      "|component|  id|\n",
      "+---------+----+\n",
      "|     2599|8086|\n",
      "|     3671|7833|\n",
      "|     2773|5300|\n",
      "|      124| 463|\n",
      "|     2773|3997|\n",
      "|     1127|1127|\n",
      "|      540| 540|\n",
      "|     3396|6393|\n",
      "|     1054|1522|\n",
      "|      825|5614|\n",
      "|      643|7387|\n",
      "|     2599|3488|\n",
      "|      397|2393|\n",
      "|     2889|9162|\n",
      "|     1009|1265|\n",
      "|     1590|4042|\n",
      "|     1013|5223|\n",
      "|     1096|4364|\n",
      "|     1794|9403|\n",
      "|      960|4000|\n",
      "+---------+----+\n",
      "only showing top 20 rows"
     ]
    }
   ],
   "source": [
    "cc_sar_grouped = cc_sar.groupBy('component').count().where(func.col('count')>2).drop('count')\n",
    "cc_sar = cc_sar.join(cc_sar_grouped,['component'])\n",
    "cc_sar.show()"
   ]
  },
  {
   "cell_type": "code",
   "execution_count": 17,
   "metadata": {},
   "outputs": [
    {
     "name": "stdout",
     "output_type": "stream",
     "text": [
      "+---------+----+------+-------+--------------+--------+------+--------+------+-------+\n",
      "|component|  id|is_sar|tran_id|tran_timestamp|base_amt|target|alert_id|source|tx_type|\n",
      "+---------+----+------+-------+--------------+--------+------+--------+------+-------+\n",
      "|     1823|2300|     1|  44437|   1.4859072E9|  173.42|  2300|       8|  5294|      4|\n",
      "|     1009|1425|     1| 100274|   1.4892768E9|  102.86|  1425|      80|  3661|      4|\n",
      "|      892|7268|     1| 612597|    1.520208E9|  109.79|  8764|      10|  7268|      4|\n",
      "|      410|2739|     1|  12471|     1.48392E9|  138.28|  2491|      58|  2739|      4|\n",
      "|     1794|9403|     1|  33855|    1.485216E9|  101.76|  9403|      44|  5838|      4|\n",
      "|     1801|9700|     1| 284874|   1.5004224E9|  103.47|  3984|      96|  9700|      4|\n",
      "|      554| 554|     1| 522545|   1.5147648E9|  106.94|  8091|      91|   554|      4|\n",
      "|     1823|2300|     1| 266765|   1.4992992E9|  173.42|  2300|       8|  2368|      4|\n",
      "|      825|4571|     1| 706588|    1.525824E9|   63.66|  7776|      84|  4571|      4|\n",
      "|       36|7702|     1|    137|   1.4832288E9|  132.47|  7702|       9|  7605|      4|\n",
      "|     1590|1590|     1|    580|   1.4832288E9|  135.69|  1590|      18|  6483|      4|\n",
      "|     2145|7133|     1| 161186|   1.4929056E9|  194.53|  7950|       0|  7133|      4|\n",
      "|      711| 711|     1| 246587|   1.4980896E9|  177.35|  8334|      24|   711|      4|\n",
      "|     1369|8581|     1| 472208|   1.5117408E9|  114.67|  8581|      70|  1598|      4|\n",
      "|     1013|5223|     1| 810963|   1.5322176E9|  136.02|  1661|      12|  5223|      4|\n",
      "|     1257|5261|     1|  57885|   1.4866848E9|   73.41|  6837|      95|  5261|      4|\n",
      "|     2862|3355|     1|  73566|   1.4876352E9|  109.81|  2862|      50|  3355|      4|\n",
      "|     3055|7366|     1| 881716|   1.5364512E9|   155.1|  8375|      33|  7366|      4|\n",
      "|      907|7851|     1| 509573|   1.5139872E9|   47.28|  3329|      90|  7851|      4|\n",
      "|     1096|9540|     1| 527507|    1.515024E9|  133.27|  5384|      48|  9540|      4|\n",
      "+---------+----+------+-------+--------------+--------+------+--------+------+-------+\n",
      "only showing top 20 rows"
     ]
    }
   ],
   "source": [
    "sar_cc_grouped = cc_sar.join(\n",
    "    only_sar_edge_df,\n",
    "    [(only_sar_edge_df.source==cc_sar.id)|(only_sar_edge_df.target==cc_sar.id)],\n",
    "    how=\"left\"\n",
    ").dropDuplicates(subset=['tran_id'])\n",
    "sar_cc_grouped.show()"
   ]
  },
  {
   "cell_type": "code",
   "execution_count": null,
   "metadata": {},
   "outputs": [],
   "source": []
  },
  {
   "cell_type": "code",
   "execution_count": 18,
   "metadata": {},
   "outputs": [
    {
     "name": "stdout",
     "output_type": "stream",
     "text": [
      "732"
     ]
    }
   ],
   "source": [
    "sar_cc_grouped.count()"
   ]
  },
  {
   "cell_type": "code",
   "execution_count": 19,
   "metadata": {},
   "outputs": [
    {
     "name": "stdout",
     "output_type": "stream",
     "text": [
      "732"
     ]
    }
   ],
   "source": [
    "sar_cc_grouped.count()"
   ]
  },
  {
   "cell_type": "code",
   "execution_count": 20,
   "metadata": {},
   "outputs": [
    {
     "name": "stdout",
     "output_type": "stream",
     "text": [
      "732"
     ]
    }
   ],
   "source": [
    "only_sar_edge_df.count()"
   ]
  },
  {
   "cell_type": "code",
   "execution_count": null,
   "metadata": {},
   "outputs": [],
   "source": []
  },
  {
   "cell_type": "code",
   "execution_count": null,
   "metadata": {},
   "outputs": [],
   "source": []
  },
  {
   "cell_type": "code",
   "execution_count": 21,
   "metadata": {},
   "outputs": [],
   "source": [
    "only_sar_edge_df = sar_cc_grouped"
   ]
  },
  {
   "cell_type": "code",
   "execution_count": 22,
   "metadata": {},
   "outputs": [
    {
     "name": "stdout",
     "output_type": "stream",
     "text": [
      "+---------+----+------+-------+--------------+--------+------+--------+------+-------+\n",
      "|component|  id|is_sar|tran_id|tran_timestamp|base_amt|target|alert_id|source|tx_type|\n",
      "+---------+----+------+-------+--------------+--------+------+--------+------+-------+\n",
      "|     1823|5294|     1|  44437|   1.4859072E9|  173.42|  2300|       8|  5294|      4|\n",
      "|     1009|1425|     1| 100274|   1.4892768E9|  102.86|  1425|      80|  3661|      4|\n",
      "|      892|8764|     1| 612597|    1.520208E9|  109.79|  8764|      10|  7268|      4|\n",
      "|      410|2491|     1|  12471|     1.48392E9|  138.28|  2491|      58|  2739|      4|\n",
      "|     1794|9403|     1|  33855|    1.485216E9|  101.76|  9403|      44|  5838|      4|\n",
      "+---------+----+------+-------+--------------+--------+------+--------+------+-------+\n",
      "only showing top 5 rows"
     ]
    }
   ],
   "source": [
    "only_sar_edge_df.show(5)"
   ]
  },
  {
   "cell_type": "code",
   "execution_count": null,
   "metadata": {},
   "outputs": [],
   "source": []
  },
  {
   "cell_type": "code",
   "execution_count": null,
   "metadata": {},
   "outputs": [],
   "source": []
  },
  {
   "cell_type": "code",
   "execution_count": 28,
   "metadata": {},
   "outputs": [],
   "source": [
    "normal_sources = only_normal_edge_df.select(\"source\")\n",
    "normal_targets = only_normal_edge_df.select(\"target\")\n",
    "normal_nodes = normal_sources.union(normal_targets).toDF(\"id\").dropDuplicates()\n",
    "normal_edges = only_normal_edge_df.select(\"source\", \"target\").toDF(\"src\", \"dst\")"
   ]
  },
  {
   "cell_type": "code",
   "execution_count": null,
   "metadata": {},
   "outputs": [],
   "source": []
  },
  {
   "cell_type": "code",
   "execution_count": 29,
   "metadata": {},
   "outputs": [],
   "source": [
    "# Now lets construct the graph\n",
    "g_normal = GraphFrame(normal_nodes,normal_edges)"
   ]
  },
  {
   "cell_type": "code",
   "execution_count": 30,
   "metadata": {},
   "outputs": [],
   "source": [
    "sc.setCheckpointDir(\"hdfs:///Projects/{}/Logs/sc\".format(hdfs.project_name()))\n",
    "cc_normal = g_normal.connectedComponents().cache()\n",
    "#scc_normal = g_normal.stronglyConnectedComponents(20).cache()"
   ]
  },
  {
   "cell_type": "code",
   "execution_count": 36,
   "metadata": {},
   "outputs": [
    {
     "name": "stdout",
     "output_type": "stream",
     "text": [
      "DataFrame[component: bigint, id: int, is_sar: int, tran_id: int, tran_timestamp: float, base_amt: double, target: int, alert_id: int, source: int, tx_type: string]"
     ]
    }
   ],
   "source": [
    "cc_norm_comp_count = cc_normal.groupBy('component').count().where(func.col('count')>=5)\n",
    "cc_normal = cc_normal.join(cc_norm_comp_count,['component'])\n",
    "cc_normal =  cc_normal.drop('count')\n",
    "normal_cc_grouped = cc_normal.join(\n",
    "    only_normal_edge_df,\n",
    "    [(only_normal_edge_df.source==cc_normal.id)|(only_normal_edge_df.target==cc_normal.id)],\n",
    "    how=\"left\"\n",
    ").dropDuplicates(subset=['tran_id'])\n",
    "normal_cc_grouped.cache()"
   ]
  },
  {
   "cell_type": "code",
   "execution_count": 37,
   "metadata": {},
   "outputs": [
    {
     "name": "stdout",
     "output_type": "stream",
     "text": [
      "+---------+----+------+-------+--------------+--------+------+--------+------+-------+\n",
      "|component|  id|is_sar|tran_id|tran_timestamp|base_amt|target|alert_id|source|tx_type|\n",
      "+---------+----+------+-------+--------------+--------+------+--------+------+-------+\n",
      "|        2|3951|     0|    148|   1.4832288E9| 8934.66|  3951|      -1|   854|      4|\n",
      "|        2|4076|     0|    463|   1.4832288E9| 5695.63|  1630|      -1|  4076|      4|\n",
      "|        2|1834|     0|    471|   1.4832288E9| 5781.43|  1834|      -1|  4193|      4|\n",
      "|        2|3654|     0|    496|   1.4832288E9| 5231.16|  3654|      -1|  1334|      4|\n",
      "|        2|1052|     0|    833|   1.4832288E9| 4552.67|  8906|      -1|  1052|      4|\n",
      "|        2|9587|     0|   1088|   1.4832288E9| 6632.67|  9587|      -1|  9097|      4|\n",
      "|        2|9109|     0|   1238|   1.4832288E9| 2777.34|  9378|      -1|  9109|      4|\n",
      "|        2|6306|     0|   1342|   1.4832288E9|  9067.7|  6306|      -1|   176|      4|\n",
      "|        2|9951|     0|   1580|   1.4833152E9|  3811.5|  9951|      -1|  9478|      4|\n",
      "|        2|3335|     0|   1591|   1.4833152E9|  4118.7|  3335|      -1|  4531|      4|\n",
      "|        2|4819|     0|   1645|   1.4833152E9| 8523.88|  1246|      -1|  4819|      4|\n",
      "|        2|5829|     0|   1829|   1.4833152E9| 2840.21|  5829|      -1|  6351|      4|\n",
      "|        2|7130|     0|   1959|   1.4833152E9| 4195.39|  7130|      -1|  9370|      4|\n",
      "|        2|1841|     0|   2122|   1.4833152E9| 8528.77|  1841|      -1|  4484|      4|\n",
      "|        2|5788|     0|   2142|   1.4833152E9|  452.43|  5788|      -1|  7638|      4|\n",
      "|        2|4909|     0|   2366|   1.4833152E9| 2523.82|  3954|      -1|  4909|      4|\n",
      "|        2|9611|     0|   2659|   1.4833152E9| 2263.68|  9611|      -1|  6928|      4|\n",
      "|        2|8818|     0|   2866|   1.4833152E9| 2653.84|  1282|      -1|  8818|      4|\n",
      "|        2|6326|     0|   3175|   1.4834016E9| 4700.56|  6326|      -1|   439|      4|\n",
      "|        2|6014|     0|   3749|   1.4834016E9|  640.06|  1597|      -1|  6014|      4|\n",
      "+---------+----+------+-------+--------------+--------+------+--------+------+-------+\n",
      "only showing top 20 rows"
     ]
    }
   ],
   "source": [
    "normal_cc_grouped.show()"
   ]
  },
  {
   "cell_type": "code",
   "execution_count": 38,
   "metadata": {},
   "outputs": [
    {
     "name": "stdout",
     "output_type": "stream",
     "text": [
      "1028964"
     ]
    }
   ],
   "source": [
    "normal_cc_grouped.count()"
   ]
  },
  {
   "cell_type": "code",
   "execution_count": null,
   "metadata": {},
   "outputs": [],
   "source": []
  },
  {
   "cell_type": "code",
   "execution_count": null,
   "metadata": {},
   "outputs": [],
   "source": []
  }
 ],
 "metadata": {
  "kernelspec": {
   "display_name": "PySpark",
   "language": "python",
   "name": "pysparkkernel"
  },
  "language_info": {
   "codemirror_mode": {
    "name": "python",
    "version": 3
   },
   "mimetype": "text/x-python",
   "name": "pyspark",
   "pygments_lexer": "python3"
  }
 },
 "nbformat": 4,
 "nbformat_minor": 4
}
