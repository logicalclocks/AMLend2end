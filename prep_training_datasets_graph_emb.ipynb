{
 "cells": [
  {
   "cell_type": "code",
   "execution_count": 1,
   "metadata": {},
   "outputs": [
    {
     "name": "stdout",
     "output_type": "stream",
     "text": [
      "Starting Spark application\n"
     ]
    },
    {
     "data": {
      "text/html": [
       "<table>\n",
       "<tr><th>ID</th><th>YARN Application ID</th><th>Kind</th><th>State</th><th>Spark UI</th><th>Driver log</th></tr><tr><td>61</td><td>application_1607949680860_0063</td><td>pyspark</td><td>idle</td><td><a target=\"_blank\" href=\"http://resourcemanager.service.consul:8088/proxy/application_1607949680860_0063/\">Link</a></td><td><a target=\"_blank\" href=\"http://hopsworksdavit-worker-1.internal.cloudapp.net:8042/node/containerlogs/container_e02_1607949680860_0063_01_000001/amlsim__meb10179\">Link</a></td></tr></table>"
      ],
      "text/plain": [
       "<IPython.core.display.HTML object>"
      ]
     },
     "metadata": {},
     "output_type": "display_data"
    },
    {
     "name": "stdout",
     "output_type": "stream",
     "text": [
      "SparkSession available as 'spark'.\n",
      "<pyspark.sql.session.SparkSession object at 0x7f9fb0c65f90>"
     ]
    }
   ],
   "source": [
    "spark"
   ]
  },
  {
   "cell_type": "code",
   "execution_count": 2,
   "metadata": {},
   "outputs": [],
   "source": [
    "import hashlib\n",
    "from datetime import datetime\n",
    "from graphframes import *\n",
    "from pyspark.sql import functions as func\n",
    "from pyspark.sql.types import FloatType\n",
    "import hsfs\n",
    "from hops import hdfs\n",
    "import os\n",
    "from pyspark.sql import SQLContext"
   ]
  },
  {
   "cell_type": "code",
   "execution_count": 3,
   "metadata": {},
   "outputs": [],
   "source": [
    "def hashnode(x):\n",
    "    return hashlib.sha1(x.encode(\"UTF-8\")).hexdigest()[:8]\n",
    "\n",
    "hashnode_udf = func.udf(hashnode)"
   ]
  },
  {
   "cell_type": "code",
   "execution_count": 4,
   "metadata": {},
   "outputs": [
    {
     "name": "stdout",
     "output_type": "stream",
     "text": [
      "Connected. Call `.close()` to terminate connection gracefully."
     ]
    }
   ],
   "source": [
    "# Create a connection\n",
    "connection = hsfs.connection()\n",
    "# Get the feature store handle for the project's feature store\n",
    "fs = connection.get_feature_store()"
   ]
  },
  {
   "cell_type": "code",
   "execution_count": 5,
   "metadata": {},
   "outputs": [],
   "source": [
    "edge_fg = fs.get_feature_group('transactions_fg', 1)\n",
    "node_fg = fs.get_feature_group('account_features', 1)"
   ]
  },
  {
   "cell_type": "code",
   "execution_count": 6,
   "metadata": {},
   "outputs": [
    {
     "name": "stdout",
     "output_type": "stream",
     "text": [
      "+--------------+---------+-------+---------------+\n",
      "|tx_behavior_id|prior_sar|acct_id|initial_deposit|\n",
      "+--------------+---------+-------+---------------+\n",
      "|             1|        0|      0|       84442.19|\n",
      "|             1|        0|      1|       75795.44|\n",
      "|             1|        0|      2|       42057.16|\n",
      "|             1|        0|      3|       25891.68|\n",
      "|             1|        0|      4|       51127.47|\n",
      "+--------------+---------+-------+---------------+\n",
      "only showing top 5 rows"
     ]
    }
   ],
   "source": [
    "node_fg.show(5)"
   ]
  },
  {
   "cell_type": "code",
   "execution_count": 7,
   "metadata": {},
   "outputs": [
    {
     "name": "stdout",
     "output_type": "stream",
     "text": [
      "+-------+------+-------+--------------+--------+------+--------+------+\n",
      "|tx_type|is_sar|tran_id|tran_timestamp|base_amt|target|alert_id|source|\n",
      "+-------+------+-------+--------------+--------+------+--------+------+\n",
      "|      4|     0|      1|   1.4832288E9| 9405.71|  3259|      -1|  1767|\n",
      "|      4|     0|      2|   1.4832288E9| 6884.54|  5141|      -1|  7363|\n",
      "|      4|     0|      3|   1.4832288E9|  7968.4|  9532|      -1|  7585|\n",
      "|      4|     0|      4|   1.4832288E9| 9042.67|  8792|      -1|  1750|\n",
      "|      4|     0|      5|   1.4832288E9| 4692.79|  4670|      -1|  9060|\n",
      "+-------+------+-------+--------------+--------+------+--------+------+\n",
      "only showing top 5 rows"
     ]
    }
   ],
   "source": [
    "edge_fg.show(5)"
   ]
  },
  {
   "cell_type": "code",
   "execution_count": 8,
   "metadata": {},
   "outputs": [],
   "source": [
    "only_sar_edge_df = edge_fg.read().filter(func.col('alert_id') != -1)\n",
    "only_normal_edge_df =  edge_fg.read().filter(func.col('alert_id') == -1)"
   ]
  },
  {
   "cell_type": "code",
   "execution_count": 9,
   "metadata": {},
   "outputs": [
    {
     "name": "stdout",
     "output_type": "stream",
     "text": [
      "+-------+------+-------+--------------+--------+------+--------+------+\n",
      "|tx_type|is_sar|tran_id|tran_timestamp|base_amt|target|alert_id|source|\n",
      "+-------+------+-------+--------------+--------+------+--------+------+\n",
      "|      4|     0|      1|   1.4832288E9| 9405.71|  3259|      -1|  1767|\n",
      "|      4|     0|      2|   1.4832288E9| 6884.54|  5141|      -1|  7363|\n",
      "|      4|     0|      3|   1.4832288E9|  7968.4|  9532|      -1|  7585|\n",
      "|      4|     0|      4|   1.4832288E9| 9042.67|  8792|      -1|  1750|\n",
      "|      4|     0|      5|   1.4832288E9| 4692.79|  4670|      -1|  9060|\n",
      "+-------+------+-------+--------------+--------+------+--------+------+\n",
      "only showing top 5 rows"
     ]
    }
   ],
   "source": [
    "only_normal_edge_df.show(5)"
   ]
  },
  {
   "cell_type": "code",
   "execution_count": 10,
   "metadata": {},
   "outputs": [
    {
     "name": "stdout",
     "output_type": "stream",
     "text": [
      "+-------+------+-------+--------------+--------+------+--------+------+\n",
      "|tx_type|is_sar|tran_id|tran_timestamp|base_amt|target|alert_id|source|\n",
      "+-------+------+-------+--------------+--------+------+--------+------+\n",
      "|      4|     1|     98|   1.4832288E9|  108.62|  5688|      16|  2298|\n",
      "|      4|     1|    108|   1.4832288E9|  183.25|  9601|      26|  8627|\n",
      "|      4|     1|    135|   1.4832288E9|  142.71|  8359|      15|  2756|\n",
      "|      4|     1|    137|   1.4832288E9|  132.47|  7702|       9|  7605|\n",
      "|      4|     1|    218|   1.4832288E9|  119.51|  7377|      17|  5891|\n",
      "|      4|     1|    335|   1.4832288E9|  136.02|  1661|      12|  6787|\n",
      "|      4|     1|    439|   1.4832288E9|  194.53|  7950|       0|  8485|\n",
      "|      4|     1|    477|   1.4832288E9|  184.32|  2177|       3|  5324|\n",
      "|      4|     1|    514|   1.4832288E9|  130.63|  4616|      19|  4919|\n",
      "|      4|     1|    564|   1.4832288E9|  183.27|  1589|       5|  4170|\n",
      "|      4|     1|    580|   1.4832288E9|  135.69|  1590|      18|  6483|\n",
      "|      4|     1|    654|   1.4832288E9|  160.35|  2275|      20|   123|\n",
      "|      4|     1|    711|   1.4832288E9|  144.32|  9851|      23|  6173|\n",
      "|      4|     1|    742|   1.4832288E9|  177.32|  2182|       4|  9300|\n",
      "|      4|     1|    779|   1.4832288E9|  189.75|  5470|       1|  2344|\n",
      "|      4|     1|    780|   1.4832288E9|  112.62|  4651|      22|  9149|\n",
      "|      4|     1|    933|   1.4832288E9|  108.91|  4046|      27|   312|\n",
      "|      4|     1|    947|   1.4832288E9|  173.42|  2300|       8|  5819|\n",
      "|      4|     1|   1070|   1.4832288E9|  135.89|  1964|       6|  3792|\n",
      "|      4|     1|   1256|   1.4832288E9|  142.27|  3191|      25|  7235|\n",
      "+-------+------+-------+--------------+--------+------+--------+------+\n",
      "only showing top 20 rows"
     ]
    }
   ],
   "source": [
    "only_sar_edge_df.show()"
   ]
  },
  {
   "cell_type": "code",
   "execution_count": 11,
   "metadata": {},
   "outputs": [
    {
     "name": "stdout",
     "output_type": "stream",
     "text": [
      "732"
     ]
    }
   ],
   "source": [
    "only_sar_edge_df.count()"
   ]
  },
  {
   "cell_type": "code",
   "execution_count": 12,
   "metadata": {},
   "outputs": [
    {
     "name": "stdout",
     "output_type": "stream",
     "text": [
      "1028964"
     ]
    }
   ],
   "source": [
    "only_normal_edge_df.count()"
   ]
  },
  {
   "cell_type": "code",
   "execution_count": 13,
   "metadata": {},
   "outputs": [
    {
     "name": "stdout",
     "output_type": "stream",
     "text": [
      "+-------+------------+-----------+\n",
      "|tran_id|window_start| window_end|\n",
      "+-------+------------+-----------+\n",
      "|  44437| 1.4859072E9|1.4859072E9|\n",
      "| 100274| 1.4892768E9|1.4892768E9|\n",
      "| 612597|  1.520208E9| 1.520208E9|\n",
      "|  12471|   1.48392E9|  1.48392E9|\n",
      "|  33855|  1.485216E9| 1.485216E9|\n",
      "+-------+------------+-----------+\n",
      "only showing top 5 rows"
     ]
    }
   ],
   "source": [
    "only_sar_edge_df_grouped = only_sar_edge_df.groupBy('tran_id').agg(func.min(\"tran_timestamp\"),func.max(\"tran_timestamp\")).toDF(\"tran_id\", \"window_start\", \"window_end\")\n",
    "only_sar_edge_df_grouped.show(5)"
   ]
  },
  {
   "cell_type": "code",
   "execution_count": 14,
   "metadata": {},
   "outputs": [],
   "source": [
    "only_sar_edges_df_windows = only_sar_edge_df.join(only_sar_edge_df_grouped,[\"tran_id\"])"
   ]
  },
  {
   "cell_type": "code",
   "execution_count": 15,
   "metadata": {},
   "outputs": [
    {
     "name": "stdout",
     "output_type": "stream",
     "text": [
      "+-------+-------+------+--------------+--------+------+--------+------+------------+-----------+\n",
      "|tran_id|tx_type|is_sar|tran_timestamp|base_amt|target|alert_id|source|window_start| window_end|\n",
      "+-------+-------+------+--------------+--------+------+--------+------+------------+-----------+\n",
      "|     98|      4|     1|   1.4832288E9|  108.62|  5688|      16|  2298| 1.4832288E9|1.4832288E9|\n",
      "|    108|      4|     1|   1.4832288E9|  183.25|  9601|      26|  8627| 1.4832288E9|1.4832288E9|\n",
      "|    135|      4|     1|   1.4832288E9|  142.71|  8359|      15|  2756| 1.4832288E9|1.4832288E9|\n",
      "|    137|      4|     1|   1.4832288E9|  132.47|  7702|       9|  7605| 1.4832288E9|1.4832288E9|\n",
      "|    218|      4|     1|   1.4832288E9|  119.51|  7377|      17|  5891| 1.4832288E9|1.4832288E9|\n",
      "|    335|      4|     1|   1.4832288E9|  136.02|  1661|      12|  6787| 1.4832288E9|1.4832288E9|\n",
      "|    439|      4|     1|   1.4832288E9|  194.53|  7950|       0|  8485| 1.4832288E9|1.4832288E9|\n",
      "|    477|      4|     1|   1.4832288E9|  184.32|  2177|       3|  5324| 1.4832288E9|1.4832288E9|\n",
      "|    514|      4|     1|   1.4832288E9|  130.63|  4616|      19|  4919| 1.4832288E9|1.4832288E9|\n",
      "|    564|      4|     1|   1.4832288E9|  183.27|  1589|       5|  4170| 1.4832288E9|1.4832288E9|\n",
      "|    580|      4|     1|   1.4832288E9|  135.69|  1590|      18|  6483| 1.4832288E9|1.4832288E9|\n",
      "|    654|      4|     1|   1.4832288E9|  160.35|  2275|      20|   123| 1.4832288E9|1.4832288E9|\n",
      "|    711|      4|     1|   1.4832288E9|  144.32|  9851|      23|  6173| 1.4832288E9|1.4832288E9|\n",
      "|    742|      4|     1|   1.4832288E9|  177.32|  2182|       4|  9300| 1.4832288E9|1.4832288E9|\n",
      "|    779|      4|     1|   1.4832288E9|  189.75|  5470|       1|  2344| 1.4832288E9|1.4832288E9|\n",
      "|    780|      4|     1|   1.4832288E9|  112.62|  4651|      22|  9149| 1.4832288E9|1.4832288E9|\n",
      "|    933|      4|     1|   1.4832288E9|  108.91|  4046|      27|   312| 1.4832288E9|1.4832288E9|\n",
      "|    947|      4|     1|   1.4832288E9|  173.42|  2300|       8|  5819| 1.4832288E9|1.4832288E9|\n",
      "|   1070|      4|     1|   1.4832288E9|  135.89|  1964|       6|  3792| 1.4832288E9|1.4832288E9|\n",
      "|   1256|      4|     1|   1.4832288E9|  142.27|  3191|      25|  7235| 1.4832288E9|1.4832288E9|\n",
      "+-------+-------+------+--------------+--------+------+--------+------+------------+-----------+\n",
      "only showing top 20 rows"
     ]
    }
   ],
   "source": [
    "only_sar_edges_df_windows.show()"
   ]
  },
  {
   "cell_type": "code",
   "execution_count": 16,
   "metadata": {},
   "outputs": [
    {
     "name": "stdout",
     "output_type": "stream",
     "text": [
      "732"
     ]
    }
   ],
   "source": [
    "only_sar_edges_df_windows.count()"
   ]
  },
  {
   "cell_type": "code",
   "execution_count": 17,
   "metadata": {},
   "outputs": [],
   "source": [
    "only_normal_edges_df_windows = only_sar_edge_df_grouped.select(\"window_start\", \"window_end\").join(\n",
    "    only_normal_edge_df,\n",
    "    [(only_normal_edge_df.tran_timestamp>=only_sar_edge_df_grouped.window_start)&(only_normal_edge_df.tran_timestamp<=only_sar_edge_df_grouped.window_end)],\n",
    "    how=\"left\"\n",
    ")"
   ]
  },
  {
   "cell_type": "code",
   "execution_count": 18,
   "metadata": {},
   "outputs": [
    {
     "name": "stdout",
     "output_type": "stream",
     "text": [
      "+------------+-----------+-------+------+-------+--------------+--------+------+--------+------+\n",
      "|window_start| window_end|tx_type|is_sar|tran_id|tran_timestamp|base_amt|target|alert_id|source|\n",
      "+------------+-----------+-------+------+-------+--------------+--------+------+--------+------+\n",
      "| 1.4859072E9|1.4859072E9|      4|     0|  44409|   1.4859072E9| 5887.65|  6489|      -1|  6074|\n",
      "| 1.4859072E9|1.4859072E9|      4|     0|  44410|   1.4859072E9| 1753.42|  2474|      -1|  5360|\n",
      "| 1.4859072E9|1.4859072E9|      4|     0|  44411|   1.4859072E9|  433.12|   678|      -1|  7416|\n",
      "| 1.4859072E9|1.4859072E9|      4|     0|  44412|   1.4859072E9| 1322.19|  8767|      -1|  8663|\n",
      "| 1.4859072E9|1.4859072E9|      4|     0|  44413|   1.4859072E9| 6036.48|  5370|      -1|  8258|\n",
      "| 1.4859072E9|1.4859072E9|      4|     0|  44414|   1.4859072E9| 9083.92|  2420|      -1|  9893|\n",
      "| 1.4859072E9|1.4859072E9|      4|     0|  44415|   1.4859072E9| 5309.47|  2418|      -1|  7987|\n",
      "| 1.4859072E9|1.4859072E9|      4|     0|  44416|   1.4859072E9| 9262.92|  6643|      -1|  8274|\n",
      "| 1.4859072E9|1.4859072E9|      4|     0|  44417|   1.4859072E9| 8628.83|  3394|      -1|   997|\n",
      "| 1.4859072E9|1.4859072E9|      4|     0|  44418|   1.4859072E9|  6287.7|  4842|      -1|  4699|\n",
      "| 1.4859072E9|1.4859072E9|      4|     0|  44419|   1.4859072E9| 1133.11|  2577|      -1|  9716|\n",
      "| 1.4859072E9|1.4859072E9|      4|     0|  44420|   1.4859072E9|  1278.0|  2006|      -1|  9979|\n",
      "| 1.4859072E9|1.4859072E9|      4|     0|  44421|   1.4859072E9| 2673.55|  9911|      -1|  7832|\n",
      "| 1.4859072E9|1.4859072E9|      4|     0|  44422|   1.4859072E9|  2064.3|  4822|      -1|  6089|\n",
      "| 1.4859072E9|1.4859072E9|      4|     0|  44423|   1.4859072E9| 4089.53|  2955|      -1|  6497|\n",
      "| 1.4859072E9|1.4859072E9|      4|     0|  44424|   1.4859072E9| 4167.63|  8401|      -1|  6831|\n",
      "| 1.4859072E9|1.4859072E9|      4|     0|  44425|   1.4859072E9| 9860.47|  2414|      -1|  9425|\n",
      "| 1.4859072E9|1.4859072E9|      4|     0|  44426|   1.4859072E9| 6775.49|  5045|      -1|  4159|\n",
      "| 1.4859072E9|1.4859072E9|      4|     0|  44427|   1.4859072E9|   76.33|  4653|      -1|  9755|\n",
      "| 1.4859072E9|1.4859072E9|      4|     0|  44428|   1.4859072E9| 7224.92|  8553|      -1|  1584|\n",
      "+------------+-----------+-------+------+-------+--------------+--------+------+--------+------+\n",
      "only showing top 20 rows"
     ]
    }
   ],
   "source": [
    "only_normal_edges_df_windows.show()"
   ]
  },
  {
   "cell_type": "code",
   "execution_count": 19,
   "metadata": {},
   "outputs": [
    {
     "name": "stdout",
     "output_type": "stream",
     "text": [
      "1048084"
     ]
    }
   ],
   "source": [
    "only_normal_edges_df_windows.count()"
   ]
  },
  {
   "cell_type": "code",
   "execution_count": 20,
   "metadata": {},
   "outputs": [
    {
     "name": "stdout",
     "output_type": "stream",
     "text": [
      "+------------+-----------+-------+------+-------+--------------+--------+------+--------+------+--------+--------+\n",
      "|window_start| window_end|tx_type|is_sar|tran_id|tran_timestamp|base_amt|destId|alert_id|origId|  target|  source|\n",
      "+------------+-----------+-------+------+-------+--------------+--------+------+--------+------+--------+--------+\n",
      "| 1.4859072E9|1.4859072E9|      4|     0|  44409|   1.4859072E9| 5887.65|  6489|      -1|  6074|51f60611|b8797deb|\n",
      "| 1.4859072E9|1.4859072E9|      4|     0|  44410|   1.4859072E9| 1753.42|  2474|      -1|  5360|ffea183c|2087ccb6|\n",
      "| 1.4859072E9|1.4859072E9|      4|     0|  44411|   1.4859072E9|  433.12|   678|      -1|  7416|f9bcd32a|d16e7308|\n",
      "| 1.4859072E9|1.4859072E9|      4|     0|  44412|   1.4859072E9| 1322.19|  8767|      -1|  8663|4e307995|6ac79954|\n",
      "| 1.4859072E9|1.4859072E9|      4|     0|  44413|   1.4859072E9| 6036.48|  5370|      -1|  8258|57e45309|eab8a93e|\n",
      "| 1.4859072E9|1.4859072E9|      4|     0|  44414|   1.4859072E9| 9083.92|  2420|      -1|  9893|b78bece4|85f00943|\n",
      "| 1.4859072E9|1.4859072E9|      4|     0|  44415|   1.4859072E9| 5309.47|  2418|      -1|  7987|e4de9f4b|07c2085c|\n",
      "| 1.4859072E9|1.4859072E9|      4|     0|  44416|   1.4859072E9| 9262.92|  6643|      -1|  8274|67690cc8|3f00018c|\n",
      "| 1.4859072E9|1.4859072E9|      4|     0|  44417|   1.4859072E9| 8628.83|  3394|      -1|   997|1a1e5e17|e437ee9b|\n",
      "| 1.4859072E9|1.4859072E9|      4|     0|  44418|   1.4859072E9|  6287.7|  4842|      -1|  4699|05a3a204|2bd99dc4|\n",
      "| 1.4859072E9|1.4859072E9|      4|     0|  44419|   1.4859072E9| 1133.11|  2577|      -1|  9716|52a8e08e|f190ee04|\n",
      "| 1.4859072E9|1.4859072E9|      4|     0|  44420|   1.4859072E9|  1278.0|  2006|      -1|  9979|5dea7240|c33fee9d|\n",
      "| 1.4859072E9|1.4859072E9|      4|     0|  44421|   1.4859072E9| 2673.55|  9911|      -1|  7832|e5f678da|c313d6e0|\n",
      "| 1.4859072E9|1.4859072E9|      4|     0|  44422|   1.4859072E9|  2064.3|  4822|      -1|  6089|13c08674|eec2a1bd|\n",
      "| 1.4859072E9|1.4859072E9|      4|     0|  44423|   1.4859072E9| 4089.53|  2955|      -1|  6497|37b809fe|7b4951c2|\n",
      "| 1.4859072E9|1.4859072E9|      4|     0|  44424|   1.4859072E9| 4167.63|  8401|      -1|  6831|ded18d7b|8969d1e4|\n",
      "| 1.4859072E9|1.4859072E9|      4|     0|  44425|   1.4859072E9| 9860.47|  2414|      -1|  9425|6c8556dd|85fbe80e|\n",
      "| 1.4859072E9|1.4859072E9|      4|     0|  44426|   1.4859072E9| 6775.49|  5045|      -1|  4159|3bf47de2|c4cbf0e0|\n",
      "| 1.4859072E9|1.4859072E9|      4|     0|  44427|   1.4859072E9|   76.33|  4653|      -1|  9755|c6b7716a|72039c32|\n",
      "| 1.4859072E9|1.4859072E9|      4|     0|  44428|   1.4859072E9| 7224.92|  8553|      -1|  1584|de7a0e8f|665ceea1|\n",
      "+------------+-----------+-------+------+-------+--------------+--------+------+--------+------+--------+--------+\n",
      "only showing top 20 rows"
     ]
    }
   ],
   "source": [
    "only_normal_edges_df_windows = only_normal_edges_df_windows.withColumnRenamed(\"source\", \"origId\")\\\n",
    "                                                           .withColumnRenamed(\"target\", \"destId\")  \n",
    "only_normal_edges_df_windows = only_normal_edges_df_windows.withColumn('target',hashnode_udf(func.concat(func.col('destId'),func.lit('_'),func.col('window_start'),func.lit('_'),func.col('window_end'))))\\\n",
    "                                                           .withColumn('source',hashnode_udf(func.concat(func.col('origId'),func.lit('_'),func.col('window_start'),func.lit('_'),func.col('window_end'))))            \n",
    "only_normal_edges_df_windows.show()"
   ]
  },
  {
   "cell_type": "code",
   "execution_count": 35,
   "metadata": {},
   "outputs": [
    {
     "name": "stdout",
     "output_type": "stream",
     "text": [
      "906318"
     ]
    }
   ],
   "source": [
    "normal_sources = only_normal_edges_df_windows.select(\"source\")\n",
    "normal_targets = only_normal_edges_df_windows.select(\"target\")\n",
    "normal_nodes = normal_sources.union(normal_targets).toDF(\"id\").dropDuplicates()\n",
    "normal_nodes.count()"
   ]
  },
  {
   "cell_type": "code",
   "execution_count": 36,
   "metadata": {},
   "outputs": [
    {
     "name": "stdout",
     "output_type": "stream",
     "text": [
      "1048084"
     ]
    }
   ],
   "source": [
    "normal_edges = only_normal_edges_df_windows.select(\"source\", \"target\").toDF(\"src\", \"dst\")\n",
    "normal_edges.count()"
   ]
  },
  {
   "cell_type": "code",
   "execution_count": null,
   "metadata": {},
   "outputs": [],
   "source": []
  },
  {
   "cell_type": "code",
   "execution_count": null,
   "metadata": {},
   "outputs": [],
   "source": []
  },
  {
   "cell_type": "code",
   "execution_count": 23,
   "metadata": {},
   "outputs": [
    {
     "name": "stdout",
     "output_type": "stream",
     "text": [
      "+-------+-------+------+--------------+--------+------+--------+------+------------+-----------+--------+--------+\n",
      "|tran_id|tx_type|is_sar|tran_timestamp|base_amt|destId|alert_id|origId|window_start| window_end|  target|  source|\n",
      "+-------+-------+------+--------------+--------+------+--------+------+------------+-----------+--------+--------+\n",
      "|     98|      4|     1|   1.4832288E9|  108.62|  5688|      16|  2298| 1.4832288E9|1.4832288E9|abadb2bd|2d6bcbfc|\n",
      "|    108|      4|     1|   1.4832288E9|  183.25|  9601|      26|  8627| 1.4832288E9|1.4832288E9|5a2ef132|2ffeba7c|\n",
      "|    135|      4|     1|   1.4832288E9|  142.71|  8359|      15|  2756| 1.4832288E9|1.4832288E9|20aba974|b6564133|\n",
      "|    137|      4|     1|   1.4832288E9|  132.47|  7702|       9|  7605| 1.4832288E9|1.4832288E9|f5a54e21|6c465ac2|\n",
      "|    218|      4|     1|   1.4832288E9|  119.51|  7377|      17|  5891| 1.4832288E9|1.4832288E9|53ae86b7|c59fa192|\n",
      "|    335|      4|     1|   1.4832288E9|  136.02|  1661|      12|  6787| 1.4832288E9|1.4832288E9|63d20cac|bab951fe|\n",
      "|    439|      4|     1|   1.4832288E9|  194.53|  7950|       0|  8485| 1.4832288E9|1.4832288E9|f4a13efe|08fd77bf|\n",
      "|    477|      4|     1|   1.4832288E9|  184.32|  2177|       3|  5324| 1.4832288E9|1.4832288E9|c3b4300d|0e6ac762|\n",
      "|    514|      4|     1|   1.4832288E9|  130.63|  4616|      19|  4919| 1.4832288E9|1.4832288E9|58010469|96a799d9|\n",
      "|    564|      4|     1|   1.4832288E9|  183.27|  1589|       5|  4170| 1.4832288E9|1.4832288E9|1346f36e|e13521b2|\n",
      "|    580|      4|     1|   1.4832288E9|  135.69|  1590|      18|  6483| 1.4832288E9|1.4832288E9|71b182fe|43e43c84|\n",
      "|    654|      4|     1|   1.4832288E9|  160.35|  2275|      20|   123| 1.4832288E9|1.4832288E9|4fbca029|9c28a7c8|\n",
      "|    711|      4|     1|   1.4832288E9|  144.32|  9851|      23|  6173| 1.4832288E9|1.4832288E9|fed6db58|de78399d|\n",
      "|    742|      4|     1|   1.4832288E9|  177.32|  2182|       4|  9300| 1.4832288E9|1.4832288E9|f3ad6dac|b8461bac|\n",
      "|    779|      4|     1|   1.4832288E9|  189.75|  5470|       1|  2344| 1.4832288E9|1.4832288E9|cddc18f4|e174f410|\n",
      "|    780|      4|     1|   1.4832288E9|  112.62|  4651|      22|  9149| 1.4832288E9|1.4832288E9|48e22b8f|d7e72a5d|\n",
      "|    933|      4|     1|   1.4832288E9|  108.91|  4046|      27|   312| 1.4832288E9|1.4832288E9|2cd51654|98c2aec7|\n",
      "|    947|      4|     1|   1.4832288E9|  173.42|  2300|       8|  5819| 1.4832288E9|1.4832288E9|9fc74b2f|da8c936a|\n",
      "|   1070|      4|     1|   1.4832288E9|  135.89|  1964|       6|  3792| 1.4832288E9|1.4832288E9|92b25762|853d4aaf|\n",
      "|   1256|      4|     1|   1.4832288E9|  142.27|  3191|      25|  7235| 1.4832288E9|1.4832288E9|4a46c592|cacdd528|\n",
      "+-------+-------+------+--------------+--------+------+--------+------+------------+-----------+--------+--------+\n",
      "only showing top 20 rows"
     ]
    }
   ],
   "source": [
    "only_sar_edges_df_windows = only_sar_edges_df_windows.withColumnRenamed(\"source\", \"origId\")\\\n",
    "                                                           .withColumnRenamed(\"target\", \"destId\")  \n",
    "only_sar_edges_df_windows = only_sar_edges_df_windows.withColumn('target',hashnode_udf(func.concat(func.col('destId'),func.lit('_'),func.col('window_start'),func.lit('_'),func.col('window_end'))))\\\n",
    "                                                           .withColumn('source',hashnode_udf(func.concat(func.col('origId'),func.lit('_'),func.col('window_start'),func.lit('_'),func.col('window_end'))))            \n",
    "only_sar_edges_df_windows.show()"
   ]
  },
  {
   "cell_type": "code",
   "execution_count": 32,
   "metadata": {},
   "outputs": [
    {
     "name": "stdout",
     "output_type": "stream",
     "text": [
      "1425"
     ]
    }
   ],
   "source": [
    "sar_sources = only_sar_edges_df_windows.select(\"source\")\n",
    "sar_targets = only_sar_edges_df_windows.select(\"target\")\n",
    "sar_nodes = sar_sources.union(sar_targets).toDF(\"id\").dropDuplicates()\n",
    "sar_nodes.count()"
   ]
  },
  {
   "cell_type": "code",
   "execution_count": 33,
   "metadata": {},
   "outputs": [
    {
     "name": "stdout",
     "output_type": "stream",
     "text": [
      "732"
     ]
    }
   ],
   "source": [
    "sar_edges = only_sar_edges_df_windows.select(\"source\", \"target\").toDF(\"src\", \"dst\")\n",
    "sar_edges.count()"
   ]
  },
  {
   "cell_type": "code",
   "execution_count": null,
   "metadata": {},
   "outputs": [],
   "source": []
  },
  {
   "cell_type": "code",
   "execution_count": null,
   "metadata": {},
   "outputs": [],
   "source": []
  },
  {
   "cell_type": "code",
   "execution_count": 38,
   "metadata": {},
   "outputs": [],
   "source": [
    "# Now lets construct the graph\n",
    "g_sar = GraphFrame(sar_nodes,sar_edges)\n",
    "sc.setCheckpointDir(\"hdfs:///Projects/{}/Logs/sc\".format(hdfs.project_name()))\n",
    "cc_sar = g_sar.connectedComponents()"
   ]
  },
  {
   "cell_type": "code",
   "execution_count": null,
   "metadata": {},
   "outputs": [],
   "source": []
  },
  {
   "cell_type": "code",
   "execution_count": 37,
   "metadata": {},
   "outputs": [],
   "source": [
    "# Now lets construct the graph\n",
    "g_normal = GraphFrame(normal_nodes,normal_edges)\n",
    "sc.setCheckpointDir(\"hdfs:///Projects/{}/Logs/sc\".format(hdfs.project_name()))\n",
    "cc_normal = g_normal.connectedComponents()"
   ]
  },
  {
   "cell_type": "code",
   "execution_count": null,
   "metadata": {},
   "outputs": [],
   "source": []
  },
  {
   "cell_type": "code",
   "execution_count": 39,
   "metadata": {},
   "outputs": [
    {
     "name": "stdout",
     "output_type": "stream",
     "text": [
      "+--------+-----------+\n",
      "|      id|  component|\n",
      "+--------+-----------+\n",
      "|f8a266a3|          5|\n",
      "|4256a087|          1|\n",
      "|9b22f31e|          3|\n",
      "|047d5447|          0|\n",
      "|c8bc2847|          4|\n",
      "|9a835811|          2|\n",
      "|eaaf82d3| 8589934597|\n",
      "|2076fd80| 8589934592|\n",
      "|476d03c1| 8589934593|\n",
      "|d9851929| 8589934601|\n",
      "|de292af9| 8589934602|\n",
      "|73986e68| 8589934595|\n",
      "|b55d2376| 8589934598|\n",
      "|f93cc381| 8589934604|\n",
      "|adff9b02| 8589934597|\n",
      "|75f46a58| 8589934596|\n",
      "|d91ab5ea| 8589934600|\n",
      "|c10e0ab4| 8589934599|\n",
      "|59e84776|          5|\n",
      "|c5f00bcb|17179869189|\n",
      "+--------+-----------+\n",
      "only showing top 20 rows"
     ]
    }
   ],
   "source": [
    "cc_sar.cache().show()"
   ]
  },
  {
   "cell_type": "code",
   "execution_count": 46,
   "metadata": {},
   "outputs": [
    {
     "name": "stdout",
     "output_type": "stream",
     "text": [
      "0"
     ]
    }
   ],
   "source": [
    "cc_sar.groupBy('component').count().where(func.col('count')==1).count()"
   ]
  },
  {
   "cell_type": "code",
   "execution_count": 43,
   "metadata": {},
   "outputs": [
    {
     "name": "stdout",
     "output_type": "stream",
     "text": [
      "661"
     ]
    }
   ],
   "source": [
    "cc_sar.groupBy('component').count().where(func.col('count')==2).count()"
   ]
  },
  {
   "cell_type": "code",
   "execution_count": 49,
   "metadata": {},
   "outputs": [
    {
     "name": "stdout",
     "output_type": "stream",
     "text": [
      "32"
     ]
    }
   ],
   "source": [
    "cc_sar.groupBy('component').count().where(func.col('count')>2).count()"
   ]
  },
  {
   "cell_type": "code",
   "execution_count": 40,
   "metadata": {},
   "outputs": [
    {
     "name": "stdout",
     "output_type": "stream",
     "text": [
      "+--------+---------+\n",
      "|      id|component|\n",
      "+--------+---------+\n",
      "|00018e3c|        0|\n",
      "|00081600|        1|\n",
      "|0008f152|        2|\n",
      "|004033e7|        3|\n",
      "|0070da62|        4|\n",
      "|008349ed|        5|\n",
      "|0085127c|        6|\n",
      "|00860f9e|        7|\n",
      "|009b9d18|        8|\n",
      "|009c6817|        9|\n",
      "|00a43620|       10|\n",
      "|00aaccc2|       11|\n",
      "|00c0120c|       12|\n",
      "|00c0648d|       13|\n",
      "|00c79e18|       14|\n",
      "|01112910|       15|\n",
      "|0118f47a|       16|\n",
      "|011db746|       17|\n",
      "|0124b067|       18|\n",
      "|012d1e14|       19|\n",
      "+--------+---------+\n",
      "only showing top 20 rows"
     ]
    }
   ],
   "source": [
    "cc_normal.cache().show()"
   ]
  },
  {
   "cell_type": "code",
   "execution_count": 47,
   "metadata": {},
   "outputs": [
    {
     "name": "stdout",
     "output_type": "stream",
     "text": [
      "0"
     ]
    }
   ],
   "source": [
    "cc_normal.groupBy('component').count().where(func.col('count')==1).count()"
   ]
  },
  {
   "cell_type": "code",
   "execution_count": 48,
   "metadata": {},
   "outputs": [
    {
     "name": "stdout",
     "output_type": "stream",
     "text": [
      "322727"
     ]
    }
   ],
   "source": [
    "cc_normal.groupBy('component').count().where(func.col('count')==2).count()"
   ]
  },
  {
   "cell_type": "code",
   "execution_count": 50,
   "metadata": {},
   "outputs": [
    {
     "name": "stdout",
     "output_type": "stream",
     "text": [
      "399525"
     ]
    }
   ],
   "source": [
    "cc_normal.groupBy('component').count().where(func.col('count') > 1).count()"
   ]
  },
  {
   "cell_type": "code",
   "execution_count": null,
   "metadata": {},
   "outputs": [],
   "source": []
  }
 ],
 "metadata": {
  "kernelspec": {
   "display_name": "PySpark",
   "language": "python",
   "name": "pysparkkernel"
  },
  "language_info": {
   "codemirror_mode": {
    "name": "python",
    "version": 3
   },
   "mimetype": "text/x-python",
   "name": "pyspark",
   "pygments_lexer": "python3"
  }
 },
 "nbformat": 4,
 "nbformat_minor": 4
}
