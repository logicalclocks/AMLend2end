{
 "cells": [
  {
   "cell_type": "code",
   "execution_count": 1,
   "metadata": {},
   "outputs": [
    {
     "name": "stdout",
     "output_type": "stream",
     "text": [
      "Starting Spark application\n"
     ]
    },
    {
     "data": {
      "text/html": [
       "<table>\n",
       "<tr><th>ID</th><th>YARN Application ID</th><th>Kind</th><th>State</th><th>Spark UI</th><th>Driver log</th></tr><tr><td>66</td><td>application_1607949680860_0068</td><td>pyspark</td><td>idle</td><td><a target=\"_blank\" href=\"http://resourcemanager.service.consul:8088/proxy/application_1607949680860_0068/\">Link</a></td><td><a target=\"_blank\" href=\"http://hopsworksdavit-worker-1.internal.cloudapp.net:8042/node/containerlogs/container_e02_1607949680860_0068_01_000001/amlsim__meb10179\">Link</a></td></tr></table>"
      ],
      "text/plain": [
       "<IPython.core.display.HTML object>"
      ]
     },
     "metadata": {},
     "output_type": "display_data"
    },
    {
     "name": "stdout",
     "output_type": "stream",
     "text": [
      "SparkSession available as 'spark'.\n",
      "<pyspark.sql.session.SparkSession object at 0x7f98edc48dd0>"
     ]
    }
   ],
   "source": [
    "spark"
   ]
  },
  {
   "cell_type": "code",
   "execution_count": 2,
   "metadata": {},
   "outputs": [],
   "source": [
    "import hashlib\n",
    "from datetime import datetime\n",
    "from graphframes import *\n",
    "from pyspark.sql import functions as func\n",
    "from pyspark.sql.types import FloatType\n",
    "import hsfs\n",
    "from hops import hdfs\n",
    "import os\n",
    "from pyspark.sql import SQLContext"
   ]
  },
  {
   "cell_type": "code",
   "execution_count": 3,
   "metadata": {},
   "outputs": [],
   "source": [
    "def hashnode(x):\n",
    "    return hashlib.sha1(x.encode(\"UTF-8\")).hexdigest()[:8]\n",
    "\n",
    "hashnode_udf = func.udf(hashnode)"
   ]
  },
  {
   "cell_type": "code",
   "execution_count": 4,
   "metadata": {},
   "outputs": [
    {
     "name": "stdout",
     "output_type": "stream",
     "text": [
      "Connected. Call `.close()` to terminate connection gracefully."
     ]
    }
   ],
   "source": [
    "# Create a connection\n",
    "connection = hsfs.connection()\n",
    "# Get the feature store handle for the project's feature store\n",
    "fs = connection.get_feature_store()"
   ]
  },
  {
   "cell_type": "code",
   "execution_count": 5,
   "metadata": {},
   "outputs": [],
   "source": [
    "edge_fg = fs.get_feature_group('transactions_fg', 1)\n",
    "node_fg = fs.get_feature_group('account_features', 1)"
   ]
  },
  {
   "cell_type": "code",
   "execution_count": 6,
   "metadata": {},
   "outputs": [
    {
     "name": "stdout",
     "output_type": "stream",
     "text": [
      "+-------+---------------+--------------+---------+\n",
      "|acct_id|initial_deposit|tx_behavior_id|prior_sar|\n",
      "+-------+---------------+--------------+---------+\n",
      "|      0|       84442.19|             1|        0|\n",
      "|      1|       75795.44|             1|        0|\n",
      "|      2|       42057.16|             1|        0|\n",
      "|      3|       25891.68|             1|        0|\n",
      "|      4|       51127.47|             1|        0|\n",
      "+-------+---------------+--------------+---------+\n",
      "only showing top 5 rows"
     ]
    }
   ],
   "source": [
    "node_fg.show(5)"
   ]
  },
  {
   "cell_type": "code",
   "execution_count": 7,
   "metadata": {},
   "outputs": [
    {
     "name": "stdout",
     "output_type": "stream",
     "text": [
      "+-------+--------------+------+--------+------+--------+------+-------+\n",
      "|tran_id|tran_timestamp|is_sar|base_amt|target|alert_id|source|tx_type|\n",
      "+-------+--------------+------+--------+------+--------+------+-------+\n",
      "|      1|   1.4832288E9|     0| 9405.71|  3259|      -1|  1767|      4|\n",
      "|      2|   1.4832288E9|     0| 6884.54|  5141|      -1|  7363|      4|\n",
      "|      3|   1.4832288E9|     0|  7968.4|  9532|      -1|  7585|      4|\n",
      "|      4|   1.4832288E9|     0| 9042.67|  8792|      -1|  1750|      4|\n",
      "|      5|   1.4832288E9|     0| 4692.79|  4670|      -1|  9060|      4|\n",
      "+-------+--------------+------+--------+------+--------+------+-------+\n",
      "only showing top 5 rows"
     ]
    }
   ],
   "source": [
    "edge_fg.show(5)"
   ]
  },
  {
   "cell_type": "code",
   "execution_count": 8,
   "metadata": {},
   "outputs": [],
   "source": [
    "only_sar_edge_df = edge_fg.read().filter(func.col('alert_id') != -1)\n",
    "only_normal_edge_df =  edge_fg.read().filter(func.col('alert_id') == -1)"
   ]
  },
  {
   "cell_type": "code",
   "execution_count": 9,
   "metadata": {},
   "outputs": [
    {
     "name": "stdout",
     "output_type": "stream",
     "text": [
      "+-------+--------------+------+--------+------+--------+------+-------+\n",
      "|tran_id|tran_timestamp|is_sar|base_amt|target|alert_id|source|tx_type|\n",
      "+-------+--------------+------+--------+------+--------+------+-------+\n",
      "|      1|   1.4832288E9|     0| 9405.71|  3259|      -1|  1767|      4|\n",
      "|      2|   1.4832288E9|     0| 6884.54|  5141|      -1|  7363|      4|\n",
      "|      3|   1.4832288E9|     0|  7968.4|  9532|      -1|  7585|      4|\n",
      "|      4|   1.4832288E9|     0| 9042.67|  8792|      -1|  1750|      4|\n",
      "|      5|   1.4832288E9|     0| 4692.79|  4670|      -1|  9060|      4|\n",
      "+-------+--------------+------+--------+------+--------+------+-------+\n",
      "only showing top 5 rows"
     ]
    }
   ],
   "source": [
    "only_normal_edge_df.show(5)"
   ]
  },
  {
   "cell_type": "code",
   "execution_count": 10,
   "metadata": {},
   "outputs": [
    {
     "name": "stdout",
     "output_type": "stream",
     "text": [
      "+-------+--------------+------+--------+------+--------+------+-------+\n",
      "|tran_id|tran_timestamp|is_sar|base_amt|target|alert_id|source|tx_type|\n",
      "+-------+--------------+------+--------+------+--------+------+-------+\n",
      "|     98|   1.4832288E9|     1|  108.62|  5688|      16|  2298|      4|\n",
      "|    108|   1.4832288E9|     1|  183.25|  9601|      26|  8627|      4|\n",
      "|    135|   1.4832288E9|     1|  142.71|  8359|      15|  2756|      4|\n",
      "|    137|   1.4832288E9|     1|  132.47|  7702|       9|  7605|      4|\n",
      "|    218|   1.4832288E9|     1|  119.51|  7377|      17|  5891|      4|\n",
      "|    335|   1.4832288E9|     1|  136.02|  1661|      12|  6787|      4|\n",
      "|    439|   1.4832288E9|     1|  194.53|  7950|       0|  8485|      4|\n",
      "|    477|   1.4832288E9|     1|  184.32|  2177|       3|  5324|      4|\n",
      "|    514|   1.4832288E9|     1|  130.63|  4616|      19|  4919|      4|\n",
      "|    564|   1.4832288E9|     1|  183.27|  1589|       5|  4170|      4|\n",
      "|    580|   1.4832288E9|     1|  135.69|  1590|      18|  6483|      4|\n",
      "|    654|   1.4832288E9|     1|  160.35|  2275|      20|   123|      4|\n",
      "|    711|   1.4832288E9|     1|  144.32|  9851|      23|  6173|      4|\n",
      "|    742|   1.4832288E9|     1|  177.32|  2182|       4|  9300|      4|\n",
      "|    779|   1.4832288E9|     1|  189.75|  5470|       1|  2344|      4|\n",
      "|    780|   1.4832288E9|     1|  112.62|  4651|      22|  9149|      4|\n",
      "|    933|   1.4832288E9|     1|  108.91|  4046|      27|   312|      4|\n",
      "|    947|   1.4832288E9|     1|  173.42|  2300|       8|  5819|      4|\n",
      "|   1070|   1.4832288E9|     1|  135.89|  1964|       6|  3792|      4|\n",
      "|   1256|   1.4832288E9|     1|  142.27|  3191|      25|  7235|      4|\n",
      "+-------+--------------+------+--------+------+--------+------+-------+\n",
      "only showing top 20 rows"
     ]
    }
   ],
   "source": [
    "only_sar_edge_df.show()"
   ]
  },
  {
   "cell_type": "code",
   "execution_count": 11,
   "metadata": {},
   "outputs": [
    {
     "name": "stdout",
     "output_type": "stream",
     "text": [
      "732"
     ]
    }
   ],
   "source": [
    "only_sar_edge_df.count()"
   ]
  },
  {
   "cell_type": "code",
   "execution_count": 12,
   "metadata": {},
   "outputs": [
    {
     "name": "stdout",
     "output_type": "stream",
     "text": [
      "732"
     ]
    }
   ],
   "source": [
    "sar_sources = only_sar_edge_df.select(\"source\")\n",
    "sar_targets = only_sar_edge_df.select(\"target\")\n",
    "sar_nodes = sar_sources.union(sar_targets).toDF(\"id\").dropDuplicates()\n",
    "sar_nodes.count()\n",
    "\n",
    "sar_edges = only_sar_edge_df.select(\"source\", \"target\").toDF(\"src\", \"dst\")\n",
    "sar_edges.count()"
   ]
  },
  {
   "cell_type": "code",
   "execution_count": 13,
   "metadata": {},
   "outputs": [],
   "source": [
    "# Now lets construct the graph\n",
    "g_sar = GraphFrame(sar_nodes,sar_edges)\n",
    "sc.setCheckpointDir(\"hdfs:///Projects/{}/Logs/sc\".format(hdfs.project_name()))\n",
    "cc_sar = g_sar.connectedComponents()"
   ]
  },
  {
   "cell_type": "code",
   "execution_count": 14,
   "metadata": {},
   "outputs": [
    {
     "name": "stdout",
     "output_type": "stream",
     "text": [
      "+----+---------+\n",
      "|  id|component|\n",
      "+----+---------+\n",
      "|3997|     2773|\n",
      "|5300|     2773|\n",
      "| 463|      124|\n",
      "|8086|     2599|\n",
      "|7833|     3671|\n",
      "|1127|     1127|\n",
      "| 540|      540|\n",
      "|6393|     3396|\n",
      "|1522|     1054|\n",
      "|5614|      825|\n",
      "|7387|      643|\n",
      "|3488|     2599|\n",
      "|2393|      397|\n",
      "|9162|     2889|\n",
      "|1265|     1009|\n",
      "|4042|     1590|\n",
      "|5223|     1013|\n",
      "|4364|     1096|\n",
      "|2249|     1009|\n",
      "|3425|     1054|\n",
      "+----+---------+\n",
      "only showing top 20 rows"
     ]
    }
   ],
   "source": [
    "cc_sar.cache().show()"
   ]
  },
  {
   "cell_type": "code",
   "execution_count": 15,
   "metadata": {},
   "outputs": [
    {
     "name": "stdout",
     "output_type": "stream",
     "text": [
      "+-----+\n",
      "|count|\n",
      "+-----+\n",
      "|    5|\n",
      "|    6|\n",
      "|    7|\n",
      "|    8|\n",
      "|    9|\n",
      "|   10|\n",
      "+-----+"
     ]
    }
   ],
   "source": [
    "cc_sar.groupBy('component').count().select('count').dropDuplicates().orderBy('count').show()"
   ]
  },
  {
   "cell_type": "code",
   "execution_count": null,
   "metadata": {},
   "outputs": [],
   "source": []
  },
  {
   "cell_type": "code",
   "execution_count": 16,
   "metadata": {},
   "outputs": [],
   "source": [
    "scc_sar = g_sar.stronglyConnectedComponents(20)"
   ]
  },
  {
   "cell_type": "code",
   "execution_count": 17,
   "metadata": {},
   "outputs": [
    {
     "name": "stdout",
     "output_type": "stream",
     "text": [
      "+----+---------+\n",
      "|  id|component|\n",
      "+----+---------+\n",
      "|7800|     7800|\n",
      "|8600|     8600|\n",
      "|4000|     4000|\n",
      "|5201|     1109|\n",
      "|1801|     1801|\n",
      "| 601|      601|\n",
      "|1201|     1201|\n",
      "|4601|     4601|\n",
      "|9601|     9601|\n",
      "|3402|     3402|\n",
      "|4802|     4802|\n",
      "|7802|     1945|\n",
      "|6403|     1630|\n",
      "|1003|     1003|\n",
      "|2003|     1201|\n",
      "|5403|      295|\n",
      "|9403|     9403|\n",
      "|7604|     1201|\n",
      "|5204|     1257|\n",
      "|8004|     8004|\n",
      "+----+---------+\n",
      "only showing top 20 rows"
     ]
    }
   ],
   "source": [
    "scc_sar.cache().show()"
   ]
  },
  {
   "cell_type": "code",
   "execution_count": 18,
   "metadata": {},
   "outputs": [
    {
     "name": "stdout",
     "output_type": "stream",
     "text": [
      "+-----+\n",
      "|count|\n",
      "+-----+\n",
      "|    1|\n",
      "|    5|\n",
      "|    6|\n",
      "|    7|\n",
      "|    8|\n",
      "|    9|\n",
      "|   10|\n",
      "+-----+"
     ]
    }
   ],
   "source": [
    "scc_sar.groupBy('component').count().select('count').dropDuplicates().orderBy('count').show()"
   ]
  },
  {
   "cell_type": "code",
   "execution_count": 19,
   "metadata": {},
   "outputs": [
    {
     "name": "stdout",
     "output_type": "stream",
     "text": [
      "471"
     ]
    }
   ],
   "source": [
    "scc_sar.groupBy('component').count().where(func.col('count')==1).count()"
   ]
  },
  {
   "cell_type": "code",
   "execution_count": 20,
   "metadata": {},
   "outputs": [
    {
     "name": "stdout",
     "output_type": "stream",
     "text": [
      "40"
     ]
    }
   ],
   "source": [
    "scc_sar.groupBy('component').count().where(func.col('count')>1).count()"
   ]
  },
  {
   "cell_type": "code",
   "execution_count": 21,
   "metadata": {},
   "outputs": [],
   "source": [
    "scc_comp_count = scc_sar.groupBy('component').count().where(func.col('count')>1)"
   ]
  },
  {
   "cell_type": "code",
   "execution_count": 22,
   "metadata": {},
   "outputs": [],
   "source": [
    "scc_sar = scc_sar.join(scc_comp_count,['component'])"
   ]
  },
  {
   "cell_type": "code",
   "execution_count": 23,
   "metadata": {},
   "outputs": [
    {
     "name": "stdout",
     "output_type": "stream",
     "text": [
      "+---------+----+-----+\n",
      "|component|  id|count|\n",
      "+---------+----+-----+\n",
      "|     1152|3595|   10|\n",
      "|     1152|1152|   10|\n",
      "|     1152|8535|   10|\n",
      "|     1152|4324|   10|\n",
      "|     1152|2321|   10|\n",
      "|     1152|8117|   10|\n",
      "|     1152|3304|   10|\n",
      "|     1152|8654|   10|\n",
      "|     1152|8049|   10|\n",
      "|     1152|7824|   10|\n",
      "|      399| 399|    6|\n",
      "|      399|8965|    6|\n",
      "|      399|9960|    6|\n",
      "|      399|7146|    6|\n",
      "|      399|2501|    6|\n",
      "|      399|5621|    6|\n",
      "|     3671|4969|    6|\n",
      "|     3671|8546|    6|\n",
      "|     3671|3671|    6|\n",
      "|     3671|4867|    6|\n",
      "+---------+----+-----+\n",
      "only showing top 20 rows"
     ]
    }
   ],
   "source": [
    "scc_sar.show()"
   ]
  },
  {
   "cell_type": "code",
   "execution_count": 24,
   "metadata": {},
   "outputs": [],
   "source": [
    "scc_sar =  scc_sar.drop('count')"
   ]
  },
  {
   "cell_type": "code",
   "execution_count": 25,
   "metadata": {},
   "outputs": [],
   "source": [
    "sar_cc_grouped = cc_sar.join(\n",
    "    only_sar_edge_df,\n",
    "    [(only_sar_edge_df.source==cc_sar.id)|(only_sar_edge_df.target==cc_sar.id)],\n",
    "    how=\"left\"\n",
    ").dropDuplicates(subset=['tran_id'])"
   ]
  },
  {
   "cell_type": "code",
   "execution_count": 26,
   "metadata": {},
   "outputs": [],
   "source": [
    "sar_scc_grouped = scc_sar.join(\n",
    "    only_sar_edge_df,\n",
    "    [(only_sar_edge_df.source==scc_sar.id)|(only_sar_edge_df.target==scc_sar.id)],\n",
    "    how=\"left\"\n",
    ").dropDuplicates(subset=['tran_id'])"
   ]
  },
  {
   "cell_type": "code",
   "execution_count": 27,
   "metadata": {},
   "outputs": [
    {
     "name": "stdout",
     "output_type": "stream",
     "text": [
      "732"
     ]
    }
   ],
   "source": [
    "sar_cc_grouped.count()"
   ]
  },
  {
   "cell_type": "code",
   "execution_count": 28,
   "metadata": {},
   "outputs": [
    {
     "name": "stdout",
     "output_type": "stream",
     "text": [
      "321"
     ]
    }
   ],
   "source": [
    "sar_scc_grouped.count()"
   ]
  },
  {
   "cell_type": "code",
   "execution_count": 29,
   "metadata": {},
   "outputs": [
    {
     "name": "stdout",
     "output_type": "stream",
     "text": [
      "732"
     ]
    }
   ],
   "source": [
    "only_sar_edge_df.count()"
   ]
  },
  {
   "cell_type": "code",
   "execution_count": null,
   "metadata": {},
   "outputs": [],
   "source": []
  },
  {
   "cell_type": "code",
   "execution_count": 30,
   "metadata": {},
   "outputs": [
    {
     "name": "stdout",
     "output_type": "stream",
     "text": [
      "+---------+----+-------+--------------+------+--------+------+--------+------+-------+\n",
      "|component|  id|tran_id|tran_timestamp|is_sar|base_amt|target|alert_id|source|tx_type|\n",
      "+---------+----+-------+--------------+------+--------+------+--------+------+-------+\n",
      "|     1009|1425| 100274|   1.4892768E9|     1|  102.86|  1425|      80|  3661|      4|\n",
      "|     1801|9700| 284874|   1.5004224E9|     1|  103.47|  3984|      96|  9700|      4|\n",
      "|      554|8091| 522545|   1.5147648E9|     1|  106.94|  8091|      91|   554|      4|\n",
      "|      825|4571| 706588|    1.525824E9|     1|   63.66|  7776|      84|  4571|      4|\n",
      "|     1369|8581| 472208|   1.5117408E9|     1|  114.67|  8581|      70|  1598|      4|\n",
      "|     1257|6837|  57885|   1.4866848E9|     1|   73.41|  6837|      95|  5261|      4|\n",
      "|      907|7851| 509573|   1.5139872E9|     1|   47.28|  3329|      90|  7851|      4|\n",
      "|      397|6415| 786028|   1.5306624E9|     1|   79.42|  6415|      74|  3252|      4|\n",
      "|      295|6810| 202624|   1.4954112E9|     1|   57.47|  9785|      99|  6810|      4|\n",
      "|     3669|3669|  93978|   1.4888448E9|     1|  173.69|  5541|      85|  3669|      4|\n",
      "|     2047|2861| 179206|   1.4940288E9|     1|  197.69|  2542|      81|  2861|      4|\n",
      "|     2047|7703| 186510|   1.4944608E9|     1|   129.7|  7703|      81|  6767|      4|\n",
      "|     1369|6504| 474798|   1.5118272E9|     1|   92.88|  1926|      70|  6504|      4|\n",
      "|     1945|7802| 769037|   1.5296256E9|     1|  143.74|  4743|      98|  7802|      4|\n",
      "|     1257|5204|  35905|   1.4853888E9|     1|  153.47|  5204|      95|  3441|      4|\n",
      "|      601|6315| 405475|     1.50768E9|     1|  179.36|  6315|      63|  9965|      4|\n",
      "|      374|1826|  72841|   1.4875488E9|     1|  174.29|  1826|      72|   374|      4|\n",
      "|      825|5614| 701190|   1.5255648E9|     1|   78.59|  5440|      84|  5614|      4|\n",
      "|     1945|1945| 774140|   1.5299712E9|     1|  116.43|  1945|      98|  7176|      4|\n",
      "|      601|9223| 407998|   1.5078528E9|     1|  130.76|  9965|      63|  9223|      4|\n",
      "+---------+----+-------+--------------+------+--------+------+--------+------+-------+\n",
      "only showing top 20 rows"
     ]
    }
   ],
   "source": [
    "sar_scc_grouped.show()"
   ]
  },
  {
   "cell_type": "code",
   "execution_count": null,
   "metadata": {},
   "outputs": [],
   "source": []
  },
  {
   "cell_type": "code",
   "execution_count": 31,
   "metadata": {},
   "outputs": [],
   "source": [
    "only_sar_edge_df = sar_scc_grouped"
   ]
  },
  {
   "cell_type": "code",
   "execution_count": 32,
   "metadata": {},
   "outputs": [
    {
     "name": "stdout",
     "output_type": "stream",
     "text": [
      "+---------+----+-------+--------------+------+--------+------+--------+------+-------+\n",
      "|component|  id|tran_id|tran_timestamp|is_sar|base_amt|target|alert_id|source|tx_type|\n",
      "+---------+----+-------+--------------+------+--------+------+--------+------+-------+\n",
      "|     1009|1425| 100274|   1.4892768E9|     1|  102.86|  1425|      80|  3661|      4|\n",
      "|     1801|9700| 284874|   1.5004224E9|     1|  103.47|  3984|      96|  9700|      4|\n",
      "|      554|8091| 522545|   1.5147648E9|     1|  106.94|  8091|      91|   554|      4|\n",
      "|      825|4571| 706588|    1.525824E9|     1|   63.66|  7776|      84|  4571|      4|\n",
      "|     1369|8581| 472208|   1.5117408E9|     1|  114.67|  8581|      70|  1598|      4|\n",
      "+---------+----+-------+--------------+------+--------+------+--------+------+-------+\n",
      "only showing top 5 rows"
     ]
    }
   ],
   "source": [
    "only_sar_edge_df.show(5)"
   ]
  },
  {
   "cell_type": "code",
   "execution_count": null,
   "metadata": {},
   "outputs": [],
   "source": []
  },
  {
   "cell_type": "code",
   "execution_count": null,
   "metadata": {},
   "outputs": [],
   "source": []
  },
  {
   "cell_type": "code",
   "execution_count": 33,
   "metadata": {},
   "outputs": [
    {
     "name": "stdout",
     "output_type": "stream",
     "text": [
      "1028964"
     ]
    }
   ],
   "source": [
    "only_normal_edge_df.count()"
   ]
  },
  {
   "cell_type": "code",
   "execution_count": null,
   "metadata": {},
   "outputs": [],
   "source": []
  },
  {
   "cell_type": "code",
   "execution_count": 34,
   "metadata": {},
   "outputs": [
    {
     "name": "stdout",
     "output_type": "stream",
     "text": [
      "+---------+------------+-----------+\n",
      "|component|window_start| window_end|\n",
      "+---------+------------+-----------+\n",
      "|     1152|  1.516752E9|1.5170976E9|\n",
      "|      399| 1.5412032E9|1.5428448E9|\n",
      "|     3671| 1.5287616E9| 1.530144E9|\n",
      "|     3751| 1.4901408E9|1.4911776E9|\n",
      "|     1945| 1.5290208E9|1.5299712E9|\n",
      "+---------+------------+-----------+\n",
      "only showing top 5 rows"
     ]
    }
   ],
   "source": [
    "only_sar_edge_df_grouped = only_sar_edge_df.groupBy('component').agg(func.min(\"tran_timestamp\"),func.max(\"tran_timestamp\")).toDF(\"component\", \"window_start\", \"window_end\")\n",
    "only_sar_edge_df_grouped.show(5)"
   ]
  },
  {
   "cell_type": "code",
   "execution_count": null,
   "metadata": {},
   "outputs": [],
   "source": []
  },
  {
   "cell_type": "code",
   "execution_count": 35,
   "metadata": {},
   "outputs": [],
   "source": [
    "only_sar_edges_df_windows = only_sar_edge_df.join(only_sar_edge_df_grouped,[\"component\"])"
   ]
  },
  {
   "cell_type": "code",
   "execution_count": 36,
   "metadata": {},
   "outputs": [
    {
     "name": "stdout",
     "output_type": "stream",
     "text": [
      "+---------+----+-------+--------------+------+--------+------+--------+------+-------+------------+-----------+\n",
      "|component|  id|tran_id|tran_timestamp|is_sar|base_amt|target|alert_id|source|tx_type|window_start| window_end|\n",
      "+---------+----+-------+--------------+------+--------+------+--------+------+-------+------------+-----------+\n",
      "|     1152|7824| 559198|   1.5169248E9|     1|   82.04|  7824|      65|  8117|      4|  1.516752E9|1.5170976E9|\n",
      "|     1152|8654| 556094|    1.516752E9|     1|  112.55|  3595|      65|  8654|      4|  1.516752E9|1.5170976E9|\n",
      "|     1152|4324| 561546|   1.5170976E9|     1|   59.81|  4324|      65|  3595|      4|  1.516752E9|1.5170976E9|\n",
      "|     1152|8049| 559541|   1.5170112E9|     1|   73.84|  3304|      65|  8049|      4|  1.516752E9|1.5170976E9|\n",
      "|     1152|2321| 561547|   1.5170976E9|     1|   53.83|  2321|      65|  4324|      4|  1.516752E9|1.5170976E9|\n",
      "|     1152|8535| 556095|    1.516752E9|     1|  101.29|  8535|      65|  1152|      4|  1.516752E9|1.5170976E9|\n",
      "|     1152|7824| 557719|   1.5168384E9|     1|   91.16|  1152|      65|  7824|      4|  1.516752E9|1.5170976E9|\n",
      "|     1152|3304| 559542|   1.5170112E9|     1|   66.45|  8117|      65|  3304|      4|  1.516752E9|1.5170976E9|\n",
      "|     1152|8049| 561548|   1.5170976E9|     1|   48.44|  8049|      65|  2321|      4|  1.516752E9|1.5170976E9|\n",
      "|     1152|8654| 561549|   1.5170976E9|     1|    43.6|  8654|      65|  8535|      4|  1.516752E9|1.5170976E9|\n",
      "|      399|2501| 988030|   1.5428448E9|     1|   68.13|  9960|      78|  2501|      4| 1.5412032E9|1.5428448E9|\n",
      "|      399|5621| 981236|   1.5424992E9|     1|   84.11|  8965|      78|  5621|      4| 1.5412032E9|1.5428448E9|\n",
      "|      399|7146| 977325|     1.54224E9|     1|   93.45|   399|      78|  7146|      4| 1.5412032E9|1.5428448E9|\n",
      "|      399|7146| 986670|   1.5427584E9|     1|    75.7|  7146|      78|  9960|      4| 1.5412032E9|1.5428448E9|\n",
      "|      399|5621| 961039|   1.5412896E9|     1|  103.84|  5621|      78|   399|      4| 1.5412032E9|1.5428448E9|\n",
      "|      399|2501| 960047|   1.5412032E9|     1|  115.37|  2501|      78|  8965|      4| 1.5412032E9|1.5428448E9|\n",
      "|     3671|6241| 758500|   1.5290208E9|     1|   96.81|  8546|      92|  6241|      4| 1.5287616E9| 1.530144E9|\n",
      "|     3671|7833| 754053|   1.5287616E9|     1|  119.52|  7833|      92|  4969|      4| 1.5287616E9| 1.530144E9|\n",
      "|     3671|3671| 777776|    1.530144E9|     1|   78.41|  4969|      92|  3671|      4| 1.5287616E9| 1.530144E9|\n",
      "|     3671|7833| 774498|   1.5299712E9|     1|   87.13|  6241|      92|  7833|      4| 1.5287616E9| 1.530144E9|\n",
      "+---------+----+-------+--------------+------+--------+------+--------+------+-------+------------+-----------+\n",
      "only showing top 20 rows"
     ]
    }
   ],
   "source": [
    "only_sar_edges_df_windows.show()"
   ]
  },
  {
   "cell_type": "code",
   "execution_count": 37,
   "metadata": {},
   "outputs": [
    {
     "name": "stdout",
     "output_type": "stream",
     "text": [
      "321"
     ]
    }
   ],
   "source": [
    "only_sar_edges_df_windows.count()"
   ]
  },
  {
   "cell_type": "code",
   "execution_count": null,
   "metadata": {},
   "outputs": [],
   "source": []
  },
  {
   "cell_type": "code",
   "execution_count": 38,
   "metadata": {},
   "outputs": [],
   "source": [
    "only_normal_edges_df_windows = only_sar_edge_df_grouped.select(\"window_start\", \"window_end\").join(\n",
    "    only_normal_edge_df,\n",
    "    [(only_normal_edge_df.tran_timestamp>=only_sar_edge_df_grouped.window_start)&(only_normal_edge_df.tran_timestamp<=only_sar_edge_df_grouped.window_end)],\n",
    "    how=\"left\"\n",
    ")"
   ]
  },
  {
   "cell_type": "code",
   "execution_count": 39,
   "metadata": {},
   "outputs": [
    {
     "name": "stdout",
     "output_type": "stream",
     "text": [
      "+------------+-----------+-------+--------------+------+--------+------+--------+------+-------+\n",
      "|window_start| window_end|tran_id|tran_timestamp|is_sar|base_amt|target|alert_id|source|tx_type|\n",
      "+------------+-----------+-------+--------------+------+--------+------+--------+------+-------+\n",
      "|  1.516752E9|1.5170976E9| 555045|    1.516752E9|     0|  503.89|  9947|      -1|  6249|      4|\n",
      "|  1.516752E9|1.5170976E9| 555046|    1.516752E9|     0|  564.26|  3095|      -1|  4557|      4|\n",
      "|  1.516752E9|1.5170976E9| 555047|    1.516752E9|     0| 7773.05|  3003|      -1|  4967|      4|\n",
      "|  1.516752E9|1.5170976E9| 555048|    1.516752E9|     0|  4490.0|  9866|      -1|  7090|      4|\n",
      "|  1.516752E9|1.5170976E9| 555049|    1.516752E9|     0| 6136.03|  1343|      -1|  4471|      4|\n",
      "|  1.516752E9|1.5170976E9| 555050|    1.516752E9|     0| 9344.63|  3076|      -1|  6975|      4|\n",
      "|  1.516752E9|1.5170976E9| 555051|    1.516752E9|     0| 1527.03|  1969|      -1|  6923|      4|\n",
      "|  1.516752E9|1.5170976E9| 555052|    1.516752E9|     0| 4742.97|   349|      -1|  4380|      4|\n",
      "|  1.516752E9|1.5170976E9| 555053|    1.516752E9|     0| 4214.32|  8908|      -1|  6574|      4|\n",
      "|  1.516752E9|1.5170976E9| 555054|    1.516752E9|     0| 7665.71|  8725|      -1|  6495|      4|\n",
      "|  1.516752E9|1.5170976E9| 555055|    1.516752E9|     0| 4860.73|   689|      -1|  5156|      4|\n",
      "|  1.516752E9|1.5170976E9| 555056|    1.516752E9|     0|  7818.5|  6420|      -1|  7693|      4|\n",
      "|  1.516752E9|1.5170976E9| 555057|    1.516752E9|     0| 5913.22|  4901|      -1|  9776|      4|\n",
      "|  1.516752E9|1.5170976E9| 555058|    1.516752E9|     0| 2377.77|  9678|      -1|  6412|      4|\n",
      "|  1.516752E9|1.5170976E9| 555059|    1.516752E9|     0|  8598.2|  9994|      -1|  7412|      4|\n",
      "|  1.516752E9|1.5170976E9| 555060|    1.516752E9|     0| 6902.87|  9127|      -1|  9421|      4|\n",
      "|  1.516752E9|1.5170976E9| 555061|    1.516752E9|     0| 7507.27|  7695|      -1|  8992|      4|\n",
      "|  1.516752E9|1.5170976E9| 555062|    1.516752E9|     0| 3398.08|  7769|      -1|   137|      4|\n",
      "|  1.516752E9|1.5170976E9| 555063|    1.516752E9|     0| 6324.95|  3726|      -1|  3810|      4|\n",
      "|  1.516752E9|1.5170976E9| 555064|    1.516752E9|     0| 5511.01|  6878|      -1|  4388|      4|\n",
      "+------------+-----------+-------+--------------+------+--------+------+--------+------+-------+\n",
      "only showing top 20 rows"
     ]
    }
   ],
   "source": [
    "only_normal_edges_df_windows.show()"
   ]
  },
  {
   "cell_type": "code",
   "execution_count": 40,
   "metadata": {},
   "outputs": [
    {
     "name": "stdout",
     "output_type": "stream",
     "text": [
      "677241"
     ]
    }
   ],
   "source": [
    "only_normal_edges_df_windows.count()"
   ]
  },
  {
   "cell_type": "code",
   "execution_count": 41,
   "metadata": {},
   "outputs": [
    {
     "name": "stdout",
     "output_type": "stream",
     "text": [
      "+------------+-----------+-------+--------------+------+--------+------+--------+------+-------+--------+--------+\n",
      "|window_start| window_end|tran_id|tran_timestamp|is_sar|base_amt|destId|alert_id|origId|tx_type|  target|  source|\n",
      "+------------+-----------+-------+--------------+------+--------+------+--------+------+-------+--------+--------+\n",
      "|  1.516752E9|1.5170976E9| 555045|    1.516752E9|     0|  503.89|  9947|      -1|  6249|      4|b786ed64|bbc43466|\n",
      "|  1.516752E9|1.5170976E9| 555046|    1.516752E9|     0|  564.26|  3095|      -1|  4557|      4|b0b7a393|af529315|\n",
      "|  1.516752E9|1.5170976E9| 555047|    1.516752E9|     0| 7773.05|  3003|      -1|  4967|      4|4156c046|e033872d|\n",
      "|  1.516752E9|1.5170976E9| 555048|    1.516752E9|     0|  4490.0|  9866|      -1|  7090|      4|05ac06b4|3eac3624|\n",
      "|  1.516752E9|1.5170976E9| 555049|    1.516752E9|     0| 6136.03|  1343|      -1|  4471|      4|e1901da0|cb468f43|\n",
      "|  1.516752E9|1.5170976E9| 555050|    1.516752E9|     0| 9344.63|  3076|      -1|  6975|      4|40ad9709|fb953bd3|\n",
      "|  1.516752E9|1.5170976E9| 555051|    1.516752E9|     0| 1527.03|  1969|      -1|  6923|      4|56a90cea|156546e9|\n",
      "|  1.516752E9|1.5170976E9| 555052|    1.516752E9|     0| 4742.97|   349|      -1|  4380|      4|defc0df5|db210922|\n",
      "|  1.516752E9|1.5170976E9| 555053|    1.516752E9|     0| 4214.32|  8908|      -1|  6574|      4|d30039ac|7a745843|\n",
      "|  1.516752E9|1.5170976E9| 555054|    1.516752E9|     0| 7665.71|  8725|      -1|  6495|      4|05facc21|5f1c26e4|\n",
      "|  1.516752E9|1.5170976E9| 555055|    1.516752E9|     0| 4860.73|   689|      -1|  5156|      4|9a5e5b36|d1c67237|\n",
      "|  1.516752E9|1.5170976E9| 555056|    1.516752E9|     0|  7818.5|  6420|      -1|  7693|      4|1367dad7|25f2f82e|\n",
      "|  1.516752E9|1.5170976E9| 555057|    1.516752E9|     0| 5913.22|  4901|      -1|  9776|      4|62865842|4636f4a5|\n",
      "|  1.516752E9|1.5170976E9| 555058|    1.516752E9|     0| 2377.77|  9678|      -1|  6412|      4|8186b34d|61aa83b7|\n",
      "|  1.516752E9|1.5170976E9| 555059|    1.516752E9|     0|  8598.2|  9994|      -1|  7412|      4|6dfa674f|b1a62690|\n",
      "|  1.516752E9|1.5170976E9| 555060|    1.516752E9|     0| 6902.87|  9127|      -1|  9421|      4|e98dd5f5|b68a6a9b|\n",
      "|  1.516752E9|1.5170976E9| 555061|    1.516752E9|     0| 7507.27|  7695|      -1|  8992|      4|581c619e|480e7725|\n",
      "|  1.516752E9|1.5170976E9| 555062|    1.516752E9|     0| 3398.08|  7769|      -1|   137|      4|636c6b62|7e697905|\n",
      "|  1.516752E9|1.5170976E9| 555063|    1.516752E9|     0| 6324.95|  3726|      -1|  3810|      4|6e2cee21|c0544242|\n",
      "|  1.516752E9|1.5170976E9| 555064|    1.516752E9|     0| 5511.01|  6878|      -1|  4388|      4|f8a13b02|2edf1f54|\n",
      "+------------+-----------+-------+--------------+------+--------+------+--------+------+-------+--------+--------+\n",
      "only showing top 20 rows"
     ]
    }
   ],
   "source": [
    "only_normal_edges_df_windows = only_normal_edges_df_windows.withColumnRenamed(\"source\", \"origId\")\\\n",
    "                                                           .withColumnRenamed(\"target\", \"destId\")  \n",
    "only_normal_edges_df_windows = only_normal_edges_df_windows.withColumn('target',hashnode_udf(func.concat(func.col('destId'),func.lit('_'),func.col('window_start'),func.lit('_'),func.col('window_end'))))\\\n",
    "                                                           .withColumn('source',hashnode_udf(func.concat(func.col('origId'),func.lit('_'),func.col('window_start'),func.lit('_'),func.col('window_end'))))            \n",
    "only_normal_edges_df_windows.show()"
   ]
  },
  {
   "cell_type": "code",
   "execution_count": null,
   "metadata": {},
   "outputs": [],
   "source": []
  },
  {
   "cell_type": "code",
   "execution_count": null,
   "metadata": {},
   "outputs": [],
   "source": [
    "normal_sources = only_normal_edges_df_windows.select(\"source\")\n",
    "normal_targets = only_normal_edges_df_windows.select(\"target\")\n",
    "normal_nodes = normal_sources.union(normal_targets).toDF(\"id\").dropDuplicates()\n",
    "\n",
    "normal_edges = only_normal_edges_df_windows.select(\"source\", \"target\").toDF(\"src\", \"dst\")\n",
    "\n",
    "# Now lets construct the graph\n",
    "g_normal = GraphFrame(normal_nodes,normal_edges)\n",
    "inDeg = g_normal.inDegrees.filter(\"inDegree >= 2\")\n",
    "ourDeg = g_normal.outDegrees.filter(\"outDegree >= 2\")\n",
    "filtNode = g_normal.vertices\n",
    "\n",
    "filtNode = filtNode.join(inDeg, ['id'])\n",
    "filtNode = filtNode.join(ourDeg, ['id'])\n",
    "filtNode.show()\n",
    "filtEdges = g_normal.edges\n",
    "\n",
    "filtEdges = filtEdges.join(\n",
    "    filtNode,\n",
    "    [(filtEdges.src==filtNode.id)|(filtEdges.dst==filtNode.id)],\n",
    "    how=\"left\"\n",
    ").dropDuplicates(subset=['src','dst'])\n",
    "filtEdges.cache()\n",
    "filtEdges.show()"
   ]
  },
  {
   "cell_type": "code",
   "execution_count": null,
   "metadata": {},
   "outputs": [],
   "source": []
  },
  {
   "cell_type": "code",
   "execution_count": null,
   "metadata": {},
   "outputs": [],
   "source": []
  },
  {
   "cell_type": "code",
   "execution_count": 42,
   "metadata": {},
   "outputs": [
    {
     "name": "stdout",
     "output_type": "stream",
     "text": [
      "388393"
     ]
    }
   ],
   "source": [
    "normal_sources = only_normal_edges_df_windows.select(\"source\")\n",
    "normal_targets = only_normal_edges_df_windows.select(\"target\")\n",
    "normal_nodes = normal_sources.union(normal_targets).toDF(\"id\").dropDuplicates()\n",
    "normal_nodes.count()"
   ]
  },
  {
   "cell_type": "code",
   "execution_count": 43,
   "metadata": {},
   "outputs": [
    {
     "name": "stdout",
     "output_type": "stream",
     "text": [
      "677241"
     ]
    }
   ],
   "source": [
    "normal_edges = only_normal_edges_df_windows.select(\"source\", \"target\").toDF(\"src\", \"dst\")\n",
    "normal_edges.count()"
   ]
  },
  {
   "cell_type": "code",
   "execution_count": null,
   "metadata": {},
   "outputs": [],
   "source": []
  },
  {
   "cell_type": "code",
   "execution_count": null,
   "metadata": {},
   "outputs": [],
   "source": []
  },
  {
   "cell_type": "code",
   "execution_count": null,
   "metadata": {},
   "outputs": [],
   "source": []
  },
  {
   "cell_type": "code",
   "execution_count": null,
   "metadata": {},
   "outputs": [],
   "source": []
  },
  {
   "cell_type": "code",
   "execution_count": null,
   "metadata": {},
   "outputs": [],
   "source": []
  },
  {
   "cell_type": "code",
   "execution_count": null,
   "metadata": {},
   "outputs": [],
   "source": []
  },
  {
   "cell_type": "code",
   "execution_count": null,
   "metadata": {},
   "outputs": [],
   "source": []
  },
  {
   "cell_type": "code",
   "execution_count": null,
   "metadata": {},
   "outputs": [],
   "source": [
    "g_normal = GraphFrame(normal_nodes,normal_edges)\n"
   ]
  },
  {
   "cell_type": "code",
   "execution_count": null,
   "metadata": {},
   "outputs": [],
   "source": [
    "g_normal = GraphFrame(filtNode.drop(\"inDegree\",\"outDegree\"),filtEdges)\n"
   ]
  },
  {
   "cell_type": "code",
   "execution_count": null,
   "metadata": {},
   "outputs": [],
   "source": []
  },
  {
   "cell_type": "code",
   "execution_count": null,
   "metadata": {},
   "outputs": [],
   "source": [
    "sc.setCheckpointDir(\"hdfs:///Projects/{}/Logs/sc\".format(hdfs.project_name()))\n",
    "#cc_normal = g_normal.connectedComponents()\n",
    "scc_normal = g_normal.stronglyConnectedComponents(20)"
   ]
  },
  {
   "cell_type": "code",
   "execution_count": null,
   "metadata": {},
   "outputs": [],
   "source": [
    "scc_norm_comp_count = scc_normal.groupBy('component').count().where(func.col('count')>1)\n",
    "scc_normal = scc_normal.join(scc_norm_comp_count,['component'])\n",
    "scc_normal =  scc_normal.drop('count')\n",
    "normal_scc_grouped = normal_normal.join(\n",
    "    only_normal_edge_df,\n",
    "    [(only_normal_edge_df.source==scc_normal.id)|(only_normal_edge_df.target==scc_normal.id)],\n",
    "    how=\"left\"\n",
    ").dropDuplicates(subset=['tran_id'])"
   ]
  },
  {
   "cell_type": "code",
   "execution_count": null,
   "metadata": {},
   "outputs": [],
   "source": [
    "normal_scc_grouped.show()"
   ]
  },
  {
   "cell_type": "code",
   "execution_count": null,
   "metadata": {},
   "outputs": [],
   "source": []
  }
 ],
 "metadata": {
  "kernelspec": {
   "display_name": "PySpark",
   "language": "python",
   "name": "pysparkkernel"
  },
  "language_info": {
   "codemirror_mode": {
    "name": "python",
    "version": 3
   },
   "mimetype": "text/x-python",
   "name": "pyspark",
   "pygments_lexer": "python3"
  }
 },
 "nbformat": 4,
 "nbformat_minor": 4
}
