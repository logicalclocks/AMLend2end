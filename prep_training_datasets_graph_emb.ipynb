{
 "cells": [
  {
   "cell_type": "code",
   "execution_count": 1,
   "metadata": {},
   "outputs": [
    {
     "name": "stdout",
     "output_type": "stream",
     "text": [
      "Starting Spark application\n"
     ]
    },
    {
     "data": {
      "text/html": [
       "<table>\n",
       "<tr><th>ID</th><th>YARN Application ID</th><th>Kind</th><th>State</th><th>Spark UI</th><th>Driver log</th></tr><tr><td>67</td><td>application_1607949680860_0069</td><td>pyspark</td><td>idle</td><td><a target=\"_blank\" href=\"http://resourcemanager.service.consul:8088/proxy/application_1607949680860_0069/\">Link</a></td><td><a target=\"_blank\" href=\"http://hopsworksdavit-worker-2.internal.cloudapp.net:8042/node/containerlogs/container_e02_1607949680860_0069_01_000001/amlsim__meb10179\">Link</a></td></tr></table>"
      ],
      "text/plain": [
       "<IPython.core.display.HTML object>"
      ]
     },
     "metadata": {},
     "output_type": "display_data"
    },
    {
     "name": "stdout",
     "output_type": "stream",
     "text": [
      "SparkSession available as 'spark'.\n",
      "<pyspark.sql.session.SparkSession object at 0x7f1c4ce76fd0>"
     ]
    }
   ],
   "source": [
    "spark"
   ]
  },
  {
   "cell_type": "code",
   "execution_count": 2,
   "metadata": {},
   "outputs": [],
   "source": [
    "import hashlib\n",
    "from datetime import datetime\n",
    "from graphframes import *\n",
    "from pyspark.sql import functions as func\n",
    "from pyspark.sql.types import FloatType\n",
    "import hsfs\n",
    "from hops import hdfs\n",
    "import os\n",
    "from pyspark.sql import SQLContext"
   ]
  },
  {
   "cell_type": "code",
   "execution_count": 3,
   "metadata": {},
   "outputs": [],
   "source": [
    "def hashnode(x):\n",
    "    return hashlib.sha1(x.encode(\"UTF-8\")).hexdigest()[:8]\n",
    "\n",
    "hashnode_udf = func.udf(hashnode)"
   ]
  },
  {
   "cell_type": "code",
   "execution_count": 4,
   "metadata": {},
   "outputs": [
    {
     "name": "stdout",
     "output_type": "stream",
     "text": [
      "Connected. Call `.close()` to terminate connection gracefully."
     ]
    }
   ],
   "source": [
    "# Create a connection\n",
    "connection = hsfs.connection()\n",
    "# Get the feature store handle for the project's feature store\n",
    "fs = connection.get_feature_store()"
   ]
  },
  {
   "cell_type": "code",
   "execution_count": 5,
   "metadata": {},
   "outputs": [],
   "source": [
    "edge_fg = fs.get_feature_group('transactions_fg', 1)\n",
    "node_fg = fs.get_feature_group('account_features', 1)"
   ]
  },
  {
   "cell_type": "code",
   "execution_count": 6,
   "metadata": {},
   "outputs": [
    {
     "name": "stdout",
     "output_type": "stream",
     "text": [
      "+-------+--------------+---------+---------------+\n",
      "|acct_id|tx_behavior_id|prior_sar|initial_deposit|\n",
      "+-------+--------------+---------+---------------+\n",
      "|      0|             1|        0|       84442.19|\n",
      "|      1|             1|        0|       75795.44|\n",
      "|      2|             1|        0|       42057.16|\n",
      "|      3|             1|        0|       25891.68|\n",
      "|      4|             1|        0|       51127.47|\n",
      "+-------+--------------+---------+---------------+\n",
      "only showing top 5 rows"
     ]
    }
   ],
   "source": [
    "node_fg.show(5)"
   ]
  },
  {
   "cell_type": "code",
   "execution_count": 7,
   "metadata": {},
   "outputs": [
    {
     "name": "stdout",
     "output_type": "stream",
     "text": [
      "+------+-------+-------+--------------+--------+------+--------+------+\n",
      "|is_sar|tx_type|tran_id|tran_timestamp|base_amt|target|alert_id|source|\n",
      "+------+-------+-------+--------------+--------+------+--------+------+\n",
      "|     0|      4|      1|   1.4832288E9| 9405.71|  3259|      -1|  1767|\n",
      "|     0|      4|      2|   1.4832288E9| 6884.54|  5141|      -1|  7363|\n",
      "|     0|      4|      3|   1.4832288E9|  7968.4|  9532|      -1|  7585|\n",
      "|     0|      4|      4|   1.4832288E9| 9042.67|  8792|      -1|  1750|\n",
      "|     0|      4|      5|   1.4832288E9| 4692.79|  4670|      -1|  9060|\n",
      "+------+-------+-------+--------------+--------+------+--------+------+\n",
      "only showing top 5 rows"
     ]
    }
   ],
   "source": [
    "edge_fg.show(5)"
   ]
  },
  {
   "cell_type": "code",
   "execution_count": 8,
   "metadata": {},
   "outputs": [],
   "source": [
    "only_sar_edge_df = edge_fg.read().filter(func.col('alert_id') != -1)\n",
    "only_normal_edge_df =  edge_fg.read().filter(func.col('alert_id') == -1)"
   ]
  },
  {
   "cell_type": "code",
   "execution_count": 9,
   "metadata": {},
   "outputs": [
    {
     "name": "stdout",
     "output_type": "stream",
     "text": [
      "+------+-------+-------+--------------+--------+------+--------+------+\n",
      "|is_sar|tx_type|tran_id|tran_timestamp|base_amt|target|alert_id|source|\n",
      "+------+-------+-------+--------------+--------+------+--------+------+\n",
      "|     0|      4|      1|   1.4832288E9| 9405.71|  3259|      -1|  1767|\n",
      "|     0|      4|      2|   1.4832288E9| 6884.54|  5141|      -1|  7363|\n",
      "|     0|      4|      3|   1.4832288E9|  7968.4|  9532|      -1|  7585|\n",
      "|     0|      4|      4|   1.4832288E9| 9042.67|  8792|      -1|  1750|\n",
      "|     0|      4|      5|   1.4832288E9| 4692.79|  4670|      -1|  9060|\n",
      "+------+-------+-------+--------------+--------+------+--------+------+\n",
      "only showing top 5 rows"
     ]
    }
   ],
   "source": [
    "only_normal_edge_df.show(5)"
   ]
  },
  {
   "cell_type": "code",
   "execution_count": 10,
   "metadata": {},
   "outputs": [
    {
     "name": "stdout",
     "output_type": "stream",
     "text": [
      "+------+-------+-------+--------------+--------+------+--------+------+\n",
      "|is_sar|tx_type|tran_id|tran_timestamp|base_amt|target|alert_id|source|\n",
      "+------+-------+-------+--------------+--------+------+--------+------+\n",
      "|     1|      4|     98|   1.4832288E9|  108.62|  5688|      16|  2298|\n",
      "|     1|      4|    108|   1.4832288E9|  183.25|  9601|      26|  8627|\n",
      "|     1|      4|    135|   1.4832288E9|  142.71|  8359|      15|  2756|\n",
      "|     1|      4|    137|   1.4832288E9|  132.47|  7702|       9|  7605|\n",
      "|     1|      4|    218|   1.4832288E9|  119.51|  7377|      17|  5891|\n",
      "|     1|      4|    335|   1.4832288E9|  136.02|  1661|      12|  6787|\n",
      "|     1|      4|    439|   1.4832288E9|  194.53|  7950|       0|  8485|\n",
      "|     1|      4|    477|   1.4832288E9|  184.32|  2177|       3|  5324|\n",
      "|     1|      4|    514|   1.4832288E9|  130.63|  4616|      19|  4919|\n",
      "|     1|      4|    564|   1.4832288E9|  183.27|  1589|       5|  4170|\n",
      "|     1|      4|    580|   1.4832288E9|  135.69|  1590|      18|  6483|\n",
      "|     1|      4|    654|   1.4832288E9|  160.35|  2275|      20|   123|\n",
      "|     1|      4|    711|   1.4832288E9|  144.32|  9851|      23|  6173|\n",
      "|     1|      4|    742|   1.4832288E9|  177.32|  2182|       4|  9300|\n",
      "|     1|      4|    779|   1.4832288E9|  189.75|  5470|       1|  2344|\n",
      "|     1|      4|    780|   1.4832288E9|  112.62|  4651|      22|  9149|\n",
      "|     1|      4|    933|   1.4832288E9|  108.91|  4046|      27|   312|\n",
      "|     1|      4|    947|   1.4832288E9|  173.42|  2300|       8|  5819|\n",
      "|     1|      4|   1070|   1.4832288E9|  135.89|  1964|       6|  3792|\n",
      "|     1|      4|   1256|   1.4832288E9|  142.27|  3191|      25|  7235|\n",
      "+------+-------+-------+--------------+--------+------+--------+------+\n",
      "only showing top 20 rows"
     ]
    }
   ],
   "source": [
    "only_sar_edge_df.show()"
   ]
  },
  {
   "cell_type": "code",
   "execution_count": 11,
   "metadata": {},
   "outputs": [
    {
     "name": "stdout",
     "output_type": "stream",
     "text": [
      "732"
     ]
    }
   ],
   "source": [
    "only_sar_edge_df.count()"
   ]
  },
  {
   "cell_type": "code",
   "execution_count": 12,
   "metadata": {},
   "outputs": [
    {
     "name": "stdout",
     "output_type": "stream",
     "text": [
      "732"
     ]
    }
   ],
   "source": [
    "sar_sources = only_sar_edge_df.select(\"source\")\n",
    "sar_targets = only_sar_edge_df.select(\"target\")\n",
    "sar_nodes = sar_sources.union(sar_targets).toDF(\"id\").dropDuplicates()\n",
    "sar_nodes.count()\n",
    "\n",
    "sar_edges = only_sar_edge_df.select(\"source\", \"target\").toDF(\"src\", \"dst\")\n",
    "sar_edges.count()"
   ]
  },
  {
   "cell_type": "code",
   "execution_count": 13,
   "metadata": {},
   "outputs": [],
   "source": [
    "# Now lets construct the graph\n",
    "g_sar = GraphFrame(sar_nodes,sar_edges)\n",
    "sc.setCheckpointDir(\"hdfs:///Projects/{}/Logs/sc\".format(hdfs.project_name()))\n",
    "cc_sar = g_sar.connectedComponents()"
   ]
  },
  {
   "cell_type": "code",
   "execution_count": 14,
   "metadata": {},
   "outputs": [
    {
     "name": "stdout",
     "output_type": "stream",
     "text": [
      "+----+---------+\n",
      "|  id|component|\n",
      "+----+---------+\n",
      "|8086|     2599|\n",
      "|7833|     3671|\n",
      "|5300|     2773|\n",
      "| 463|      124|\n",
      "|3997|     2773|\n",
      "|1127|     1127|\n",
      "| 540|      540|\n",
      "|6393|     3396|\n",
      "|1522|     1054|\n",
      "|5614|      825|\n",
      "|3488|     2599|\n",
      "|2393|      397|\n",
      "|9162|     2889|\n",
      "|7387|      643|\n",
      "|4364|     1096|\n",
      "|1265|     1009|\n",
      "|4042|     1590|\n",
      "|5223|     1013|\n",
      "|3425|     1054|\n",
      "|5157|       61|\n",
      "+----+---------+\n",
      "only showing top 20 rows"
     ]
    }
   ],
   "source": [
    "cc_sar.cache().show()"
   ]
  },
  {
   "cell_type": "code",
   "execution_count": 15,
   "metadata": {},
   "outputs": [
    {
     "name": "stdout",
     "output_type": "stream",
     "text": [
      "+-----+\n",
      "|count|\n",
      "+-----+\n",
      "|    5|\n",
      "|    6|\n",
      "|    7|\n",
      "|    8|\n",
      "|    9|\n",
      "|   10|\n",
      "+-----+"
     ]
    }
   ],
   "source": [
    "cc_sar.groupBy('component').count().select('count').dropDuplicates().orderBy('count').show()"
   ]
  },
  {
   "cell_type": "code",
   "execution_count": null,
   "metadata": {},
   "outputs": [],
   "source": []
  },
  {
   "cell_type": "code",
   "execution_count": 16,
   "metadata": {},
   "outputs": [],
   "source": [
    "scc_sar = g_sar.stronglyConnectedComponents(20)"
   ]
  },
  {
   "cell_type": "code",
   "execution_count": 17,
   "metadata": {},
   "outputs": [
    {
     "name": "stdout",
     "output_type": "stream",
     "text": [
      "+----+---------+\n",
      "|  id|component|\n",
      "+----+---------+\n",
      "|7800|     7800|\n",
      "|8600|     8600|\n",
      "|4000|     4000|\n",
      "|5201|     1109|\n",
      "|1801|     1801|\n",
      "| 601|      601|\n",
      "|1201|     1201|\n",
      "|4601|     4601|\n",
      "|9601|     9601|\n",
      "|3402|     3402|\n",
      "|4802|     4802|\n",
      "|7802|     1945|\n",
      "|6403|     1630|\n",
      "|1003|     1003|\n",
      "|2003|     1201|\n",
      "|5403|      295|\n",
      "|9403|     9403|\n",
      "|7604|     1201|\n",
      "|5204|     1257|\n",
      "|8004|     8004|\n",
      "+----+---------+\n",
      "only showing top 20 rows"
     ]
    }
   ],
   "source": [
    "scc_sar.cache().show()"
   ]
  },
  {
   "cell_type": "code",
   "execution_count": 18,
   "metadata": {},
   "outputs": [
    {
     "name": "stdout",
     "output_type": "stream",
     "text": [
      "+-----+\n",
      "|count|\n",
      "+-----+\n",
      "|    1|\n",
      "|    5|\n",
      "|    6|\n",
      "|    7|\n",
      "|    8|\n",
      "|    9|\n",
      "|   10|\n",
      "+-----+"
     ]
    }
   ],
   "source": [
    "scc_sar.groupBy('component').count().select('count').dropDuplicates().orderBy('count').show()"
   ]
  },
  {
   "cell_type": "code",
   "execution_count": 19,
   "metadata": {},
   "outputs": [
    {
     "name": "stdout",
     "output_type": "stream",
     "text": [
      "471"
     ]
    }
   ],
   "source": [
    "scc_sar.groupBy('component').count().where(func.col('count')==1).count()"
   ]
  },
  {
   "cell_type": "code",
   "execution_count": 20,
   "metadata": {},
   "outputs": [
    {
     "name": "stdout",
     "output_type": "stream",
     "text": [
      "40"
     ]
    }
   ],
   "source": [
    "scc_sar.groupBy('component').count().where(func.col('count')>1).count()"
   ]
  },
  {
   "cell_type": "code",
   "execution_count": 21,
   "metadata": {},
   "outputs": [],
   "source": [
    "scc_comp_count = scc_sar.groupBy('component').count().where(func.col('count')>1)"
   ]
  },
  {
   "cell_type": "code",
   "execution_count": 22,
   "metadata": {},
   "outputs": [],
   "source": [
    "scc_sar = scc_sar.join(scc_comp_count,['component'])"
   ]
  },
  {
   "cell_type": "code",
   "execution_count": 23,
   "metadata": {},
   "outputs": [
    {
     "name": "stdout",
     "output_type": "stream",
     "text": [
      "+---------+----+-----+\n",
      "|component|  id|count|\n",
      "+---------+----+-----+\n",
      "|     1152|3595|   10|\n",
      "|     1152|1152|   10|\n",
      "|     1152|8535|   10|\n",
      "|     1152|4324|   10|\n",
      "|     1152|2321|   10|\n",
      "|     1152|8117|   10|\n",
      "|     1152|3304|   10|\n",
      "|     1152|8654|   10|\n",
      "|     1152|8049|   10|\n",
      "|     1152|7824|   10|\n",
      "|      399| 399|    6|\n",
      "|      399|8965|    6|\n",
      "|      399|9960|    6|\n",
      "|      399|7146|    6|\n",
      "|      399|2501|    6|\n",
      "|      399|5621|    6|\n",
      "|     3671|4969|    6|\n",
      "|     3671|8546|    6|\n",
      "|     3671|3671|    6|\n",
      "|     3671|4867|    6|\n",
      "+---------+----+-----+\n",
      "only showing top 20 rows"
     ]
    }
   ],
   "source": [
    "scc_sar.show()"
   ]
  },
  {
   "cell_type": "code",
   "execution_count": 24,
   "metadata": {},
   "outputs": [],
   "source": [
    "scc_sar =  scc_sar.drop('count')"
   ]
  },
  {
   "cell_type": "code",
   "execution_count": 25,
   "metadata": {},
   "outputs": [],
   "source": [
    "sar_cc_grouped = cc_sar.join(\n",
    "    only_sar_edge_df,\n",
    "    [(only_sar_edge_df.source==cc_sar.id)|(only_sar_edge_df.target==cc_sar.id)],\n",
    "    how=\"left\"\n",
    ").dropDuplicates(subset=['tran_id'])"
   ]
  },
  {
   "cell_type": "code",
   "execution_count": 26,
   "metadata": {},
   "outputs": [],
   "source": [
    "sar_scc_grouped = scc_sar.join(\n",
    "    only_sar_edge_df,\n",
    "    [(only_sar_edge_df.source==scc_sar.id)|(only_sar_edge_df.target==scc_sar.id)],\n",
    "    how=\"left\"\n",
    ").dropDuplicates(subset=['tran_id'])"
   ]
  },
  {
   "cell_type": "code",
   "execution_count": 27,
   "metadata": {},
   "outputs": [
    {
     "name": "stdout",
     "output_type": "stream",
     "text": [
      "732"
     ]
    }
   ],
   "source": [
    "sar_cc_grouped.count()"
   ]
  },
  {
   "cell_type": "code",
   "execution_count": 28,
   "metadata": {},
   "outputs": [
    {
     "name": "stdout",
     "output_type": "stream",
     "text": [
      "321"
     ]
    }
   ],
   "source": [
    "sar_scc_grouped.count()"
   ]
  },
  {
   "cell_type": "code",
   "execution_count": 29,
   "metadata": {},
   "outputs": [
    {
     "name": "stdout",
     "output_type": "stream",
     "text": [
      "732"
     ]
    }
   ],
   "source": [
    "only_sar_edge_df.count()"
   ]
  },
  {
   "cell_type": "code",
   "execution_count": null,
   "metadata": {},
   "outputs": [],
   "source": []
  },
  {
   "cell_type": "code",
   "execution_count": 30,
   "metadata": {},
   "outputs": [
    {
     "name": "stdout",
     "output_type": "stream",
     "text": [
      "+---------+----+------+-------+-------+--------------+--------+------+--------+------+\n",
      "|component|  id|is_sar|tx_type|tran_id|tran_timestamp|base_amt|target|alert_id|source|\n",
      "+---------+----+------+-------+-------+--------------+--------+------+--------+------+\n",
      "|     1009|3661|     1|      4| 100274|   1.4892768E9|  102.86|  1425|      80|  3661|\n",
      "|     1801|9700|     1|      4| 284874|   1.5004224E9|  103.47|  3984|      96|  9700|\n",
      "|      554|8091|     1|      4| 522545|   1.5147648E9|  106.94|  8091|      91|   554|\n",
      "|      825|7776|     1|      4| 706588|    1.525824E9|   63.66|  7776|      84|  4571|\n",
      "|     1369|8581|     1|      4| 472208|   1.5117408E9|  114.67|  8581|      70|  1598|\n",
      "|     1257|6837|     1|      4|  57885|   1.4866848E9|   73.41|  6837|      95|  5261|\n",
      "|      907|3329|     1|      4| 509573|   1.5139872E9|   47.28|  3329|      90|  7851|\n",
      "|      397|3252|     1|      4| 786028|   1.5306624E9|   79.42|  6415|      74|  3252|\n",
      "|      295|6810|     1|      4| 202624|   1.4954112E9|   57.47|  9785|      99|  6810|\n",
      "|     3669|3669|     1|      4|  93978|   1.4888448E9|  173.69|  5541|      85|  3669|\n",
      "|     2047|2542|     1|      4| 179206|   1.4940288E9|  197.69|  2542|      81|  2861|\n",
      "|     2047|6767|     1|      4| 186510|   1.4944608E9|   129.7|  7703|      81|  6767|\n",
      "|     1369|1926|     1|      4| 474798|   1.5118272E9|   92.88|  1926|      70|  6504|\n",
      "|     1945|7802|     1|      4| 769037|   1.5296256E9|  143.74|  4743|      98|  7802|\n",
      "|     1257|3441|     1|      4|  35905|   1.4853888E9|  153.47|  5204|      95|  3441|\n",
      "|      601|6315|     1|      4| 405475|     1.50768E9|  179.36|  6315|      63|  9965|\n",
      "|      374| 374|     1|      4|  72841|   1.4875488E9|  174.29|  1826|      72|   374|\n",
      "|      825|5614|     1|      4| 701190|   1.5255648E9|   78.59|  5440|      84|  5614|\n",
      "|     1945|1945|     1|      4| 774140|   1.5299712E9|  116.43|  1945|      98|  7176|\n",
      "|      601|9965|     1|      4| 407998|   1.5078528E9|  130.76|  9965|      63|  9223|\n",
      "+---------+----+------+-------+-------+--------------+--------+------+--------+------+\n",
      "only showing top 20 rows"
     ]
    }
   ],
   "source": [
    "sar_scc_grouped.show()"
   ]
  },
  {
   "cell_type": "code",
   "execution_count": null,
   "metadata": {},
   "outputs": [],
   "source": []
  },
  {
   "cell_type": "code",
   "execution_count": 31,
   "metadata": {},
   "outputs": [],
   "source": [
    "only_sar_edge_df = sar_scc_grouped"
   ]
  },
  {
   "cell_type": "code",
   "execution_count": 32,
   "metadata": {},
   "outputs": [
    {
     "name": "stdout",
     "output_type": "stream",
     "text": [
      "+---------+----+------+-------+-------+--------------+--------+------+--------+------+\n",
      "|component|  id|is_sar|tx_type|tran_id|tran_timestamp|base_amt|target|alert_id|source|\n",
      "+---------+----+------+-------+-------+--------------+--------+------+--------+------+\n",
      "|     1009|1425|     1|      4| 100274|   1.4892768E9|  102.86|  1425|      80|  3661|\n",
      "|     1801|9700|     1|      4| 284874|   1.5004224E9|  103.47|  3984|      96|  9700|\n",
      "|      554|8091|     1|      4| 522545|   1.5147648E9|  106.94|  8091|      91|   554|\n",
      "|      825|4571|     1|      4| 706588|    1.525824E9|   63.66|  7776|      84|  4571|\n",
      "|     1369|8581|     1|      4| 472208|   1.5117408E9|  114.67|  8581|      70|  1598|\n",
      "+---------+----+------+-------+-------+--------------+--------+------+--------+------+\n",
      "only showing top 5 rows"
     ]
    }
   ],
   "source": [
    "only_sar_edge_df.show(5)"
   ]
  },
  {
   "cell_type": "code",
   "execution_count": null,
   "metadata": {},
   "outputs": [],
   "source": []
  },
  {
   "cell_type": "code",
   "execution_count": null,
   "metadata": {},
   "outputs": [],
   "source": []
  },
  {
   "cell_type": "code",
   "execution_count": 33,
   "metadata": {},
   "outputs": [
    {
     "name": "stdout",
     "output_type": "stream",
     "text": [
      "1028964"
     ]
    }
   ],
   "source": [
    "only_normal_edge_df.count()"
   ]
  },
  {
   "cell_type": "code",
   "execution_count": null,
   "metadata": {},
   "outputs": [],
   "source": []
  },
  {
   "cell_type": "code",
   "execution_count": 34,
   "metadata": {},
   "outputs": [
    {
     "name": "stdout",
     "output_type": "stream",
     "text": [
      "+---------+------------+-----------+\n",
      "|component|window_start| window_end|\n",
      "+---------+------------+-----------+\n",
      "|     1152|  1.516752E9|1.5170976E9|\n",
      "|      399| 1.5412032E9|1.5428448E9|\n",
      "|     3671| 1.5287616E9| 1.530144E9|\n",
      "|     3751| 1.4901408E9|1.4911776E9|\n",
      "|     1945| 1.5290208E9|1.5299712E9|\n",
      "+---------+------------+-----------+\n",
      "only showing top 5 rows"
     ]
    }
   ],
   "source": [
    "only_sar_edge_df_grouped = only_sar_edge_df.groupBy('component').agg(func.min(\"tran_timestamp\"),func.max(\"tran_timestamp\")).toDF(\"component\", \"window_start\", \"window_end\")\n",
    "only_sar_edge_df_grouped.show(5)"
   ]
  },
  {
   "cell_type": "code",
   "execution_count": null,
   "metadata": {},
   "outputs": [],
   "source": []
  },
  {
   "cell_type": "code",
   "execution_count": 35,
   "metadata": {},
   "outputs": [],
   "source": [
    "only_sar_edges_df_windows = only_sar_edge_df.join(only_sar_edge_df_grouped,[\"component\"])"
   ]
  },
  {
   "cell_type": "code",
   "execution_count": 36,
   "metadata": {},
   "outputs": [
    {
     "name": "stdout",
     "output_type": "stream",
     "text": [
      "+---------+----+------+-------+-------+--------------+--------+------+--------+------+------------+-----------+\n",
      "|component|  id|is_sar|tx_type|tran_id|tran_timestamp|base_amt|target|alert_id|source|window_start| window_end|\n",
      "+---------+----+------+-------+-------+--------------+--------+------+--------+------+------------+-----------+\n",
      "|     1152|8535|     1|      4| 556095|    1.516752E9|  101.29|  8535|      65|  1152|  1.516752E9|1.5170976E9|\n",
      "|     1152|3595|     1|      4| 556094|    1.516752E9|  112.55|  3595|      65|  8654|  1.516752E9|1.5170976E9|\n",
      "|     1152|4324|     1|      4| 561547|   1.5170976E9|   53.83|  2321|      65|  4324|  1.516752E9|1.5170976E9|\n",
      "|     1152|8049|     1|      4| 561548|   1.5170976E9|   48.44|  8049|      65|  2321|  1.516752E9|1.5170976E9|\n",
      "|     1152|8535|     1|      4| 561549|   1.5170976E9|    43.6|  8654|      65|  8535|  1.516752E9|1.5170976E9|\n",
      "|     1152|8049|     1|      4| 559541|   1.5170112E9|   73.84|  3304|      65|  8049|  1.516752E9|1.5170976E9|\n",
      "|     1152|1152|     1|      4| 557719|   1.5168384E9|   91.16|  1152|      65|  7824|  1.516752E9|1.5170976E9|\n",
      "|     1152|7824|     1|      4| 559198|   1.5169248E9|   82.04|  7824|      65|  8117|  1.516752E9|1.5170976E9|\n",
      "|     1152|3595|     1|      4| 561546|   1.5170976E9|   59.81|  4324|      65|  3595|  1.516752E9|1.5170976E9|\n",
      "|     1152|3304|     1|      4| 559542|   1.5170112E9|   66.45|  8117|      65|  3304|  1.516752E9|1.5170976E9|\n",
      "|      399|2501|     1|      4| 988030|   1.5428448E9|   68.13|  9960|      78|  2501| 1.5412032E9|1.5428448E9|\n",
      "|      399| 399|     1|      4| 961039|   1.5412896E9|  103.84|  5621|      78|   399| 1.5412032E9|1.5428448E9|\n",
      "|      399| 399|     1|      4| 977325|     1.54224E9|   93.45|   399|      78|  7146| 1.5412032E9|1.5428448E9|\n",
      "|      399|8965|     1|      4| 981236|   1.5424992E9|   84.11|  8965|      78|  5621| 1.5412032E9|1.5428448E9|\n",
      "|      399|7146|     1|      4| 986670|   1.5427584E9|    75.7|  7146|      78|  9960| 1.5412032E9|1.5428448E9|\n",
      "|      399|2501|     1|      4| 960047|   1.5412032E9|  115.37|  2501|      78|  8965| 1.5412032E9|1.5428448E9|\n",
      "|     3671|6241|     1|      4| 774498|   1.5299712E9|   87.13|  6241|      92|  7833| 1.5287616E9| 1.530144E9|\n",
      "|     3671|4867|     1|      4| 754052|   1.5287616E9|   132.8|  3671|      92|  4867| 1.5287616E9| 1.530144E9|\n",
      "|     3671|3671|     1|      4| 777776|    1.530144E9|   78.41|  4969|      92|  3671| 1.5287616E9| 1.530144E9|\n",
      "|     3671|4867|     1|      4| 757136|   1.5289344E9|  107.56|  4867|      92|  8546| 1.5287616E9| 1.530144E9|\n",
      "+---------+----+------+-------+-------+--------------+--------+------+--------+------+------------+-----------+\n",
      "only showing top 20 rows"
     ]
    }
   ],
   "source": [
    "only_sar_edges_df_windows.show()"
   ]
  },
  {
   "cell_type": "code",
   "execution_count": 37,
   "metadata": {},
   "outputs": [
    {
     "name": "stdout",
     "output_type": "stream",
     "text": [
      "321"
     ]
    }
   ],
   "source": [
    "only_sar_edges_df_windows.count()"
   ]
  },
  {
   "cell_type": "code",
   "execution_count": null,
   "metadata": {},
   "outputs": [],
   "source": []
  },
  {
   "cell_type": "code",
   "execution_count": 64,
   "metadata": {},
   "outputs": [],
   "source": [
    "only_normal_edges_df_windows = only_sar_edge_df_grouped.select(\"window_start\", \"window_end\").join(\n",
    "    only_normal_edge_df,\n",
    "    [(only_normal_edge_df.tran_timestamp>=only_sar_edge_df_grouped.window_start)&(only_normal_edge_df.tran_timestamp<=only_sar_edge_df_grouped.window_end)],\n",
    "    how=\"left\"\n",
    ")"
   ]
  },
  {
   "cell_type": "code",
   "execution_count": 65,
   "metadata": {},
   "outputs": [
    {
     "name": "stdout",
     "output_type": "stream",
     "text": [
      "+------------+-----------+------+-------+-------+--------------+--------+------+--------+------+\n",
      "|window_start| window_end|is_sar|tx_type|tran_id|tran_timestamp|base_amt|target|alert_id|source|\n",
      "+------------+-----------+------+-------+-------+--------------+--------+------+--------+------+\n",
      "|  1.516752E9|1.5170976E9|     0|      4| 555045|    1.516752E9|  503.89|  9947|      -1|  6249|\n",
      "|  1.516752E9|1.5170976E9|     0|      4| 555046|    1.516752E9|  564.26|  3095|      -1|  4557|\n",
      "|  1.516752E9|1.5170976E9|     0|      4| 555047|    1.516752E9| 7773.05|  3003|      -1|  4967|\n",
      "|  1.516752E9|1.5170976E9|     0|      4| 555048|    1.516752E9|  4490.0|  9866|      -1|  7090|\n",
      "|  1.516752E9|1.5170976E9|     0|      4| 555049|    1.516752E9| 6136.03|  1343|      -1|  4471|\n",
      "|  1.516752E9|1.5170976E9|     0|      4| 555050|    1.516752E9| 9344.63|  3076|      -1|  6975|\n",
      "|  1.516752E9|1.5170976E9|     0|      4| 555051|    1.516752E9| 1527.03|  1969|      -1|  6923|\n",
      "|  1.516752E9|1.5170976E9|     0|      4| 555052|    1.516752E9| 4742.97|   349|      -1|  4380|\n",
      "|  1.516752E9|1.5170976E9|     0|      4| 555053|    1.516752E9| 4214.32|  8908|      -1|  6574|\n",
      "|  1.516752E9|1.5170976E9|     0|      4| 555054|    1.516752E9| 7665.71|  8725|      -1|  6495|\n",
      "|  1.516752E9|1.5170976E9|     0|      4| 555055|    1.516752E9| 4860.73|   689|      -1|  5156|\n",
      "|  1.516752E9|1.5170976E9|     0|      4| 555056|    1.516752E9|  7818.5|  6420|      -1|  7693|\n",
      "|  1.516752E9|1.5170976E9|     0|      4| 555057|    1.516752E9| 5913.22|  4901|      -1|  9776|\n",
      "|  1.516752E9|1.5170976E9|     0|      4| 555058|    1.516752E9| 2377.77|  9678|      -1|  6412|\n",
      "|  1.516752E9|1.5170976E9|     0|      4| 555059|    1.516752E9|  8598.2|  9994|      -1|  7412|\n",
      "|  1.516752E9|1.5170976E9|     0|      4| 555060|    1.516752E9| 6902.87|  9127|      -1|  9421|\n",
      "|  1.516752E9|1.5170976E9|     0|      4| 555061|    1.516752E9| 7507.27|  7695|      -1|  8992|\n",
      "|  1.516752E9|1.5170976E9|     0|      4| 555062|    1.516752E9| 3398.08|  7769|      -1|   137|\n",
      "|  1.516752E9|1.5170976E9|     0|      4| 555063|    1.516752E9| 6324.95|  3726|      -1|  3810|\n",
      "|  1.516752E9|1.5170976E9|     0|      4| 555064|    1.516752E9| 5511.01|  6878|      -1|  4388|\n",
      "+------------+-----------+------+-------+-------+--------------+--------+------+--------+------+\n",
      "only showing top 20 rows"
     ]
    }
   ],
   "source": [
    "only_normal_edges_df_windows.show()"
   ]
  },
  {
   "cell_type": "code",
   "execution_count": 66,
   "metadata": {},
   "outputs": [
    {
     "name": "stdout",
     "output_type": "stream",
     "text": [
      "677241"
     ]
    }
   ],
   "source": [
    "only_normal_edges_df_windows.count()"
   ]
  },
  {
   "cell_type": "code",
   "execution_count": 67,
   "metadata": {},
   "outputs": [
    {
     "name": "stdout",
     "output_type": "stream",
     "text": [
      "+------------+-----------+------+-------+-------+--------------+--------+------+--------+------+--------+--------+\n",
      "|window_start| window_end|is_sar|tx_type|tran_id|tran_timestamp|base_amt|destId|alert_id|origId|  target|  source|\n",
      "+------------+-----------+------+-------+-------+--------------+--------+------+--------+------+--------+--------+\n",
      "|  1.516752E9|1.5170976E9|     0|      4| 555045|    1.516752E9|  503.89|  9947|      -1|  6249|b786ed64|bbc43466|\n",
      "|  1.516752E9|1.5170976E9|     0|      4| 555046|    1.516752E9|  564.26|  3095|      -1|  4557|b0b7a393|af529315|\n",
      "|  1.516752E9|1.5170976E9|     0|      4| 555047|    1.516752E9| 7773.05|  3003|      -1|  4967|4156c046|e033872d|\n",
      "|  1.516752E9|1.5170976E9|     0|      4| 555048|    1.516752E9|  4490.0|  9866|      -1|  7090|05ac06b4|3eac3624|\n",
      "|  1.516752E9|1.5170976E9|     0|      4| 555049|    1.516752E9| 6136.03|  1343|      -1|  4471|e1901da0|cb468f43|\n",
      "|  1.516752E9|1.5170976E9|     0|      4| 555050|    1.516752E9| 9344.63|  3076|      -1|  6975|40ad9709|fb953bd3|\n",
      "|  1.516752E9|1.5170976E9|     0|      4| 555051|    1.516752E9| 1527.03|  1969|      -1|  6923|56a90cea|156546e9|\n",
      "|  1.516752E9|1.5170976E9|     0|      4| 555052|    1.516752E9| 4742.97|   349|      -1|  4380|defc0df5|db210922|\n",
      "|  1.516752E9|1.5170976E9|     0|      4| 555053|    1.516752E9| 4214.32|  8908|      -1|  6574|d30039ac|7a745843|\n",
      "|  1.516752E9|1.5170976E9|     0|      4| 555054|    1.516752E9| 7665.71|  8725|      -1|  6495|05facc21|5f1c26e4|\n",
      "|  1.516752E9|1.5170976E9|     0|      4| 555055|    1.516752E9| 4860.73|   689|      -1|  5156|9a5e5b36|d1c67237|\n",
      "|  1.516752E9|1.5170976E9|     0|      4| 555056|    1.516752E9|  7818.5|  6420|      -1|  7693|1367dad7|25f2f82e|\n",
      "|  1.516752E9|1.5170976E9|     0|      4| 555057|    1.516752E9| 5913.22|  4901|      -1|  9776|62865842|4636f4a5|\n",
      "|  1.516752E9|1.5170976E9|     0|      4| 555058|    1.516752E9| 2377.77|  9678|      -1|  6412|8186b34d|61aa83b7|\n",
      "|  1.516752E9|1.5170976E9|     0|      4| 555059|    1.516752E9|  8598.2|  9994|      -1|  7412|6dfa674f|b1a62690|\n",
      "|  1.516752E9|1.5170976E9|     0|      4| 555060|    1.516752E9| 6902.87|  9127|      -1|  9421|e98dd5f5|b68a6a9b|\n",
      "|  1.516752E9|1.5170976E9|     0|      4| 555061|    1.516752E9| 7507.27|  7695|      -1|  8992|581c619e|480e7725|\n",
      "|  1.516752E9|1.5170976E9|     0|      4| 555062|    1.516752E9| 3398.08|  7769|      -1|   137|636c6b62|7e697905|\n",
      "|  1.516752E9|1.5170976E9|     0|      4| 555063|    1.516752E9| 6324.95|  3726|      -1|  3810|6e2cee21|c0544242|\n",
      "|  1.516752E9|1.5170976E9|     0|      4| 555064|    1.516752E9| 5511.01|  6878|      -1|  4388|f8a13b02|2edf1f54|\n",
      "+------------+-----------+------+-------+-------+--------------+--------+------+--------+------+--------+--------+\n",
      "only showing top 20 rows"
     ]
    }
   ],
   "source": [
    "only_normal_edges_df_windows = only_normal_edges_df_windows.withColumnRenamed(\"source\", \"origId\")\\\n",
    "                                                           .withColumnRenamed(\"target\", \"destId\")  \n",
    "only_normal_edges_df_windows = only_normal_edges_df_windows.withColumn('target',hashnode_udf(func.concat(func.col('destId'),func.lit('_'),func.col('window_start'),func.lit('_'),func.col('window_end'))))\\\n",
    "                                                           .withColumn('source',hashnode_udf(func.concat(func.col('origId'),func.lit('_'),func.col('window_start'),func.lit('_'),func.col('window_end'))))            \n",
    "only_normal_edges_df_windows.show()"
   ]
  },
  {
   "cell_type": "code",
   "execution_count": null,
   "metadata": {},
   "outputs": [],
   "source": []
  },
  {
   "cell_type": "code",
   "execution_count": 42,
   "metadata": {},
   "outputs": [
    {
     "name": "stdout",
     "output_type": "stream",
     "text": [
      "+--------+--------+---------+\n",
      "|      id|inDegree|outDegree|\n",
      "+--------+--------+---------+\n",
      "|00fac541|       3|        2|\n",
      "|0287e0b9|       3|        3|\n",
      "|02f42efb|       4|        3|\n",
      "|03ec4643|       2|        2|\n",
      "|041a26ac|       2|        2|\n",
      "|04258f79|       3|        4|\n",
      "|062475fb|       3|        2|\n",
      "|06326a74|       5|        3|\n",
      "|065aca96|       3|        3|\n",
      "|06984758|       2|        7|\n",
      "|070a287f|       2|        2|\n",
      "|075a33ad|      17|        8|\n",
      "|07610d16|       2|        3|\n",
      "|076132d4|       3|        3|\n",
      "|07d36152|       2|        3|\n",
      "|07d609b3|       3|        3|\n",
      "|07f8a112|       2|        2|\n",
      "|0879c806|       3|        2|\n",
      "|0a1fa962|       2|        4|\n",
      "|0aaa6194|       5|        2|\n",
      "+--------+--------+---------+\n",
      "only showing top 20 rows\n",
      "\n",
      "+--------+--------+--------+--------+---------+\n",
      "|     src|     dst|      id|inDegree|outDegree|\n",
      "+--------+--------+--------+--------+---------+\n",
      "|006437bc|fcdd5296|fcdd5296|       2|        2|\n",
      "|006593aa|16c11e9c|006593aa|       4|        2|\n",
      "|008b83a7|23be8e3d|    null|    null|     null|\n",
      "|00af2737|680d3223|00af2737|       3|        7|\n",
      "|00bf7d36|113406e0|    null|    null|     null|\n",
      "|00ccb2db|54a408ef|    null|    null|     null|\n",
      "|00f958bc|2c52b404|2c52b404|       2|        2|\n",
      "|010262ed|b63c7960|b63c7960|       4|        3|\n",
      "|01068e24|f45ad729|f45ad729|       3|        3|\n",
      "|0141bee9|7ecf4034|    null|    null|     null|\n",
      "|014d777e|c36b8d9b|c36b8d9b|       6|        2|\n",
      "|01566ef4|3e9a2149|3e9a2149|       6|        4|\n",
      "|01aa76f5|8cbee2e1|01aa76f5|       3|        5|\n",
      "|01c8e959|ac48d188|01c8e959|       4|        5|\n",
      "|01cb098b|f31afde8|    null|    null|     null|\n",
      "|01d69e77|374d45b8|01d69e77|       3|        4|\n",
      "|0237749f|b329410e|    null|    null|     null|\n",
      "|0262fa1e|4d22ceb1|0262fa1e|       2|        5|\n",
      "|026ecbac|eeffa756|    null|    null|     null|\n",
      "|0279aa25|ab2bc167|    null|    null|     null|\n",
      "+--------+--------+--------+--------+---------+\n",
      "only showing top 20 rows"
     ]
    }
   ],
   "source": [
    "normal_sources = only_normal_edges_df_windows.select(\"source\")\n",
    "normal_targets = only_normal_edges_df_windows.select(\"target\")\n",
    "normal_nodes = normal_sources.union(normal_targets).toDF(\"id\").dropDuplicates()\n",
    "\n",
    "normal_edges = only_normal_edges_df_windows.select(\"source\", \"target\").toDF(\"src\", \"dst\")\n",
    "\n",
    "# Now lets construct the graph\n",
    "g_normal = GraphFrame(normal_nodes,normal_edges)\n",
    "inDeg = g_normal.inDegrees.filter(\"inDegree >= 2\")\n",
    "ourDeg = g_normal.outDegrees.filter(\"outDegree >= 2\")\n",
    "filtNode = g_normal.vertices\n",
    "\n",
    "filtNode = filtNode.join(inDeg, ['id'])\n",
    "filtNode = filtNode.join(ourDeg, ['id'])\n",
    "filtNode.show()\n",
    "filtEdges = g_normal.edges\n",
    "\n",
    "filtEdges = filtEdges.join(\n",
    "    filtNode,\n",
    "    [(filtEdges.src==filtNode.id)|(filtEdges.dst==filtNode.id)],\n",
    "    how=\"left\"\n",
    ").dropDuplicates(subset=['src','dst'])\n",
    "filtEdges.cache()\n",
    "filtEdges.show()"
   ]
  },
  {
   "cell_type": "code",
   "execution_count": null,
   "metadata": {},
   "outputs": [],
   "source": []
  },
  {
   "cell_type": "code",
   "execution_count": 57,
   "metadata": {},
   "outputs": [],
   "source": [
    "filtEdges_2 = filtEdges.where((filtEdges.inDegree >= 2) & (filtEdges.outDegree >= 2)).drop(\"id\",\"inDegree\",\"outDegree\")"
   ]
  },
  {
   "cell_type": "code",
   "execution_count": 60,
   "metadata": {},
   "outputs": [
    {
     "name": "stdout",
     "output_type": "stream",
     "text": [
      "328641"
     ]
    }
   ],
   "source": [
    "filtEdges_2.count()"
   ]
  },
  {
   "cell_type": "code",
   "execution_count": 68,
   "metadata": {},
   "outputs": [
    {
     "name": "stdout",
     "output_type": "stream",
     "text": [
      "+--------+--------+------------+-----------+------+-------+-------+--------------+--------+------+--------+------+\n",
      "|     src|     dst|window_start| window_end|is_sar|tx_type|tran_id|tran_timestamp|base_amt|destId|alert_id|origId|\n",
      "+--------+--------+------------+-----------+------+-------+-------+--------------+--------+------+--------+------+\n",
      "|006437bc|fcdd5296| 1.5423264E9|1.5434496E9|     0|      4| 990756|   1.5430176E9|  876.22|  7381|      -1|  7898|\n",
      "|006593aa|16c11e9c| 1.4887584E9| 1.489536E9|     0|      4|  99215|   1.4891904E9| 7912.75|  8957|      -1|  9505|\n",
      "|00af2737|680d3223| 1.4888448E9|1.4898816E9|     0|      4| 102428|   1.4893632E9|  9809.5|  2022|      -1|  9807|\n",
      "|00f958bc|2c52b404| 1.4874624E9|1.4890176E9|     0|      4|  76695|    1.487808E9| 2353.56|  7213|      -1|  7273|\n",
      "|010262ed|b63c7960|  1.510272E9| 1.511568E9|     0|      4| 449609|   1.5103584E9| 1169.36|   779|      -1|  5405|\n",
      "|010262ed|b63c7960|  1.510272E9| 1.511568E9|     0|      4| 460135|   1.5109632E9| 5241.19|   779|      -1|  5405|\n",
      "|010262ed|b63c7960|  1.510272E9| 1.511568E9|     0|      4| 469347|    1.511568E9| 6752.65|   779|      -1|  5405|\n",
      "|01068e24|f45ad729| 1.4863392E9|1.4879808E9|     0|      4|  54193|   1.4864256E9| 2141.18|   751|      -1|  4408|\n",
      "|01068e24|f45ad729| 1.4863392E9|1.4879808E9|     0|      4|  64017|   1.4870304E9|  7226.8|   751|      -1|  4408|\n",
      "|01068e24|f45ad729| 1.4863392E9|1.4879808E9|     0|      4|  73460|   1.4876352E9|  850.67|   751|      -1|  4408|\n",
      "|014d777e|c36b8d9b| 1.4863392E9|1.4879808E9|     0|      4|  60068|   1.4867712E9| 8690.12|  8779|      -1|  7960|\n",
      "|01566ef4|3e9a2149| 1.4863392E9|1.4879808E9|     0|      4|  56290|   1.4865984E9| 4914.07|  9792|      -1|  1463|\n",
      "|01aa76f5|8cbee2e1| 1.4874624E9|1.4890176E9|     0|      4|  83478|     1.48824E9| 4244.43|   847|      -1|  6454|\n",
      "|01c8e959|ac48d188| 1.5412032E9|1.5428448E9|     0|      4| 977923|     1.54224E9| 1455.17|  2016|      -1|  9709|\n",
      "|01d69e77|374d45b8| 1.5247008E9| 1.526256E9|     0|      4| 694401|   1.5251328E9| 5645.82|  2511|      -1|  4960|\n",
      "|01d69e77|374d45b8| 1.5247008E9| 1.526256E9|     0|      4| 696096|   1.5252192E9|   88.12|  2511|      -1|  4960|\n",
      "|01d69e77|374d45b8| 1.5247008E9| 1.526256E9|     0|      4| 706182|    1.525824E9|  9368.5|  2511|      -1|  4960|\n",
      "|0262fa1e|4d22ceb1| 1.4863392E9|1.4879808E9|     0|      4|  77604|   1.4878944E9|  5151.2|  3229|      -1|  8544|\n",
      "|02ad41ea|397b3aae| 1.5093216E9|1.5108768E9|     0|      4| 441979|     1.50984E9| 2706.14|  9387|      -1|  8512|\n",
      "|02ad41ea|397b3aae| 1.5093216E9|1.5108768E9|     0|      4| 450769|   1.5104448E9|  4667.6|  9387|      -1|  8512|\n",
      "+--------+--------+------------+-----------+------+-------+-------+--------------+--------+------+--------+------+\n",
      "only showing top 20 rows"
     ]
    }
   ],
   "source": [
    "only_normal_edges_df_windows = filtEdges_2.join(only_normal_edges_df_windows,[(filtEdges_2.src==only_normal_edges_df_windows.source)&(filtEdges_2.dst==only_normal_edges_df_windows.target)]).drop(\"target\", \"source\")\n",
    "only_normal_edges_df_windows.show()"
   ]
  },
  {
   "cell_type": "code",
   "execution_count": 70,
   "metadata": {},
   "outputs": [
    {
     "name": "stdout",
     "output_type": "stream",
     "text": [
      "328641"
     ]
    }
   ],
   "source": [
    "normal_edges = only_normal_edges_df_windows.select(\"src\",\"dst\").dropDuplicates([\"src\",\"dst\"])\n",
    "normal_edges.count()"
   ]
  },
  {
   "cell_type": "code",
   "execution_count": null,
   "metadata": {},
   "outputs": [],
   "source": []
  },
  {
   "cell_type": "code",
   "execution_count": 71,
   "metadata": {},
   "outputs": [
    {
     "name": "stdout",
     "output_type": "stream",
     "text": [
      "245082"
     ]
    }
   ],
   "source": [
    "normal_sources = only_normal_edges_df_windows.select(\"src\")\n",
    "normal_targets = only_normal_edges_df_windows.select(\"dst\")\n",
    "normal_nodes = normal_sources.union(normal_targets).toDF(\"id\").dropDuplicates()\n",
    "normal_nodes.count()"
   ]
  },
  {
   "cell_type": "code",
   "execution_count": null,
   "metadata": {},
   "outputs": [],
   "source": []
  },
  {
   "cell_type": "code",
   "execution_count": 72,
   "metadata": {},
   "outputs": [],
   "source": [
    "g_normal = GraphFrame(normal_nodes,normal_edges)"
   ]
  },
  {
   "cell_type": "code",
   "execution_count": null,
   "metadata": {},
   "outputs": [],
   "source": []
  },
  {
   "cell_type": "code",
   "execution_count": null,
   "metadata": {},
   "outputs": [],
   "source": [
    "sc.setCheckpointDir(\"hdfs:///Projects/{}/Logs/sc\".format(hdfs.project_name()))\n",
    "#cc_normal = g_normal.connectedComponents()\n",
    "scc_normal = g_normal.stronglyConnectedComponents(20).cache"
   ]
  },
  {
   "cell_type": "code",
   "execution_count": null,
   "metadata": {},
   "outputs": [],
   "source": [
    "scc_norm_comp_count = scc_normal.groupBy('component').count().where(func.col('count')>1)\n",
    "scc_normal = scc_normal.join(scc_norm_comp_count,['component'])\n",
    "scc_normal =  scc_normal.drop('count')\n",
    "normal_scc_grouped = normal_normal.join(\n",
    "    only_normal_edge_df,\n",
    "    [(only_normal_edge_df.source==scc_normal.id)|(only_normal_edge_df.target==scc_normal.id)],\n",
    "    how=\"left\"\n",
    ").dropDuplicates(subset=['tran_id'])"
   ]
  },
  {
   "cell_type": "code",
   "execution_count": null,
   "metadata": {},
   "outputs": [],
   "source": [
    "normal_scc_grouped.show()"
   ]
  },
  {
   "cell_type": "code",
   "execution_count": null,
   "metadata": {},
   "outputs": [],
   "source": []
  }
 ],
 "metadata": {
  "kernelspec": {
   "display_name": "PySpark",
   "language": "python",
   "name": "pysparkkernel"
  },
  "language_info": {
   "codemirror_mode": {
    "name": "python",
    "version": 3
   },
   "mimetype": "text/x-python",
   "name": "pyspark",
   "pygments_lexer": "python3"
  }
 },
 "nbformat": 4,
 "nbformat_minor": 4
}
