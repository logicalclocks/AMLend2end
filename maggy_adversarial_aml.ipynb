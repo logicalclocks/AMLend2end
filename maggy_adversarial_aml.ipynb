{
 "cells": [
  {
   "cell_type": "markdown",
   "metadata": {},
   "source": [
    "# In this notebook we will perform hyperparameter tuning and training of adversarial anomaly detection model. \n",
    "#### For more details about this model refer to https://arxiv.org/pdf/1905.11034.pdf."
   ]
  },
  {
   "cell_type": "code",
   "execution_count": 1,
   "metadata": {},
   "outputs": [
    {
     "name": "stdout",
     "output_type": "stream",
     "text": [
      "Starting Spark application\n"
     ]
    },
    {
     "data": {
      "text/html": [
       "<table>\n",
       "<tr><th>ID</th><th>YARN Application ID</th><th>Kind</th><th>State</th><th>Spark UI</th><th>Driver log</th></tr><tr><td>8</td><td>application_1607892309705_0009</td><td>pyspark</td><td>idle</td><td><a target=\"_blank\" href=\"http://resourcemanager.service.consul:8088/proxy/application_1607892309705_0009/\">Link</a></td><td><a target=\"_blank\" href=\"http://ip-10-0-0-109.us-west-2.compute.internal:8042/node/containerlogs/container_e02_1607892309705_0009_01_000001/amlsim__meb10179\">Link</a></td></tr></table>"
      ],
      "text/plain": [
       "<IPython.core.display.HTML object>"
      ]
     },
     "metadata": {},
     "output_type": "display_data"
    },
    {
     "name": "stdout",
     "output_type": "stream",
     "text": [
      "SparkSession available as 'spark'.\n",
      "<pyspark.sql.session.SparkSession object at 0x7fa5b72c5f10>"
     ]
    }
   ],
   "source": [
    "spark"
   ]
  },
  {
   "cell_type": "markdown",
   "metadata": {},
   "source": [
    "## Connect to hsfs and retrieve datasets for training and evaluation "
   ]
  },
  {
   "cell_type": "code",
   "execution_count": 2,
   "metadata": {},
   "outputs": [
    {
     "name": "stdout",
     "output_type": "stream",
     "text": [
      "Connected. Call `.close()` to terminate connection gracefully."
     ]
    }
   ],
   "source": [
    "import hsfs\n",
    "# Create a connection\n",
    "connection = hsfs.connection()\n",
    "# Get the feature store handle for the project's feature store\n",
    "fs = connection.get_feature_store()\n",
    "\n",
    "ben_td = fs.get_training_dataset(\"gan_non_sar_training_df\", 1)\n",
    "eval_td = fs.get_training_dataset(\"gan_eval_df\", 1)"
   ]
  },
  {
   "cell_type": "code",
   "execution_count": 3,
   "metadata": {},
   "outputs": [],
   "source": [
    "from hops import experiment\n",
    "from hops import hdfs\n",
    "import json\n",
    "best_hyperparams_path = \"Resources/embeddings_best_hp.json\"\n",
    "best_hyperparams = json.loads(hdfs.load(best_hyperparams_path))\n",
    "args_dict = {}\n",
    "for key in best_hyperparams.keys():\n",
    "    args_dict[key] = [best_hyperparams[key]]"
   ]
  },
  {
   "cell_type": "markdown",
   "metadata": {},
   "source": [
    "### Define hopsworks experiments wrapper function and put all the training logic there. "
   ]
  },
  {
   "cell_type": "code",
   "execution_count": 7,
   "metadata": {},
   "outputs": [],
   "source": [
    "def experiment_wrapper(\n",
    "    latent_dim,\n",
    "    discriminator_n_layers,\n",
    "    discriminator_batch_norm,\n",
    "    discriminator_dropout_rate, \n",
    "    discriminator_learning_rate,\n",
    "    discriminator_extra_steps,\n",
    "\n",
    "    generator_start_n_units,\n",
    "    generator_n_layers,\n",
    "    generator_activation_fn,\n",
    "    generator_batch_norm,\n",
    "    generator_dropout_rate, \n",
    "    generator_learning_rate,\n",
    "\n",
    "    encoder_start_n_units,\n",
    "    encoder_n_layers,\n",
    "    encoder_activation_fn,\n",
    "    encoder_batch_norm,\n",
    "    encoder_dropout_rate, \n",
    "    encoder_learning_rate):\n",
    "        \n",
    "    import tensorflow as tf\n",
    "    from adversarialaml.gan_enc_ano import GanAnomalyDetector,  GanAnomalyMonitor \n",
    "    from hops import tensorboard\n",
    "\n",
    "    # Set the number of epochs for trainining.\n",
    "    EPOCHS = 2\n",
    "\n",
    "    train_input = ben_td.tf_data(target_name='target', is_training=True)\n",
    "    train_input_processed = train_input.tf_record_dataset(process=True, batch_size=16, num_epochs=EPOCHS)\n",
    "    eval_input = ben_td.tf_data(target_name='target', is_training=True)\n",
    "    eval_input_processed = eval_input.tf_record_dataset(process=True, batch_size=1, num_epochs=EPOCHS)    \n",
    "    \n",
    "    if discriminator_dropout_rate > 0.0:\n",
    "        discriminator_batch_dropout = True\n",
    "    else:\n",
    "        discriminator_batch_dropout = False\n",
    "    \n",
    "\n",
    "    if discriminator_dropout_rate > 0.0:\n",
    "        generator_batch_dropout=True\n",
    "    else:\n",
    "        generator_batch_dropout=False\n",
    "\n",
    "    if encoder_dropout_rate > 0.0:\n",
    "        encoder_batch_dropout=True\n",
    "    else:\n",
    "        encoder_batch_dropout=False   \n",
    "\n",
    "\n",
    "    if discriminator_batch_norm==0:\n",
    "        discriminator_batch_norm = False\n",
    "    else:\n",
    "        discriminator_batch_norm = True\n",
    "        \n",
    "    if generator_activation_fn==0:\n",
    "        generator_activation_fn=\"tanh\"\n",
    "    else:    \n",
    "        generator_activation_fn=\"relu\"\n",
    "        \n",
    "    if generator_batch_norm==0:\n",
    "        generator_batch_norm = False\n",
    "    else:\n",
    "        generator_batch_norm = True\n",
    "        \n",
    "    if encoder_activation_fn==0:\n",
    "        encoder_activation_fn=\"tanh\"\n",
    "    else:    \n",
    "        encoder_activation_fn=\"relu\"\n",
    "        \n",
    "    if encoder_batch_norm==0:\n",
    "        encoder_batch_norm=False\n",
    "    else:\n",
    "        encoder_batch_norm=True        \n",
    "        \n",
    "\n",
    "    discriminator_double_neurons=False\n",
    "    discriminator_bottleneck_neurons=True\n",
    "    generator_double_neurons=True\n",
    "    generator_bottleneck_neurons=False\n",
    "        \n",
    "    # Instantiate the GanAnomalyDetector model.\n",
    "    gan_anomaly_detector = GanAnomalyDetector(\n",
    "                input_dim=args_dict['emb_size'][0],\n",
    "                latent_dim=latent_dim,\n",
    "\n",
    "                discriminator_start_n_units=args_dict['emb_size'][0],\n",
    "                discriminator_n_layers=discriminator_n_layers,\n",
    "                discriminator_activation_fn=\"sigmoid\",\n",
    "                discriminator_double_neurons=discriminator_double_neurons,\n",
    "                discriminator_bottleneck_neurons=discriminator_bottleneck_neurons,\n",
    "                discriminator_batch_norm=discriminator_batch_norm,\n",
    "                discriminator_batch_dropout=discriminator_batch_dropout,\n",
    "                discriminator_dropout_rate=discriminator_dropout_rate,\n",
    "                discriminator_learning_rate=discriminator_learning_rate,\n",
    "                discriminator_extra_steps=discriminator_extra_steps,\n",
    "\n",
    "                generator_start_n_units=generator_start_n_units,\n",
    "                generator_n_layers=generator_n_layers,\n",
    "                generator_activation_fn=generator_activation_fn,\n",
    "                generator_double_neurons=generator_double_neurons,\n",
    "                generator_bottleneck_neurons=generator_bottleneck_neurons,\n",
    "                generator_batch_norm=generator_batch_norm,\n",
    "                generator_batch_dropout=generator_batch_dropout,\n",
    "                generator_dropout_rate=generator_dropout_rate,\n",
    "                generator_learning_rate=generator_learning_rate,\n",
    "\n",
    "                encoder_start_n_units=encoder_start_n_units,\n",
    "                encoder_n_layers=encoder_n_layers,\n",
    "                encoder_activation_fn=encoder_activation_fn,\n",
    "                encoder_batch_norm=encoder_batch_norm,\n",
    "                encoder_batch_dropout=encoder_batch_dropout,\n",
    "                encoder_dropout_rate=encoder_dropout_rate,\n",
    "                encoder_learning_rate=encoder_learning_rate,\n",
    "\n",
    "    )\n",
    "    \n",
    "    # Compile the WGAN model.\n",
    "    gan_anomaly_detector.compile()\n",
    "    \n",
    "    history = gan_anomaly_detector.fit(train_input_processed)\n",
    "\n",
    "    metrics={'metric': history.history[\"g_loss\"][0]} \n",
    "    \n",
    "    return metrics"
   ]
  },
  {
   "cell_type": "markdown",
   "metadata": {},
   "source": [
    "## The searchspace can be instantiated with parameters"
   ]
  },
  {
   "cell_type": "code",
   "execution_count": 8,
   "metadata": {},
   "outputs": [
    {
     "name": "stdout",
     "output_type": "stream",
     "text": [
      "Hyperparameter added: latent_dim\n",
      "Hyperparameter added: discriminator_n_layers\n",
      "Hyperparameter added: discriminator_batch_norm\n",
      "Hyperparameter added: discriminator_dropout_rate\n",
      "Hyperparameter added: discriminator_learning_rate\n",
      "Hyperparameter added: discriminator_extra_steps\n",
      "Hyperparameter added: generator_start_n_units\n",
      "Hyperparameter added: generator_n_layers\n",
      "Hyperparameter added: generator_activation_fn\n",
      "Hyperparameter added: generator_batch_norm\n",
      "Hyperparameter added: generator_dropout_rate\n",
      "Hyperparameter added: generator_learning_rate\n",
      "Hyperparameter added: encoder_start_n_units\n",
      "Hyperparameter added: encoder_n_layers\n",
      "Hyperparameter added: encoder_activation_fn\n",
      "Hyperparameter added: encoder_batch_norm\n",
      "Hyperparameter added: encoder_dropout_rate\n",
      "Hyperparameter added: encoder_learning_rate"
     ]
    }
   ],
   "source": [
    "from maggy import Searchspace\n",
    "sp = Searchspace(\n",
    "\n",
    "    latent_dim=('INTEGER', [4, 6]),\n",
    "    discriminator_n_layers=('INTEGER', [2, 3]),\n",
    "    discriminator_batch_norm=('INTEGER', [0, 1]), \n",
    "    discriminator_dropout_rate=('DISCRETE', [0.0, 0.1]), \n",
    "    discriminator_learning_rate=('DISCRETE', [0.0001, 0.0002]),\n",
    "    discriminator_extra_steps=('INTEGER', [2, 3]),\n",
    "\n",
    "    generator_start_n_units=('INTEGER', [8, 10]),\n",
    "    generator_n_layers=('INTEGER', [2, 3]),\n",
    "    generator_activation_fn=('INTEGER', [0, 1]),\n",
    "    generator_batch_norm=('INTEGER', [0, 1]),\n",
    "    generator_dropout_rate=('DISCRETE', [0.0, 0.1]), \n",
    "    generator_learning_rate=('DISCRETE', [0.0001, 0.0002]),\n",
    "\n",
    "    encoder_start_n_units=('INTEGER', [4, 6]),\n",
    "    encoder_n_layers=('INTEGER', [2, 3]),\n",
    "    encoder_activation_fn=('INTEGER', [0, 1]),\n",
    "    encoder_batch_norm=('INTEGER', [0, 1]),\n",
    "    encoder_dropout_rate=('DISCRETE', [0.0, 0.1]), \n",
    "    encoder_learning_rate=('DISCRETE', [0.0001, 0.0002]),\n",
    ")"
   ]
  },
  {
   "cell_type": "markdown",
   "metadata": {},
   "source": [
    "## Use above experiments wrapper function to conduct hops training experiments."
   ]
  },
  {
   "cell_type": "code",
   "execution_count": 9,
   "metadata": {},
   "outputs": [
    {
     "name": "stdout",
     "output_type": "stream",
     "text": [
      "WARN: Can't reach Maggy server. No progress information and logs available. Job continues running anyway.\n",
      "Started Maggy Experiment: ganaml, application_1607892309705_0009, run 2\n",
      "\n",
      "------ RandomSearch Results ------ direction(min) \n",
      "BEST combination {\"latent_dim\": 5, \"discriminator_n_layers\": 2, \"discriminator_batch_norm\": 1, \"discriminator_dropout_rate\": 0.1, \"discriminator_learning_rate\": 0.0001, \"discriminator_extra_steps\": 2, \"generator_start_n_units\": 8, \"generator_n_layers\": 2, \"generator_activation_fn\": 0, \"generator_batch_norm\": 1, \"generator_dropout_rate\": 0.1, \"generator_learning_rate\": 0.0001, \"encoder_start_n_units\": 5, \"encoder_n_layers\": 2, \"encoder_activation_fn\": 0, \"encoder_batch_norm\": 1, \"encoder_dropout_rate\": 0.0, \"encoder_learning_rate\": 0.0001} -- metric -0.6043117046356201\n",
      "WORST combination {\"latent_dim\": 5, \"discriminator_n_layers\": 2, \"discriminator_batch_norm\": 0, \"discriminator_dropout_rate\": 0.1, \"discriminator_learning_rate\": 0.0002, \"discriminator_extra_steps\": 2, \"generator_start_n_units\": 9, \"generator_n_layers\": 2, \"generator_activation_fn\": 0, \"generator_batch_norm\": 0, \"generator_dropout_rate\": 0.1, \"generator_learning_rate\": 0.0001, \"encoder_start_n_units\": 5, \"encoder_n_layers\": 3, \"encoder_activation_fn\": 1, \"encoder_batch_norm\": 1, \"encoder_dropout_rate\": 0.1, \"encoder_learning_rate\": 0.0002} -- metric -0.37944144010543823\n",
      "AVERAGE metric -- -0.4918765723705292\n",
      "EARLY STOPPED Trials -- 0\n",
      "Total job time 0 hours, 2 minutes, 9 seconds\n",
      "\n",
      "Finished Experiment"
     ]
    }
   ],
   "source": [
    "from maggy import experiment\n",
    "result = experiment.lagom(experiment_wrapper, \n",
    "                           searchspace=sp, \n",
    "                           optimizer='randomsearch', \n",
    "                           direction='min',\n",
    "                           num_trials=2, \n",
    "                           name='ganaml',\n",
    "                           hb_interval=5, \n",
    "                           es_interval=5,\n",
    "                           es_min=5\n",
    "                          )"
   ]
  },
  {
   "cell_type": "code",
   "execution_count": 10,
   "metadata": {},
   "outputs": [],
   "source": [
    "import json\n",
    "from hops import hdfs\n",
    "EMBEDDINGS_HYPERPARAMS_FILE = 'gan_best_hp.json'\n",
    "hdfs.dump(json.dumps(result['best_hp']), \"Resources/\" + EMBEDDINGS_HYPERPARAMS_FILE)"
   ]
  }
 ],
 "metadata": {
  "kernelspec": {
   "display_name": "PySpark",
   "language": "python",
   "name": "pysparkkernel"
  },
  "language_info": {
   "codemirror_mode": {
    "name": "python",
    "version": 3
   },
   "mimetype": "text/x-python",
   "name": "pyspark",
   "pygments_lexer": "python3"
  }
 },
 "nbformat": 4,
 "nbformat_minor": 4
}
